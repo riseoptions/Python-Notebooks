{
  "nbformat": 4,
  "nbformat_minor": 0,
  "metadata": {
    "colab": {
      "provenance": []
    },
    "kernelspec": {
      "name": "python3",
      "display_name": "Python 3"
    },
    "language_info": {
      "name": "python"
    }
  },
  "cells": [
    {
      "cell_type": "markdown",
      "source": [
        "# Mis on Singleton Pattern?\n",
        "**Singleton** on disainimuster, mis tagab, et klassist luuakse ainult üks instants kogu rakenduse vältel. Seda kasutatakse olukordades, kus on vaja tagada, et ainult üks objekt on vastutav teatud ülesande eest, näiteks logimine, konfiguratsiooni haldamine või ühendus andmebaasiga.\n",
        "\n",
        "Kus ja miks kasutatakse?\n",
        "\n",
        "**Globaalsete ressursside jagamine, Ühenduste haldamine:**Kui ressurss on piiratud ja kulukas (nt andmebaasiühendus), on mõistlik luua ainult üks ühendus ja seda jagada kogu rakenduse ulatuses. Singleton tagab, et kogu rakenduses kasutatakse sama ühendust.\n",
        "\n",
        "**Konfiguratsioonihaldus:** Kui rakenduse konfiguratsiooni tuleb lugeda mitmest kohast, siis tagab Singleton, et kõik osad kasutavad sama konfiguratsiooni.\n",
        "\n",
        "**Logimine:** Logimissüsteemi puhul on sageli vaja, et kogu rakenduses oleks üks ja sama logimismehhanism."
      ],
      "metadata": {
        "id": "yGTZ9xmDlUbj"
      }
    },
    {
      "cell_type": "code",
      "execution_count": 1,
      "metadata": {
        "colab": {
          "base_uri": "https://localhost:8080/"
        },
        "id": "TzouP84ycHNH",
        "outputId": "59d8afb6-ee4a-42a4-fdbe-6bffb26ecadb"
      },
      "outputs": [
        {
          "output_type": "stream",
          "name": "stdout",
          "text": [
            "- Creating new instance\n",
            "- Instance initialization: name=First Instance\n",
            "First Instance\n",
            "- Returning existing instance\n",
            "- Instance initialization: name=Second Instance\n",
            "Second Instance\n",
            "True\n"
          ]
        }
      ],
      "source": [
        "class Singleton:\n",
        "    _instance = None  # Klassimuutuja, mis hoiab Singletoni instantsi\n",
        "\n",
        "    def __init__(self, name):\n",
        "        # See on initsialiseerimismeetod, mida kutsutakse ainult üks kord\n",
        "        print(f\"- Instance initialization: name={name}\")\n",
        "        self.name = name\n",
        "\n",
        "    def __new__(cls, *args, **kwargs):\n",
        "        # See on meetod, mis tagab, et ainult üks instants luuakse\n",
        "        if cls._instance is None:\n",
        "            print(\"- Creating new instance\")\n",
        "            cls._instance = object.__new__(cls)\n",
        "        else:\n",
        "            print(\"- Returning existing instance\")\n",
        "        return cls._instance\n",
        "\n",
        "# Kasutamine:\n",
        "\n",
        "# Esimese instantsi loomine\n",
        "singleton1 = Singleton(\"First Instance\")\n",
        "print(singleton1.name)  # Output: \"First Instance\"\n",
        "\n",
        "# Püütakse luua teine instants\n",
        "singleton2 = Singleton(\"Second Instance\")\n",
        "print(singleton2.name)  # Output: \"First Instance\" (jagab sama instantsi)\n",
        "\n",
        "# Kontrollime, kas singleton1 ja singleton2 viitavad samale objektile\n",
        "print(singleton1 is singleton2)  # Output: True (viitavad samale instantsile)\n"
      ]
    },
    {
      "cell_type": "code",
      "source": [
        "class Singleton:\n",
        "    # Klassimuutuja, mis hoiab Singletoni ainsat instantsi\n",
        "    _instance = None\n",
        "\n",
        "    def __init__(self, name):\n",
        "        # Konstruktor, mis initsialiseerib objekti nimega\n",
        "        print(f\"- Instance initialization: name={name}\")\n",
        "        self.name = name\n",
        "\n",
        "    def __new__(cls, *args, **kwargs):\n",
        "        # __new__ meetod vastutab objekti loomise eest enne selle initsialiseerimist (__init__)\n",
        "        if cls._instance is None:\n",
        "            # Kui _instance on None, loome uue instantsi ja salvestame selle klassimuutujasse\n",
        "            print(\"- Creating new instance\")\n",
        "            cls._instance = object.__new__(cls)\n",
        "        else:\n",
        "            # Kui _instance ei ole None, tagastame olemasoleva instantsi\n",
        "            print(\"- Returning existing instance\")\n",
        "        return cls._instance\n",
        "\n",
        "# Kasutamine:\n",
        "singleton1 = Singleton(\"First\")\n",
        "# \"Creating new instance\"\n",
        "# \"Instance initialization: name=First\"\n",
        "\n",
        "singleton2 = Singleton(\"Second\")\n",
        "# \"Returning existing instance\"\n",
        "# \"Instance initialization: name=Second\"\n",
        "\n",
        "# Kontrollime, kas singleton1 ja singleton2 on üks ja sama objekt:\n",
        "print(singleton1 is singleton2)  # True, sest mõlemad viitavad samale instantsile\n",
        "print(singleton1.name)  # \"Second\", kuna teine initsialiseerimine muutis nime\n",
        "print(singleton2.name)  # \"Second\", kuna mõlemad viitavad samale instantsile\n"
      ],
      "metadata": {
        "colab": {
          "base_uri": "https://localhost:8080/"
        },
        "id": "fZkNhIGNn02R",
        "outputId": "2d3f8f8f-f963-4ac9-80e7-d9ba2980f095"
      },
      "execution_count": 2,
      "outputs": [
        {
          "output_type": "stream",
          "name": "stdout",
          "text": [
            "- Creating new instance\n",
            "- Instance initialization: name=First\n",
            "- Returning existing instance\n",
            "- Instance initialization: name=Second\n",
            "True\n",
            "Second\n",
            "Second\n"
          ]
        }
      ]
    },
    {
      "cell_type": "markdown",
      "source": [
        "**Koodiselgitus:**\n",
        "Klassimuutuja _instance:\n",
        "_instance on klassimuutuja, mis hoiab Singletoni ainsat instantsi. Esialgu on see None, kuid esimese objekti loomisel salvestatakse sinna loodud instants.\n",
        "\n",
        "__new__ meetod:\n",
        "__new__ on spetsiaalne meetod, mis vastutab objekti loomise eest enne selle initsialiseerimist. Kui _instance on None, loob see uue objekti ja salvestab selle _instance muutujasse. Kui _instance ei ole None, tagastatakse lihtsalt olemasolev instants, vältides uue loomist.\n",
        "\n",
        "__init__ meetod:\n",
        "Kui __new__ meetod on tagastanud objekti, kutsutakse __init__, et seda initsialiseerida. Siin määratakse objekti nimi. Pange tähele, et __init__ käivitatakse iga kord, kui Singleton klassist luuakse uus objekt, kuid tegelikult kasutatakse alati sama instantsi.\n",
        "\n",
        "Kasutamine:\n",
        "singleton1 luuakse esimesena ja kuna instants puudub, luuakse uus. singleton2 puhul aga tagastatakse sama instants, mis loodi singleton1 jaoks. See tagab, et singleton1 ja singleton2 viitavad samale objektile.\n",
        "\n",
        "Kokkuvõttes: Singleton muster tagab, et klassist saab olla ainult üks eksemplar, mis on kasulik olukordades, kus ühtset juhtimist või ressursside jagamist tuleb tagada kogu rakenduses."
      ],
      "metadata": {
        "id": "1PtcEuOXoeqD"
      }
    },
    {
      "cell_type": "markdown",
      "source": [
        "# Builder"
      ],
      "metadata": {
        "id": "Al0jb6pjoheb"
      }
    },
    {
      "cell_type": "code",
      "source": [
        "# Algne sõnumiklass, mis salvestab teksti.\n",
        "class Message:\n",
        "    def __init__(self, text):\n",
        "        # Sõnumi tekst, mis salvestatakse privaatse muutujana _text\n",
        "        self._text = text\n",
        "\n",
        "    def __str__(self):\n",
        "        # Tagastab sõnumi teksti, kui objekti kutsutakse str() meetodiga\n",
        "        return self._text\n",
        "\n",
        "# Klass, mis dekoreerib sõnumit, muutes selle esimese tähe suurtäheks.\n",
        "class Capitalized:\n",
        "    def __init__(self, msg):\n",
        "        # Võtab vastu sõnumi objekti, mida hakatakse dekoreerima\n",
        "        self._msg = msg\n",
        "\n",
        "    def __str__(self):\n",
        "        # Tagastab sõnumi, mille esimene täht on suur\n",
        "        return str(self._msg).capitalize()\n",
        "\n",
        "# Klass, mis dekoreerib sõnumit, lisades lõppu hüüumärgi.\n",
        "class WithExclamation:\n",
        "    def __init__(self, msg):\n",
        "        # Võtab vastu sõnumi objekti, mida hakatakse dekoreerima\n",
        "        self._msg = msg\n",
        "\n",
        "    def __str__(self):\n",
        "        # Tagastab sõnumi koos hüüumärgiga\n",
        "        return str(self._msg) + \"!\"\n",
        "\n",
        "# Klass, mis dekoreerib sõnumit, lisades lõppu küsimärgi.\n",
        "class WithQuestion:\n",
        "    def __init__(self, msg):\n",
        "        # Võtab vastu sõnumi objekti, mida hakatakse dekoreerima\n",
        "        self._msg = msg\n",
        "\n",
        "    def __str__(self):\n",
        "        # Tagastab sõnumi koos küsimärgiga\n",
        "        return str(self._msg) + \"?\"\n",
        "\n",
        "# Loome algse sõnumi objekti tekstiga \"really\"\n",
        "m = Message(\"really\")\n",
        "\n",
        "# Kasutame Capitalized ja WithExclamation dekoraatoreid\n",
        "happy = Capitalized(WithExclamation(m))\n",
        "# \"really\" -> \"Really!\" (Capitalized muudab esimese tähe suureks, WithExclamation lisab hüüumärgi)\n",
        "print(str(happy))  # Väljund: \"Really!\"\n",
        "\n",
        "# Kasutame Capitalized, WithQuestion ja WithExclamation dekoraatoreid\n",
        "confused = Capitalized(WithQuestion(WithExclamation(m)))\n",
        "# \"really\" -> \"Really!?\" (Esmalt lisatakse hüüumärk, siis küsimärk, lõpuks muudetakse esimene täht suureks)\n",
        "print(str(confused))  # Väljund: \"Really!?\"\n"
      ],
      "metadata": {
        "colab": {
          "base_uri": "https://localhost:8080/"
        },
        "id": "HHFKi9GIpVzS",
        "outputId": "84289fd9-78ee-4ef9-cc37-c386dbb6a8c8"
      },
      "execution_count": 3,
      "outputs": [
        {
          "output_type": "stream",
          "name": "stdout",
          "text": [
            "Really!\n",
            "Really!?\n"
          ]
        }
      ]
    },
    {
      "cell_type": "markdown",
      "source": [
        "**Selgitus:**\n",
        "\n",
        "Message klass:\n",
        "\n",
        "See on baasobjekt, mis sisaldab sõnumi teksti. Selle klassi __str__ meetod tagastab lihtsalt sõnumi sisu, mida saab hiljem kasutada teistes klassides.\n",
        "Capitalized klass:\n",
        "\n",
        "See on dekoraator, mis võtab algse sõnumi objekti ja muudab sõnumi esimese tähe suurtäheks. See klass võtab sisse Message objekti või mõne teise dekoreeritud sõnumi objekti ja modifitseerib selle väljundit.\n",
        "WithExclamation klass:\n",
        "\n",
        "See on dekoraator, mis lisab sõnumi lõppu hüüumärgi. See klass töötab sarnaselt nagu Capitalized, võttes vastu Message objekti ja modifitseerides selle väljundit.\n",
        "WithQuestion klass:\n",
        "\n",
        "See dekoraator lisab sõnumi lõppu küsimärgi. Jällegi, see klass võtab vastu Message objekti või mõne teise dekoreeritud sõnumi objekti ja modifitseerib selle väljundit.\n",
        "Kasutamine:\n",
        "happy objekti näide:\n",
        "\n",
        "happy on Message objekti dekoreeritud versioon, millel on rakendatud WithExclamation (lisab hüüumärgi) ja seejärel Capitalized (muudab esimese tähe suureks). Tulemuseks on sõnum \"Really!\".\n",
        "confused objekti näide:\n",
        "\n",
        "confused on rohkem dekoreeritud Message objekt, kus esmalt lisatakse WithExclamation (lisab hüüumärgi), seejärel WithQuestion (lisab küsimärgi) ja lõpuks Capitalized (muudab esimese tähe suureks). Tulemuseks on sõnum \"Really!?\".\n",
        "Kokkuvõte:\n",
        "See kood demonstreerib, kuidas kasutada dekoraatori mustrit, et lisada dünaamiliselt käitumist või omadusi olemasolevatele objektidele, ilma et peaks neid klasse muutma. Selline lähenemine on kasulik, kui soovite lisada uusi funktsioone, ilma et muudaksite olemasolevat koodi või loodaks eraldi alamklasse igale võimalusele."
      ],
      "metadata": {
        "id": "5cZUNyeipZdA"
      }
    },
    {
      "cell_type": "markdown",
      "source": [
        "# Factory Meetod"
      ],
      "metadata": {
        "id": "wx1w1APepiLC"
      }
    },
    {
      "cell_type": "code",
      "source": [
        "# Klass, mis esindab Royal Mail saatmisfirmat\n",
        "class RoyalMail:\n",
        "    # Kulu ja kestvus (päevades) saatmise jaoks\n",
        "    cost = 15.0\n",
        "    duration = 3\n",
        "\n",
        "    def __init__(self, package):\n",
        "        # Initsialiseeritakse saadetis (package), mis antakse klassi konstruktorisse\n",
        "        self.package = package\n",
        "\n",
        "    def ship(self):\n",
        "        # Meetod, mis prindib saatmise detailid\n",
        "        print(\n",
        "            (\n",
        "                f\"Shipping {self.package} in {self.duration} days \"\n",
        "                f\"for {self.cost} via {self.__class__.__name__}\"\n",
        "            )\n",
        "        )\n",
        "\n",
        "# Klass, mis esindab Shady Courier saatmisfirmat\n",
        "class ShadyCourier:\n",
        "    # Kulu ja kestvus (päevades) saatmise jaoks\n",
        "    cost = 1.0\n",
        "    duration = 30\n",
        "\n",
        "    def __init__(self, package):\n",
        "        # Initsialiseeritakse saadetis (package), mis antakse klassi konstruktorisse\n",
        "        self.package = package\n",
        "\n",
        "    def ship(self):\n",
        "        # Meetod, mis prindib saatmise detailid\n",
        "        print(\n",
        "            (\n",
        "                f\"Shipping {self.package} in {self.duration} days \"\n",
        "                f\"for {self.cost} via {self.__class__.__name__}\"\n",
        "            )\n",
        "        )\n",
        "\n",
        "# Klass, mis esindab veebipoodi, kus saab valida saatmisfirma\n",
        "class OnlineStore:\n",
        "    # Sõnastik (_companies), mis seob saatmisfirma nime selle klassiga\n",
        "    _companies = {\"RoyalMail\": RoyalMail, \"ShadyCourier\": ShadyCourier}\n",
        "\n",
        "    def proces_shipment(self, package, company=\"RoyalMail\"):\n",
        "        # Meetod, mis loob valitud saatmisfirma objekti, kasutades sõnastikku\n",
        "        # Kui saatmisfirmat ei määrata, kasutatakse vaikimisi RoyalMail'i\n",
        "        return self._companies[company](package)\n",
        "\n",
        "if __name__ == \"__main__\":\n",
        "    # Testimaks koodi, loome OnlineStore objekti\n",
        "    store = OnlineStore()\n",
        "\n",
        "    # Valime kiirsaadetise RoyalMail'i kaudu\n",
        "    fast_shipment = store.proces_shipment(\"Vase\")\n",
        "    fast_shipment.ship()  # Prindib: Shipping Vase in 3 days for 15.0 via RoyalMail\n",
        "\n",
        "    # Valime aeglasema saadetise ShadyCourier'i kaudu\n",
        "    slow_shipment = store.proces_shipment(\"Flamingo\", \"ShadyCourier\")\n",
        "    slow_shipment.ship()  # Prindib: Shipping Flamingo in 30 days for 1.0 via ShadyCourier\n"
      ],
      "metadata": {
        "colab": {
          "base_uri": "https://localhost:8080/"
        },
        "id": "OU3OlElJqUgQ",
        "outputId": "07a6da07-f4c9-473c-a565-1ed21d3d50a8"
      },
      "execution_count": 4,
      "outputs": [
        {
          "output_type": "stream",
          "name": "stdout",
          "text": [
            "Shipping Vase in 3 days for 15.0 via RoyalMail\n",
            "Shipping Flamingo in 30 days for 1.0 via ShadyCourier\n"
          ]
        }
      ]
    },
    {
      "cell_type": "markdown",
      "source": [
        "# Selgitus:\n",
        "\n",
        "**RoyalMail klass:**\n",
        "\n",
        "See klass esindab konkreetset saatmisfirmat, Royal Maili. Selle klassi sees on cost (kulu) ja duration (kestvus) muutujad, mis määravad saatmise hinna ja aja päevades.\n",
        "__init__ meetod salvestab saadetise nime (package), mida see objekt esindab.\n",
        "ship meetod prindib saatmise detailid, sealhulgas saadetise nime, kestvuse, hinna ja kasutatava saatmisfirma nime.\n",
        "\n",
        "**ShadyCourier klass:**\n",
        "\n",
        "See klass esindab teist saatmisfirmat, Shady Courierit. See töötab sarnaselt RoyalMail klassile, kuid sellel on erinev kulu ja kestvus.\n",
        "Ka siin on __init__ meetod saadetise nime salvestamiseks ja ship meetod detailide printimiseks.\n",
        "\n",
        "**OnlineStore klass:**\n",
        "\n",
        "See klass esindab veebipoodi, mis haldab erinevaid saatmisfirmasid. Sõnastik _companies seob saatmisfirma nimed nende vastavate klassidega.\n",
        "proces_shipment meetod võtab vastu saadetise nime ja valikulise saatmisfirma nime. Selle põhjal luuakse valitud firma objekt ja tagastatakse see.\n",
        "Peamine osa (if __name__ == \"__main__\":):\n",
        "\n",
        "Siin luuakse OnlineStore objekti instants ja testitakse erinevaid saatmisvalikuid.\n",
        "\n",
        "Esiteks luuakse kiire saadetis RoyalMail kaudu (vaikimisi valik) ja seejärel aeglasem saadetis ShadyCourier kaudu. Iga saadetise puhul prinditakse välja vastavad detailid.\n",
        "\n",
        "**Kokkuvõte:**\n",
        "See kood demonstreerib, kuidas erinevaid saatmisfirma klasse saab kasutada ühe süsteemi osana, kus OnlineStore klass haldab neid. Saadetise klassid nagu RoyalMail ja ShadyCourier sisaldavad konkreetseid detaile, mis määravad, kuidas ja millal saadetis toimetatakse. Kood on paindlik ja võimaldab kergesti lisada uusi saatmisfirmasid ilma olemasolevaid klasse muutmata."
      ],
      "metadata": {
        "id": "u7U0FvdHqfQv"
      }
    },
    {
      "cell_type": "markdown",
      "source": [
        "# **Decorator**\n",
        "Dekoraator on funktsioon, mis võtab teise funktsiooni argumendina, modifitseerib selle käitumist ja tagastab uue funktsiooni. Seda kasutatakse tavaliselt korduvate tegevuste lisamiseks funktsioonidele ilma neid muutmata."
      ],
      "metadata": {
        "id": "p1XlvIKUq03H"
      }
    },
    {
      "cell_type": "code",
      "source": [
        "import functools\n",
        "\n",
        "# Dekoraatori funktsioon, mis võtab vastu teise funktsiooni (func)\n",
        "def example_decorator(func):\n",
        "    # @functools.wraps(func) säilitab algse funktsiooni nime ja docstring'i dekoratsiooni käigus\n",
        "    @functools.wraps(func)\n",
        "    def wrapper(*args, **kwargs):\n",
        "        # Enne dekoreeritud funktsiooni käivitamist\n",
        "        print(\"Wrapper: Before function execution\")\n",
        "\n",
        "        # Käivitab algse funktsiooni, edastades sellele kõik argumendid ja salvestab tulemuse\n",
        "        result = func(*args, **kwargs)\n",
        "\n",
        "        # Pärast dekoreeritud funktsiooni käivitamist\n",
        "        print(\"Wrapper: After function execution\")\n",
        "\n",
        "        # Tagastab algse funktsiooni tulemuse\n",
        "        return result\n",
        "\n",
        "    # Tagastab dekoreeritud funktsiooni (wrapper)\n",
        "    return wrapper\n",
        "\n",
        "# Selgitus:\n",
        "# - `example_decorator`: See on dekoraator, mis modifitseerib teise funktsiooni käitumist.\n",
        "# - `functools.wraps`: See säilitab algse funktsiooni omadused (nagu nimi ja docstring) pärast dekoratsiooni, et uus funktsioon käituks nii nagu oleks see algne funktsioon.\n",
        "\n",
        "# Näide dekoraatori kasutamisest:\n",
        "@example_decorator\n",
        "def say_hello(name):\n",
        "    \"\"\"Funktsioon, mis prindib tervituse\"\"\"\n",
        "    print(f\"Hello, {name}!\")\n",
        "\n",
        "# Kui me kutsume nüüd `say_hello` funktsiooni, käivitatakse esmalt dekoraatori loogika\n",
        "say_hello(\"Alice\")\n",
        "\n",
        "# Väljund:\n",
        "# Wrapper: Before function execution\n",
        "# Hello, Alice!\n",
        "# Wrapper: After function execution\n"
      ],
      "metadata": {
        "colab": {
          "base_uri": "https://localhost:8080/"
        },
        "id": "BPV2u-VRreHq",
        "outputId": "1bfcb825-1e81-495d-dacc-947af13f9ecd"
      },
      "execution_count": 5,
      "outputs": [
        {
          "output_type": "stream",
          "name": "stdout",
          "text": [
            "Wrapper: Before function execution\n",
            "Hello, Alice!\n",
            "Wrapper: After function execution\n"
          ]
        }
      ]
    },
    {
      "cell_type": "markdown",
      "source": [
        "Selgitus:\n",
        "Dekoraatori loomine:\n",
        "\n",
        "example_decorator on funktsioon, mis võtab argumendiks teise funktsiooni func. Selle sees on defineeritud wrapper funktsioon, mis modifitseerib või lisab käitumist func-le.\n",
        "functools.wraps(func) kasutamine:\n",
        "\n",
        "@functools.wraps(func) on dekoratsioon, mida kasutatakse wrapper funktsiooni kohal. See säilitab algse funktsiooni (func) omadused nagu nimi (__name__) ja dokumentatsioon (__doc__), et dekoreeritud funktsioon näeks välja ja käituks nagu algne funktsioon.\n",
        "wrapper funktsioon:\n",
        "\n",
        "wrapper funktsioon käivitatakse alati, kui algne (dekoreeritud) funktsioon kutsutakse. See prindib sõnumi enne ja pärast algse funktsiooni (func) käivitamist.\n",
        "*args ja **kwargs võimaldavad wrapper funktsioonil vastu võtta suvalisi argumente, et neid edasi anda algsele funktsioonile.\n",
        "Dekoraatori kasutamine:\n",
        "\n",
        "Funktsioon say_hello dekoreeritakse @example_decorator abil. See tähendab, et iga kord, kui say_hello kutsutakse, käivitatakse esmalt wrapper funktsioon, mis omakorda kutsub say_hello funktsiooni ja lisab enda loogikat selle ümber."
      ],
      "metadata": {
        "id": "l4C4uu_jrDkk"
      }
    },
    {
      "cell_type": "markdown",
      "source": [
        "# **Adapter Pattern**\n",
        "Võimaldab erinevate objektide töötlemist sarnaselt, kuigi need objektid on erinevat tüüpi."
      ],
      "metadata": {
        "id": "-2wtRUjKr00Q"
      }
    },
    {
      "cell_type": "code",
      "source": [
        "# Klass, mis esindab konteinerit, mis sisaldab elementide loendit\n",
        "class Container:\n",
        "    def __init__(self, elem):\n",
        "        # Initsialiseeritakse loend, mis sisaldab elementide vahemikku alates 0 kuni elem-1\n",
        "        self.elements = list(range(elem))\n",
        "\n",
        "    def __repr__(self):\n",
        "        # Tagastab stringi, mis esindab Container objekti, märkides ära elementide arvu\n",
        "        return f\"<Container({len(self.elements)} elem)>\"\n",
        "\n",
        "# Adapteri klass, mis kohandab sõnastiku (dictionary) sarnaselt Container klassile\n",
        "class DictAdapter:\n",
        "    def __init__(self, d):\n",
        "        # Initsialiseeritakse adapteris hoitav sõnastik\n",
        "        self.d = d\n",
        "\n",
        "    def __repr__(self):\n",
        "        # Tagastab stringi, mis esindab Container-iga sarnast objekti, märkides ära sõnastiku võtmete arvu\n",
        "        return f\"<Container({len(self.d)} elem)>\"\n",
        "\n",
        "# Loome nimekirja, mis sisaldab Container ja DictAdapter objekte\n",
        "containers = [Container(1), Container(2), DictAdapter({\"A\": 1})]\n",
        "\n",
        "# Prindime nimekirja, mis sisaldab Container ja DictAdapter objekte\n",
        "print(containers)\n",
        "# Väljund:\n",
        "# [<Container(1 elem)>, <Container(2 elem)>, <Container(1 elem)>]\n"
      ],
      "metadata": {
        "colab": {
          "base_uri": "https://localhost:8080/"
        },
        "id": "om7L5oz9sZcn",
        "outputId": "39c00298-e4a2-45b3-8073-f19164868c50"
      },
      "execution_count": 6,
      "outputs": [
        {
          "output_type": "stream",
          "name": "stdout",
          "text": [
            "[<Container(1 elem)>, <Container(2 elem)>, <Container(1 elem)>]\n"
          ]
        }
      ]
    },
    {
      "cell_type": "markdown",
      "source": [
        "Selgitus:\n",
        "\n",
        "**Container klass:**\n",
        "\n",
        "See klass esindab konteinerit, mis sisaldab loendit (elements), mis luuakse vastavalt antud arvu (elem) vahemikule.\n",
        "Näiteks kui luua Container(2), luuakse loend elements, mis sisaldab väärtusi [0, 1].\n",
        "\n",
        "__repr__ meetod tagastab stringi, mis näitab, kui palju elemente konteineris on. See võimaldab objekti arusaadavat väljundit print funktsiooni kasutamisel.\n",
        "\n",
        "**DictAdapter klass:**\n",
        "\n",
        "See on adapteri klass, mille eesmärk on muuta sõnastik (dictionary) Container-iga sarnaseks.\n",
        "Adapteri mõte on kohandada objekt (antud juhul sõnastik) nii, et see näeks välja ja käituks nagu mõni teine objekt, mida süsteem ootab (antud juhul Container).\n",
        "Sarnaselt Container klassile, tagastab __repr__ meetod stringi, mis näitab, kui palju elemente (võtmeid) sõnastikus on.\n",
        "\n",
        "**Nimekirja containers loomine:**\n",
        "\n",
        "Loome nimekirja containers, mis sisaldab kahte Container objekti ja ühte DictAdapter objekti. DictAdapter võimaldab meil käsitleda sõnastikku samal viisil nagu Container objekti, kuigi nad on tegelikult erinevad tüübid.\n",
        "\n",
        "**Nimekirja printimine:**\n",
        "\n",
        "print(containers) kuvab kogu nimekirja, kus iga objekti __repr__ meetodit kasutatakse nimekirja elementide kujutamiseks. Kuna DictAdapter on kohandatud käituma sarnaselt Container klassile, näeb selle väljund välja sama, kuigi tegelikult on see sõnastik.\n",
        "\n",
        "**Kokkuvõte:**\n",
        "See kood demonstreerib adapteri mustri kasutamist, et võimaldada erinevate klasside objektide käsitlemist sarnasel viisil. Adapter võimaldab meil töötada erinevate objektide tüüpidega (näiteks Container ja sõnastik) ühtse liidese kaudu. Selline lähenemine on kasulik, kui soovime integreerida olemasolevaid klasse või kolmanda osapoole raamatukogusid ilma, et peaksime olemasolevat koodi muutma."
      ],
      "metadata": {
        "id": "7y7m8ZgSsxdj"
      }
    },
    {
      "cell_type": "markdown",
      "source": [
        "# **Facade**\n",
        "**Fassaadi muster** pakub lihtsat liidest, et varjata keerukust ja lihtsustada kasutajate interaktsiooni süsteemi või selle osadega. Fassaadi muster koondab mitme alamsüsteemi funktsioonid ühte klassi, mis pakub lihtsat liidest nende funktsioonide kasutamiseks."
      ],
      "metadata": {
        "id": "uOOBCjMNs_LH"
      }
    },
    {
      "cell_type": "code",
      "source": [
        "# Klass, mis esindab rösti valmistamise protsessi\n",
        "class Toast:\n",
        "    def prepare(self, time):\n",
        "        # Meetod, mis võtab ettevalmistamise ajaks argumendi ja tagastab stringi\n",
        "        return f\"Making toast. It will take {time}\"\n",
        "\n",
        "# Klass, mis esindab mahla valamise protsessi\n",
        "class Juice:\n",
        "    def pour(self, glasses):\n",
        "        # Meetod, mis võtab klaaside arvu argumendina ja tagastab stringi\n",
        "        return f\"Pouring {glasses} glasses of juice\"\n",
        "\n",
        "# Klass, mis esindab munade praadimise protsessi\n",
        "class Eggs:\n",
        "    def fry(self):\n",
        "        # Meetod, mis praeb mune ja tagastab stringi\n",
        "        return \"Frying eggs\"\n",
        "\n",
        "# Fassaadi klass, mis koondab hommikusöögi valmistamise protsessid\n",
        "class Breakfast:\n",
        "    def __init__(self):\n",
        "        # Fassaadi klass omab viiteid erinevatele alamsüsteemi klassidele\n",
        "        self.toast = Toast()\n",
        "        self.juice = Juice()\n",
        "        self.eggs = Eggs()\n",
        "\n",
        "    def make(self):\n",
        "        # Meetod, mis teeb hommikusöögi, kutsudes üles erinevate alamsüsteemide meetodid\n",
        "        print(self.toast.prepare(\"5 min\"))  # Rösti valmistamine\n",
        "        print(self.juice.pour(2))  # Mahla valamine kaheks klaasiks\n",
        "        print(self.eggs.fry())  # Munade praadimine\n",
        "        print(\"Breakfast is ready!\")  # Lõpusõnum hommikusöögi valmisolekust\n",
        "\n",
        "# Kontrollime, kas skript on otse käivitatud\n",
        "if __name__ == \"__main__\":\n",
        "    # Kui skript käivitatakse otse, valmistatakse hommikusöök\n",
        "    Breakfast().make()\n",
        "\n",
        "# Väljund:\n",
        "# Making toast. It will take 5 min\n",
        "# Pouring 2 glasses of juice\n",
        "# Frying eggs\n",
        "# Breakfast is ready!\n"
      ],
      "metadata": {
        "colab": {
          "base_uri": "https://localhost:8080/"
        },
        "id": "f-UTkrEMt2_L",
        "outputId": "411e99f8-1b0b-44d6-e85a-871c4624fe47"
      },
      "execution_count": 7,
      "outputs": [
        {
          "output_type": "stream",
          "name": "stdout",
          "text": [
            "Making toast. It will take 5 min\n",
            "Pouring 2 glasses of juice\n",
            "Frying eggs\n",
            "Breakfast is ready!\n"
          ]
        }
      ]
    },
    {
      "cell_type": "markdown",
      "source": [
        "**Selgitus:**\n",
        "\n",
        "**Toast klass:**\n",
        "\n",
        "Esindab rösti valmistamise protsessi.\n",
        "Meetod prepare(time) võtab vastu valmistamise aja ja tagastab sõnumi, mis kirjeldab rösti valmistamist.\n",
        "\n",
        "**Juice klass:**\n",
        "\n",
        "Esindab mahla valamise protsessi.\n",
        "Meetod pour(glasses) võtab vastu klaaside arvu ja tagastab sõnumi, mis kirjeldab, mitu klaasi mahla valatakse.\n",
        "\n",
        "**Eggs klass:**\n",
        "\n",
        "Esindab munade praadimise protsessi.\n",
        "Meetod fry() tagastab sõnumi, mis kirjeldab munade praadimist.\n",
        "\n",
        "**Breakfast klass:**\n",
        "\n",
        "See on fassaad (Facade) klass, mis koondab hommikusöögi valmistamise erinevad osad (Toast, Juice, Eggs) ühte lihtsasse liidesesse.\n",
        "__init__ meetod loob viited Toast, Juice ja Eggs objektidele.\n",
        "make() meetod käivitab kõik vajalikud toimingud hommikusöögi valmistamiseks ja prindib vastavad sõnumid.\n",
        "\n",
        "**Koodi käivitamine (if __name__ == \"__main__\":):**\n",
        "\n",
        "Kui skript käivitatakse otse, loob see Breakfast objekti ja kutsub selle make() meetodi, mis valmistab hommikusöögi.\n",
        "\n",
        "**Kokkuvõte:**\n",
        "\n",
        "Fassaadi disainimuster võimaldab pakkuda lihtsamat ja ühtsemat viisi suhelda keerulise süsteemiga. Selles koodis peidab Breakfast klass kõik keerukad toimingud, mida on vaja hommikusöögi valmistamiseks, lihtsustades kasutajale protsessi, kus ühe meetodi (make) käivitamine tegeleb kõigi detailidega. See muster aitab vähendada keerukust ja muudab koodi selgemaks ja hooldatavamaks."
      ],
      "metadata": {
        "id": "Yo0M9RNGt52_"
      }
    },
    {
      "cell_type": "markdown",
      "source": [
        "# **Iterator Pattern**\n",
        "See muster võimaldab objekti elementide läbimist (iteratsiooni) ilma, et peaksime teadma selle objekti sisemist struktuuri. Pythonis saab iteratori loomise ja kasutamise hõlbustamiseks defineerida klassis __iter__ ja __next__ meetodid."
      ],
      "metadata": {
        "id": "mksyuoB5uUI5"
      }
    },
    {
      "cell_type": "code",
      "source": [
        "# Klass, mis genereerib arve vahemikus 0 kuni n-1\n",
        "class ZeroToN:\n",
        "    def __init__(self, n):\n",
        "        # Initsialiseerib lõppväärtuse n\n",
        "        self.n = n\n",
        "\n",
        "    # Meetod, mis käivitatakse, kui iterator luuakse\n",
        "    def __iter__(self):\n",
        "        # Initsialiseerib iteratsiooni algväärtuse\n",
        "        self.i = -1\n",
        "        # Tagastab iteratori enda (self), kuna see klass toimib iseenda iteratorina\n",
        "        return self\n",
        "\n",
        "    # Meetod, mis käivitatakse iga kord, kui järgmine väärtus vajatakse (next)\n",
        "    def __next__(self):\n",
        "        # Suurendab iteratsiooni loendurit\n",
        "        self.i += 1\n",
        "        # Kontrollib, kas loendur on väiksem kui lõppväärtus\n",
        "        if self.i < self.n:\n",
        "            # Kui jah, siis tagastatakse järgmine väärtus\n",
        "            return self.i\n",
        "        else:\n",
        "            # Kui kõik väärtused on läbi käidud, viskab StopIteration erandi\n",
        "            raise StopIteration\n",
        "\n",
        "# Näide iteratori kasutamisest\n",
        "if __name__ == \"__main__\":\n",
        "    # Loome ZeroToN objekti vahemikuga 5 (st numbrid 0 kuni 4)\n",
        "    numbers = ZeroToN(5)\n",
        "\n",
        "    # Itereerime loodud objekti üle for-tsükli abil\n",
        "    for num in numbers:\n",
        "        print(num)  # Prinditakse iga väärtus alates 0 kuni n-1\n",
        "\n",
        "# Väljund:\n",
        "# 0\n",
        "# 1\n",
        "# 2\n",
        "# 3\n",
        "# 4\n"
      ],
      "metadata": {
        "colab": {
          "base_uri": "https://localhost:8080/"
        },
        "id": "R6ajb8Rfu4FV",
        "outputId": "ca6b1d17-b469-4cc5-b261-091ec6d1ba4e"
      },
      "execution_count": 8,
      "outputs": [
        {
          "output_type": "stream",
          "name": "stdout",
          "text": [
            "0\n",
            "1\n",
            "2\n",
            "3\n",
            "4\n"
          ]
        }
      ]
    },
    {
      "cell_type": "markdown",
      "source": [
        "**Selgitus:**\n",
        "\n",
        "**__init__ meetod:**\n",
        "\n",
        "__init__ meetod initsialiseerib objekti, võttes argumendina n, mis määrab, kui kaugele iteratsioon läheb (0-st kuni n-1).\n",
        "\n",
        "**__iter__ meetod:**\n",
        "\n",
        "Seda meetodit kutsutakse siis, kui algatatakse iteratsioon objekti üle, näiteks for tsükliga.\n",
        "self.i = -1 määrab loenduri algväärtuseks -1, et __next__ meetod alustaks 0-st.\n",
        "Meetod tagastab self, kuna objekt toimib iseenda iteratorina.\n",
        "\n",
        "**__next__ meetod:**\n",
        "\n",
        "Seda meetodit kutsutakse iga kord, kui iteratsiooni käigus küsitakse järgmist elementi.\n",
        "self.i += 1 suurendab loendurit.\n",
        "Kui loenduri väärtus on väiksem kui n, tagastab meetod selle väärtuse.\n",
        "Kui loenduri väärtus jõuab või ületab n, viskab meetod StopIteration erandi, lõpetades iteratsiooni.\n",
        "\n",
        "**Iteratori kasutamine:**\n",
        "\n",
        "Kui ZeroToN objekti kasutatakse for tsüklis, käivitatakse iteratsioon automaatselt, kutsudes esmalt __iter__ meetodit ja seejärel __next__ meetodit, kuni StopIteration erand visatakse.\n",
        "\n",
        "**Kokkuvõte:**\n",
        "\n",
        "Iteratori disainimuster võimaldab andmekogumite läbimist standardiseeritud viisil, sõltumata nende sisemisest struktuurist. Selles näites loob ZeroToN klass iteratsiooni arvude üle vahemikus 0 kuni n-1. See on kasulik, kui soovime läbida objekti elemente ilma, et peaksime teadma, kuidas need elemendid on objekti sees korraldatud."
      ],
      "metadata": {
        "id": "MnufnNLrvCVr"
      }
    },
    {
      "cell_type": "markdown",
      "source": [
        "# **Observer Pattern**\n",
        "Observeri muster võimaldab objektidel (näiteks vaatlejad) olla teadlikud muudatustest teistes objektides (näiteks subjekti objektid). Kui subjekt muudab oma olekut, teatab see kõigile registreeritud vaatlejatele muudatustest."
      ],
      "metadata": {
        "id": "bm1d35PbvVDu"
      }
    },
    {
      "cell_type": "code",
      "source": [
        "# Klass, mis esindab süsteemi, mille olekut saab jälgida\n",
        "class System:\n",
        "    def __init__(self):\n",
        "        # Algne olek on \"down\" ja vaatlejate nimekiri on tühi\n",
        "        self.status = \"down\"\n",
        "        self.watchers = []\n",
        "\n",
        "    def add_watcher(self, watcher):\n",
        "        # Lisab vaatleja (observer) vaatlejate nimekirja\n",
        "        self.watchers.append(watcher)\n",
        "\n",
        "    def change_status(self, new_status):\n",
        "        # Muudab süsteemi olekut ja teavitab kõiki vaatlejaid oleku muutumisest\n",
        "        self.status = new_status\n",
        "        # Läbib kõik vaatlejad ja kutsub üles nende notify meetodi\n",
        "        for w in self.watchers:\n",
        "            w.notify(new_status)\n",
        "\n",
        "# Klass, mis esindab süsteemi teadete saatmist\n",
        "class SystemNotifications:\n",
        "    def notify(self, status):\n",
        "        # Prindib sõnumi, kui süsteemi olek muutub\n",
        "        print(f\"Your system changed status to {status}\")\n",
        "\n",
        "# Klass, mis esindab kasutajaliidese haldamist\n",
        "class UserInterface:\n",
        "    def notify(self, status):\n",
        "        # Kui olek on \"up\", siis prindib sõnumi kasutajaliidese ülesse viimisest\n",
        "        if status == \"up\":\n",
        "            print(\"Bringing up the UI\")\n",
        "\n",
        "# Peamine osa koodist, mis käivitab näite\n",
        "if __name__ == \"__main__\":\n",
        "    # Loome süsteemi objekti\n",
        "    s = System()\n",
        "    # Lisame vaatlejateks SystemNotifications ja UserInterface klasside objektid\n",
        "    s.add_watcher(SystemNotifications())\n",
        "    s.add_watcher(UserInterface())\n",
        "    # Muudame süsteemi olekuks \"up\", mis teavitab kõiki vaatlejaid\n",
        "    s.change_status(\"up\")\n"
      ],
      "metadata": {
        "colab": {
          "base_uri": "https://localhost:8080/"
        },
        "id": "Q_WMfa1Evxlv",
        "outputId": "7e508ee4-b826-4b75-8ab1-554b2f4d7a8a"
      },
      "execution_count": 9,
      "outputs": [
        {
          "output_type": "stream",
          "name": "stdout",
          "text": [
            "Your system changed status to up\n",
            "Bringing up the UI\n"
          ]
        }
      ]
    },
    {
      "cell_type": "markdown",
      "source": [
        "**Selgitus:**\n",
        "\n",
        "**System klass:**\n",
        "\n",
        "__init__: Konstruktor, mis initsialiseerib süsteemi algse olekuga \"down\" ja tühja vaatlejate nimekirjaga (watchers).\n",
        "add_watcher: Meetod, mis lisab vaatleja objekti (watcher) vaatlejate nimekirja. Need vaatlejad on objektid, millele edastatakse teateid süsteemi oleku muutumise kohta.\n",
        "change_status: Meetod, mis muudab süsteemi olekut ja teavitab kõiki registreeritud vaatlejaid. See kutsub igale vaatlejale (w) üles nende notify meetodi, edastades oleku muudatuse (new_status).\n",
        "\n",
        "**SystemNotifications klass:**\n",
        "\n",
        "notify: Meetod, mis prindib välja sõnumi, kui süsteemi olek muutub. See on üks näide vaatlejast, mis reageerib süsteemi oleku muutustele.\n",
        "\n",
        "**UserInterface klass:**\n",
        "\n",
        "notify: Meetod, mis prindib sõnumi kasutajaliidese ülesse viimisest, kui olekuks on \"up\". See on teine näide vaatlejast, mis reageerib ainult teatud tingimustes (näiteks ainult siis, kui olek on \"up\").\n",
        "\n",
        "**Koodi käivitamine (if __name__ == \"__main__\":):**\n",
        "\n",
        "Loome System objekti (s), lisame sellele vaatlejad (SystemNotifications ja UserInterface), ning muudame süsteemi olekuks \"up\". Kui olek muutub, kutsutakse kõigi vaatlejate notify meetodid, mis omakorda prindivad sobivad sõnumid.\n",
        "\n",
        "**Kokkuvõte:**\n",
        "\n",
        "Observeri muster on kasulik, kui teil on objekt (subjekt), mille olekut saavad jälgida ja millele saavad reageerida teised objektid (vaatlejad). Kui subjekt muudab oma olekut, teavitab see automaatselt kõiki registreeritud vaatlejaid, et nad saaksid vastavalt tegutseda. See muster aitab luua lõdvalt seotud süsteeme, kus objektid saavad suhelda ilma, et nad peaksid teadma üksteise sisemist toimimist."
      ],
      "metadata": {
        "id": "oXwjDG-Av7Tf"
      }
    },
    {
      "cell_type": "markdown",
      "source": [
        "# **Strategy Pattern**\n",
        " Strategy Pattern abil saab valida ja vahetada erinevaid algoritme või käitumisi jooksva rakenduse ajal. Siin on näide, kuidas erinevad strateegiad (käitumised) rakendatakse sõltuvalt objekti olekust."
      ],
      "metadata": {
        "id": "9MdI8GWiwJ2s"
      }
    },
    {
      "cell_type": "code",
      "source": [
        "# Klass, mis esindab töörežiimi, kus koduleht on saadaval\n",
        "class Operational:\n",
        "    def serve_homepage(self):\n",
        "        # Tagastab sõnumi, et pank on veebilehe koduleht saadaval\n",
        "        return \"Welcome to the Bank's website\"\n",
        "\n",
        "# Klass, mis esindab hooldusrežiimi, kus koduleht on suletud\n",
        "class Maintenance:\n",
        "    def serve_homepage(self):\n",
        "        # Tagastab sõnumi, et koduleht on hoolduses\n",
        "        return \"Homepage undergoing maintenance, come back later\"\n",
        "\n",
        "# Klass, mis esindab panga veebilehte\n",
        "class BankWebsite:\n",
        "    def __init__(self, mode=Operational):\n",
        "        # Konstruktor, mis määrab algse režiimi; vaikimisi on see Operational\n",
        "        self.mode = mode()\n",
        "\n",
        "    def homepage(self):\n",
        "        # Kutsutakse käivitama hetkel kehtiva režiimi serve_homepage meetodit\n",
        "        print(self.mode.serve_homepage())\n",
        "\n",
        "# Peamine osa koodist, mis käivitab näite\n",
        "if __name__ == \"__main__\":\n",
        "    # Loome BankWebsite objekti vaikimisi Operational režiimis\n",
        "    b = BankWebsite()\n",
        "    # Prindime kodulehe sisu Operational režiimis\n",
        "    b.homepage()  # Väljund: Welcome to the Bank's website\n",
        "\n",
        "    # Muudame režiimiks Maintenance ja prindime kodulehe sisu uuesti\n",
        "    b.mode = Maintenance()\n",
        "    b.homepage()  # Väljund: Homepage undergoing maintenance, come back later\n"
      ],
      "metadata": {
        "colab": {
          "base_uri": "https://localhost:8080/"
        },
        "id": "MwfCnqalxhSe",
        "outputId": "76689679-ff5f-46d6-da8d-58654d19dfca"
      },
      "execution_count": 10,
      "outputs": [
        {
          "output_type": "stream",
          "name": "stdout",
          "text": [
            "Welcome to the Bank's website\n",
            "Homepage undergoing maintenance, come back later\n"
          ]
        }
      ]
    },
    {
      "cell_type": "markdown",
      "source": [
        "**Selgitus:**\n",
        "\n",
        "**Operational klass:**\n",
        "\n",
        "serve_homepage: Meetod, mis tagastab sõnumi, et pank on veebilehe koduleht saadaval.\n",
        "\n",
        "**Maintenance klass:**\n",
        "\n",
        "serve_homepage: Meetod, mis tagastab sõnumi, et koduleht on hoolduses ja ei ole hetkel saadaval.\n",
        "\n",
        "**BankWebsite klass:**\n",
        "\n",
        "**__init__:**\n",
        "\n",
        "Konstruktor, mis võtab vastu režiimi (vaikimisi Operational) ja loob vastava objekti (self.mode).\n",
        "\n",
        "**homepage:**\n",
        "\n",
        "Meetod, mis kutsub käivitama hetkel määratud režiimi (mode) serve_homepage meetodit ja prindib selle tulemuse.\n",
        "\n",
        "**Koodi käivitamine (if __name__ == \"__main__\":):**\n",
        "\n",
        "Loome BankWebsite objekti, mis vaikimisi töötab Operational režiimis.\n",
        "b.homepage() kutsub Operational režiimi serve_homepage meetodit ja prindib sõnumi, et veebileht on saadaval.\n",
        "Seejärel muudame režiimiks Maintenance ja kutsub homepage meetodit uuesti, mis prindib hooldusrežiimi sõnumi.\n",
        "\n",
        "**Kokkuvõte:**\n",
        "\n",
        "Strategy Muster võimaldab määrata ja vahetada käitumisi või algoritme jooksva rakenduse ajal. Selles näites saavad BankWebsite objektid dünaamiliselt muuta oma käitumist sõltuvalt režiimist (Operational või Maintenance). See muster aitab eraldada režiimide määratlemise loogikat, andes võimaluse käitumist lihtsasti muuta ilma, et peaksite muutma põhikoodi, mis neid strateegiaid kasutab."
      ],
      "metadata": {
        "id": "X3AGcQUMxk_w"
      }
    },
    {
      "cell_type": "markdown",
      "source": [
        "# **S.O.L.I.D**\n",
        "\n",
        "**SOLID** is an acronym, coined by Michael Feathers and discussed widely by Robert C. Martin:\n",
        "\n",
        "•S -single responsibility principle\n",
        "\n",
        "•O–open-closed principle\n",
        "\n",
        "•L –Liskov substitution principle\n",
        "\n",
        "•I –Interface segregation principle\n",
        "\n",
        "•D –Dependency inversion principle"
      ],
      "metadata": {
        "id": "qJdhvqzWx44J"
      }
    },
    {
      "cell_type": "markdown",
      "source": [
        "# 1. Single Responsibility Principle (SRP)\n",
        "Printsiip: Iga klass peaks täitma ainult ühte ülesannet või vastutama ainult ühe konkreetse osa eest süsteemis."
      ],
      "metadata": {
        "id": "KPFAMxFLytN0"
      }
    },
    {
      "cell_type": "code",
      "source": [
        "# Klass, mis tegeleb ainult kasutaja andmete töötlemisega\n",
        "class User:\n",
        "    def __init__(self, name, email):\n",
        "        self.name = name\n",
        "        self.email = email\n",
        "\n",
        "# Klass, mis tegeleb ainult kasutaja andmete salvestamisega\n",
        "class UserRepository:\n",
        "    def save_user(self, user):\n",
        "        # Salvestab kasutaja andmed andmebaasi (näide)\n",
        "        print(f\"Saving user: {user.name} with email: {user.email}\")\n",
        "\n",
        "# Näide kasutamisest\n",
        "user = User(\"John Doe\", \"john.doe@example.com\")\n",
        "repository = UserRepository()\n",
        "repository.save_user(user)\n"
      ],
      "metadata": {
        "colab": {
          "base_uri": "https://localhost:8080/"
        },
        "id": "Dn5qIaAhy5ZC",
        "outputId": "a227294f-f255-4fe0-e431-e6c9b6790f65"
      },
      "execution_count": 11,
      "outputs": [
        {
          "output_type": "stream",
          "name": "stdout",
          "text": [
            "Saving user: John Doe with email: john.doe@example.com\n"
          ]
        }
      ]
    },
    {
      "cell_type": "markdown",
      "source": [
        "# 2. Open-Closed Principle (OCP)\n",
        "Printsiip: Klassid peaksid olema avatud laiendamiseks, kuid suletud muutmiseks. See tähendab, et sa peaksid saama klassi käitumist muuta, ilma et peaksid klassi enda koodi muutma."
      ],
      "metadata": {
        "id": "TLkFC40dzDFw"
      }
    },
    {
      "cell_type": "code",
      "source": [
        "# Baasklass, mida ei muudeta\n",
        "class Shape:\n",
        "    def draw(self):\n",
        "        raise NotImplementedError\n",
        "\n",
        "# Laiendatud klass, mis ei muuda baasklassi koodi\n",
        "class Circle(Shape):\n",
        "    def draw(self):\n",
        "        print(\"Drawing a circle\")\n",
        "\n",
        "class Square(Shape):\n",
        "    def draw(self):\n",
        "        print(\"Drawing a square\")\n",
        "\n",
        "def render_shape(shape):\n",
        "    shape.draw()\n",
        "\n",
        "# Näide kasutamisest\n",
        "circle = Circle()\n",
        "square = Square()\n",
        "render_shape(circle)\n",
        "render_shape(square)\n"
      ],
      "metadata": {
        "colab": {
          "base_uri": "https://localhost:8080/"
        },
        "id": "9P9QtPUrzNCf",
        "outputId": "0474aa95-acbd-44e5-96c0-3ec60d2e860f"
      },
      "execution_count": 12,
      "outputs": [
        {
          "output_type": "stream",
          "name": "stdout",
          "text": [
            "Drawing a circle\n",
            "Drawing a square\n"
          ]
        }
      ]
    },
    {
      "cell_type": "markdown",
      "source": [
        "# 3. Liskov Substitution Principle (LSP)\n",
        "Printsiip: Tütre klassid peaksid olema vahetatavad oma vanema klassiga ilma, et see mõjutaks programmi täpsust."
      ],
      "metadata": {
        "id": "F6G39qdhzQhb"
      }
    },
    {
      "cell_type": "code",
      "source": [
        "# Baasklass, mis defineerib teatud käitumise\n",
        "class Bird:\n",
        "    def fly(self):\n",
        "        print(\"Flying\")\n",
        "\n",
        "# Tütarklass, mis peab järgima baasklassi lepingut\n",
        "class Sparrow(Bird):\n",
        "    def fly(self):\n",
        "        print(\"Sparrow flying\")\n",
        "\n",
        "class Penguin(Bird):\n",
        "    def fly(self):\n",
        "        # Pinguin ei saa lennata, see rikub LSP-d\n",
        "        raise Exception(\"Penguin can't fly\")\n",
        "\n",
        "# Näide kasutamisest\n",
        "def make_bird_fly(bird):\n",
        "    bird.fly()\n",
        "\n",
        "sparrow = Sparrow()\n",
        "penguin = Penguin()\n",
        "\n",
        "make_bird_fly(sparrow)  # Töötas ootuspäraselt\n",
        "#make_bird_fly(penguin)  # Tõstab erandi, ei järgi LSP-d\n"
      ],
      "metadata": {
        "colab": {
          "base_uri": "https://localhost:8080/"
        },
        "id": "oQImWkeIzWWv",
        "outputId": "b5ad438b-04aa-41b5-fc50-511691715994"
      },
      "execution_count": 14,
      "outputs": [
        {
          "output_type": "stream",
          "name": "stdout",
          "text": [
            "Sparrow flying\n"
          ]
        }
      ]
    },
    {
      "cell_type": "markdown",
      "source": [
        "# 4. Interface Segregation Principle (ISP)\n",
        "Printsiip: Klientide ei peaks olema sunnitud sõltuma liidestest, mida nad ei kasuta. Eelistada tuleks spetsialiseeritud liideste loomist."
      ],
      "metadata": {
        "id": "sZrvs4P6zgmI"
      }
    },
    {
      "cell_type": "code",
      "source": [
        "# Spetsialiseeritud liidesed\n",
        "class Printable:\n",
        "    def print(self):\n",
        "        raise NotImplementedError\n",
        "\n",
        "class Scannable:\n",
        "    def scan(self):\n",
        "        raise NotImplementedError\n",
        "\n",
        "# Klass, mis implementeerib ainult vajalikke liideseid\n",
        "class MultiFunctionPrinter(Printable, Scannable):\n",
        "    def print(self):\n",
        "        print(\"Printing document\")\n",
        "\n",
        "    def scan(self):\n",
        "        print(\"Scanning document\")\n",
        "\n",
        "# Klass, mis implementeerib ainult vajalikke liideseid\n",
        "class SimplePrinter(Printable):\n",
        "    def print(self):\n",
        "        print(\"Printing document\")\n",
        "\n",
        "# Näide kasutamisest\n",
        "printer = MultiFunctionPrinter()\n",
        "printer.print()\n",
        "printer.scan()\n",
        "\n",
        "simple_printer = SimplePrinter()\n",
        "simple_printer.print()\n"
      ],
      "metadata": {
        "colab": {
          "base_uri": "https://localhost:8080/"
        },
        "id": "VUkESTX1zmEG",
        "outputId": "0bc0dad4-9934-45a3-ae0d-357526fcb777"
      },
      "execution_count": 15,
      "outputs": [
        {
          "output_type": "stream",
          "name": "stdout",
          "text": [
            "Printing document\n",
            "Scanning document\n",
            "Printing document\n"
          ]
        }
      ]
    },
    {
      "cell_type": "markdown",
      "source": [
        "# 5. Dependency Inversion Principle (DIP)\n",
        "Printsiip: Kõrgtasemel moodulid ei tohiks sõltuda madalamatest moodulitest. Mõlemad peaksid sõltuma abstraktsioonidest. Abstraktsioonid ei tohiks sõltuda detailidest; detailid peaksid sõltuma abstraktsioonidest."
      ],
      "metadata": {
        "id": "6SJ-h4hkzyU9"
      }
    },
    {
      "cell_type": "code",
      "source": [
        "# Abstraktsioon: Tellija\n",
        "class NotificationService:\n",
        "    def send_notification(self, message):\n",
        "        raise NotImplementedError\n",
        "\n",
        "# Madalama taseme klass: Konkreetne teadete saatja\n",
        "class EmailNotificationService(NotificationService):\n",
        "    def send_notification(self, message):\n",
        "        print(f\"Sending email with message: {message}\")\n",
        "\n",
        "# Kõrgtaseme klass: Rakendus, mis sõltub abstraktsioonist\n",
        "class Application:\n",
        "    def __init__(self, notification_service):\n",
        "        self.notification_service = notification_service\n",
        "\n",
        "    def notify(self, message):\n",
        "        self.notification_service.send_notification(message)\n",
        "\n",
        "# Näide kasutamisest\n",
        "email_service = EmailNotificationService()\n",
        "app = Application(email_service)\n",
        "app.notify(\"Hello SOLID Principles!\")\n"
      ],
      "metadata": {
        "colab": {
          "base_uri": "https://localhost:8080/"
        },
        "id": "_wcLpHoFz0QM",
        "outputId": "278a5df9-1aab-4dad-8085-8ab2b7a2267a"
      },
      "execution_count": 16,
      "outputs": [
        {
          "output_type": "stream",
          "name": "stdout",
          "text": [
            "Sending email with message: Hello SOLID Principles!\n"
          ]
        }
      ]
    },
    {
      "cell_type": "markdown",
      "source": [
        "**Kokkuvõte:**\n",
        "\n",
        "**Single Responsibility Principle (SRP):**\n",
        "\n",
        "Igal klassil peab olema üks põhifunktsioon või ülesanne.\n",
        "\n",
        "**Open-Closed Principle (OCP):**\n",
        "\n",
        "Klassid peaksid olema avatud laiendamiseks, kuid suletud muutmiseks.\n",
        "\n",
        "**Liskov Substitution Principle (LSP):**\n",
        "\n",
        "Tütarklassid peavad olema asendatavad oma vanemklassiga ilma käitumise muutumiseta.\n",
        "\n",
        "**Interface Segregation Principle (ISP):**\n",
        "\n",
        "Klientide ei tohiks olla sunnitud sõltuma liidestest, mida nad ei kasuta.\n",
        "\n",
        "**Dependency Inversion Principle (DIP):**\n",
        "\n",
        "Kõrgtaseme moodulid ei tohiks sõltuda madalamatest moodulitest, vaid mõlemad peaksid sõltuma abstraktsioonidest.\n",
        "\n"
      ],
      "metadata": {
        "id": "nv4TUP4izopw"
      }
    },
    {
      "cell_type": "markdown",
      "source": [],
      "metadata": {
        "id": "axQrfFaR0WDB"
      }
    }
  ]
}
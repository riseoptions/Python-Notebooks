{
  "nbformat": 4,
  "nbformat_minor": 0,
  "metadata": {
    "colab": {
      "provenance": []
    },
    "kernelspec": {
      "name": "python3",
      "display_name": "Python 3"
    },
    "language_info": {
      "name": "python"
    }
  },
  "cells": [
    {
      "cell_type": "markdown",
      "source": [
        "# **Multithreading & Multiprocessing**\n",
        "\n",
        "Kui tegemist on matemaatiliste ülesannetega, mis nõuavad suurt arvutusvõimet, on multiprocessing tõenäoliselt efektiivsem, kuid kui tegemist on peamiselt I/O operatsioonidega, võib multithreading olla sobivam."
      ],
      "metadata": {
        "id": "3LQlWFvn2b9A"
      }
    },
    {
      "cell_type": "markdown",
      "source": [
        "# Näide 1: Multithreading\n",
        "Kasutame multithreading-ut, et paralleelselt täita matemaatilisi tehteid.\n",
        "\n",
        "Selgitused:\n",
        "\n",
        "heavy_computation: Simuleerib intensiivset arvutust.\n",
        "\n",
        "worker: Täidab arvutusi andmete osadele ja salvestab tulemused.\n",
        "\n",
        "multithreading_example: Jagab andmed lõikudeks, loob ja käivitab threadi, seejärel ootab, kuni kõik threadid on lõpetanud."
      ],
      "metadata": {
        "id": "cX6-GgfB0LT4"
      }
    },
    {
      "cell_type": "code",
      "execution_count": 1,
      "metadata": {
        "colab": {
          "base_uri": "https://localhost:8080/"
        },
        "id": "Uf-Qg27JzVSP",
        "outputId": "5af52206-7740-4a71-c16f-54958c7ac198"
      },
      "outputs": [
        {
          "output_type": "stream",
          "name": "stdout",
          "text": [
            "Thread 0 started.\n",
            "Thread 1 started.\n",
            "Thread 2 started.\n",
            "Thread 3 started.\n",
            "Thread 3 finished.\n",
            "Thread 1 finished.\n",
            "Thread 0 finished.\n",
            "Thread 2 finished.\n",
            "Total result with multithreading: 332833500\n",
            "Time taken: 79.29 seconds\n"
          ]
        }
      ],
      "source": [
        "import threading\n",
        "import time\n",
        "import random\n",
        "from typing import List\n",
        "\n",
        "# Function to simulate a heavy computation\n",
        "def heavy_computation(n: int) -> int:\n",
        "    time.sleep(random.uniform(0.1, 0.5))  # Simulate delay\n",
        "    return n ** 2  # Square of n\n",
        "\n",
        "# Worker thread function\n",
        "def worker(numbers: List[int], results: List[int], index: int):\n",
        "    print(f\"Thread {index} started.\")\n",
        "    results[index] = sum(heavy_computation(n) for n in numbers)\n",
        "    print(f\"Thread {index} finished.\")\n",
        "\n",
        "# Main function using threading\n",
        "def multithreading_example(numbers: List[int]):\n",
        "    num_threads = 4\n",
        "    chunk_size = len(numbers) // num_threads\n",
        "    threads = []\n",
        "    results = [0] * num_threads\n",
        "\n",
        "    start_time = time.time()\n",
        "\n",
        "    # Create and start threads\n",
        "    for i in range(num_threads):\n",
        "        chunk = numbers[i * chunk_size:(i + 1) * chunk_size]\n",
        "        thread = threading.Thread(target=worker, args=(chunk, results, i))\n",
        "        threads.append(thread)\n",
        "        thread.start()\n",
        "\n",
        "    # Wait for all threads to complete\n",
        "    for thread in threads:\n",
        "        thread.join()\n",
        "\n",
        "    total_result = sum(results)\n",
        "    print(f\"Total result with multithreading: {total_result}\")\n",
        "    print(f\"Time taken: {time.time() - start_time:.2f} seconds\")\n",
        "\n",
        "if __name__ == \"__main__\":\n",
        "    numbers = list(range(1000))\n",
        "    multithreading_example(numbers)\n"
      ]
    },
    {
      "cell_type": "markdown",
      "source": [
        "# Näide 2: Multiprocessing\n",
        "Kasutame multiprocessing-ut, et jagada matemaatiliste tehete arvutamine erinevatesse protsessidesse.\n",
        "\n",
        "Selgitused:\n",
        "\n",
        "heavy_computation: Simuleerib intensiivset arvutust.\n",
        "\n",
        "worker: Täidab arvutusi andmete osadele ja salvestab tulemused Queue-sse.\n",
        "\n",
        "multiprocessing_example: Jagab andmed lõikudeks, loob ja käivitab protsessid, seejärel ootab, kuni kõik protsessid on lõpetanud."
      ],
      "metadata": {
        "id": "PE8n0blB1ndj"
      }
    },
    {
      "cell_type": "code",
      "source": [
        "import multiprocessing\n",
        "import time\n",
        "import random\n",
        "from typing import List\n",
        "\n",
        "# Function to simulate a heavy computation\n",
        "def heavy_computation(n: int) -> int:\n",
        "    time.sleep(random.uniform(0.1, 0.5))  # Simulate delay\n",
        "    return n ** 2  # Square of n\n",
        "\n",
        "# Worker function for multiprocessing\n",
        "def worker(numbers: List[int], result_queue: multiprocessing.Queue):\n",
        "    print(f\"Process {multiprocessing.current_process().name} started.\")\n",
        "    result = sum(heavy_computation(n) for n in numbers)\n",
        "    result_queue.put(result)\n",
        "    print(f\"Process {multiprocessing.current_process().name} finished.\")\n",
        "\n",
        "# Main function using multiprocessing\n",
        "def multiprocessing_example(numbers: List[int]):\n",
        "    num_processes = 4\n",
        "    chunk_size = len(numbers) // num_processes\n",
        "    processes = []\n",
        "    result_queue = multiprocessing.Queue()\n",
        "\n",
        "    start_time = time.time()\n",
        "\n",
        "    # Create and start processes\n",
        "    for i in range(num_processes):\n",
        "        chunk = numbers[i * chunk_size:(i + 1) * chunk_size]\n",
        "        process = multiprocessing.Process(target=worker, args=(chunk, result_queue))\n",
        "        processes.append(process)\n",
        "        process.start()\n",
        "\n",
        "    # Wait for all processes to complete\n",
        "    for process in processes:\n",
        "        process.join()\n",
        "\n",
        "    total_result = sum(result_queue.get() for _ in range(num_processes))\n",
        "    print(f\"Total result with multiprocessing: {total_result}\")\n",
        "    print(f\"Time taken: {time.time() - start_time:.2f} seconds\")\n",
        "\n",
        "if __name__ == \"__main__\":\n",
        "    numbers = list(range(1000))\n",
        "    multiprocessing_example(numbers)\n"
      ],
      "metadata": {
        "colab": {
          "base_uri": "https://localhost:8080/"
        },
        "id": "k2NjHY-61rYk",
        "outputId": "d00aa84b-d87e-434c-f620-857c349a7ef8"
      },
      "execution_count": 2,
      "outputs": [
        {
          "output_type": "stream",
          "name": "stdout",
          "text": [
            "Process Process-1 started.\n",
            "Process Process-2 started.\n",
            "Process Process-3 started.\n",
            "Process Process-4 started.\n",
            "Process Process-1 finished.\n",
            "Process Process-2 finished.\n",
            "Process Process-3 finished.\n",
            "Process Process-4 finished.\n",
            "Total result with multiprocessing: 332833500\n",
            "Time taken: 74.95 seconds\n"
          ]
        }
      ]
    },
    {
      "cell_type": "markdown",
      "source": [
        "# Threading examples"
      ],
      "metadata": {
        "id": "ivePI8GN3KV4"
      }
    },
    {
      "cell_type": "code",
      "source": [
        "import logging\n",
        "import time\n",
        "\n",
        "# Loo logger nimega \"toll_booth\"\n",
        "l = logging.getLogger(\"toll_booth\")\n",
        "\n",
        "# Loo logimis- ja veateate välja trükkimiseks voog\n",
        "h = logging.StreamHandler()\n",
        "\n",
        "# Loo logimisformaat: kuupäev, kellaaeg ja sõnum\n",
        "f = logging.Formatter(\"%(asctime)s: %(message)s\")\n",
        "\n",
        "# Määra vormindaja logimisvoole\n",
        "h.setFormatter(f)\n",
        "\n",
        "# Lisa voog loggerile\n",
        "l.addHandler(h)\n",
        "\n",
        "# Määra logimisnivel\n",
        "l.setLevel(logging.INFO)\n",
        "\n",
        "def process_toll_booth_fee(car):\n",
        "    \"\"\"\n",
        "    Simuleerib tasu töötlemist. Logib alguse ja lõpu aega.\n",
        "\n",
        "    :param car: Auto tüüp, mille tasu töödeldakse.\n",
        "    \"\"\"\n",
        "    l.info(f\"Processing {car}'s fee...\")  # Logi teade töötlemise algusest\n",
        "    time.sleep(2)  # Simuleeri tasu töötlemise kestust (2 sekundit)\n",
        "    l.info(f\"Done processing {car}'s fee.\")  # Logi teade töötlemise lõpust\n",
        "\n",
        "if __name__ == \"__main__\":\n",
        "    # Defineeri auto tüübid, mida töödelda\n",
        "    cars = [\"Red\", \"Blue\", \"Green\"]\n",
        "\n",
        "    # Alusta aja mõõtmist\n",
        "    start_time = time.time()\n",
        "\n",
        "    # Töötle iga auto tasu\n",
        "    for car in cars:\n",
        "        process_toll_booth_fee(car)\n",
        "\n",
        "    # Arvuta ja prindi, kui kaua kogu töötlemine kestis\n",
        "    delta_time = time.time() - start_time\n",
        "    print(f\"It took {delta_time:.1f}s to process all the cars.\")\n"
      ],
      "metadata": {
        "colab": {
          "base_uri": "https://localhost:8080/"
        },
        "id": "u4Z0ZDfo24Ah",
        "outputId": "a6915415-0996-4682-feef-66b67a1f9400"
      },
      "execution_count": 3,
      "outputs": [
        {
          "output_type": "stream",
          "name": "stderr",
          "text": [
            "2024-08-30 19:55:37,380: Processing Red's fee...\n",
            "INFO:toll_booth:Processing Red's fee...\n",
            "2024-08-30 19:55:39,393: Done processing Red's fee.\n",
            "INFO:toll_booth:Done processing Red's fee.\n",
            "2024-08-30 19:55:39,396: Processing Blue's fee...\n",
            "INFO:toll_booth:Processing Blue's fee...\n",
            "2024-08-30 19:55:41,401: Done processing Blue's fee.\n",
            "INFO:toll_booth:Done processing Blue's fee.\n",
            "2024-08-30 19:55:41,405: Processing Green's fee...\n",
            "INFO:toll_booth:Processing Green's fee...\n",
            "2024-08-30 19:55:43,410: Done processing Green's fee.\n",
            "INFO:toll_booth:Done processing Green's fee.\n"
          ]
        },
        {
          "output_type": "stream",
          "name": "stdout",
          "text": [
            "It took 6.0s to process all the cars.\n"
          ]
        }
      ]
    },
    {
      "cell_type": "code",
      "source": [
        "import logging\n",
        "import time\n",
        "import threading\n",
        "\n",
        "# Konfigureeri logger\n",
        "l = logging.getLogger(\"toll_booth\")\n",
        "h = logging.StreamHandler()  # Logimisvoog konsooli jaoks\n",
        "f = logging.Formatter(\"%(asctime)s: %(message)s\")  # Logimisformaat\n",
        "h.setFormatter(f)  # Rakenda formaat logimisvoole\n",
        "l.addHandler(h)  # Lisa logimisvoog loggerile\n",
        "l.setLevel(logging.INFO)  # Seadista logimisnivel INFO\n",
        "\n",
        "def process_toll_booth_fee(car):\n",
        "    \"\"\"\n",
        "    Simuleerib auto tasu töötlemist. Logib alguse ja lõpu aega.\n",
        "\n",
        "    :param car: Auto tüüp, mille tasu töödeldakse.\n",
        "    \"\"\"\n",
        "    l.info(f\"Processing {car}'s fee...\")  # Logi teade töötlemise algusest\n",
        "    time.sleep(2)  # Simuleeri tasu töötlemise kestust (2 sekundit)\n",
        "    l.info(f\"Done processing {car}'s fee.\")  # Logi teade töötlemise lõpust\n",
        "\n",
        "if __name__ == \"__main__\":\n",
        "    # Defineeri auto tüübid, mida töödelda\n",
        "    cars = [\"Red\", \"Blue\", \"Green\"]\n",
        "    threads = []  # Loend, et hoida lõime\n",
        "\n",
        "    # Alusta aja mõõtmist\n",
        "    start_time = time.time()\n",
        "\n",
        "    # Loo ja käivita lõimed iga auto jaoks\n",
        "    for car in cars:\n",
        "        new_thread = threading.Thread(target=process_toll_booth_fee, args=(car,))\n",
        "        threads.append(new_thread)  # Lisa lõime loendisse\n",
        "        new_thread.start()  # Käivita lõime\n",
        "\n",
        "    # Oota, kuni kõik lõimed on lõpetanud\n",
        "    for t in threads:\n",
        "        t.join()\n",
        "\n",
        "    # Arvuta ja prindi, kui kaua kogu töötlemine kestis\n",
        "    delta_time = time.time() - start_time\n",
        "    print(f\"It took {delta_time:.1f}s to process all the cars.\")\n"
      ],
      "metadata": {
        "colab": {
          "base_uri": "https://localhost:8080/"
        },
        "id": "c8xquncE31wg",
        "outputId": "5c4d5bb1-3fa8-48e2-ef87-1be6dce05802"
      },
      "execution_count": 4,
      "outputs": [
        {
          "output_type": "stream",
          "name": "stderr",
          "text": [
            "2024-08-30 19:59:50,728: Processing Red's fee...\n",
            "2024-08-30 19:59:50,728: Processing Red's fee...\n",
            "INFO:toll_booth:Processing Red's fee...\n",
            "2024-08-30 19:59:50,730: Processing Blue's fee...\n",
            "2024-08-30 19:59:50,730: Processing Blue's fee...\n",
            "2024-08-30 19:59:50,733: Processing Green's fee...\n",
            "INFO:toll_booth:Processing Blue's fee...\n",
            "2024-08-30 19:59:50,733: Processing Green's fee...\n",
            "INFO:toll_booth:Processing Green's fee...\n",
            "2024-08-30 19:59:52,738: Done processing Red's fee.\n",
            "2024-08-30 19:59:52,738: Done processing Red's fee.\n",
            "INFO:toll_booth:Done processing Red's fee.\n",
            "2024-08-30 19:59:52,748: Done processing Blue's fee.\n",
            "2024-08-30 19:59:52,748: Done processing Blue's fee.\n",
            "2024-08-30 19:59:52,750: Done processing Green's fee.\n",
            "INFO:toll_booth:Done processing Blue's fee.\n",
            "2024-08-30 19:59:52,750: Done processing Green's fee.\n",
            "INFO:toll_booth:Done processing Green's fee.\n"
          ]
        },
        {
          "output_type": "stream",
          "name": "stdout",
          "text": [
            "It took 2.0s to process all the cars.\n"
          ]
        }
      ]
    },
    {
      "cell_type": "code",
      "source": [
        "import logging\n",
        "import time\n",
        "import concurrent.futures\n",
        "\n",
        "# Konfigureeri logger\n",
        "l = logging.getLogger(\"toll_booth\")\n",
        "h = logging.StreamHandler()  # Logimisvoog konsooli jaoks\n",
        "f = logging.Formatter(\"%(asctime)s: %(message)s\")  # Logimisformaat\n",
        "h.setFormatter(f)  # Rakenda formaat logimisvoole\n",
        "l.addHandler(h)  # Lisa logimisvoog loggerile\n",
        "l.setLevel(logging.INFO)  # Seadista logimisnivel INFO\n",
        "\n",
        "def process_toll_booth_fee(car):\n",
        "    \"\"\"\n",
        "    Simuleerib auto tasu töötlemist. Logib alguse ja lõpu aega.\n",
        "\n",
        "    :param car: Auto tüüp, mille tasu töödeldakse.\n",
        "    \"\"\"\n",
        "    l.info(f\"Processing {car}'s fee...\")  # Logi teade töötlemise algusest\n",
        "    time.sleep(2)  # Simuleeri tasu töötlemise kestust (2 sekundit)\n",
        "    l.info(f\"Done processing {car}'s fee.\")  # Logi teade töötlemise lõpust\n",
        "\n",
        "if __name__ == \"__main__\":\n",
        "    # Defineeri auto tüübid, mida töödelda\n",
        "    cars = [\"Red\", \"Blue\", \"Green\"]\n",
        "\n",
        "    # Alusta aja mõõtmist\n",
        "    start_time = time.time()\n",
        "\n",
        "    # Kasuta ThreadPoolExecutorit, et töötleda tasusid paralleelselt\n",
        "    # max_workers määrab, mitu lõime saab korraga töötada\n",
        "    with concurrent.futures.ThreadPoolExecutor(max_workers=2) as executor:\n",
        "        # Käivita process_toll_booth_fee iga auto jaoks paralleelselt\n",
        "        # executor.map rakendab funktsiooni iga sisendi jaoks\n",
        "        executor.map(process_toll_booth_fee, cars)\n",
        "\n",
        "    # Arvuta ja prindi, kui kaua kogu töötlemine kestis\n",
        "    delta_time = time.time() - start_time\n",
        "    print(f\"It took {delta_time:.1f}s to process all the cars.\")\n"
      ],
      "metadata": {
        "colab": {
          "base_uri": "https://localhost:8080/"
        },
        "id": "RL43S9HB4RX6",
        "outputId": "29b82d30-542f-4137-cbb2-6453b1b358ac"
      },
      "execution_count": 5,
      "outputs": [
        {
          "output_type": "stream",
          "name": "stderr",
          "text": [
            "2024-08-30 20:02:46,197: Processing Red's fee...\n",
            "2024-08-30 20:02:46,197: Processing Red's fee...\n",
            "2024-08-30 20:02:46,197: Processing Red's fee...\n",
            "2024-08-30 20:02:46,207: Processing Blue's fee...\n",
            "INFO:toll_booth:Processing Red's fee...\n",
            "2024-08-30 20:02:46,207: Processing Blue's fee...\n",
            "2024-08-30 20:02:46,207: Processing Blue's fee...\n",
            "INFO:toll_booth:Processing Blue's fee...\n",
            "2024-08-30 20:02:48,214: Done processing Red's fee.\n",
            "2024-08-30 20:02:48,214: Done processing Red's fee.\n",
            "2024-08-30 20:02:48,214: Done processing Red's fee.\n",
            "INFO:toll_booth:Done processing Red's fee.\n",
            "2024-08-30 20:02:48,220: Processing Green's fee...\n",
            "2024-08-30 20:02:48,220: Processing Green's fee...\n",
            "2024-08-30 20:02:48,220: Done processing Blue's fee.\n",
            "2024-08-30 20:02:48,220: Processing Green's fee...\n",
            "2024-08-30 20:02:48,220: Done processing Blue's fee.\n",
            "INFO:toll_booth:Processing Green's fee...\n",
            "2024-08-30 20:02:48,220: Done processing Blue's fee.\n",
            "INFO:toll_booth:Done processing Blue's fee.\n",
            "2024-08-30 20:02:50,230: Done processing Green's fee.\n",
            "2024-08-30 20:02:50,230: Done processing Green's fee.\n",
            "2024-08-30 20:02:50,230: Done processing Green's fee.\n",
            "INFO:toll_booth:Done processing Green's fee.\n"
          ]
        },
        {
          "output_type": "stream",
          "name": "stdout",
          "text": [
            "It took 4.0s to process all the cars.\n"
          ]
        }
      ]
    },
    {
      "cell_type": "code",
      "source": [
        "import logging\n",
        "import time\n",
        "import concurrent.futures\n",
        "\n",
        "# Konfigureeri logger\n",
        "l = logging.getLogger(\"toll_booth\")\n",
        "h = logging.StreamHandler()  # Logimisvoog konsooli jaoks\n",
        "f = logging.Formatter(\"%(asctime)s: %(message)s\")  # Logimisformaat\n",
        "h.setFormatter(f)  # Rakenda formaat logimisvoole\n",
        "l.addHandler(h)  # Lisa logimisvoog loggerile\n",
        "l.setLevel(logging.INFO)  # Seadista logimisnivel INFO\n",
        "\n",
        "class TollBooth:\n",
        "    def __init__(self):\n",
        "        # Algne register on 0.0\n",
        "        self.register = 0.0\n",
        "\n",
        "    def process_fee(self, car, fee):\n",
        "        \"\"\"\n",
        "        Töötleb auto tasu ja uuendab registeri summat.\n",
        "\n",
        "        :param car: Auto tüüp, mille tasu töödeldakse.\n",
        "        :param fee: Tasu, mis lisatakse registerisse.\n",
        "        \"\"\"\n",
        "        l.info(f\"Processing {car}'s fee. Current total: {self.register}\")\n",
        "        new_total = self.register + fee  # Arvuta uus registeri summa\n",
        "        time.sleep(0.1)  # Simuleeri töötlemise kestust (0.1 sekundit)\n",
        "        self.register = new_total  # Uus summa salvestatakse\n",
        "        l.info(f\"Done processing {car}'s fee. New total: {self.register}\")\n",
        "\n",
        "if __name__ == \"__main__\":\n",
        "    # Defineeri auto tüübid ja nende tasud\n",
        "    cars = [\"Red\", \"Blue\", \"Green\"]\n",
        "    booth = TollBooth()  # Loo TollBooth objekt\n",
        "\n",
        "    start_time = time.time()  # Alusta aja mõõtmist\n",
        "\n",
        "    # Kasuta ThreadPoolExecutorit, et töötleda tasusid paralleelselt\n",
        "    # max_workers määrab, mitu lõime saab korraga töötada\n",
        "    with concurrent.futures.ThreadPoolExecutor(max_workers=3) as executor:\n",
        "        # Saada iga auto tasu töötlemiseks uue lõime\n",
        "        for c in cars:\n",
        "            executor.submit(booth.process_fee, c, 10.0)\n",
        "\n",
        "    # Arvuta ja prindi, kui kaua kogu töötlemine kestis\n",
        "    delta_time = time.time() - start_time\n",
        "    print(f\"It took {delta_time:.1f}s to process all the cars.\")\n",
        "    print(f\"Total: {booth.register}\")\n"
      ],
      "metadata": {
        "colab": {
          "base_uri": "https://localhost:8080/"
        },
        "id": "NfazArLI4qes",
        "outputId": "6877670c-d40f-4963-b602-419e1985c595"
      },
      "execution_count": 6,
      "outputs": [
        {
          "output_type": "stream",
          "name": "stderr",
          "text": [
            "2024-08-30 20:04:19,533: Processing Red's fee. Current total: 0.0\n",
            "2024-08-30 20:04:19,533: Processing Red's fee. Current total: 0.0\n",
            "2024-08-30 20:04:19,533: Processing Red's fee. Current total: 0.0\n",
            "2024-08-30 20:04:19,533: Processing Red's fee. Current total: 0.0\n",
            "INFO:toll_booth:Processing Red's fee. Current total: 0.0\n",
            "2024-08-30 20:04:19,547: Processing Blue's fee. Current total: 0.0\n",
            "2024-08-30 20:04:19,547: Processing Blue's fee. Current total: 0.0\n",
            "2024-08-30 20:04:19,548: Processing Green's fee. Current total: 0.0\n",
            "2024-08-30 20:04:19,547: Processing Blue's fee. Current total: 0.0\n",
            "2024-08-30 20:04:19,548: Processing Green's fee. Current total: 0.0\n",
            "2024-08-30 20:04:19,547: Processing Blue's fee. Current total: 0.0\n",
            "2024-08-30 20:04:19,548: Processing Green's fee. Current total: 0.0\n",
            "INFO:toll_booth:Processing Blue's fee. Current total: 0.0\n",
            "2024-08-30 20:04:19,548: Processing Green's fee. Current total: 0.0\n",
            "INFO:toll_booth:Processing Green's fee. Current total: 0.0\n",
            "2024-08-30 20:04:19,647: Done processing Red's fee. New total: 10.0\n",
            "2024-08-30 20:04:19,647: Done processing Red's fee. New total: 10.0\n",
            "2024-08-30 20:04:19,647: Done processing Red's fee. New total: 10.0\n",
            "2024-08-30 20:04:19,647: Done processing Red's fee. New total: 10.0\n",
            "INFO:toll_booth:Done processing Red's fee. New total: 10.0\n",
            "2024-08-30 20:04:19,657: Done processing Blue's fee. New total: 10.0\n",
            "2024-08-30 20:04:19,657: Done processing Blue's fee. New total: 10.0\n",
            "2024-08-30 20:04:19,660: Done processing Green's fee. New total: 10.0\n",
            "2024-08-30 20:04:19,657: Done processing Blue's fee. New total: 10.0\n",
            "2024-08-30 20:04:19,660: Done processing Green's fee. New total: 10.0\n",
            "2024-08-30 20:04:19,657: Done processing Blue's fee. New total: 10.0\n",
            "2024-08-30 20:04:19,660: Done processing Green's fee. New total: 10.0\n",
            "INFO:toll_booth:Done processing Blue's fee. New total: 10.0\n",
            "2024-08-30 20:04:19,660: Done processing Green's fee. New total: 10.0\n",
            "INFO:toll_booth:Done processing Green's fee. New total: 10.0\n"
          ]
        },
        {
          "output_type": "stream",
          "name": "stdout",
          "text": [
            "It took 0.1s to process all the cars.\n",
            "Total: 10.0\n"
          ]
        }
      ]
    },
    {
      "cell_type": "code",
      "source": [
        "import logging\n",
        "import time\n",
        "import concurrent.futures\n",
        "import threading\n",
        "\n",
        "# Konfigureeri logger\n",
        "l = logging.getLogger(\"toll_booth\")\n",
        "h = logging.StreamHandler()  # Logimisvoog konsooli jaoks\n",
        "f = logging.Formatter(\"%(asctime)s: %(message)s\")  # Logimisformaat\n",
        "h.setFormatter(f)  # Rakenda formaat logimisvoole\n",
        "l.addHandler(h)  # Lisa logimisvoog loggerile\n",
        "l.setLevel(logging.INFO)  # Seadista logimisnivel INFO\n",
        "\n",
        "class TollBooth:\n",
        "    def __init__(self):\n",
        "        # Algne register on 0.0\n",
        "        self.register = 0.0\n",
        "        # Loo lukud registeri andmete kaitsmiseks\n",
        "        self.__lock = threading.Lock()\n",
        "\n",
        "    def process_fee(self, car, fee):\n",
        "        \"\"\"\n",
        "        Töötleb auto tasu ja uuendab registeri summat.\n",
        "\n",
        "        :param car: Auto tüüp, mille tasu töödeldakse.\n",
        "        :param fee: Tasu, mis lisatakse registerisse.\n",
        "        \"\"\"\n",
        "        l.info(f\"Processing {car}'s fee. Current total: {self.register}\")\n",
        "\n",
        "        # Kasuta lukku, et tagada, et ainult üks lõim saab andmeid korraga muuta\n",
        "        with self.__lock:\n",
        "            new_total = self.register + fee  # Arvuta uus registeri summa\n",
        "            time.sleep(0.1)  # Simuleeri töötlemise kestust (0.1 sekundit)\n",
        "            self.register = new_total  # Uus summa salvestatakse\n",
        "            # Märkus: lukustamata operatsioonid võivad siiski olla samaaegsed\n",
        "            time.sleep(1)  # Täiendav viivitus väljaspool lukustatud ala\n",
        "\n",
        "        l.info(f\"Done processing {car}'s fee. New total: {self.register}\")\n",
        "\n",
        "if __name__ == \"__main__\":\n",
        "    # Defineeri auto tüübid ja nende tasud\n",
        "    cars = [\"Red\", \"Blue\", \"Green\"]\n",
        "    booth = TollBooth()  # Loo TollBooth objekt\n",
        "\n",
        "    start_time = time.time()  # Alusta aja mõõtmist\n",
        "\n",
        "    # Kasuta ThreadPoolExecutorit, et töötleda tasusid paralleelselt\n",
        "    # max_workers määrab, mitu lõime saab korraga töötada\n",
        "    with concurrent.futures.ThreadPoolExecutor(max_workers=3) as executor:\n",
        "        # Saada iga auto tasu töötlemiseks uue lõime\n",
        "        for c in cars:\n",
        "            executor.submit(booth.process_fee, c, 10.0)\n",
        "\n",
        "    # Arvuta ja prindi, kui kaua kogu töötlemine kestis\n",
        "    delta_time = time.time() - start_time\n",
        "    print(f\"It took {delta_time:.1f}s to process all the cars.\")\n",
        "    print(f\"Total: {booth.register}\")\n"
      ],
      "metadata": {
        "colab": {
          "base_uri": "https://localhost:8080/"
        },
        "id": "NP_LbN7R5IKo",
        "outputId": "36d95423-5c5a-44b1-a669-9372839cfd91"
      },
      "execution_count": 7,
      "outputs": [
        {
          "output_type": "stream",
          "name": "stderr",
          "text": [
            "2024-08-30 20:05:27,936: Processing Red's fee. Current total: 0.0\n",
            "2024-08-30 20:05:27,936: Processing Red's fee. Current total: 0.0\n",
            "2024-08-30 20:05:27,936: Processing Red's fee. Current total: 0.0\n",
            "2024-08-30 20:05:27,936: Processing Red's fee. Current total: 0.0\n",
            "2024-08-30 20:05:27,936: Processing Red's fee. Current total: 0.0\n",
            "2024-08-30 20:05:27,952: Processing Blue's fee. Current total: 0.0\n",
            "INFO:toll_booth:Processing Red's fee. Current total: 0.0\n",
            "2024-08-30 20:05:27,952: Processing Blue's fee. Current total: 0.0\n",
            "2024-08-30 20:05:27,953: Processing Green's fee. Current total: 0.0\n",
            "2024-08-30 20:05:27,952: Processing Blue's fee. Current total: 0.0\n",
            "2024-08-30 20:05:27,952: Processing Blue's fee. Current total: 0.0\n",
            "2024-08-30 20:05:27,953: Processing Green's fee. Current total: 0.0\n",
            "2024-08-30 20:05:27,952: Processing Blue's fee. Current total: 0.0\n",
            "INFO:toll_booth:Processing Blue's fee. Current total: 0.0\n",
            "2024-08-30 20:05:27,953: Processing Green's fee. Current total: 0.0\n",
            "2024-08-30 20:05:27,953: Processing Green's fee. Current total: 0.0\n",
            "2024-08-30 20:05:27,953: Processing Green's fee. Current total: 0.0\n",
            "INFO:toll_booth:Processing Green's fee. Current total: 0.0\n",
            "2024-08-30 20:05:29,056: Done processing Red's fee. New total: 10.0\n",
            "2024-08-30 20:05:29,056: Done processing Red's fee. New total: 10.0\n",
            "2024-08-30 20:05:29,056: Done processing Red's fee. New total: 10.0\n",
            "2024-08-30 20:05:29,056: Done processing Red's fee. New total: 10.0\n",
            "2024-08-30 20:05:29,056: Done processing Red's fee. New total: 10.0\n",
            "INFO:toll_booth:Done processing Red's fee. New total: 10.0\n",
            "2024-08-30 20:05:30,158: Done processing Blue's fee. New total: 20.0\n",
            "2024-08-30 20:05:30,158: Done processing Blue's fee. New total: 20.0\n",
            "2024-08-30 20:05:30,158: Done processing Blue's fee. New total: 20.0\n",
            "2024-08-30 20:05:30,158: Done processing Blue's fee. New total: 20.0\n",
            "2024-08-30 20:05:30,158: Done processing Blue's fee. New total: 20.0\n",
            "INFO:toll_booth:Done processing Blue's fee. New total: 20.0\n",
            "2024-08-30 20:05:31,259: Done processing Green's fee. New total: 30.0\n",
            "2024-08-30 20:05:31,259: Done processing Green's fee. New total: 30.0\n",
            "2024-08-30 20:05:31,259: Done processing Green's fee. New total: 30.0\n",
            "2024-08-30 20:05:31,259: Done processing Green's fee. New total: 30.0\n",
            "2024-08-30 20:05:31,259: Done processing Green's fee. New total: 30.0\n",
            "INFO:toll_booth:Done processing Green's fee. New total: 30.0\n"
          ]
        },
        {
          "output_type": "stream",
          "name": "stdout",
          "text": [
            "It took 3.3s to process all the cars.\n",
            "Total: 30.0\n"
          ]
        }
      ]
    },
    {
      "cell_type": "code",
      "source": [
        "import logging\n",
        "import time\n",
        "import concurrent.futures\n",
        "import queue\n",
        "import random\n",
        "\n",
        "# Konfigureeri logger\n",
        "l = logging.getLogger(\"bakery\")\n",
        "h = logging.StreamHandler()  # Logimisvoog konsooli jaoks\n",
        "f = logging.Formatter(\"%(asctime)s: %(message)s\")  # Logimisformaat\n",
        "h.setFormatter(f)  # Rakenda formaat logimisvoole\n",
        "l.addHandler(h)  # Lisa logimisvoog loggerile\n",
        "l.setLevel(logging.INFO)  # Seadista logimisnivel INFO\n",
        "\n",
        "class Bakery:\n",
        "    def __init__(self):\n",
        "        # Loo queue (järjekord) leiva hoidmiseks, mida küpsetatakse ja mille klientide poolt kätte saadakse\n",
        "        self.storage = queue.Queue()\n",
        "\n",
        "    def baker(self):\n",
        "        \"\"\"\n",
        "        Küpsetaja meetod, mis lisab järjekorda küpsetatud leiva\n",
        "        \"\"\"\n",
        "        for i in range(12):\n",
        "            # Pane küpsetatud leib järjekorda\n",
        "            self.storage.put(f\"Bread #{i}\")\n",
        "            l.info(\"Finished baking\")  # Logi küpsetamise lõpp\n",
        "            time.sleep(0.2)  # Simuleeri küpsetamise kestust (0.2 sekundit)\n",
        "        l.info(\"Baker has finished baking all bread\")\n",
        "\n",
        "    def customer(self, i):\n",
        "        \"\"\"\n",
        "        Klientide meetod, mis ostab leiba järjekorrast\n",
        "        :param i: Klientide unikaalne identifikaator\n",
        "        \"\"\"\n",
        "        for _ in range(3):\n",
        "            # Võta leib järjekorrast\n",
        "            bread = self.storage.get()\n",
        "            l.info(f\"Customer #{i} got {bread}\")  # Logi, millise leiva klient sai\n",
        "            time.sleep(random.uniform(0.5, 2.0))  # Simuleeri erinevaid ostu sagedusi (0.5 kuni 2.0 sekundit)\n",
        "        l.info(f\"Customer #{i} has finished purchasing\")\n",
        "\n",
        "if __name__ == \"__main__\":\n",
        "    # Loo Bakery objekt\n",
        "    mine = Bakery()\n",
        "\n",
        "    # Kasuta ThreadPoolExecutorit, et hallata mitme lõime töötlemist\n",
        "    with concurrent.futures.ThreadPoolExecutor(max_workers=5) as executor:\n",
        "        # Alusta küpsetaja lõime\n",
        "        executor.submit(mine.baker)\n",
        "        # Alusta mitme kliendi lõime, kes ostavad leiba\n",
        "        executor.submit(mine.customer, 1)\n",
        "        executor.submit(mine.customer, 2)\n",
        "        executor.submit(mine.customer, 3)\n",
        "        executor.submit(mine.customer, 4)\n"
      ],
      "metadata": {
        "colab": {
          "base_uri": "https://localhost:8080/"
        },
        "id": "RXVssOA05uL8",
        "outputId": "2ab5006b-89d1-4f50-b3f2-bbb2eccaad34"
      },
      "execution_count": 8,
      "outputs": [
        {
          "output_type": "stream",
          "name": "stderr",
          "text": [
            "2024-08-30 20:08:05,741: Finished baking\n",
            "INFO:bakery:Finished baking\n",
            "2024-08-30 20:08:05,742: Customer #1 got Bread #0\n",
            "INFO:bakery:Customer #1 got Bread #0\n",
            "2024-08-30 20:08:05,947: Finished baking\n",
            "INFO:bakery:Finished baking\n",
            "2024-08-30 20:08:05,947: Customer #2 got Bread #1\n",
            "INFO:bakery:Customer #2 got Bread #1\n",
            "2024-08-30 20:08:06,152: Finished baking\n",
            "INFO:bakery:Finished baking\n",
            "2024-08-30 20:08:06,153: Customer #3 got Bread #2\n",
            "INFO:bakery:Customer #3 got Bread #2\n",
            "2024-08-30 20:08:06,359: Finished baking\n",
            "INFO:bakery:Finished baking\n",
            "2024-08-30 20:08:06,360: Customer #4 got Bread #3\n",
            "INFO:bakery:Customer #4 got Bread #3\n",
            "2024-08-30 20:08:06,564: Finished baking\n",
            "INFO:bakery:Finished baking\n",
            "2024-08-30 20:08:06,767: Finished baking\n",
            "INFO:bakery:Finished baking\n",
            "2024-08-30 20:08:06,970: Finished baking\n",
            "INFO:bakery:Finished baking\n",
            "2024-08-30 20:08:07,101: Customer #4 got Bread #4\n",
            "INFO:bakery:Customer #4 got Bread #4\n",
            "2024-08-30 20:08:07,174: Finished baking\n",
            "INFO:bakery:Finished baking\n",
            "2024-08-30 20:08:07,377: Finished baking\n",
            "INFO:bakery:Finished baking\n",
            "2024-08-30 20:08:07,489: Customer #2 got Bread #5\n",
            "INFO:bakery:Customer #2 got Bread #5\n",
            "2024-08-30 20:08:07,541: Customer #1 got Bread #6\n",
            "INFO:bakery:Customer #1 got Bread #6\n",
            "2024-08-30 20:08:07,580: Finished baking\n",
            "INFO:bakery:Finished baking\n",
            "2024-08-30 20:08:07,720: Customer #3 got Bread #7\n",
            "INFO:bakery:Customer #3 got Bread #7\n",
            "2024-08-30 20:08:07,784: Finished baking\n",
            "INFO:bakery:Finished baking\n",
            "2024-08-30 20:08:07,989: Finished baking\n",
            "INFO:bakery:Finished baking\n",
            "2024-08-30 20:08:08,192: Baker has finished baking all bread\n",
            "INFO:bakery:Baker has finished baking all bread\n",
            "2024-08-30 20:08:08,357: Customer #3 got Bread #8\n",
            "INFO:bakery:Customer #3 got Bread #8\n",
            "2024-08-30 20:08:08,418: Customer #4 got Bread #9\n",
            "INFO:bakery:Customer #4 got Bread #9\n",
            "2024-08-30 20:08:08,984: Customer #1 got Bread #10\n",
            "INFO:bakery:Customer #1 got Bread #10\n",
            "2024-08-30 20:08:09,209: Customer #3 has finished purchasing\n",
            "INFO:bakery:Customer #3 has finished purchasing\n",
            "2024-08-30 20:08:09,490: Customer #2 got Bread #11\n",
            "INFO:bakery:Customer #2 got Bread #11\n",
            "2024-08-30 20:08:10,199: Customer #4 has finished purchasing\n",
            "INFO:bakery:Customer #4 has finished purchasing\n",
            "2024-08-30 20:08:10,298: Customer #1 has finished purchasing\n",
            "INFO:bakery:Customer #1 has finished purchasing\n",
            "2024-08-30 20:08:10,713: Customer #2 has finished purchasing\n",
            "INFO:bakery:Customer #2 has finished purchasing\n"
          ]
        }
      ]
    },
    {
      "cell_type": "markdown",
      "source": [
        " Näide: kuidas luua ja kasutada sockets põhiseid serveri ja kliendi rakendusi, kasutades multithreadingut. Server ja klient suhtlevad omavahel, edastades sõnumeid."
      ],
      "metadata": {
        "id": "bBhfJ783FuSz"
      }
    },
    {
      "cell_type": "code",
      "source": [
        "'''\n",
        "import socket\n",
        "import sys\n",
        "import threading\n",
        "import logging\n",
        "\n",
        "# Konfigureerime logimise\n",
        "l = logging.getLogger(\"sockets\")\n",
        "h = logging.StreamHandler()\n",
        "f = logging.Formatter(\"%(asctime)s: %(message)s\")\n",
        "h.setFormatter(f)\n",
        "l.addHandler(h)\n",
        "l.setLevel(logging.INFO)\n",
        "\n",
        "def server(listen_on_port):\n",
        "    \"\"\"\n",
        "    Funktsioon, mis käivitab lihtsa sokli serveri.\n",
        "    Kuulab määratud porti ja ootab kliendi ühendust.\n",
        "    \"\"\"\n",
        "    try:\n",
        "        # Loome sokli objekti, mis kasutab IPv4 ja TCP protokolli\n",
        "        sock = socket.socket(socket.AF_INET, socket.SOCK_STREAM)\n",
        "    except socket.error:\n",
        "        l.critical(\"Error creating socket server\")\n",
        "        sys.exit(1)\n",
        "\n",
        "    try:\n",
        "        # Seome sokli määratud porti ja alustame kuulamist\n",
        "        sock.bind((\"0.0.0.0\", listen_on_port))\n",
        "        sock.listen(1)\n",
        "    except socket.error:\n",
        "        l.critical(\"Error binding or listening on port\")\n",
        "        sys.exit(1)\n",
        "\n",
        "    l.info(\"Socket server is up\")\n",
        "\n",
        "    # Ootame kliendi ühendust\n",
        "    connection, _ = sock.accept()\n",
        "\n",
        "    # Käsitleme kliendi päringuid\n",
        "    for _ in range(3):\n",
        "        # Loeme andmed, maksimaalne pufferi suurus on 1024 bait\n",
        "        data = connection.recv(1024)\n",
        "        # Saadame tagasi sama andme\n",
        "        connection.sendall(f\"Server: {data.decode()}\".encode())\n",
        "\n",
        "    # Suletakse ühendus ja sokkel\n",
        "    connection.close()\n",
        "    l.info(\"Closing socket server\")\n",
        "    sock.close()\n",
        "\n",
        "def client(send_to_port):\n",
        "    \"\"\"\n",
        "    Funktsioon, mis käivitab lihtsa sokli kliendi.\n",
        "    Ühendub serveriga ja saadab sõnumeid.\n",
        "    \"\"\"\n",
        "    try:\n",
        "        # Loome sokli objekti, mis kasutab IPv4 ja TCP protokolli\n",
        "        sock = socket.socket(socket.AF_INET, socket.SOCK_STREAM)\n",
        "    except socket.error:\n",
        "        l.critical(\"Error creating socket client\")\n",
        "        sys.exit(1)\n",
        "\n",
        "    l.info(\"Client is active\")\n",
        "\n",
        "    try:\n",
        "        # Ühendame sokli serveriga\n",
        "        sock.connect((\"localhost\", send_to_port))\n",
        "    except socket.error:\n",
        "        l.critical(\"Error connecting to the server\")\n",
        "        sys.exit(1)\n",
        "\n",
        "    # Saadame ja loeme sõnumeid\n",
        "    for _ in range(3):\n",
        "        message = input(\"Message: \")\n",
        "        # Saadame sõnumi serverile\n",
        "        sock.sendall(message.encode())\n",
        "        # Loeme serveri vastuse\n",
        "        print(sock.recv(1024).decode())\n",
        "\n",
        "    # Suletakse sokkel\n",
        "    sock.close()\n",
        "    l.info(\"Closing client\")\n",
        "\n",
        "if __name__ == \"__main__\":\n",
        "    port = 8081\n",
        "\n",
        "    # Käivitame serveri eraldi lõimes\n",
        "    srv = threading.Thread(target=server, args=(port,))\n",
        "    srv.start()\n",
        "\n",
        "    # Käivitame kliendi\n",
        "    client(port)\n",
        "\n",
        "    # Ootame, kuni serveri lõim lõpeb\n",
        "    srv.join()\n",
        "'''"
      ],
      "metadata": {
        "colab": {
          "base_uri": "https://localhost:8080/",
          "height": 139
        },
        "id": "r2m5BmGmFdHf",
        "outputId": "7eed35d4-bb72-4e90-8c03-ca049998fabd"
      },
      "execution_count": 21,
      "outputs": [
        {
          "output_type": "execute_result",
          "data": {
            "text/plain": [
              "'\\nimport socket\\nimport sys\\nimport threading\\nimport logging\\n\\n# Konfigureerime logimise\\nl = logging.getLogger(\"sockets\")\\nh = logging.StreamHandler()\\nf = logging.Formatter(\"%(asctime)s: %(message)s\")\\nh.setFormatter(f)\\nl.addHandler(h)\\nl.setLevel(logging.INFO)\\n\\ndef server(listen_on_port):\\n    \"\"\"\\n    Funktsioon, mis käivitab lihtsa sokli serveri.\\n    Kuulab määratud porti ja ootab kliendi ühendust.\\n    \"\"\"\\n    try:\\n        # Loome sokli objekti, mis kasutab IPv4 ja TCP protokolli\\n        sock = socket.socket(socket.AF_INET, socket.SOCK_STREAM)\\n    except socket.error:\\n        l.critical(\"Error creating socket server\")\\n        sys.exit(1)\\n\\n    try:\\n        # Seome sokli määratud porti ja alustame kuulamist\\n        sock.bind((\"0.0.0.0\", listen_on_port))\\n        sock.listen(1)\\n    except socket.error:\\n        l.critical(\"Error binding or listening on port\")\\n        sys.exit(1)\\n    \\n    l.info(\"Socket server is up\")\\n\\n    # Ootame kliendi ühendust\\n    connection, _ = sock.accept()\\n    \\n    # Käsitleme kliendi päringuid\\n    for _ in range(3):\\n        # Loeme andmed, maksimaalne pufferi suurus on 1024 bait\\n        data = connection.recv(1024)\\n        # Saadame tagasi sama andme\\n        connection.sendall(f\"Server: {data.decode()}\".encode())\\n    \\n    # Suletakse ühendus ja sokkel\\n    connection.close()\\n    l.info(\"Closing socket server\")\\n    sock.close()\\n\\ndef client(send_to_port):\\n    \"\"\"\\n    Funktsioon, mis käivitab lihtsa sokli kliendi.\\n    Ühendub serveriga ja saadab sõnumeid.\\n    \"\"\"\\n    try:\\n        # Loome sokli objekti, mis kasutab IPv4 ja TCP protokolli\\n        sock = socket.socket(socket.AF_INET, socket.SOCK_STREAM)\\n    except socket.error:\\n        l.critical(\"Error creating socket client\")\\n        sys.exit(1)\\n    \\n    l.info(\"Client is active\")\\n    \\n    try:\\n        # Ühendame sokli serveriga\\n        sock.connect((\"localhost\", send_to_port))\\n    except socket.error:\\n        l.critical(\"Error connecting to the server\")\\n        sys.exit(1)\\n    \\n    # Saadame ja loeme sõnumeid\\n    for _ in range(3):\\n        message = input(\"Message: \")\\n        # Saadame sõnumi serverile\\n        sock.sendall(message.encode())\\n        # Loeme serveri vastuse\\n        print(sock.recv(1024).decode())\\n    \\n    # Suletakse sokkel\\n    sock.close()\\n    l.info(\"Closing client\")\\n\\nif __name__ == \"__main__\":\\n    port = 8081\\n    \\n    # Käivitame serveri eraldi lõimes\\n    srv = threading.Thread(target=server, args=(port,))\\n    srv.start()\\n    \\n    # Käivitame kliendi\\n    client(port)\\n    \\n    # Ootame, kuni serveri lõim lõpeb\\n    srv.join()\\n'"
            ],
            "application/vnd.google.colaboratory.intrinsic+json": {
              "type": "string"
            }
          },
          "metadata": {},
          "execution_count": 21
        }
      ]
    },
    {
      "cell_type": "markdown",
      "source": [
        "# Multithreading kokkuvõte"
      ],
      "metadata": {
        "id": "eNMum_tG8IOg"
      }
    },
    {
      "cell_type": "markdown",
      "source": [
        "**1. Kood: Tavaline Iteratiivne Lähenemine**\n",
        "\n",
        "**Eelised:**\n",
        "\n",
        "Lihtne ja arusaadav.\n",
        "Ei vaja keerulisi synchroniseerimis- või haldusmehhanisme.\n",
        "\n",
        "**Puudused:**\n",
        "\n",
        "Kui ühtegi auto töötlemise aeg on pikem, siis kõik autod töötlevad järjestikku, mis ei kasuta täisvõimet.\n",
        "\n",
        "**Sobivus:**\n",
        "\n",
        "Väikeste andmemahtude ja lihtsate rakenduste jaoks, kus täiendav paralleelsus pole vajalik."
      ],
      "metadata": {
        "id": "-FNjEpCn8XTJ"
      }
    },
    {
      "cell_type": "code",
      "source": [
        "import logging\n",
        "import time\n",
        "\n",
        "l = logging.getLogger(\"toll_booth\")\n",
        "h = logging.StreamHandler()\n",
        "f = logging.Formatter(\"%(asctime)s: %(message)s\")\n",
        "h.setFormatter(f)\n",
        "l.addHandler(h)\n",
        "l.setLevel(logging.INFO)\n",
        "\n",
        "def process_toll_booth_fee(car):\n",
        "    l.info(f\"Processing {car}'s fee...\")\n",
        "    time.sleep(2)  # processing takes 2 seconds\n",
        "    l.info(f\"Done processing {car}'s fee.\")\n",
        "\n",
        "if __name__ == \"__main__\":\n",
        "    cars = [\"Red\", \"Blue\", \"Green\"]\n",
        "    start_time = time.time()\n",
        "    for car in cars:\n",
        "        process_toll_booth_fee(car)\n",
        "    delta_time = time.time() - start_time\n",
        "    print(f\"It took {delta_time:.1f}s to process all the cars.\")\n"
      ],
      "metadata": {
        "colab": {
          "base_uri": "https://localhost:8080/"
        },
        "id": "OMQ1LWEO8PJ1",
        "outputId": "9af98798-ef73-4725-ba3a-1ae7b65fb7f9"
      },
      "execution_count": 11,
      "outputs": [
        {
          "output_type": "stream",
          "name": "stderr",
          "text": [
            "2024-08-30 20:20:15,665: Processing Red's fee...\n",
            "2024-08-30 20:20:15,665: Processing Red's fee...\n",
            "2024-08-30 20:20:15,665: Processing Red's fee...\n",
            "2024-08-30 20:20:15,665: Processing Red's fee...\n",
            "2024-08-30 20:20:15,665: Processing Red's fee...\n",
            "2024-08-30 20:20:15,665: Processing Red's fee...\n",
            "INFO:toll_booth:Processing Red's fee...\n",
            "2024-08-30 20:20:17,685: Done processing Red's fee.\n",
            "2024-08-30 20:20:17,685: Done processing Red's fee.\n",
            "2024-08-30 20:20:17,685: Done processing Red's fee.\n",
            "2024-08-30 20:20:17,685: Done processing Red's fee.\n",
            "2024-08-30 20:20:17,685: Done processing Red's fee.\n",
            "2024-08-30 20:20:17,685: Done processing Red's fee.\n",
            "INFO:toll_booth:Done processing Red's fee.\n",
            "2024-08-30 20:20:17,700: Processing Blue's fee...\n",
            "2024-08-30 20:20:17,700: Processing Blue's fee...\n",
            "2024-08-30 20:20:17,700: Processing Blue's fee...\n",
            "2024-08-30 20:20:17,700: Processing Blue's fee...\n",
            "2024-08-30 20:20:17,700: Processing Blue's fee...\n",
            "2024-08-30 20:20:17,700: Processing Blue's fee...\n",
            "INFO:toll_booth:Processing Blue's fee...\n",
            "2024-08-30 20:20:19,715: Done processing Blue's fee.\n",
            "2024-08-30 20:20:19,715: Done processing Blue's fee.\n",
            "2024-08-30 20:20:19,715: Done processing Blue's fee.\n",
            "2024-08-30 20:20:19,715: Done processing Blue's fee.\n",
            "2024-08-30 20:20:19,715: Done processing Blue's fee.\n",
            "2024-08-30 20:20:19,715: Done processing Blue's fee.\n",
            "INFO:toll_booth:Done processing Blue's fee.\n",
            "2024-08-30 20:20:19,727: Processing Green's fee...\n",
            "2024-08-30 20:20:19,727: Processing Green's fee...\n",
            "2024-08-30 20:20:19,727: Processing Green's fee...\n",
            "2024-08-30 20:20:19,727: Processing Green's fee...\n",
            "2024-08-30 20:20:19,727: Processing Green's fee...\n",
            "2024-08-30 20:20:19,727: Processing Green's fee...\n",
            "INFO:toll_booth:Processing Green's fee...\n",
            "2024-08-30 20:20:21,743: Done processing Green's fee.\n",
            "2024-08-30 20:20:21,743: Done processing Green's fee.\n",
            "2024-08-30 20:20:21,743: Done processing Green's fee.\n",
            "2024-08-30 20:20:21,743: Done processing Green's fee.\n",
            "2024-08-30 20:20:21,743: Done processing Green's fee.\n",
            "2024-08-30 20:20:21,743: Done processing Green's fee.\n",
            "INFO:toll_booth:Done processing Green's fee.\n"
          ]
        },
        {
          "output_type": "stream",
          "name": "stdout",
          "text": [
            "It took 6.1s to process all the cars.\n"
          ]
        }
      ]
    },
    {
      "cell_type": "markdown",
      "source": [
        "**2. Kood: Threading Näide**\n",
        "\n",
        "**Eelised:**\n",
        "\n",
        "Paralleelne töötlemine: igal autol on oma lõim, mis võib paralleelselt töötada.\n",
        "Kiirus: kui operatsioon on I/O-intensiivne, nagu sleep, võib see kiirus tõusta, kuna kõik lõimud võivad töötada samal ajal.\n",
        "\n",
        "**Puudused:**\n",
        "\n",
        "GIL (Global Interpreter Lock) Pythonis: võib piirata tõelist paralleelsust, kui tegemist on CPU-intensiivsete ülesannetega.\n",
        "Tõrgete haldamine: vajadus lõimede jälgimise ja synchroniseerimise järele, mis võib koodi keerulisemaks muuta.\n",
        "\n",
        "**Sobivus:**\n",
        "\n",
        "Kasulik, kui on vaja paralleelselt töödelda mitut I/O-operatsiooni, näiteks lugedes andmeid failidest või võrgupäringutest."
      ],
      "metadata": {
        "id": "_noO5clp8kqR"
      }
    },
    {
      "cell_type": "code",
      "source": [
        "import logging\n",
        "import time\n",
        "import concurrent.futures\n",
        "\n",
        "l = logging.getLogger(\"toll_booth\")\n",
        "h = logging.StreamHandler()\n",
        "f = logging.Formatter(\"%(asctime)s: %(message)s\")\n",
        "h.setFormatter(f)\n",
        "l.addHandler(h)\n",
        "l.setLevel(logging.INFO)\n",
        "\n",
        "def process_toll_booth_fee(car):\n",
        "    l.info(f\"Processing {car}'s fee...\")\n",
        "    time.sleep(2)  # processing takes 2 seconds\n",
        "    l.info(f\"Done processing {car}'s fee.\")\n",
        "\n",
        "if __name__ == \"__main__\":\n",
        "    cars = [\"Red\", \"Blue\", \"Green\"]\n",
        "    start_time = time.time()\n",
        "    # Note that we allow max 2 workers, so Green will be processed after one\n",
        "    # of the previous cars finishes processing its payment.\n",
        "    with concurrent.futures.ThreadPoolExecutor(max_workers=2) as executor:\n",
        "        executor.map(process_toll_booth_fee, cars)\n",
        "    delta_time = time.time() - start_time\n",
        "    print(f\"It took {delta_time:.1f}s to process all the cars.\")\n"
      ],
      "metadata": {
        "colab": {
          "base_uri": "https://localhost:8080/"
        },
        "id": "Tj-SidLk8waD",
        "outputId": "b293f9c6-671a-4b16-898d-2e3b40019a01"
      },
      "execution_count": 12,
      "outputs": [
        {
          "output_type": "stream",
          "name": "stderr",
          "text": [
            "2024-08-30 20:21:28,936: Processing Red's fee...\n",
            "2024-08-30 20:21:28,936: Processing Red's fee...\n",
            "2024-08-30 20:21:28,938: Processing Blue's fee...\n",
            "2024-08-30 20:21:28,936: Processing Red's fee...\n",
            "2024-08-30 20:21:28,938: Processing Blue's fee...\n",
            "2024-08-30 20:21:28,936: Processing Red's fee...\n",
            "2024-08-30 20:21:28,938: Processing Blue's fee...\n",
            "2024-08-30 20:21:28,936: Processing Red's fee...\n",
            "2024-08-30 20:21:28,938: Processing Blue's fee...\n",
            "2024-08-30 20:21:28,936: Processing Red's fee...\n",
            "2024-08-30 20:21:28,938: Processing Blue's fee...\n",
            "2024-08-30 20:21:28,936: Processing Red's fee...\n",
            "2024-08-30 20:21:28,938: Processing Blue's fee...\n",
            "INFO:toll_booth:Processing Red's fee...\n",
            "2024-08-30 20:21:28,938: Processing Blue's fee...\n",
            "INFO:toll_booth:Processing Blue's fee...\n",
            "2024-08-30 20:21:30,967: Done processing Red's fee.\n",
            "2024-08-30 20:21:30,967: Done processing Red's fee.\n",
            "2024-08-30 20:21:30,969: Done processing Blue's fee.\n",
            "2024-08-30 20:21:30,967: Done processing Red's fee.\n",
            "2024-08-30 20:21:30,969: Done processing Blue's fee.\n",
            "2024-08-30 20:21:30,967: Done processing Red's fee.\n",
            "2024-08-30 20:21:30,969: Done processing Blue's fee.\n",
            "2024-08-30 20:21:30,967: Done processing Red's fee.\n",
            "2024-08-30 20:21:30,969: Done processing Blue's fee.\n",
            "2024-08-30 20:21:30,967: Done processing Red's fee.\n",
            "2024-08-30 20:21:30,969: Done processing Blue's fee.\n",
            "2024-08-30 20:21:30,967: Done processing Red's fee.\n",
            "2024-08-30 20:21:30,969: Done processing Blue's fee.\n",
            "INFO:toll_booth:Done processing Red's fee.\n",
            "2024-08-30 20:21:30,969: Done processing Blue's fee.\n",
            "2024-08-30 20:21:30,989: Processing Green's fee...\n",
            "INFO:toll_booth:Done processing Blue's fee.\n",
            "2024-08-30 20:21:30,989: Processing Green's fee...\n",
            "2024-08-30 20:21:30,989: Processing Green's fee...\n",
            "2024-08-30 20:21:30,989: Processing Green's fee...\n",
            "2024-08-30 20:21:30,989: Processing Green's fee...\n",
            "2024-08-30 20:21:30,989: Processing Green's fee...\n",
            "2024-08-30 20:21:30,989: Processing Green's fee...\n",
            "INFO:toll_booth:Processing Green's fee...\n",
            "2024-08-30 20:21:33,007: Done processing Green's fee.\n",
            "2024-08-30 20:21:33,007: Done processing Green's fee.\n",
            "2024-08-30 20:21:33,007: Done processing Green's fee.\n",
            "2024-08-30 20:21:33,007: Done processing Green's fee.\n",
            "2024-08-30 20:21:33,007: Done processing Green's fee.\n",
            "2024-08-30 20:21:33,007: Done processing Green's fee.\n",
            "2024-08-30 20:21:33,007: Done processing Green's fee.\n",
            "INFO:toll_booth:Done processing Green's fee.\n"
          ]
        },
        {
          "output_type": "stream",
          "name": "stdout",
          "text": [
            "It took 4.1s to process all the cars.\n"
          ]
        }
      ]
    },
    {
      "cell_type": "markdown",
      "source": [
        "**3. Kood: ThreadPoolExecutor Näide**\n",
        "\n",
        "**Eelised:**\n",
        "\n",
        "Lihtsustab lõimede haldamist ja suurendab koodi loetavust.\n",
        "Automaatne lõimede haldamine ja uuesti kasutamine.\n",
        "Sobiv suurte ülesannete jagamiseks lõimede vahel.\n",
        "\n",
        "**Puudused:**\n",
        "\n",
        "Sarnaselt eelnevale näitele, võib GIL piirata CPU-intensiivsete ülesannete tõelist paralleelsust.\n",
        "\n",
        "**Sobivus:**\n",
        "\n",
        "Kui on vaja lihtsat ja tõhusat viisi mitme ülesande paralleelseks täitmiseks, kus lõimede arv on piiratud."
      ],
      "metadata": {
        "id": "46-cTqtB82PY"
      }
    },
    {
      "cell_type": "code",
      "source": [
        "import logging\n",
        "import time\n",
        "import concurrent.futures\n",
        "\n",
        "l = logging.getLogger(\"toll_booth\")\n",
        "h = logging.StreamHandler()\n",
        "f = logging.Formatter(\"%(asctime)s: %(message)s\")\n",
        "h.setFormatter(f)\n",
        "l.addHandler(h)\n",
        "l.setLevel(logging.INFO)\n",
        "\n",
        "def process_toll_booth_fee(car):\n",
        "    l.info(f\"Processing {car}'s fee...\")\n",
        "    time.sleep(2)  # processing takes 2 seconds\n",
        "    l.info(f\"Done processing {car}'s fee.\")\n",
        "\n",
        "if __name__ == \"__main__\":\n",
        "    cars = [\"Red\", \"Blue\", \"Green\"]\n",
        "    start_time = time.time()\n",
        "    # Note that we allow max 2 workers, so Green will be processed after one\n",
        "    # of the previous cars finishes processing its payment.\n",
        "    with concurrent.futures.ThreadPoolExecutor(max_workers=2) as executor:\n",
        "        executor.map(process_toll_booth_fee, cars)\n",
        "    delta_time = time.time() - start_time\n",
        "    print(f\"It took {delta_time:.1f}s to process all the cars.\")\n"
      ],
      "metadata": {
        "colab": {
          "base_uri": "https://localhost:8080/"
        },
        "id": "GpmCCkNn8-2J",
        "outputId": "141ac2ab-34ce-46e0-9ba1-d9d4ac48ac36"
      },
      "execution_count": 13,
      "outputs": [
        {
          "output_type": "stream",
          "name": "stderr",
          "text": [
            "2024-08-30 20:22:56,152: Processing Red's fee...\n",
            "2024-08-30 20:22:56,152: Processing Red's fee...\n",
            "2024-08-30 20:22:56,152: Processing Red's fee...\n",
            "2024-08-30 20:22:56,152: Processing Red's fee...\n",
            "2024-08-30 20:22:56,152: Processing Red's fee...\n",
            "2024-08-30 20:22:56,152: Processing Red's fee...\n",
            "2024-08-30 20:22:56,164: Processing Blue's fee...\n",
            "2024-08-30 20:22:56,152: Processing Red's fee...\n",
            "2024-08-30 20:22:56,152: Processing Red's fee...\n",
            "2024-08-30 20:22:56,164: Processing Blue's fee...\n",
            "INFO:toll_booth:Processing Red's fee...\n",
            "2024-08-30 20:22:56,164: Processing Blue's fee...\n",
            "2024-08-30 20:22:56,164: Processing Blue's fee...\n",
            "2024-08-30 20:22:56,164: Processing Blue's fee...\n",
            "2024-08-30 20:22:56,164: Processing Blue's fee...\n",
            "2024-08-30 20:22:56,164: Processing Blue's fee...\n",
            "2024-08-30 20:22:56,164: Processing Blue's fee...\n",
            "INFO:toll_booth:Processing Blue's fee...\n",
            "2024-08-30 20:22:58,174: Done processing Red's fee.\n",
            "2024-08-30 20:22:58,174: Done processing Red's fee.\n",
            "2024-08-30 20:22:58,174: Done processing Red's fee.\n",
            "2024-08-30 20:22:58,174: Done processing Red's fee.\n",
            "2024-08-30 20:22:58,174: Done processing Red's fee.\n",
            "2024-08-30 20:22:58,174: Done processing Red's fee.\n",
            "2024-08-30 20:22:58,181: Done processing Blue's fee.\n",
            "2024-08-30 20:22:58,181: Done processing Blue's fee.\n",
            "2024-08-30 20:22:58,181: Done processing Blue's fee.\n",
            "2024-08-30 20:22:58,174: Done processing Red's fee.\n",
            "2024-08-30 20:22:58,181: Done processing Blue's fee.\n",
            "2024-08-30 20:22:58,174: Done processing Red's fee.\n",
            "2024-08-30 20:22:58,181: Done processing Blue's fee.\n",
            "INFO:toll_booth:Done processing Red's fee.\n",
            "2024-08-30 20:22:58,181: Done processing Blue's fee.\n",
            "2024-08-30 20:22:58,191: Processing Green's fee...\n",
            "2024-08-30 20:22:58,181: Done processing Blue's fee.\n",
            "2024-08-30 20:22:58,191: Processing Green's fee...\n",
            "2024-08-30 20:22:58,181: Done processing Blue's fee.\n",
            "2024-08-30 20:22:58,191: Processing Green's fee...\n",
            "INFO:toll_booth:Done processing Blue's fee.\n",
            "2024-08-30 20:22:58,191: Processing Green's fee...\n",
            "2024-08-30 20:22:58,191: Processing Green's fee...\n",
            "2024-08-30 20:22:58,191: Processing Green's fee...\n",
            "2024-08-30 20:22:58,191: Processing Green's fee...\n",
            "2024-08-30 20:22:58,191: Processing Green's fee...\n",
            "INFO:toll_booth:Processing Green's fee...\n",
            "2024-08-30 20:23:00,207: Done processing Green's fee.\n",
            "2024-08-30 20:23:00,207: Done processing Green's fee.\n",
            "2024-08-30 20:23:00,207: Done processing Green's fee.\n",
            "2024-08-30 20:23:00,207: Done processing Green's fee.\n",
            "2024-08-30 20:23:00,207: Done processing Green's fee.\n",
            "2024-08-30 20:23:00,207: Done processing Green's fee.\n",
            "2024-08-30 20:23:00,207: Done processing Green's fee.\n",
            "2024-08-30 20:23:00,207: Done processing Green's fee.\n",
            "INFO:toll_booth:Done processing Green's fee.\n"
          ]
        },
        {
          "output_type": "stream",
          "name": "stdout",
          "text": [
            "It took 4.1s to process all the cars.\n"
          ]
        }
      ]
    },
    {
      "cell_type": "markdown",
      "source": [
        "**4. Kood: Mutex Näide**\n",
        "\n",
        "**Eelised:**\n",
        "\n",
        "Kasutab lukke (mutex) kriitiliste sektsioonide kaitsmiseks, mis aitab vältida andmete rikkumist, kui mitu lõime proovivad korraga andmeid muuta.\n",
        "Paralleelsed operatsioonid, kuid siiski täpselt ja turvaliselt.\n",
        "\n",
        "**Puudused:**\n",
        "\n",
        "Lukud võivad põhjustada lukustamisprobleeme või täitmisaja suurenemist, kui liiga palju lõime proovib sama ressurssi kasutada.\n",
        "\n",
        "**Sobivus:**\n",
        "\n",
        "Kui on vaja, et lõimed pääseksid jagatud andmetele turvaliselt ja vältida andmete rikkumist."
      ],
      "metadata": {
        "id": "i7PEcsRv9Lwl"
      }
    },
    {
      "cell_type": "code",
      "source": [
        "import logging\n",
        "import time\n",
        "import concurrent.futures\n",
        "import threading\n",
        "\n",
        "l = logging.getLogger(\"toll_booth\")\n",
        "h = logging.StreamHandler()\n",
        "f = logging.Formatter(\"%(asctime)s: %(message)s\")\n",
        "h.setFormatter(f)\n",
        "l.addHandler(h)\n",
        "l.setLevel(logging.INFO)\n",
        "\n",
        "class TollBooth:\n",
        "    def __init__(self):\n",
        "        self.register = 0.0\n",
        "        self.__lock = threading.Lock()\n",
        "\n",
        "    def process_fee(self, car, fee):\n",
        "        l.info(f\"Processing {car}'s fee. Current total: {self.register}\")\n",
        "        with self.__lock:\n",
        "            new_total = self.register + fee  # Toll booth calculates a new total\n",
        "            time.sleep(0.1)  # processing takes 0.1 seconds\n",
        "            self.register = new_total  # New total is saved after 0.1 seconds\n",
        "        # notice operations outside the critical section are still concurrent\n",
        "        time.sleep(1)\n",
        "        l.info(f\"Done processing {car}'s fee. New total: {self.register}\")\n",
        "\n",
        "if __name__ == \"__main__\":\n",
        "    cars = [\"Red\", \"Blue\", \"Green\"]\n",
        "    booth = TollBooth()\n",
        "    start_time = time.time()\n",
        "    with concurrent.futures.ThreadPoolExecutor(max_workers=3) as executor:\n",
        "        for c in cars:\n",
        "            executor.submit(booth.process_fee, c, 10.0)\n",
        "    delta_time = time.time() - start_time\n",
        "    print(f\"It took {delta_time:.1f}s to process all the cars.\")\n",
        "    print(f\"Total: {booth.register}\")\n"
      ],
      "metadata": {
        "colab": {
          "base_uri": "https://localhost:8080/"
        },
        "id": "vrMFvUOa9T-O",
        "outputId": "21bb807c-d3ee-4c60-a98f-ac4237248e1f"
      },
      "execution_count": 14,
      "outputs": [
        {
          "output_type": "stream",
          "name": "stderr",
          "text": [
            "2024-08-30 20:24:16,768: Processing Red's fee. Current total: 0.0\n",
            "2024-08-30 20:24:16,768: Processing Red's fee. Current total: 0.0\n",
            "2024-08-30 20:24:16,769: Processing Blue's fee. Current total: 0.0\n",
            "2024-08-30 20:24:16,768: Processing Red's fee. Current total: 0.0\n",
            "2024-08-30 20:24:16,769: Processing Blue's fee. Current total: 0.0\n",
            "2024-08-30 20:24:16,768: Processing Red's fee. Current total: 0.0\n",
            "2024-08-30 20:24:16,773: Processing Green's fee. Current total: 0.0\n",
            "2024-08-30 20:24:16,769: Processing Blue's fee. Current total: 0.0\n",
            "2024-08-30 20:24:16,773: Processing Green's fee. Current total: 0.0\n",
            "2024-08-30 20:24:16,768: Processing Red's fee. Current total: 0.0\n",
            "2024-08-30 20:24:16,768: Processing Red's fee. Current total: 0.0\n",
            "2024-08-30 20:24:16,769: Processing Blue's fee. Current total: 0.0\n",
            "2024-08-30 20:24:16,773: Processing Green's fee. Current total: 0.0\n",
            "2024-08-30 20:24:16,768: Processing Red's fee. Current total: 0.0\n",
            "2024-08-30 20:24:16,769: Processing Blue's fee. Current total: 0.0\n",
            "2024-08-30 20:24:16,773: Processing Green's fee. Current total: 0.0\n",
            "2024-08-30 20:24:16,768: Processing Red's fee. Current total: 0.0\n",
            "2024-08-30 20:24:16,769: Processing Blue's fee. Current total: 0.0\n",
            "2024-08-30 20:24:16,773: Processing Green's fee. Current total: 0.0\n",
            "2024-08-30 20:24:16,768: Processing Red's fee. Current total: 0.0\n",
            "2024-08-30 20:24:16,769: Processing Blue's fee. Current total: 0.0\n",
            "2024-08-30 20:24:16,773: Processing Green's fee. Current total: 0.0\n",
            "INFO:toll_booth:Processing Red's fee. Current total: 0.0\n",
            "2024-08-30 20:24:16,769: Processing Blue's fee. Current total: 0.0\n",
            "2024-08-30 20:24:16,773: Processing Green's fee. Current total: 0.0\n",
            "2024-08-30 20:24:16,769: Processing Blue's fee. Current total: 0.0\n",
            "2024-08-30 20:24:16,773: Processing Green's fee. Current total: 0.0\n",
            "INFO:toll_booth:Processing Blue's fee. Current total: 0.0\n",
            "2024-08-30 20:24:16,773: Processing Green's fee. Current total: 0.0\n",
            "INFO:toll_booth:Processing Green's fee. Current total: 0.0\n",
            "2024-08-30 20:24:17,896: Done processing Red's fee. New total: 30.0\n",
            "2024-08-30 20:24:17,896: Done processing Red's fee. New total: 30.0\n",
            "2024-08-30 20:24:17,896: Done processing Red's fee. New total: 30.0\n",
            "2024-08-30 20:24:17,896: Done processing Red's fee. New total: 30.0\n",
            "2024-08-30 20:24:17,896: Done processing Red's fee. New total: 30.0\n",
            "2024-08-30 20:24:17,896: Done processing Red's fee. New total: 30.0\n",
            "2024-08-30 20:24:17,896: Done processing Red's fee. New total: 30.0\n",
            "2024-08-30 20:24:17,896: Done processing Red's fee. New total: 30.0\n",
            "2024-08-30 20:24:17,896: Done processing Red's fee. New total: 30.0\n",
            "INFO:toll_booth:Done processing Red's fee. New total: 30.0\n",
            "2024-08-30 20:24:17,997: Done processing Blue's fee. New total: 30.0\n",
            "2024-08-30 20:24:17,997: Done processing Blue's fee. New total: 30.0\n",
            "2024-08-30 20:24:17,997: Done processing Blue's fee. New total: 30.0\n",
            "2024-08-30 20:24:17,997: Done processing Blue's fee. New total: 30.0\n",
            "2024-08-30 20:24:17,997: Done processing Blue's fee. New total: 30.0\n",
            "2024-08-30 20:24:17,997: Done processing Blue's fee. New total: 30.0\n",
            "2024-08-30 20:24:17,997: Done processing Blue's fee. New total: 30.0\n",
            "2024-08-30 20:24:17,997: Done processing Blue's fee. New total: 30.0\n",
            "2024-08-30 20:24:17,997: Done processing Blue's fee. New total: 30.0\n",
            "INFO:toll_booth:Done processing Blue's fee. New total: 30.0\n",
            "2024-08-30 20:24:18,097: Done processing Green's fee. New total: 30.0\n",
            "2024-08-30 20:24:18,097: Done processing Green's fee. New total: 30.0\n",
            "2024-08-30 20:24:18,097: Done processing Green's fee. New total: 30.0\n",
            "2024-08-30 20:24:18,097: Done processing Green's fee. New total: 30.0\n",
            "2024-08-30 20:24:18,097: Done processing Green's fee. New total: 30.0\n",
            "2024-08-30 20:24:18,097: Done processing Green's fee. New total: 30.0\n",
            "2024-08-30 20:24:18,097: Done processing Green's fee. New total: 30.0\n",
            "2024-08-30 20:24:18,097: Done processing Green's fee. New total: 30.0\n",
            "2024-08-30 20:24:18,097: Done processing Green's fee. New total: 30.0\n",
            "INFO:toll_booth:Done processing Green's fee. New total: 30.0\n"
          ]
        },
        {
          "output_type": "stream",
          "name": "stdout",
          "text": [
            "It took 1.3s to process all the cars.\n",
            "Total: 30.0\n"
          ]
        }
      ]
    },
    {
      "cell_type": "markdown",
      "source": [
        "**5. Kood: Queue Näide**\n",
        "\n",
        "**Eelised:**\n",
        "\n",
        "Kasutab queue'i andmete jagamiseks turvaliselt lõimede vahel.\n",
        "Aitab korraldada tööd, et tarbijad saavad andmeid tootmiselt, ilma et nad peaksid muretsema andmete konkurentsi üle.\n",
        "\n",
        "**Puudused:**\n",
        "\n",
        "Kood muutub keerulisemaks, kui on vaja rohkem keerulisi koordineerimis- ja sünkroniseerimisfunktsioone.\n",
        "\n",
        "**Sobivus:**\n",
        "\n",
        "Kasulik rakendustes, kus on vaja organiseeritud andmete jagamist ja tarbijate/ tootjate mudelit.\n",
        "\n",
        "**Ülevaade**\n",
        "\n",
        "Tavaline Iteratiivne Lähenemine: Lihtne, kuid ei kasuta paralleelsust, mistõttu ei sobi hästi, kui on vaja töötada samaaegselt mitme ülesande või päringuga.\n",
        "\n",
        "Threading: Pakub lihtsat viisi paralleelsuse rakendamiseks, kuid GIL piirab tõelist paralleelsust CPU-intensiivsete ülesannete puhul.\n",
        "\n",
        "ThreadPoolExecutor: Lihtsustab lõimede haldamist ja pakub head tasakaalu efektiivsuse ja lihtsuse vahel.\n",
        "Mutex: Tagab andmete turvalisuse, kui on vajalik juurdepääs jagatud ressurssidele.\n",
        "\n",
        "Queue: Korraldab andmete vahetust lõimede vahel, sobib hästi tootjate-tarbijate mudeleid rakendavates rakendustes."
      ],
      "metadata": {
        "id": "m5hXEcdk9dzt"
      }
    },
    {
      "cell_type": "code",
      "source": [
        "import logging\n",
        "import time\n",
        "import concurrent.futures\n",
        "import queue\n",
        "import random\n",
        "\n",
        "l = logging.getLogger(\"bakery\")\n",
        "h = logging.StreamHandler()\n",
        "f = logging.Formatter(\"%(asctime)s: %(message)s\")\n",
        "h.setFormatter(f)\n",
        "l.addHandler(h)\n",
        "l.setLevel(logging.INFO)\n",
        "\n",
        "class Bakery:\n",
        "    def __init__(self):\n",
        "        self.storage = queue.Queue()\n",
        "\n",
        "    def baker(self):\n",
        "        for i in range(12):\n",
        "            self.storage.put(f\"Bread #{i}\")\n",
        "            l.info(\"Finished baking\")\n",
        "            time.sleep(0.2)\n",
        "\n",
        "    def customer(self, i):\n",
        "        for _ in range(3):\n",
        "            bread = self.storage.get()\n",
        "            l.info(f\"Customer #{i} got {bread}\")\n",
        "            time.sleep(random.uniform(0.5, 2.0))  # notice the random frequency\n",
        "\n",
        "if __name__ == \"__main__\":\n",
        "    mine = Bakery()\n",
        "    with concurrent.futures.ThreadPoolExecutor(max_workers=5) as executor:\n",
        "        executor.submit(mine.baker)\n",
        "        executor.submit(mine.customer, 1)\n",
        "        executor.submit(mine.customer, 2)\n",
        "        executor.submit(mine.customer, 3)\n",
        "        executor.submit(mine.customer, 4)\n"
      ],
      "metadata": {
        "colab": {
          "base_uri": "https://localhost:8080/"
        },
        "id": "VhCrYNDM9x2M",
        "outputId": "80883430-b574-44cf-9ea6-0ca67a987ebf"
      },
      "execution_count": 15,
      "outputs": [
        {
          "output_type": "stream",
          "name": "stderr",
          "text": [
            "2024-08-30 20:26:13,404: Finished baking\n",
            "2024-08-30 20:26:13,404: Finished baking\n",
            "INFO:bakery:Finished baking\n",
            "2024-08-30 20:26:13,405: Customer #1 got Bread #0\n",
            "2024-08-30 20:26:13,405: Customer #1 got Bread #0\n",
            "INFO:bakery:Customer #1 got Bread #0\n",
            "2024-08-30 20:26:13,614: Finished baking\n",
            "2024-08-30 20:26:13,614: Finished baking\n",
            "2024-08-30 20:26:13,614: Customer #2 got Bread #1\n",
            "INFO:bakery:Finished baking\n",
            "2024-08-30 20:26:13,614: Customer #2 got Bread #1\n",
            "INFO:bakery:Customer #2 got Bread #1\n",
            "2024-08-30 20:26:13,820: Finished baking\n",
            "2024-08-30 20:26:13,820: Finished baking\n",
            "2024-08-30 20:26:13,820: Customer #3 got Bread #2\n",
            "INFO:bakery:Finished baking\n",
            "2024-08-30 20:26:13,820: Customer #3 got Bread #2\n",
            "INFO:bakery:Customer #3 got Bread #2\n",
            "2024-08-30 20:26:14,026: Finished baking\n",
            "2024-08-30 20:26:14,026: Finished baking\n",
            "2024-08-30 20:26:14,027: Customer #4 got Bread #3\n",
            "INFO:bakery:Finished baking\n",
            "2024-08-30 20:26:14,027: Customer #4 got Bread #3\n",
            "INFO:bakery:Customer #4 got Bread #3\n",
            "2024-08-30 20:26:14,232: Finished baking\n",
            "2024-08-30 20:26:14,232: Finished baking\n",
            "INFO:bakery:Finished baking\n",
            "2024-08-30 20:26:14,437: Finished baking\n",
            "2024-08-30 20:26:14,437: Finished baking\n",
            "INFO:bakery:Finished baking\n",
            "2024-08-30 20:26:14,642: Finished baking\n",
            "2024-08-30 20:26:14,642: Finished baking\n",
            "INFO:bakery:Finished baking\n",
            "2024-08-30 20:26:14,739: Customer #3 got Bread #4\n",
            "2024-08-30 20:26:14,739: Customer #3 got Bread #4\n",
            "INFO:bakery:Customer #3 got Bread #4\n",
            "2024-08-30 20:26:14,847: Finished baking\n",
            "2024-08-30 20:26:14,847: Finished baking\n",
            "INFO:bakery:Finished baking\n",
            "2024-08-30 20:26:14,950: Customer #2 got Bread #5\n",
            "2024-08-30 20:26:14,950: Customer #2 got Bread #5\n",
            "INFO:bakery:Customer #2 got Bread #5\n",
            "2024-08-30 20:26:15,053: Finished baking\n",
            "2024-08-30 20:26:15,053: Finished baking\n",
            "INFO:bakery:Finished baking\n",
            "2024-08-30 20:26:15,224: Customer #1 got Bread #6\n",
            "2024-08-30 20:26:15,224: Customer #1 got Bread #6\n",
            "INFO:bakery:Customer #1 got Bread #6\n",
            "2024-08-30 20:26:15,257: Finished baking\n",
            "2024-08-30 20:26:15,257: Finished baking\n",
            "INFO:bakery:Finished baking\n",
            "2024-08-30 20:26:15,436: Customer #3 got Bread #7\n",
            "2024-08-30 20:26:15,436: Customer #3 got Bread #7\n",
            "INFO:bakery:Customer #3 got Bread #7\n",
            "2024-08-30 20:26:15,462: Finished baking\n",
            "2024-08-30 20:26:15,462: Finished baking\n",
            "INFO:bakery:Finished baking\n",
            "2024-08-30 20:26:15,668: Finished baking\n",
            "2024-08-30 20:26:15,668: Finished baking\n",
            "INFO:bakery:Finished baking\n",
            "2024-08-30 20:26:15,736: Customer #1 got Bread #8\n",
            "2024-08-30 20:26:15,736: Customer #1 got Bread #8\n",
            "INFO:bakery:Customer #1 got Bread #8\n",
            "2024-08-30 20:26:15,922: Customer #4 got Bread #9\n",
            "2024-08-30 20:26:15,922: Customer #4 got Bread #9\n",
            "INFO:bakery:Customer #4 got Bread #9\n",
            "2024-08-30 20:26:16,133: Customer #2 got Bread #10\n",
            "2024-08-30 20:26:16,133: Customer #2 got Bread #10\n",
            "INFO:bakery:Customer #2 got Bread #10\n",
            "2024-08-30 20:26:16,596: Customer #4 got Bread #11\n",
            "2024-08-30 20:26:16,596: Customer #4 got Bread #11\n",
            "INFO:bakery:Customer #4 got Bread #11\n"
          ]
        }
      ]
    },
    {
      "cell_type": "markdown",
      "source": [
        "# **Multiprocessing**"
      ],
      "metadata": {
        "id": "kpTYv9xF_dZe"
      }
    },
    {
      "cell_type": "markdown",
      "source": [
        "1. Just like in case of Threads, you can spawn multiple processes by creating Process class instances\n",
        "2. Start them with .start()\n",
        "3. And wait for them to be done using .join()"
      ],
      "metadata": {
        "id": "oHU4ICLC_fom"
      }
    },
    {
      "cell_type": "markdown",
      "source": [
        "# Multiprocessing Näited"
      ],
      "metadata": {
        "id": "CEaDGPf0_zuq"
      }
    },
    {
      "cell_type": "markdown",
      "source": [
        "1. Kood demonstreerib, kuidas luua ja hallata mitut protsessi, kasutades multiprocessing teeki."
      ],
      "metadata": {
        "id": "9rqvuCSGA4bB"
      }
    },
    {
      "cell_type": "code",
      "source": [
        "import logging\n",
        "import time\n",
        "import multiprocessing\n",
        "\n",
        "# Loome loggeri, et jälgida, mis toimub programmiga\n",
        "l = logging.getLogger(\"multiprocessing\")\n",
        "h = logging.StreamHandler()\n",
        "f = logging.Formatter(\"%(asctime)s: %(message)s\")  # Logi formaat, mis sisaldab aega ja sõnumit\n",
        "h.setFormatter(f)\n",
        "l.addHandler(h)\n",
        "l.setLevel(logging.INFO)  # Logimise taseme seadmine INFO, et näidata informatiivseid sõnumeid\n",
        "\n",
        "# Funktsioon, mis tervitab ja magab 1 sekundi\n",
        "def say_hello(i):\n",
        "    l.info(f\"Hello from #{i}\")  # Logime, et protsess ütleb \"Hello\"\n",
        "    time.sleep(1)  # Simuleerime töötlusaega, magades 1 sekundi\n",
        "\n",
        "if __name__ == \"__main__\":\n",
        "    # Loome 5 protsessi, kus igaühes kutsutakse `say_hello` funktsiooni, mille argument on protsessi number\n",
        "    processes = [\n",
        "        multiprocessing.Process(target=say_hello, args=(i + 1,)) for i in range(5)\n",
        "    ]\n",
        "\n",
        "    start_time = time.time()  # Alustame ajastamist\n",
        "\n",
        "    # Käivitame kõik protsessid paralleelselt\n",
        "    for p in processes:\n",
        "        p.start()\n",
        "\n",
        "    # Ootame, kuni kõik protsessid lõpetavad\n",
        "    for p in processes:\n",
        "        p.join()\n",
        "\n",
        "    delta_time = time.time() - start_time  # Arvutame, kui kaua kestis kõigi protsesside käivitamine\n",
        "    print(f\"It took {delta_time:.1f}s to say hello.\")  # Prindime, kui kaua kestis protsesside täitmine\n"
      ],
      "metadata": {
        "colab": {
          "base_uri": "https://localhost:8080/"
        },
        "id": "KuFmuvRuAg5N",
        "outputId": "f8030a9f-84a0-496e-8898-d424ff7a1392"
      },
      "execution_count": 16,
      "outputs": [
        {
          "output_type": "stream",
          "name": "stderr",
          "text": [
            "2024-08-30 20:37:44,656: Hello from #1\n",
            "2024-08-30 20:37:44,671: Hello from #2\n",
            "INFO:multiprocessing:Hello from #1\n",
            "INFO:multiprocessing:Hello from #3\n",
            "INFO:multiprocessing:Hello from #2\n",
            "2024-08-30 20:37:44,697: Hello from #3\n",
            "2024-08-30 20:37:44,727: Hello from #4\n",
            "INFO:multiprocessing:Hello from #4\n",
            "2024-08-30 20:37:44,743: Hello from #5\n",
            "INFO:multiprocessing:Hello from #5\n"
          ]
        },
        {
          "output_type": "stream",
          "name": "stdout",
          "text": [
            "It took 1.1s to say hello.\n"
          ]
        }
      ]
    },
    {
      "cell_type": "markdown",
      "source": [
        "**Kasutamise Eelised ja Sobivus**\n",
        "\n",
        "Paralleelsus:\n",
        "\n",
        "Kasutame multiprocessing teeki, et saavutada tõeline paralleelsus, mis on kasulik, kui protsessid vajavad eraldi CPU tuumasid.\n",
        "\n",
        "Erinevus Threadinguga:\n",
        "\n",
        "Erinevalt lõimedest (threading teek), mis jagavad sama mälu ruumi, käivitavad multiprocessing teeki protsessid omaenda mälu, mis vähendab mälu jagamise probleeme.\n",
        "\n",
        "Sobivus:\n",
        "\n",
        "Sobib olukordadesse, kus on vajalik suur töötlemise võimekus ja andmete eraldamine protsesside vahel."
      ],
      "metadata": {
        "id": "q3IheJwFAwP6"
      }
    },
    {
      "cell_type": "markdown",
      "source": [],
      "metadata": {
        "id": "0USZD-xfA2hq"
      }
    },
    {
      "cell_type": "markdown",
      "source": [
        "2. Näide hõlmab ka logimist ja ajastamist, et näha, kuidas mitu protsessi saavad ühiselt töötada."
      ],
      "metadata": {
        "id": "y--A1LGVBDdw"
      }
    },
    {
      "cell_type": "code",
      "source": [
        "import logging\n",
        "import time\n",
        "import multiprocessing\n",
        "import math\n",
        "\n",
        "# Loome loggeri, et jälgida, mis toimub programmiga\n",
        "l = logging.getLogger(\"multiprocessing\")\n",
        "h = logging.StreamHandler()\n",
        "f = logging.Formatter(\"%(asctime)s: %(message)s\")  # Logi formaat, mis sisaldab aega ja sõnumit\n",
        "h.setFormatter(f)\n",
        "l.addHandler(h)\n",
        "l.setLevel(logging.INFO)  # Logimise taseme seadmine INFO, et näidata informatiivseid sõnumeid\n",
        "\n",
        "# Funktsioon, mis arvutab ruutjuure ja logib tulemuse\n",
        "def square_root(num):\n",
        "    # Kordame arvutust 10 miljonit korda, et simuleerida suurt töötlemise koormust\n",
        "    for _ in range(10_000_000):\n",
        "        result = math.sqrt(num)  # Arvutame ruutjuure\n",
        "    # Logime ainult viimasel arvutamisel, et vältida liialdast logimist\n",
        "    l.info(f\"sqrt of {num} is {result:.1f}\")\n",
        "\n",
        "if __name__ == \"__main__\":\n",
        "    big_float = 123_456_789  # Suur number, mille ruutjuure arvutamist simuleerime\n",
        "\n",
        "    # Loome 5 protsessi, kus igaühes kutsutakse `square_root` funktsiooni\n",
        "    processes = [\n",
        "        multiprocessing.Process(target=square_root, args=(big_float,)) for i in range(5)\n",
        "    ]\n",
        "\n",
        "    start_time = time.time()  # Alustame ajastamist\n",
        "\n",
        "    # Käivitame kõik protsessid paralleelselt\n",
        "    for p in processes:\n",
        "        p.start()\n",
        "\n",
        "    # Ootame, kuni kõik protsessid lõpetavad\n",
        "    for p in processes:\n",
        "        p.join()\n",
        "\n",
        "    delta_time = time.time() - start_time  # Arvutame, kui kaua kestis kõigi protsesside täitmine\n",
        "    print(f\"It took {delta_time:.1f}s to calculate square roots.\")\n"
      ],
      "metadata": {
        "colab": {
          "base_uri": "https://localhost:8080/"
        },
        "id": "AMEIB8hQBaxC",
        "outputId": "481cb21b-19f0-4a27-cbd5-af25c5e0abe0"
      },
      "execution_count": 17,
      "outputs": [
        {
          "output_type": "stream",
          "name": "stderr",
          "text": [
            "2024-08-30 20:41:53,400: sqrt of 123456789 is 11111.1\n",
            "2024-08-30 20:41:53,400: sqrt of 123456789 is 11111.1\n",
            "INFO:multiprocessing:sqrt of 123456789 is 11111.1\n",
            "2024-08-30 20:41:53,638: sqrt of 123456789 is 11111.1\n",
            "2024-08-30 20:41:53,638: sqrt of 123456789 is 11111.1\n",
            "INFO:multiprocessing:sqrt of 123456789 is 11111.1\n",
            "2024-08-30 20:41:53,805: sqrt of 123456789 is 11111.1\n",
            "2024-08-30 20:41:53,805: sqrt of 123456789 is 11111.1\n",
            "INFO:multiprocessing:sqrt of 123456789 is 11111.1\n",
            "2024-08-30 20:41:53,836: sqrt of 123456789 is 11111.1\n",
            "2024-08-30 20:41:53,836: sqrt of 123456789 is 11111.1\n",
            "INFO:multiprocessing:sqrt of 123456789 is 11111.1\n",
            "2024-08-30 20:41:53,882: sqrt of 123456789 is 11111.1\n",
            "2024-08-30 20:41:53,882: sqrt of 123456789 is 11111.1\n",
            "INFO:multiprocessing:sqrt of 123456789 is 11111.1\n"
          ]
        },
        {
          "output_type": "stream",
          "name": "stdout",
          "text": [
            "It took 9.1s to calculate square roots.\n"
          ]
        }
      ]
    },
    {
      "cell_type": "markdown",
      "source": [
        "3. Näide: Loome kahe protsessi vahel toru.\n",
        "\n",
        "Pipes provide a bi-directional parent-child process communication"
      ],
      "metadata": {
        "id": "ollfKCbeBy-x"
      }
    },
    {
      "cell_type": "code",
      "source": [
        "import multiprocessing\n",
        "\n",
        "# Funktsioon, mis töötab eraldi protsessis\n",
        "def echo(pipe):\n",
        "    # Funktsioon saab pipe'i kaudu andmeid\n",
        "    query = pipe.recv()  # Loe esimene päring\n",
        "    while query is not None:\n",
        "        # Saadud päringu vastus\n",
        "        pipe.send(f\"Echo: {query}\")  # Saada tagasi vastus\n",
        "        query = pipe.recv()  # Loe järgmine päring\n",
        "\n",
        "if __name__ == \"__main__\":\n",
        "    # Loome kaks ühendust: üks ema- ja teine lapsprotsessile\n",
        "    parent_conn, child_conn = multiprocessing.Pipe()\n",
        "\n",
        "    # Käivitame lapseprotsessi, mis täidab `echo` funktsiooni\n",
        "    proc = multiprocessing.Process(target=echo, args=(child_conn,))\n",
        "    proc.start()\n",
        "\n",
        "    # Saatke päringud ema-protsessist\n",
        "    parent_conn.send(\"Hello\")  # Saatke \"Hello\" lapseprotsessile\n",
        "    print(parent_conn.recv())  # Prindi lapseprotsessi vastus\n",
        "\n",
        "    parent_conn.send(\"Hello!\")  # Saatke \"Hello!\" lapseprotsessile\n",
        "    print(parent_conn.recv())  # Prindi lapseprotsessi vastus\n",
        "\n",
        "    parent_conn.send(None)  # Saatke `None`, et lõpetada lapseprotsess\n",
        "    proc.join()  # Ootame, kuni lapseprotsess lõpetab\n"
      ],
      "metadata": {
        "colab": {
          "base_uri": "https://localhost:8080/"
        },
        "id": "FJdP19VoCFDp",
        "outputId": "0685ad25-9cf1-47d5-98db-2755cdf804f7"
      },
      "execution_count": 18,
      "outputs": [
        {
          "output_type": "stream",
          "name": "stdout",
          "text": [
            "Echo: Hello\n",
            "Echo: Hello!\n"
          ]
        }
      ]
    },
    {
      "cell_type": "markdown",
      "source": [
        "4. Näide: Kood genereerib juhuslikke andmeid ja rakendab keerulisi matemaatilisi arvutusi nende andmete põhjal."
      ],
      "metadata": {
        "id": "ea8NI2PdCtMu"
      }
    },
    {
      "cell_type": "code",
      "source": [
        "import random\n",
        "import multiprocessing\n",
        "\n",
        "# Keeruline arvutuse funktsioon\n",
        "def complex_calculation(a, b, c):\n",
        "    # Teeb arvutuse: (a ** b) % c\n",
        "    return a ** b % c\n",
        "\n",
        "if __name__ == \"__main__\":\n",
        "    # Loome nimekirja argumentide komplektidest, mille jaoks soovime arvutusi teha.\n",
        "    # Iga argumentide komplekt koosneb kolmest juhuslikust täisarvust vahemikus 1 kuni 20.\n",
        "    argument_lists = [\n",
        "        (random.randint(1, 20), random.randint(1, 20), random.randint(1, 20))\n",
        "        for _ in range(500)\n",
        "    ]\n",
        "\n",
        "    # Kasutame multiprocessing.Pool, et paralleelselt töödelda arvutusi\n",
        "    # `Pool(10)` loob 10 töötlejat (protsessid), mis töötavad samaaegselt.\n",
        "    with multiprocessing.Pool(10) as workers:\n",
        "        # `starmap` meetod rakendab funktsiooni `complex_calculation` iga argumentide komplekti jaoks\n",
        "        # ja kogub tulemused nimekirja.\n",
        "        result = workers.starmap(complex_calculation, argument_lists)\n",
        "\n",
        "    # Kuvame esimesed 5 arvutust koos argumentidega ja nende tulemustega\n",
        "    for i in range(5):\n",
        "        print(f\"{argument_lists[i]} -> {result[i]}\")\n",
        "\n",
        "    # Indikeerime, et töötlus on lõppenud\n",
        "    print(\"...\")\n"
      ],
      "metadata": {
        "colab": {
          "base_uri": "https://localhost:8080/"
        },
        "id": "QuZK2oXwC5AC",
        "outputId": "50380ddb-309e-4625-c1a5-279cfd671f61"
      },
      "execution_count": 19,
      "outputs": [
        {
          "output_type": "stream",
          "name": "stdout",
          "text": [
            "(9, 17, 8) -> 1\n",
            "(17, 18, 16) -> 1\n",
            "(17, 1, 10) -> 7\n",
            "(14, 5, 2) -> 0\n",
            "(18, 2, 19) -> 1\n",
            "...\n"
          ]
        }
      ]
    }
  ]
}
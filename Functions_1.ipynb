{
  "nbformat": 4,
  "nbformat_minor": 0,
  "metadata": {
    "colab": {
      "provenance": []
    },
    "kernelspec": {
      "name": "python3",
      "display_name": "Python 3"
    },
    "language_info": {
      "name": "python"
    }
  },
  "cells": [
    {
      "cell_type": "markdown",
      "source": [
        "# **Functions**"
      ],
      "metadata": {
        "id": "REFJx8743Rns"
      }
    },
    {
      "cell_type": "markdown",
      "source": [
        "# 1. Dekoratoorid (Decorators)\n",
        "Dekoratoorid on funktsioonid, mis võtavad vastu teise funktsiooni ja laiendavad selle käitumist ilma funktsiooni enda koodi muutmata."
      ],
      "metadata": {
        "id": "InviFMCQ3Vum"
      }
    },
    {
      "cell_type": "code",
      "execution_count": 2,
      "metadata": {
        "colab": {
          "base_uri": "https://localhost:8080/"
        },
        "id": "nWmsF0n13E0A",
        "outputId": "102110c8-bb29-439c-b730-97bacfdce93c"
      },
      "outputs": [
        {
          "output_type": "stream",
          "name": "stdout",
          "text": [
            "Function slow_function took 2.0024 seconds\n",
            "Completed after 2 seconds\n"
          ]
        }
      ],
      "source": [
        "from functools import wraps\n",
        "\n",
        "# Dekoratoor, mis mõõdab funktsiooni täitmise aega\n",
        "def timing_decorator(func):\n",
        "    @wraps(func)\n",
        "    def wrapper(*args, **kwargs):\n",
        "        import time\n",
        "        start_time = time.time()\n",
        "        result = func(*args, **kwargs)\n",
        "        end_time = time.time()\n",
        "        print(f\"Function {func.__name__} took {end_time - start_time:.4f} seconds\")\n",
        "        return result\n",
        "    return wrapper\n",
        "\n",
        "# Näide kasutamisest\n",
        "@timing_decorator\n",
        "def slow_function(x):\n",
        "    import time\n",
        "    time.sleep(x)\n",
        "    return f\"Completed after {x} seconds\"\n",
        "\n",
        "print(slow_function(2))\n"
      ]
    },
    {
      "cell_type": "markdown",
      "source": [
        "**Selgitus:**\n",
        "\n",
        "timing_decorator mõõdab ja prindib, kui kaua kulus funktsiooni täitmiseks.\n",
        "@wraps(func) säilitab originaali funktsiooni metainfo (nt nimi ja dokumentatsioon).\n",
        "wrapper funktsioon käivitab func, mõõdab aja ja prindib kestuse."
      ],
      "metadata": {
        "id": "StFO5xSv4btm"
      }
    },
    {
      "cell_type": "markdown",
      "source": [
        "# 2. Funktsiooni parametrid (Function Parameters)\n",
        "Kasutame funktsiooni argumentide võimekust, sealhulgas positsioonilised, nimelised, vahelduvad ja default väärtused."
      ],
      "metadata": {
        "id": "MNtjx1w_4gge"
      }
    },
    {
      "cell_type": "code",
      "source": [
        "def example_function(a, b, *args, **kwargs):\n",
        "    print(f\"Positional arguments: a={a}, b={b}\")\n",
        "    print(f\"Additional positional arguments: {args}\")\n",
        "    print(f\"Keyword arguments: {kwargs}\")\n",
        "\n",
        "# Näide kasutamisest\n",
        "example_function(1, 2, 3, 4, 5, x=10, y=20)\n"
      ],
      "metadata": {
        "colab": {
          "base_uri": "https://localhost:8080/"
        },
        "id": "dPzQwory4kf4",
        "outputId": "0fd47689-7b05-4076-f810-d3640950890f"
      },
      "execution_count": 3,
      "outputs": [
        {
          "output_type": "stream",
          "name": "stdout",
          "text": [
            "Positional arguments: a=1, b=2\n",
            "Additional positional arguments: (3, 4, 5)\n",
            "Keyword arguments: {'x': 10, 'y': 20}\n"
          ]
        }
      ]
    },
    {
      "cell_type": "markdown",
      "source": [
        "Selgitus:\n",
        "\n",
        "a ja b on kohustuslikud positsioonilised argumendid.\n",
        "\n",
        "*args kogub kõik ülejäänud positsioonilised argumendid tuplesse.\n",
        "\n",
        "**kwargs kogub kõik nimelised argumendid diktionarisse."
      ],
      "metadata": {
        "id": "p_QvBfsj4ude"
      }
    },
    {
      "cell_type": "markdown",
      "source": [
        "# 3. Funktsioonide Kõrvalnäitajad (Closures)\n",
        "Kohalikud muutujad võivad olla closure-i kaudu kergesti ligipääsetavad, kui need on deklareeritud välisfunktsioonis."
      ],
      "metadata": {
        "id": "mLYRwP5p41bn"
      }
    },
    {
      "cell_type": "code",
      "source": [
        "def make_multiplier(factor):\n",
        "    # Funktsioon, mis tagastab teise funktsiooni\n",
        "    def multiplier(x):\n",
        "        return x * factor\n",
        "    return multiplier\n",
        "\n",
        "# Näide kasutamisest\n",
        "double = make_multiplier(2)\n",
        "print(double(10))  # Tagastab 20\n"
      ],
      "metadata": {
        "colab": {
          "base_uri": "https://localhost:8080/"
        },
        "id": "jswMgYgF5e5J",
        "outputId": "05c85378-5b54-4758-d525-63f8ea4dcfcf"
      },
      "execution_count": 4,
      "outputs": [
        {
          "output_type": "stream",
          "name": "stdout",
          "text": [
            "20\n"
          ]
        }
      ]
    },
    {
      "cell_type": "markdown",
      "source": [
        "# 4. Funktsiooni Kõrvaltingimused (Function Annotations)\n",
        "Python võimaldab funktsioonide argumentide ja tagastusteannotatsioonide määramist, mis võivad aidata dokumenteerimise ja tüübi kontrollimise.\n",
        "\n",
        "name: str ja age: int on annotatsioonid, mis näitavad, millised tüübid peaksid argumentidel olema.\n",
        "\n",
        "-> str annotatsioon näitab, et funktsioon tagastab stringi."
      ],
      "metadata": {
        "id": "F9OQyxX_5oj2"
      }
    },
    {
      "cell_type": "code",
      "source": [
        "def greet(name: str, age: int) -> str:\n",
        "    return f\"Hello {name}, you are {age} years old\"\n",
        "\n",
        "# Näide kasutamisest\n",
        "print(greet(\"Alice\", 30))\n"
      ],
      "metadata": {
        "colab": {
          "base_uri": "https://localhost:8080/"
        },
        "id": "t060EFtF6FEB",
        "outputId": "60c6a2e4-0a16-46fe-ad40-e589c78f7b3c"
      },
      "execution_count": 5,
      "outputs": [
        {
          "output_type": "stream",
          "name": "stdout",
          "text": [
            "Hello Alice, you are 30 years old\n"
          ]
        }
      ]
    },
    {
      "cell_type": "markdown",
      "source": [
        "# 5. Funktsioonide Loodud Funktsioonide Koostamine (Function Factories)\n",
        "Funktsioonide loomiseks, mis tagastavad teisi funktsioone, saame kasutada funktsioonide Factory mustrit."
      ],
      "metadata": {
        "id": "YqsM1RhZ5phu"
      }
    },
    {
      "cell_type": "code",
      "source": [
        "def power_of(exponent):\n",
        "    # Tagastab funktsiooni, mis arvutab antud astme\n",
        "    def power(base):\n",
        "        return base ** exponent\n",
        "    return power\n",
        "\n",
        "# Näide kasutamisest\n",
        "square = power_of(2)\n",
        "cube = power_of(3)\n",
        "print(square(4))  # Tagastab 16\n",
        "print(cube(2))    # Tagastab 8\n"
      ],
      "metadata": {
        "colab": {
          "base_uri": "https://localhost:8080/"
        },
        "id": "kKBQj40r6RNu",
        "outputId": "f1b6ca3b-6508-4be0-ca7d-e607240cd1fc"
      },
      "execution_count": 6,
      "outputs": [
        {
          "output_type": "stream",
          "name": "stdout",
          "text": [
            "16\n",
            "8\n"
          ]
        }
      ]
    },
    {
      "cell_type": "markdown",
      "source": [
        "# 6. Funktsioonide Kooskasutamine (Higher-Order Functions)\n",
        "Funktsioonid, mis võtavad vastu teisi funktsioone või tagastavad neid."
      ],
      "metadata": {
        "id": "7pzDK7Bt6U62"
      }
    },
    {
      "cell_type": "code",
      "source": [
        "def apply_function(f, values):\n",
        "    # Rakendab funktsiooni `f` kõikidele väärtustele loendis\n",
        "    return [f(x) for x in values]\n",
        "\n",
        "# Näide kasutamisest\n",
        "values = [1, 2, 3, 4]\n",
        "squared = apply_function(lambda x: x ** 2, values)\n",
        "print(squared)  # Tagastab [1, 4, 9, 16]\n"
      ],
      "metadata": {
        "colab": {
          "base_uri": "https://localhost:8080/"
        },
        "id": "oXOIl_zs6bRn",
        "outputId": "6c8e214c-bfa9-4560-af1e-f72785bd9b14"
      },
      "execution_count": 7,
      "outputs": [
        {
          "output_type": "stream",
          "name": "stdout",
          "text": [
            "[1, 4, 9, 16]\n"
          ]
        }
      ]
    },
    {
      "cell_type": "markdown",
      "source": [
        "# Näide 1: Rakenda Funktsioonide Loendit"
      ],
      "metadata": {
        "id": "mKNMuZCZ7-Fu"
      }
    },
    {
      "cell_type": "code",
      "source": [
        "import math\n",
        "\n",
        "# Loend funktsioonidest\n",
        "functions = [math.exp, math.log, math.sin, math.cos, math.tan]\n",
        "\n",
        "# Rakendame funktsioone väärtusele 1.0\n",
        "values = [1.0,2.0,3.0]\n",
        "\n",
        "for func in functions:\n",
        "    # Prindime iga funktsiooni rakendamise tulemuse\n",
        "    results = [func(value) for value in values]\n",
        "    print(f\"{func.__name__} results: {results}\")\n"
      ],
      "metadata": {
        "colab": {
          "base_uri": "https://localhost:8080/"
        },
        "id": "ncOS1BCt7_sn",
        "outputId": "a184dccf-6d06-49cd-e99b-165785a884c0"
      },
      "execution_count": 9,
      "outputs": [
        {
          "output_type": "stream",
          "name": "stdout",
          "text": [
            "exp results: [2.718281828459045, 7.38905609893065, 20.085536923187668]\n",
            "log results: [0.0, 0.6931471805599453, 1.0986122886681098]\n",
            "sin results: [0.8414709848078965, 0.9092974268256817, 0.1411200080598672]\n",
            "cos results: [0.5403023058681398, -0.4161468365471424, -0.9899924966004454]\n",
            "tan results: [1.5574077246549023, -2.185039863261519, -0.1425465430742778]\n"
          ]
        }
      ]
    },
    {
      "cell_type": "markdown",
      "source": [
        "# Näide 2: Funktsioonide Koostamine ja Rakendamine"
      ],
      "metadata": {
        "id": "1_SQefZ08bJ2"
      }
    },
    {
      "cell_type": "code",
      "source": [
        "from functools import partial\n",
        "\n",
        "# Funktsioon, mis arvutab a * x + b\n",
        "def linear_function(a, b, x):\n",
        "    return a * x + b\n",
        "\n",
        "# Loome osaliselt määratud funktsioone, määrates mõned argumendid\n",
        "# Siin määrame `a` ja `b` väärtused, jättes `x` hilisema määramise jaoks\n",
        "f1 = partial(linear_function, 2, 10)  # 'a' = 2, 'b' = 10\n",
        "f2 = partial(linear_function, 3, 5)   # 'a' = 3, 'b' = 5\n",
        "\n",
        "# Rakendame funktsioone erinevatele väärtustele\n",
        "values = [1, 2, 3, 4]\n",
        "\n",
        "for func in [f1, f2]:\n",
        "    results = [func(x) for x in values]\n",
        "    print(f\"Results from function with a={func.args[0]} and b={func.args[1]}: {results}\")\n"
      ],
      "metadata": {
        "colab": {
          "base_uri": "https://localhost:8080/"
        },
        "id": "k-T9ADTs8cXu",
        "outputId": "3b61bc4c-936d-4a3d-ba3e-973aefb8a263"
      },
      "execution_count": 26,
      "outputs": [
        {
          "output_type": "stream",
          "name": "stdout",
          "text": [
            "Results from function with a=2 and b=10: [12, 14, 16, 18]\n",
            "Results from function with a=3 and b=5: [8, 11, 14, 17]\n"
          ]
        }
      ]
    },
    {
      "cell_type": "code",
      "source": [
        "from functools import partial\n",
        "\n",
        "# A normal function\n",
        "def f(a, b, c, x):\n",
        "    return 1000*a + 100*b + 10*c + x\n",
        "\n",
        "# A partial function that calls f with\n",
        "# a as 3, b as 1 and c as 4.\n",
        "g = partial(f, 3, 1, 4)\n",
        "\n",
        "# Calling g()\n",
        "print(g(5))\n",
        "\n",
        "\n",
        "# A normal function\n",
        "def add(a, b, c):\n",
        "    return 100 * a + 10 * b + c\n",
        "\n",
        "# A partial function with b = 1 and c = 2\n",
        "add_part = partial(add, c = 2, b = 1)\n",
        "\n",
        "# Calling partial function\n",
        "print(add_part(3))\n"
      ],
      "metadata": {
        "colab": {
          "base_uri": "https://localhost:8080/"
        },
        "id": "hMQRVPSoBjyR",
        "outputId": "b994618e-812b-4e2e-d761-5e877101a37e"
      },
      "execution_count": 28,
      "outputs": [
        {
          "output_type": "stream",
          "name": "stdout",
          "text": [
            "3145\n",
            "312\n"
          ]
        }
      ]
    },
    {
      "cell_type": "markdown",
      "source": [
        "# Näide 3: Funktsioonide Koondamine ja Rakendamine"
      ],
      "metadata": {
        "id": "O3AX3-1_9Ye6"
      }
    },
    {
      "cell_type": "code",
      "source": [
        "# Loend funktsioonidest ja nende omadustest\n",
        "function_details = [\n",
        "    (lambda x: x**2, \"Square\"),         # Funktsioon: x^2\n",
        "    (lambda x: x**3, \"Cube\"),           # Funktsioon: x^3\n",
        "    (lambda x: x + 5, \"Add 5\")          # Funktsioon: x + 5\n",
        "]\n",
        "\n",
        "values = [2, 4, 6]\n",
        "\n",
        "for func, description in function_details:\n",
        "    results = [func(value) for value in values]\n",
        "    print(f\"{description} results: {results}\")\n"
      ],
      "metadata": {
        "colab": {
          "base_uri": "https://localhost:8080/"
        },
        "id": "oZBgtq_g9ZjW",
        "outputId": "311f5643-a584-4046-da8b-b7ec23b540e1"
      },
      "execution_count": 17,
      "outputs": [
        {
          "output_type": "stream",
          "name": "stdout",
          "text": [
            "Square results: [4, 16, 36]\n",
            "Cube results: [8, 64, 216]\n",
            "Add 5 results: [7, 9, 11]\n"
          ]
        }
      ]
    },
    {
      "cell_type": "markdown",
      "source": [
        "# Näide 4: Funktsioonide Rakendamine Füüsikalis- Matemaatilistes Kontekstides"
      ],
      "metadata": {
        "id": "5jF9B0e69bmm"
      }
    },
    {
      "cell_type": "code",
      "source": [
        "import numpy as np\n",
        "\n",
        "# Loend funktsioonidest, kasutades NumPy teeke\n",
        "functions = [\n",
        "    lambda x: np.sqrt(x),   # Ruutfunktsioon\n",
        "    lambda x: np.log(x),    # Loogaritm\n",
        "    lambda x: np.sin(x),    # Sinus\n",
        "    lambda x: np.cos(x)     # Kosinus\n",
        "]\n",
        "\n",
        "values = [0.1, 1.0, 10.0]\n",
        "\n",
        "for func in functions:\n",
        "    results = [func(value) for value in values]\n",
        "    print(f\"{func.__name__} results: {results}\")\n"
      ],
      "metadata": {
        "colab": {
          "base_uri": "https://localhost:8080/"
        },
        "id": "dOOlDqCc9f-w",
        "outputId": "07cef4ee-4c35-49cd-b167-d7d26e0ba5a8"
      },
      "execution_count": 18,
      "outputs": [
        {
          "output_type": "stream",
          "name": "stdout",
          "text": [
            "<lambda> results: [0.31622776601683794, 1.0, 3.1622776601683795]\n",
            "<lambda> results: [-2.3025850929940455, 0.0, 2.302585092994046]\n",
            "<lambda> results: [0.09983341664682815, 0.8414709848078965, -0.5440211108893698]\n",
            "<lambda> results: [0.9950041652780258, 0.5403023058681398, -0.8390715290764524]\n"
          ]
        }
      ]
    },
    {
      "cell_type": "markdown",
      "source": [
        "# Näide 5: Funktsioonide Jõudlus ja Optimiseerimine"
      ],
      "metadata": {
        "id": "HD9UYrCV9h3n"
      }
    },
    {
      "cell_type": "code",
      "source": [
        "import timeit\n",
        "\n",
        "def time_function(func, *args):\n",
        "    # Mõõdab ja tagastab funktsiooni täitmise aja\n",
        "    start_time = timeit.default_timer()\n",
        "    func(*args)\n",
        "    end_time = timeit.default_timer()\n",
        "    return end_time - start_time\n",
        "\n",
        "def sample_function(x):\n",
        "    return x ** 2\n",
        "\n",
        "def another_function(x):\n",
        "    return sum(range(x))\n",
        "\n",
        "# Loend funktsioonide ja nende argumentide paaridest\n",
        "function_args = [\n",
        "    (sample_function, 1000),\n",
        "    (another_function, 1000)\n",
        "]\n",
        "\n",
        "for func, arg in function_args:\n",
        "    elapsed_time = time_function(func, arg)\n",
        "    print(f\"{func.__name__} took {elapsed_time:.6f} seconds\")\n"
      ],
      "metadata": {
        "colab": {
          "base_uri": "https://localhost:8080/"
        },
        "id": "ISWqyEPW9k9J",
        "outputId": "be5ba532-3988-48d6-c5f3-855e12d77ddc"
      },
      "execution_count": 19,
      "outputs": [
        {
          "output_type": "stream",
          "name": "stdout",
          "text": [
            "sample_function took 0.000003 seconds\n",
            "another_function took 0.000026 seconds\n"
          ]
        }
      ]
    },
    {
      "cell_type": "markdown",
      "source": [
        "# Näide: Funktsioonide Kompositsioon"
      ],
      "metadata": {
        "id": "13XwF_bE9nEL"
      }
    },
    {
      "cell_type": "code",
      "source": [
        "# Defineerime funktsioonid, mida me hiljem kompositsioonis kasutame\n",
        "\n",
        "def add_one(x):\n",
        "    return x + 1\n",
        "\n",
        "def multiply_by_two(x):\n",
        "    return x * 2\n",
        "\n",
        "def subtract_three(x):\n",
        "    return x - 3\n",
        "\n",
        "def divide_by_four(x):\n",
        "    return x / 4\n",
        "\n",
        "def square(x):\n",
        "    return x ** 2\n",
        "\n",
        "# Koostame funktsioonide ahela\n",
        "def compose_functions(*functions):\n",
        "    def composed_function(x):\n",
        "        for func in reversed(functions):\n",
        "            x = func(x)\n",
        "        return x\n",
        "    return composed_function\n",
        "\n",
        "# Loome funktsioonide kompositsiooni\n",
        "composed = compose_functions(add_one, multiply_by_two, subtract_three, divide_by_four, square)\n",
        "\n",
        "# Rakendame kompositsiooni väärtusele\n",
        "value = 5\n",
        "result = composed(value)\n",
        "\n",
        "print(f\"Tulemus pärast funktsioonide kompositsiooni {value}: {result}\")\n"
      ],
      "metadata": {
        "colab": {
          "base_uri": "https://localhost:8080/"
        },
        "id": "1yQvODSTEiH-",
        "outputId": "b34f72de-0092-4a2b-a448-2d170a06304a"
      },
      "execution_count": 29,
      "outputs": [
        {
          "output_type": "stream",
          "name": "stdout",
          "text": [
            "Tulemus pärast funktsioonide kompositsiooni 5: 7.5\n"
          ]
        }
      ]
    },
    {
      "cell_type": "markdown",
      "source": [
        "# Näide: Dekoratori Kasutamine"
      ],
      "metadata": {
        "id": "YJiT-ndLGawn"
      }
    },
    {
      "cell_type": "code",
      "source": [
        "from functools import wraps\n",
        "\n",
        "# Dekorator, mis mõõdab funktsiooni täitmise aega\n",
        "def timeit(func):\n",
        "    @wraps(func)\n",
        "    def wrapper(*args, **kwargs):\n",
        "        import time\n",
        "        start_time = time.time()\n",
        "        result = func(*args, **kwargs)\n",
        "        end_time = time.time()\n",
        "        print(f\"Function {func.__name__} took {end_time - start_time:.4f} seconds to execute.\")\n",
        "        return result\n",
        "    return wrapper\n",
        "\n",
        "# Funktsioon, mille täitmise aega mõõdetakse\n",
        "@timeit\n",
        "def slow_function(seconds):\n",
        "    import time\n",
        "    time.sleep(seconds)\n",
        "    return \"Done\"\n",
        "\n",
        "# Kutsume välja dekoritud funktsiooni\n",
        "print(slow_function(2))\n"
      ],
      "metadata": {
        "colab": {
          "base_uri": "https://localhost:8080/"
        },
        "id": "_ZiQtyhvF7Df",
        "outputId": "40cea41f-3358-45ff-9b1f-011ae3eac601"
      },
      "execution_count": 30,
      "outputs": [
        {
          "output_type": "stream",
          "name": "stdout",
          "text": [
            "Function slow_function took 2.0021 seconds to execute.\n",
            "Done\n"
          ]
        }
      ]
    },
    {
      "cell_type": "markdown",
      "source": [
        "# Näide: Funktsioonide Generaator"
      ],
      "metadata": {
        "id": "ZQeMqJVyGskH"
      }
    },
    {
      "cell_type": "code",
      "source": [
        "def make_multiplier(n):\n",
        "    def multiplier(x):\n",
        "        return x * n\n",
        "    return multiplier\n",
        "\n",
        "# Loome kaks erinevat korrutajat\n",
        "double = make_multiplier(2)\n",
        "triple = make_multiplier(3)\n",
        "\n",
        "# Rakendame funktsioone\n",
        "print(double(5))  # 10\n",
        "print(triple(5))  # 15\n"
      ],
      "metadata": {
        "colab": {
          "base_uri": "https://localhost:8080/"
        },
        "id": "tUqrQWlCGdhP",
        "outputId": "afa5351b-243a-48c5-ac79-6caad57dbf42"
      },
      "execution_count": 32,
      "outputs": [
        {
          "output_type": "stream",
          "name": "stdout",
          "text": [
            "10\n",
            "15\n"
          ]
        }
      ]
    },
    {
      "cell_type": "markdown",
      "source": [
        "# Näide: Funktsioonide Kompositsioon"
      ],
      "metadata": {
        "id": "Ac8PAptbG_0u"
      }
    },
    {
      "cell_type": "code",
      "source": [
        "def add(x, y):\n",
        "    return x + y\n",
        "\n",
        "def multiply(x, y):\n",
        "    return x * y\n",
        "\n",
        "def compose(f, g):\n",
        "    return lambda x: f(g(x))\n",
        "\n",
        "# Loome komposiitfunktsiooni, mis esmalt korrutab ja siis liidab\n",
        "add_then_multiply = compose(lambda x: multiply(x, 2), lambda x: add(x, 3))\n",
        "\n",
        "# Rakendame komposiitfunktsiooni\n",
        "print(add_then_multiply(5))  # (5 + 3) * 2 = 16\n"
      ],
      "metadata": {
        "colab": {
          "base_uri": "https://localhost:8080/"
        },
        "id": "_nwMx9nxHBrD",
        "outputId": "7c908d31-760e-48fc-fd56-4e19b0981a79"
      },
      "execution_count": 33,
      "outputs": [
        {
          "output_type": "stream",
          "name": "stdout",
          "text": [
            "16\n"
          ]
        }
      ]
    },
    {
      "cell_type": "markdown",
      "source": [
        "\n",
        "# Näide: Küsimus- ja Vastusfunktsioonid\n",
        "\n",
        "Funktsioonid võivad võtta oma sisendina ka funktsioone, mis võivad olla kasulikud näiteks küsimustele vastamisel või automaatsete vastuste genereerimiseks."
      ],
      "metadata": {
        "id": "k14SpCYCHR6v"
      }
    },
    {
      "cell_type": "code",
      "source": [
        "def ask_question(question, answer_func):\n",
        "    print(question)\n",
        "    return answer_func()\n",
        "\n",
        "# Funktsioon, mis genereerib juhusliku vastuse\n",
        "import random\n",
        "def random_answer():\n",
        "    answers = [\"Yes\", \"No\", \"Maybe\", \"Not sure\"]\n",
        "    return random.choice(answers)\n",
        "\n",
        "# Rakendame küsimus-vastus funktsiooni\n",
        "response = ask_question(\"Do you like Python?\", random_answer)\n",
        "print(f\"Response: {response}\")\n"
      ],
      "metadata": {
        "colab": {
          "base_uri": "https://localhost:8080/"
        },
        "id": "j062zprMHbvj",
        "outputId": "38640cf6-f2d8-4a01-b782-bc5c65b234fe"
      },
      "execution_count": 36,
      "outputs": [
        {
          "output_type": "stream",
          "name": "stdout",
          "text": [
            "Do you like Python?\n",
            "Response: Yes\n"
          ]
        }
      ]
    },
    {
      "cell_type": "markdown",
      "source": [
        "# Näide: Argumentidega Funktsioonide Kompositsioon"
      ],
      "metadata": {
        "id": "Wh7kH3AmH4dO"
      }
    },
    {
      "cell_type": "code",
      "source": [
        "def log_decorator(log_file):\n",
        "    \"\"\"\n",
        "    Tagastab dekoratori, mis logib funktsiooni tulemused faili.\n",
        "    \"\"\"\n",
        "    def decorator(func):\n",
        "        def wrapper(*args, **kwargs):\n",
        "            result = func(*args, **kwargs)\n",
        "            with open(log_file, \"a\") as f:\n",
        "                f.write(f\"Function {func.__name__} called with {args}, {kwargs}. Result: {result}\\n\")\n",
        "            return result\n",
        "        return wrapper\n",
        "    return decorator\n",
        "\n",
        "# Loome funktsiooni, millele rakendame logimisseadet\n",
        "@log_decorator(\"log.txt\")\n",
        "def multiply(x, y):\n",
        "    return x * y\n",
        "\n",
        "# Rakendame funktsiooni\n",
        "print(multiply(4, 5))\n",
        "\n",
        "# Logi on kirjutatud faili \"log.txt\"\n"
      ],
      "metadata": {
        "colab": {
          "base_uri": "https://localhost:8080/"
        },
        "id": "TkZdm63CH2H3",
        "outputId": "4eb28b5b-8395-4328-ea37-5b9cec9e5db2"
      },
      "execution_count": 37,
      "outputs": [
        {
          "output_type": "stream",
          "name": "stdout",
          "text": [
            "20\n"
          ]
        }
      ]
    }
  ]
}
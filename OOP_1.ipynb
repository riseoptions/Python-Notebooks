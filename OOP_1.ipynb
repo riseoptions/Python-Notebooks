{
  "nbformat": 4,
  "nbformat_minor": 0,
  "metadata": {
    "colab": {
      "provenance": []
    },
    "kernelspec": {
      "name": "python3",
      "display_name": "Python 3"
    },
    "language_info": {
      "name": "python"
    }
  },
  "cells": [
    {
      "cell_type": "code",
      "source": [
        "!git clone https://github.com/riseoptions/Python-Notebooks.git"
      ],
      "metadata": {
        "colab": {
          "base_uri": "https://localhost:8080/"
        },
        "id": "Z2Hbv-XZ-U-2",
        "outputId": "2e37a33b-88c7-4bb5-e627-b775d8f5ec26"
      },
      "execution_count": 20,
      "outputs": [
        {
          "output_type": "stream",
          "name": "stdout",
          "text": [
            "fatal: destination path 'Python-Notebooks' already exists and is not an empty directory.\n"
          ]
        }
      ]
    },
    {
      "cell_type": "markdown",
      "source": [
        "# Ülesanne 1: Klasside loomine ja objektide instantsimine\n",
        "**Teema: Klassid ja objektid, konstruktori meetod.**\n",
        "\n",
        "Ülesanne:\n",
        "\n",
        "Loo klass nimega Car, millel on kolm atribuuti: brand, model ja year.\n",
        "Loo konstruktori meetod __init__, mis võtab need kolm argumenti ja omistab need vastavatele atribuutidele.\n",
        "Instantsi (objekti) looja peab saama ette anda auto brändi, mudeli ja tootmisaasta.\n",
        "Loo selle klassi abil kaks erinevat auto objekti."
      ],
      "metadata": {
        "id": "GLO49FIoke19"
      }
    },
    {
      "cell_type": "code",
      "execution_count": 21,
      "metadata": {
        "colab": {
          "base_uri": "https://localhost:8080/"
        },
        "id": "kF6Q19NikddI",
        "outputId": "83f12a0c-2884-4620-b595-8d1722146936"
      },
      "outputs": [
        {
          "output_type": "stream",
          "name": "stdout",
          "text": [
            "Toyota Corolla 2020\n",
            "Honda Civic 2019\n"
          ]
        }
      ],
      "source": [
        "# Defineerime Car klassi\n",
        "class Car:\n",
        "    # Konstruktor, mis omistab väärtused brändile, mudelile ja aastale\n",
        "    def __init__(self, brand, model, year):\n",
        "        self.brand = brand  # Auto bränd\n",
        "        self.model = model  # Auto mudel\n",
        "        self.year = year    # Auto tootmisaasta\n",
        "\n",
        "# Loodud kaks auto objekti Car klassist\n",
        "car1 = Car(\"Toyota\", \"Corolla\", 2020)\n",
        "car2 = Car(\"Honda\", \"Civic\", 2019)\n",
        "\n",
        "# Trükime objektide andmed\n",
        "print(car1.brand, car1.model, car1.year)  # Output: Toyota Corolla 2020\n",
        "print(car2.brand, car2.model, car2.year)  # Output: Honda Civic 2019\n"
      ]
    },
    {
      "cell_type": "markdown",
      "source": [
        "# Ülesanne 2: Meetodite lisamine klassile\n",
        "**Teema: Klasside meetodid.**\n",
        "\n",
        "Ülesanne:\n",
        "\n",
        "Jätka eelnevalt loodud Car klassiga.\n",
        "Loo meetod nimega start_engine, mis prindib sõnumi nagu \"The [brand] [model]'s engine has started.\"\n",
        "Loo meetod nimega stop_engine, mis prindib sõnumi nagu \"The [brand] [model]'s engine has stopped.\"\n",
        "Testi neid meetodeid oma loodud auto objektidega."
      ],
      "metadata": {
        "id": "Ji7_BMBrlafG"
      }
    },
    {
      "cell_type": "code",
      "source": [
        "class Car:\n",
        "    def __init__(self, brand, model, year):\n",
        "        self.brand = brand\n",
        "        self.model = model\n",
        "        self.year = year\n",
        "\n",
        "    # Meetod mootori käivitamiseks\n",
        "    def start_engine(self):\n",
        "        print(f\"The {self.brand} {self.model}'s engine has started.\")\n",
        "\n",
        "    # Meetod mootori seiskamiseks\n",
        "    def stop_engine(self):\n",
        "        print(f\"The {self.brand} {self.model}'s engine has stopped.\")\n",
        "\n",
        "# Loodud objektid ja meetodite testimine\n",
        "car1 = Car(\"Toyota\", \"Corolla\", 2020)\n",
        "car1.start_engine()  # Output: The Toyota Corolla's engine has started.\n",
        "car1.stop_engine()   # Output: The Toyota Corolla's engine has stopped.\n"
      ],
      "metadata": {
        "colab": {
          "base_uri": "https://localhost:8080/"
        },
        "id": "7OgT3VLmlgGs",
        "outputId": "6694f589-bc42-4c76-ee40-5a84a5fc5418"
      },
      "execution_count": 22,
      "outputs": [
        {
          "output_type": "stream",
          "name": "stdout",
          "text": [
            "The Toyota Corolla's engine has started.\n",
            "The Toyota Corolla's engine has stopped.\n"
          ]
        }
      ]
    },
    {
      "cell_type": "markdown",
      "source": [
        "# Ülesanne 3: Kapseldamine (Encapsulation)\n",
        "**Teema: Privaatsete ja avalike atribuutide kasutamine.**\n",
        "\n",
        "Ülesanne:\n",
        "\n",
        "Muuda Car klassis year atribuut privaatseks (kasuta alustavat topelt alakriipsu: __year).\n",
        "Loo meetod get_year, mis tagastab auto tootmisaasta.\n",
        "Loo meetod set_year, mis lubab kasutajal määrata uue tootmisaasta ainult siis, kui see on suurem kui olemasolev aasta.\n",
        "Katseta meetodeid, muutes ja vaadeldes auto tootmisaastat."
      ],
      "metadata": {
        "id": "YCr7kCyPmMBT"
      }
    },
    {
      "cell_type": "code",
      "source": [
        "class Car:\n",
        "    def __init__(self, brand, model, year):\n",
        "        self.brand = brand\n",
        "        self.model = model\n",
        "        self.__year = year  # Privaatne atribuut\n",
        "\n",
        "    # Meetod tootmisaasta tagastamiseks\n",
        "    def get_year(self):\n",
        "        return self.__year\n",
        "\n",
        "    # Meetod tootmisaasta muutmiseks\n",
        "    def set_year(self, year):\n",
        "        if year > self.__year:\n",
        "            self.__year = year\n",
        "        else:\n",
        "            print(\"New year must be greater than the current year.\")\n",
        "\n",
        "# Testimine\n",
        "car1 = Car(\"Toyota\", \"Corolla\", 2020)\n",
        "print(car1.get_year())  # Output: 2020\n",
        "\n",
        "car1.set_year(2022)\n",
        "print(car1.get_year())  # Output: 2022\n",
        "\n",
        "car1.set_year(2018)  # Output: New year must be greater than the current year.\n",
        "print(car1.get_year())  # Output: 2022\n"
      ],
      "metadata": {
        "colab": {
          "base_uri": "https://localhost:8080/"
        },
        "id": "pDzl0YYbmSgF",
        "outputId": "98d12d72-0bd6-480c-a5c1-cc752688711b"
      },
      "execution_count": 23,
      "outputs": [
        {
          "output_type": "stream",
          "name": "stdout",
          "text": [
            "2020\n",
            "2022\n",
            "New year must be greater than the current year.\n",
            "2022\n"
          ]
        }
      ]
    },
    {
      "cell_type": "markdown",
      "source": [
        "# Ülesanne 4: Pärilus (Inheritance)\n",
        "**Teema: Klasside pärilus.**\n",
        "\n",
        "Ülesanne:\n",
        "\n",
        "Loo uus klass nimega ElectricCar, mis pärib Car klassi.\n",
        "Lisa uus atribuut battery_capacity (näiteks kWh), mis kirjeldab auto aku mahutavust.\n",
        "Loo konstruktor, mis võtab arvesse nii vanemklassist pärit atribuute kui ka uut atribuut.\n",
        "Lisa meetod charge_battery, mis prindib sõnumi nagu \"The [brand] [model]'s battery is now fully charged.\"\n",
        "Loo instants ElectricCar klassist ja testi kõiki meetodeid."
      ],
      "metadata": {
        "id": "b8Cf6NbSnyqI"
      }
    },
    {
      "cell_type": "code",
      "source": [
        "# Vanemklass Car\n",
        "class Car:\n",
        "    def __init__(self, brand, model, year):\n",
        "        self.brand = brand\n",
        "        self.model = model\n",
        "        self.year = year\n",
        "\n",
        "    def start_engine(self):\n",
        "        print(f\"The {self.brand} {self.model}'s engine has started.\")\n",
        "\n",
        "# Lapsklass ElectricCar, mis pärib Car klassi\n",
        "class ElectricCar(Car):\n",
        "    def __init__(self, brand, model, year, battery_capacity):\n",
        "        super().__init__(brand, model, year)  # Kutsume vanemklassi konstruktori\n",
        "        self.battery_capacity = battery_capacity  # Uus atribuut\n",
        "\n",
        "    # Meetod aku laadimiseks\n",
        "    def charge_battery(self):\n",
        "        print(f\"The {self.brand} {self.model}'s battery is now fully charged.\")\n",
        "\n",
        "# Loodud ElectricCar objekti testimine\n",
        "tesla = ElectricCar(\"Tesla\", \"Model S\", 2022, 100)\n",
        "tesla.start_engine()  # Output: The Tesla Model S's engine has started.\n",
        "tesla.charge_battery()  # Output: The Tesla Model S's battery is now fully charged.\n"
      ],
      "metadata": {
        "colab": {
          "base_uri": "https://localhost:8080/"
        },
        "id": "EjAX21tGn6Ec",
        "outputId": "a0cdfae7-1c4b-4c42-896d-3a3cb8b375d1"
      },
      "execution_count": 24,
      "outputs": [
        {
          "output_type": "stream",
          "name": "stdout",
          "text": [
            "The Tesla Model S's engine has started.\n",
            "The Tesla Model S's battery is now fully charged.\n"
          ]
        }
      ]
    },
    {
      "cell_type": "markdown",
      "source": [
        "# Ülesanne 5: Polümorfism\n",
        "**Teema: Meetodite ülekoormamine ja polümorfism.**\n",
        "\n",
        "Ülesanne:\n",
        "\n",
        "Jätka eelnevalt loodud Car ja ElectricCar klassidega.\n",
        "Loo mõlemale klassile meetod drive, mis prindib sõnumi, et auto liigub. Erinevuseks tee see, et ElectricCar klassi puhul prinditakse ka sõnum, et auto on elektriline.\n",
        "Loo funktsioon test_drive, mis võtab argumendiks Car klassi objekti ja kutsub välja drive meetodi.\n",
        "Katseta test_drive funktsiooni nii Car kui ElectricCar objektidega."
      ],
      "metadata": {
        "id": "DG42sGrsoFZI"
      }
    },
    {
      "cell_type": "code",
      "source": [
        "class Car:\n",
        "    def __init__(self, brand, model, year):\n",
        "        self.brand = brand\n",
        "        self.model = model\n",
        "        self.year = year\n",
        "\n",
        "    # Meetod sõitmiseks\n",
        "    def drive(self):\n",
        "        print(f\"The {self.brand} {self.model} is driving.\")\n",
        "\n",
        "class ElectricCar(Car):\n",
        "    def __init__(self, brand, model, year, battery_capacity):\n",
        "        super().__init__(brand, model, year)\n",
        "        self.battery_capacity = battery_capacity\n",
        "\n",
        "    # Ülekirjutatud meetod sõitmiseks\n",
        "    def drive(self):\n",
        "        print(f\"The {self.brand} {self.model} is driving silently because it's electric.\")\n",
        "\n",
        "# Funktsioon, mis võtab vastu Car objekti ja kutsub drive meetodi\n",
        "def test_drive(car):\n",
        "    car.drive()\n",
        "\n",
        "# Testimine\n",
        "toyota = Car(\"Toyota\", \"Corolla\", 2020)\n",
        "tesla = ElectricCar(\"Tesla\", \"Model S\", 2022, 100)\n",
        "\n",
        "test_drive(toyota)  # Output: The Toyota Corolla is driving.\n",
        "test_drive(tesla)   # Output: The Tesla Model S is driving silently because it's electric.\n"
      ],
      "metadata": {
        "colab": {
          "base_uri": "https://localhost:8080/"
        },
        "id": "wufetzLQoVcZ",
        "outputId": "aa6bc4ed-f20a-4763-8e63-38d4685567b7"
      },
      "execution_count": 25,
      "outputs": [
        {
          "output_type": "stream",
          "name": "stdout",
          "text": [
            "The Toyota Corolla is driving.\n",
            "The Tesla Model S is driving silently because it's electric.\n"
          ]
        }
      ]
    },
    {
      "cell_type": "markdown",
      "source": [
        "# Ülesanne 6: Kompositsioon\n",
        "**Teema: Klasside omavaheline koostöö (Composition).**\n",
        "\n",
        "Ülesanne:\n",
        "\n",
        "Loo uus klass nimega Battery, millel on atribuudid capacity ja charge_level.\n",
        "Loo meetod charge, mis suurendab charge_level väärtust kuni capacity maksimumini.\n",
        "Muuda ElectricCar klassi nii, et see sisaldab Battery objekti kui atribuut.\n",
        "Loo meetod check_battery, mis prindib aku taseme.\n",
        "Katseta uut süsteemi luues ElectricCar objekti koos Battery objektiga ja simuleeri aku laadimist ja tühjenemist."
      ],
      "metadata": {
        "id": "SvUVbYcTpKp4"
      }
    },
    {
      "cell_type": "code",
      "source": [
        "# Battery klass\n",
        "class Battery:\n",
        "    def __init__(self, capacity, charge_level):\n",
        "        self.capacity = capacity  # Aku mahtuvus\n",
        "        self.charge_level = charge_level  # Laadimise tase\n",
        "\n",
        "    # Meetod aku laadimiseks\n",
        "    def charge(self):\n",
        "        self.charge_level = self.capacity\n",
        "        print(\"Battery is fully charged.\")\n",
        "\n",
        "# ElectricCar klass, mis sisaldab Battery objekti\n",
        "class ElectricCar:\n",
        "    def __init__(self, brand, model, year, battery_capacity):\n",
        "        self.brand = brand\n",
        "        self.model = model\n",
        "        self.year = year\n",
        "        self.battery = Battery(battery_capacity, 0)  # Aku algselt tühi\n",
        "\n",
        "    # Meetod aku taseme kontrollimiseks\n",
        "    def check_battery(self):\n",
        "        print(f\"Battery charge level is {self.battery.charge_level}/{self.battery.capacity} kWh.\")\n",
        "\n",
        "# Testimine\n",
        "tesla = ElectricCar(\"Tesla\", \"Model S\", 2022, 100)\n",
        "tesla.check_battery()  # Output: Battery charge level is 0/100 kWh.\n",
        "tesla.battery.charge()  # Output: Battery is fully charged.\n",
        "tesla.check_battery()  # Output: Battery charge level is 100/100 kWh.\n"
      ],
      "metadata": {
        "colab": {
          "base_uri": "https://localhost:8080/"
        },
        "id": "USD27BUVpQ96",
        "outputId": "ce08b10e-bf5b-4903-d36d-91d92706d855"
      },
      "execution_count": 26,
      "outputs": [
        {
          "output_type": "stream",
          "name": "stdout",
          "text": [
            "Battery charge level is 0/100 kWh.\n",
            "Battery is fully charged.\n",
            "Battery charge level is 100/100 kWh.\n"
          ]
        }
      ]
    },
    {
      "cell_type": "markdown",
      "source": [
        "# Ülesanne 7: Abstraktsed klassid ja meetodid\n",
        "**Teema: Abstraktsioon (Abstract Classes).**\n",
        "\n",
        "Ülesanne:\n",
        "\n",
        "Loo abstraktne klass nimega Vehicle, millel on abstraktne meetod drive.\n",
        "Muuda Car ja ElectricCar klassid pärima Vehicle klassi.\n",
        "Veendu, et mõlemas klassis on ülekattena (override) realiseeritud drive meetod.\n",
        "Loo instantsid ja testi, kas kõik töötab õigesti."
      ],
      "metadata": {
        "id": "d7YZdY_5pdJk"
      }
    },
    {
      "cell_type": "code",
      "source": [
        "from abc import ABC, abstractmethod\n",
        "\n",
        "# Abstraktne klass Vehicle\n",
        "class Vehicle(ABC):\n",
        "    @abstractmethod\n",
        "    def drive(self):\n",
        "        pass  # Abstraktne meetod, mida peavad kõik pärijad realiseerima\n",
        "\n",
        "# Car klass, mis pärib Vehicle klassi\n",
        "class Car(Vehicle):\n",
        "    def __init__(self, brand, model, year):\n",
        "        self.brand = brand\n",
        "        self.model = model\n",
        "        self.year = year\n",
        "\n",
        "    # Realiseeritud drive meetod\n",
        "    def drive(self):\n",
        "        print(f\"The {self.brand} {self.model} is driving.\")\n",
        "\n",
        "# ElectricCar klass, mis pärib Vehicle klassi\n",
        "class ElectricCar(Vehicle):\n",
        "    def __init__(self, brand, model, year, battery_capacity):\n",
        "        self.brand = brand\n",
        "        self.model = model\n",
        "        self.year = year\n",
        "        self.battery_capacity = battery_capacity\n",
        "\n",
        "    # Realiseeritud drive meetod\n",
        "    def drive(self):\n",
        "        print(f\"The {self.brand} {self.model} is driving silently because it's electric.\")\n",
        "\n",
        "# Testimine\n",
        "toyota = Car(\"Toyota\", \"Corolla\", 2020)\n",
        "tesla = ElectricCar(\"Tesla\", \"Model S\", 2022, 100)\n",
        "\n",
        "toyota.drive()  # Output: The Toyota Corolla is driving.\n",
        "tesla.drive()   # Output: The Tesla Model S is driving silently because it's electric.\n"
      ],
      "metadata": {
        "colab": {
          "base_uri": "https://localhost:8080/"
        },
        "id": "7tts870KplfN",
        "outputId": "64a92225-c6a4-4404-ff39-32af2f8fed9c"
      },
      "execution_count": 27,
      "outputs": [
        {
          "output_type": "stream",
          "name": "stdout",
          "text": [
            "The Toyota Corolla is driving.\n",
            "The Tesla Model S is driving silently because it's electric.\n"
          ]
        }
      ]
    },
    {
      "cell_type": "markdown",
      "source": [
        "# Ülesanne 8: Isendimeetodid vs Klassimeetodid vs Staatilised meetodid\n",
        "**Teema: Isendimeetodid, klassimeetodid ja staatilised meetodid.**\n",
        "\n",
        "Ülesanne:\n",
        "\n",
        "Loo klass nimega Book, millel on isendimeetod details, mis tagastab raamatu pealkirja ja autori.\n",
        "Lisa klassile klassimeetod from_string, mis võtab ühe stringi kujul argumenti (nt \"Pealkiri - Autor\") ja loob selle põhjal uue Book objekti.\n",
        "Loo staatiline meetod is_valid_title, mis kontrollib, kas antud string vastab mõistliku raamatu pealkirja nõuetele (nt pikkus on üle 1 märgi).\n",
        "Testi kõiki kolme meetodit, luues erinevaid Book objekte."
      ],
      "metadata": {
        "id": "fzf5FNDhs3mD"
      }
    },
    {
      "cell_type": "code",
      "source": [
        "class Book:\n",
        "    # Konstruktor, mis omistab pealkirja ja autori\n",
        "    def __init__(self, title, author):\n",
        "        self.title = title\n",
        "        self.author = author\n",
        "\n",
        "    # Isendimeetod, mis tagastab raamatu detailid\n",
        "    def details(self):\n",
        "        return f\"{self.title} by {self.author}\"\n",
        "\n",
        "    # Klassimeetod, mis loob objekti stringist \"Pealkiri - Autor\"\n",
        "    @classmethod\n",
        "    def from_string(cls, book_str):\n",
        "        title, author = book_str.split(\" - \")\n",
        "        return cls(title, author)\n",
        "\n",
        "    # Staatiline meetod, mis kontrollib, kas pealkiri on kehtiv\n",
        "    @staticmethod\n",
        "    def is_valid_title(title):\n",
        "        return len(title) > 1\n",
        "\n",
        "# Testimine\n",
        "book1 = Book(\"1984\", \"George Orwell\")\n",
        "print(book1.details())  # Output: 1984 by George Orwell\n",
        "\n",
        "book_str = \"Brave New World - Aldous Huxley\"\n",
        "book2 = Book.from_string(book_str)\n",
        "print(book2.details())  # Output: Brave New World by Aldous Huxley\n",
        "\n",
        "print(Book.is_valid_title(\"A\"))  # Output: False\n",
        "print(Book.is_valid_title(\"Animal Farm\"))  # Output: True\n"
      ],
      "metadata": {
        "colab": {
          "base_uri": "https://localhost:8080/"
        },
        "id": "AD1t229ruWcf",
        "outputId": "fa5feb23-6124-494c-c45d-2efcc40912af"
      },
      "execution_count": 28,
      "outputs": [
        {
          "output_type": "stream",
          "name": "stdout",
          "text": [
            "1984 by George Orwell\n",
            "Brave New World by Aldous Huxley\n",
            "False\n",
            "True\n"
          ]
        }
      ]
    },
    {
      "cell_type": "markdown",
      "source": [
        "# Ülesanne 9: Operator Overloading (Operaatorite ülekoormamine)\n",
        "**Teema: Operaatorite ülekoormamine Pythonis.**\n",
        "\n",
        "Ülesanne:\n",
        "\n",
        "Loo klass nimega Vector, mis esindab 2D vektorit, millel on atribuudid x ja y.\n",
        "Lisa sellele klassile operaatori + ülekoormamine, et saaks summeerida kahte Vector objekti.\n",
        "Lisa ka operaatori * ülekoormamine, et saaks korrutada Vector objekti skalaari (nt vector * 3).\n",
        "Loo mõned Vector objektid ja testi nende operaatorite ülekoormamist."
      ],
      "metadata": {
        "id": "qkmnGWR3tBNA"
      }
    },
    {
      "cell_type": "code",
      "source": [
        "class Vector:\n",
        "    def __init__(self, x, y):\n",
        "        self.x = x\n",
        "        self.y = y\n",
        "\n",
        "    # Operaatori + ülekoormamine vektorite liitmiseks\n",
        "    def __add__(self, other):\n",
        "        return Vector(self.x + other.x, self.y + other.y)\n",
        "\n",
        "    # Operaatori * ülekoormamine vektori korrutamiseks skalaariga\n",
        "    def __mul__(self, scalar):\n",
        "        return Vector(self.x * scalar, self.y * scalar)\n",
        "\n",
        "    # Kergemini loetav stringi esitus vektori jaoks\n",
        "    def __repr__(self):\n",
        "        return f\"Vector({self.x}, {self.y})\"\n",
        "\n",
        "# Testimine\n",
        "v1 = Vector(2, 3)\n",
        "v2 = Vector(4, 5)\n",
        "\n",
        "v3 = v1 + v2  # Vector(6, 8)\n",
        "v4 = v1 * 3   # Vector(6, 9)\n",
        "\n",
        "print(v3)  # Output: Vector(6, 8)\n",
        "print(v4)  # Output: Vector(6, 9)\n"
      ],
      "metadata": {
        "colab": {
          "base_uri": "https://localhost:8080/"
        },
        "id": "rdM3K120ubRU",
        "outputId": "8b6ba758-7cf7-4df9-bd5b-72b00c4655c9"
      },
      "execution_count": 29,
      "outputs": [
        {
          "output_type": "stream",
          "name": "stdout",
          "text": [
            "Vector(6, 8)\n",
            "Vector(6, 9)\n"
          ]
        }
      ]
    },
    {
      "cell_type": "markdown",
      "source": [
        "# Ülesanne 10: Property Decorators (Kinnisvara dekoraatorid)\n",
        "**Teema: Getterid, setterid ja @property dekoraator.**\n",
        "\n",
        "Ülesanne:\n",
        "\n",
        "Loo klass nimega Temperature, millel on privaatne atribuut __celsius.\n",
        "Lisa @property dekoraatoriga getter, mis tagastab temperatuuri Celsiuse kraadides.\n",
        "Loo setter, mis lubab Celsiuse temperatuuri muuta, kuid kui temperatuur on alla -273.15 (absoluutne null), peaks see andma veateate.\n",
        "Loo meetod to_fahrenheit, mis teisendab temperatuuri Fahrenheitiks.\n",
        "Katseta temperatuuri määramist ja teisendamist."
      ],
      "metadata": {
        "id": "B0DoH6ZvtFyM"
      }
    },
    {
      "cell_type": "code",
      "source": [
        "class Temperature:\n",
        "    def __init__(self, celsius):\n",
        "        self.__celsius = celsius  # Privaatne atribuut\n",
        "\n",
        "    # Getter meetod, mis tagastab temperatuuri Celsiuse kraadides\n",
        "    @property\n",
        "    def celsius(self):\n",
        "        return self.__celsius\n",
        "\n",
        "    # Setter meetod, mis lubab muuta temperatuuri Celsiuse kraadides\n",
        "    @celsius.setter\n",
        "    def celsius(self, value):\n",
        "        if value < -273.15:\n",
        "            raise ValueError(\"Temperature cannot be below -273.15°C\")\n",
        "        self.__celsius = value\n",
        "\n",
        "    # Meetod temperatuuri teisendamiseks Fahrenheiti kraadideks\n",
        "    def to_fahrenheit(self):\n",
        "        return (self.__celsius * 9/5) + 32\n",
        "\n",
        "# Testimine\n",
        "temp = Temperature(25)\n",
        "print(temp.celsius)  # Output: 25\n",
        "print(temp.to_fahrenheit())  # Output: 77.0\n",
        "\n",
        "#temp.celsius = -300  # Tõstab vea: Temperature cannot be below -273.15°C\n"
      ],
      "metadata": {
        "colab": {
          "base_uri": "https://localhost:8080/"
        },
        "id": "uH0cqqnzufKg",
        "outputId": "362e045d-bdda-4549-fc18-ac0a170f0d73"
      },
      "execution_count": 30,
      "outputs": [
        {
          "output_type": "stream",
          "name": "stdout",
          "text": [
            "25\n",
            "77.0\n"
          ]
        }
      ]
    },
    {
      "cell_type": "markdown",
      "source": [
        "# Ülesanne 11: Mixin klassid\n",
        "**Teema: Mixin klassid ja nende kasutamine.**\n",
        "\n",
        "Ülesanne:\n",
        "\n",
        "Loo LoggerMixin klass, millel on meetod log, mis prindib sõnumi koos ajatempli ja objekti nimega.\n",
        "Loo klass User, mis esindab kasutajat ja millel on atribuudid username ja email.\n",
        "Lase User klassil pärida LoggerMixin klassi, et see saaks kasutada log meetodit.\n",
        "Loo User objekti ja testi, kas logimine töötab korrektselt."
      ],
      "metadata": {
        "id": "-u-CC1dltM5m"
      }
    },
    {
      "cell_type": "code",
      "source": [
        "import datetime\n",
        "\n",
        "# Mixin klass logimiseks\n",
        "class LoggerMixin:\n",
        "    def log(self, message):\n",
        "        timestamp = datetime.datetime.now().strftime('%Y-%m-%d %H:%M:%S')\n",
        "        print(f\"[{timestamp}] {message}\")\n",
        "\n",
        "# User klass, mis pärib LoggerMixin\n",
        "class User(LoggerMixin):\n",
        "    def __init__(self, username, email):\n",
        "        self.username = username\n",
        "        self.email = email\n",
        "\n",
        "    def login(self):\n",
        "        self.log(f\"User {self.username} has logged in.\")\n",
        "\n",
        "# Testimine\n",
        "user = User(\"john_doe\", \"john@example.com\")\n",
        "user.login()  # Output: [2024-08-30 12:34:56] User john_doe has logged in.\n"
      ],
      "metadata": {
        "colab": {
          "base_uri": "https://localhost:8080/"
        },
        "id": "CcJ61gaJu2rc",
        "outputId": "8912e31b-4dea-4cc4-9319-040041674ffc"
      },
      "execution_count": 31,
      "outputs": [
        {
          "output_type": "stream",
          "name": "stdout",
          "text": [
            "[2024-08-30 11:09:26] User john_doe has logged in.\n"
          ]
        }
      ]
    },
    {
      "cell_type": "markdown",
      "source": [
        "# Ülesanne 12: Metaklassid\n",
        "**Teema: Metaklassid ja nende kasutamine.**\n",
        "\n",
        "Ülesanne:\n",
        "\n",
        "Loo metaklass CustomMeta, mis prindib sõnumi iga kord, kui uus klass selle metaklassi põhjal luuakse.\n",
        "Loo klass Person, mis kasutab metaklassina CustomMeta.\n",
        "Loo mõni objekt klassist Person ja jälgi, kuidas metaklass mõjutab klassi loomist."
      ],
      "metadata": {
        "id": "rbg1yDh-tUbY"
      }
    },
    {
      "cell_type": "code",
      "source": [
        "# Metaklass CustomMeta\n",
        "class CustomMeta(type):\n",
        "    def __new__(cls, name, bases, dct):\n",
        "        print(f\"Creating class {name}\")\n",
        "        return super().__new__(cls, name, bases, dct)\n",
        "\n",
        "# Klass Person, mis kasutab CustomMeta metaklassi\n",
        "class Person(metaclass=CustomMeta):\n",
        "    def __init__(self, name):\n",
        "        self.name = name\n",
        "\n",
        "# Testimine\n",
        "p = Person(\"Alice\")  # Output: Creating class Person\n"
      ],
      "metadata": {
        "colab": {
          "base_uri": "https://localhost:8080/"
        },
        "id": "EhW-m2rju8N0",
        "outputId": "1c35d56e-e810-4aee-af0e-ce2a8420c72a"
      },
      "execution_count": 32,
      "outputs": [
        {
          "output_type": "stream",
          "name": "stdout",
          "text": [
            "Creating class Person\n"
          ]
        }
      ]
    },
    {
      "cell_type": "markdown",
      "source": [
        "# Ülesanne 13: Singleton Pattern\n",
        "**Teema: Singleton disainimuster.**\n",
        "\n",
        "Ülesanne:\n",
        "\n",
        "Loo klass Singleton, mis tagab, et ükskõik kui palju objekte sellest klassist luuakse, tagastatakse alati sama objekt.\n",
        "Loo testimiseks mitu instantsi ja veendu, et nad on kõik samad."
      ],
      "metadata": {
        "id": "H1d-uTFXtbE8"
      }
    },
    {
      "cell_type": "code",
      "source": [
        "class Singleton:\n",
        "    _instance = None  # Klassimuutuja, mis hoiab Singletoni instantsi\n",
        "\n",
        "    def __new__(cls, *args, **kwargs):\n",
        "        if not cls._instance:  # Kui instantsi pole, loome selle\n",
        "            cls._instance = super().__new__(cls)\n",
        "        return cls._instance  # Tagastame alati sama instantsi\n",
        "\n",
        "# Testimine\n",
        "s1 = Singleton()\n",
        "s2 = Singleton()\n",
        "\n",
        "print(s1 is s2)  # Output: True (sama objekt)\n"
      ],
      "metadata": {
        "colab": {
          "base_uri": "https://localhost:8080/"
        },
        "id": "F74dC5-gvC3s",
        "outputId": "445188f8-38d7-4da4-acf8-daeab34b98bd"
      },
      "execution_count": 33,
      "outputs": [
        {
          "output_type": "stream",
          "name": "stdout",
          "text": [
            "True\n"
          ]
        }
      ]
    },
    {
      "cell_type": "markdown",
      "source": [
        "# Ülesanne 14: Klassi abstraktsioon ja graniidsus\n",
        "**Teema: Klassi abstraktsioon, graniidsus ja selle eelised.**\n",
        "\n",
        "Ülesanne:\n",
        "\n",
        "Loo klass Employee, millel on omadused nagu name, position, ja salary.\n",
        "Loo selle klassi põhjal kaks alamklassi: Manager ja Developer.\n",
        "Defineeri erinevad meetodid, mis on mõeldud ainult nendele alamklassidele (nt manage_team juhile ja write_code arendajale).\n",
        "Veendu, et Manager ja Developer klassid oleksid isoleeritud ja ei sisaldaks ülearuseid omadusi või meetodeid."
      ],
      "metadata": {
        "id": "LRuGzxZutgGQ"
      }
    },
    {
      "cell_type": "code",
      "source": [
        "# Vanemklass Employee\n",
        "class Employee:\n",
        "    def __init__(self, name, position, salary):\n",
        "        self.name = name\n",
        "        self.position = position\n",
        "        self.salary = salary\n",
        "\n",
        "# Alamklass Manager\n",
        "class Manager(Employee):\n",
        "    def manage_team(self):\n",
        "        print(f\"{self.name} is managing the team.\")\n",
        "\n",
        "# Alamklass Developer\n",
        "class Developer(Employee):\n",
        "    def write_code(self):\n",
        "        print(f\"{self.name} is writing code.\")\n",
        "\n",
        "# Testimine\n",
        "manager = Manager(\"Alice\", \"Manager\", 80000)\n",
        "developer = Developer(\"Bob\", \"Developer\", 70000)\n",
        "\n",
        "manager.manage_team()  # Output: Alice is managing the team.\n",
        "developer.write_code()  # Output: Bob is writing code.\n"
      ],
      "metadata": {
        "colab": {
          "base_uri": "https://localhost:8080/"
        },
        "id": "Wurudy-cvHRU",
        "outputId": "c225e6c9-c998-44f3-e62b-0c45447fab74"
      },
      "execution_count": 34,
      "outputs": [
        {
          "output_type": "stream",
          "name": "stdout",
          "text": [
            "Alice is managing the team.\n",
            "Bob is writing code.\n"
          ]
        }
      ]
    },
    {
      "cell_type": "markdown",
      "source": [
        "# Ülesanne 15: Objektide võrdlemine\n",
        "**Teema: Objekti võrdlemine (__eq__, __lt__ jne).**\n",
        "\n",
        "Ülesanne:\n",
        "\n",
        "Loo klass Rectangle, millel on atribuudid width ja height.\n",
        "Lisa meetod area, mis tagastab ristküliku pindala.\n",
        "Ülekoorma võrdlusoperaatorid\n",
        "(__eq__, __lt__, __gt__ jne), et võimaldada Rectangle objektide omavahelist võrdlemist nende pindala põhjal. 4. Testi, kas Rectangle objektid on võrreldavad ja sorteeritavad pindala alusel."
      ],
      "metadata": {
        "id": "qvTVS6BktlHE"
      }
    },
    {
      "cell_type": "code",
      "source": [
        "class Rectangle:\n",
        "    def __init__(self, width, height):\n",
        "        self.width = width\n",
        "        self.height = height\n",
        "\n",
        "    # Meetod pindala arvutamiseks\n",
        "    def area(self):\n",
        "        return self.width * self.height\n",
        "\n",
        "    # Võrdleme ristkülikute pindalasid (==)\n",
        "    def __eq__(self, other):\n",
        "        return self.area() == other.area()\n",
        "\n",
        "    # Võrdleme, kas ühe ristküliku pindala on väiksem (<)\n",
        "    def __lt__(self, other):\n",
        "        return self.area() < other.area()\n",
        "\n",
        "    # Võrdleme, kas ühe ristküliku pindala on suurem (>)\n",
        "    def __gt__(self, other):\n",
        "        return self.area() > other.area()\n",
        "\n",
        "# Testimine\n",
        "rect1 = Rectangle(4, 5)  # Pindala 20\n",
        "rect2 = Rectangle(2, 10)  # Pindala 20\n",
        "rect3 = Rectangle(3, 6)  # Pindala 18\n",
        "\n",
        "print(rect1 == rect2)  # Output: True (sama pindala)\n",
        "print(rect1 > rect3)   # Output: True (rect1 pindala on suurem kui rect3)\n",
        "print(rect3 < rect2)   # Output: True (rect3 pindala on väiksem kui rect2)\n"
      ],
      "metadata": {
        "colab": {
          "base_uri": "https://localhost:8080/"
        },
        "id": "AYwRa9GIs77T",
        "outputId": "70b974cc-0685-4163-c084-77775d2a925e"
      },
      "execution_count": 35,
      "outputs": [
        {
          "output_type": "stream",
          "name": "stdout",
          "text": [
            "True\n",
            "True\n",
            "True\n"
          ]
        }
      ]
    }
  ]
}
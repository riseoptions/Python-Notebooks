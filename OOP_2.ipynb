{
  "nbformat": 4,
  "nbformat_minor": 0,
  "metadata": {
    "colab": {
      "provenance": []
    },
    "kernelspec": {
      "name": "python3",
      "display_name": "Python 3"
    },
    "language_info": {
      "name": "python"
    }
  },
  "cells": [
    {
      "cell_type": "markdown",
      "source": [
        "# **Object Oriented Programming 2**"
      ],
      "metadata": {
        "id": "uNnr_T3EN46G"
      }
    },
    {
      "cell_type": "markdown",
      "source": [
        "# 1. Metaprogrammeerimine\n",
        "Metaprogrammeerimine võimaldab klasside ja objektide käitumist programmi käitamise ajal dünaamiliselt muuta. Näiteks Pythonis saad kasutada metaklasse klasside loomisel ja nende käitumise muutmisel.\n",
        "\n",
        "**Näide: Metaklasside Kasutamine**"
      ],
      "metadata": {
        "id": "tWRVtY4gOH0K"
      }
    },
    {
      "cell_type": "code",
      "execution_count": 1,
      "metadata": {
        "colab": {
          "base_uri": "https://localhost:8080/"
        },
        "id": "xoTPblTJNyc-",
        "outputId": "e964b23e-12ee-4395-dede-40fd48b3bfde"
      },
      "outputs": [
        {
          "output_type": "stream",
          "name": "stdout",
          "text": [
            "Hello, I'm Alice\n"
          ]
        }
      ],
      "source": [
        "class Meta(type):\n",
        "    def __new__(cls, name, bases, dct):\n",
        "        dct['greet'] = lambda self: f\"Hello, I'm {self.name}\"\n",
        "        return super().__new__(cls, name, bases, dct)\n",
        "\n",
        "class Person(metaclass=Meta):\n",
        "    def __init__(self, name):\n",
        "        self.name = name\n",
        "\n",
        "p = Person(\"Alice\")\n",
        "print(p.greet())  # Tulemuseks: Hello, I'm Alice\n"
      ]
    },
    {
      "cell_type": "markdown",
      "source": [
        "# 2. Dekoraatorid ja Destruktorid\n",
        "Dekoraatorid võimaldavad lisada klassidele ja meetoditele täiendavat käitumist. Destruktorid (__del__ meetod) võivad olla kasulikud objektide eemaldamiseks ja ressursside vabastamiseks.\n",
        "\n",
        "**Näide: Dekoraatorite Kasutamine**"
      ],
      "metadata": {
        "id": "S7UNYOPXOZn7"
      }
    },
    {
      "cell_type": "code",
      "source": [
        "def log_method_call(method):\n",
        "    def wrapper(*args, **kwargs):\n",
        "        print(f\"Calling {method.__name__}\")\n",
        "        result = method(*args, **kwargs)\n",
        "        print(f\"{method.__name__} returned {result}\")\n",
        "        return result\n",
        "    return wrapper\n",
        "\n",
        "class Calculator:\n",
        "    @log_method_call\n",
        "    def add(self, x, y):\n",
        "        return x + y\n",
        "\n",
        "calc = Calculator()\n",
        "print(calc.add(5, 7))\n"
      ],
      "metadata": {
        "colab": {
          "base_uri": "https://localhost:8080/"
        },
        "id": "9-Fj79WaOfnY",
        "outputId": "ac0cce0a-46ba-4927-fc52-c9f6e28ee0b7"
      },
      "execution_count": 2,
      "outputs": [
        {
          "output_type": "stream",
          "name": "stdout",
          "text": [
            "Calling add\n",
            "add returned 12\n",
            "12\n"
          ]
        }
      ]
    },
    {
      "cell_type": "markdown",
      "source": [
        "# 3. Interface'ide ja Abstraktsete Klasside Kasutamine\n",
        "Python ei toetagi formal interfaces nagu mõnes teises keeltes, kuid sa saad kasutada abstraktseid klasse ja meetodeid, et määratleda nõuded alamklassidele.\n",
        "\n",
        "**Näide: Abstraktsete Klasside Kasutamine**"
      ],
      "metadata": {
        "id": "mtu7QRj9OmwM"
      }
    },
    {
      "cell_type": "code",
      "source": [
        "from abc import ABC, abstractmethod\n",
        "\n",
        "class Shape(ABC):\n",
        "    @abstractmethod\n",
        "    def area(self):\n",
        "        pass\n",
        "\n",
        "class Circle(Shape):\n",
        "    def __init__(self, radius):\n",
        "        self.radius = radius\n",
        "\n",
        "    def area(self):\n",
        "        return 3.14 * self.radius ** 2\n",
        "\n",
        "circle = Circle(5)\n",
        "print(circle.area())  # Tulemuseks: 78.5\n"
      ],
      "metadata": {
        "colab": {
          "base_uri": "https://localhost:8080/"
        },
        "id": "H4qviW1aOp3o",
        "outputId": "20198418-d43d-40b2-fe74-11a95df8b61f"
      },
      "execution_count": 3,
      "outputs": [
        {
          "output_type": "stream",
          "name": "stdout",
          "text": [
            "78.5\n"
          ]
        }
      ]
    },
    {
      "cell_type": "markdown",
      "source": [
        "# 4. Data Classes (Python 3.7+)\n",
        "Data klassid pakuvad lihtsamat viisi andmete hoidmiseks klassides, automaatselt genereerides meetodeid nagu __init__, __repr__, ja __eq__.\n",
        "\n",
        "**Näide: Data Class Kasutamine**"
      ],
      "metadata": {
        "id": "s3Vo2jq0Os3Y"
      }
    },
    {
      "cell_type": "code",
      "source": [
        "from dataclasses import dataclass\n",
        "\n",
        "@dataclass\n",
        "class Person:\n",
        "    name: str\n",
        "    age: int\n",
        "\n",
        "p = Person(\"Bob\", 30)\n",
        "print(p)  # Tulemuseks: Person(name='Bob', age=30)\n"
      ],
      "metadata": {
        "colab": {
          "base_uri": "https://localhost:8080/"
        },
        "id": "afVkOPVUO1IV",
        "outputId": "1747ff8c-4378-4e92-9f19-e25cad2af0f3"
      },
      "execution_count": 4,
      "outputs": [
        {
          "output_type": "stream",
          "name": "stdout",
          "text": [
            "Person(name='Bob', age=30)\n"
          ]
        }
      ]
    },
    {
      "cell_type": "markdown",
      "source": [
        "# 5. Type Hints ja Typing Modul\n",
        "Python 3.5+ toetab tüübi vihjeid, mis aitavad muuta koodi loetavamaks ja aidata tööriistadel (nt IDE-del) automaatselt tüüpide kontrolle teha.\n",
        "\n",
        "**Näide: Type Hinting**"
      ],
      "metadata": {
        "id": "YXqnPT3gO5x4"
      }
    },
    {
      "cell_type": "code",
      "source": [
        "from typing import List\n",
        "\n",
        "def average(numbers: List[int]) -> float:\n",
        "    return sum(numbers) / len(numbers)\n",
        "\n",
        "print(average([1, 2, 3, 4, 5]))  # Tulemuseks: 3.0\n",
        "print(average([1, 2.3, 3, 4, 5]))"
      ],
      "metadata": {
        "colab": {
          "base_uri": "https://localhost:8080/"
        },
        "id": "bavWFZxFO-QH",
        "outputId": "572d64b1-ee67-4729-e3cf-357e7ed759e8"
      },
      "execution_count": 30,
      "outputs": [
        {
          "output_type": "stream",
          "name": "stdout",
          "text": [
            "3.0\n",
            "3.06\n"
          ]
        }
      ]
    },
    {
      "cell_type": "markdown",
      "source": [
        "Kui argumentide andmetüüp on kohustuslik:"
      ],
      "metadata": {
        "id": "_ydy7U4Idr6h"
      }
    },
    {
      "cell_type": "code",
      "source": [
        "from typing import List\n",
        "\n",
        "def calculate_average(numbers: List[int]) -> float:\n",
        "    if not isinstance(numbers, list):\n",
        "        raise TypeError(f\"Expected list of ints, got {type(numbers).__name__}\")\n",
        "    if any(not isinstance(i, int) for i in numbers):\n",
        "        raise ValueError(\"All elements in the list must be integers\")\n",
        "    return sum(numbers) / len(numbers)\n",
        "print(calculate_average([1, 2, 3, 4, 5]))"
      ],
      "metadata": {
        "colab": {
          "base_uri": "https://localhost:8080/"
        },
        "id": "_yEJ4sq9cynb",
        "outputId": "6abc7fac-5ebe-46dd-b619-ef28295dc42b"
      },
      "execution_count": 34,
      "outputs": [
        {
          "output_type": "stream",
          "name": "stdout",
          "text": [
            "3.0\n"
          ]
        }
      ]
    },
    {
      "cell_type": "code",
      "source": [
        "from pydantic import BaseModel, conlist\n",
        "\n",
        "class NumbersModel(BaseModel):\n",
        "    numbers: conlist(int, min_length=1)  # Pydantic tagab, et 'numbers' on täisarvude nimekiri ja mitte tühi\n",
        "\n",
        "def calculate_average(data: NumbersModel) -> float:\n",
        "    return sum(data.numbers) / len(data.numbers)\n",
        "\n",
        "# Õige näide\n",
        "try:\n",
        "    data = NumbersModel(numbers=[1, 2, 3, 4])\n",
        "    print(calculate_average(data))  # Output: 2.5\n",
        "except Exception as e:\n",
        "    print(f\"Error: {e}\")\n",
        "\n",
        "# Vale näide: sisaldab ujukomaarvu\n",
        "try:\n",
        "    data = NumbersModel(numbers=[1, 2, 3.5, 4])\n",
        "    print(calculate_average(data))\n",
        "except Exception as e:\n",
        "    print(f\"Error: {e}\")  # See tekitab vea, kuna nimekiri sisaldab mitte-int tüüpi elemente\n"
      ],
      "metadata": {
        "colab": {
          "base_uri": "https://localhost:8080/"
        },
        "id": "HDmeytQ_dLdO",
        "outputId": "9648c4b8-ad1c-4c92-b2ec-b05a1fc328c0"
      },
      "execution_count": 38,
      "outputs": [
        {
          "output_type": "stream",
          "name": "stdout",
          "text": [
            "2.5\n",
            "Error: 1 validation error for NumbersModel\n",
            "numbers.2\n",
            "  Input should be a valid integer, got a number with a fractional part [type=int_from_float, input_value=3.5, input_type=float]\n",
            "    For further information visit https://errors.pydantic.dev/2.8/v/int_from_float\n"
          ]
        }
      ]
    },
    {
      "cell_type": "markdown",
      "source": [
        "# 6. Dependency Injection\n",
        "Dependency Injection (DI) on disainimuster, mis võimaldab sõltuvuste (nt teenuste) haldamist ja süstimist klassidesse. Pythonis saad DI-d rakendada lihtsate meetodite abil või kasutada raamistikke nagu injector.\n",
        "\n",
        "**Näide: Lihtne Dependency Injection**"
      ],
      "metadata": {
        "id": "mRadx8oiPA7f"
      }
    },
    {
      "cell_type": "code",
      "source": [
        "class Database:\n",
        "    def connect(self):\n",
        "        return \"Database connected\"\n",
        "\n",
        "class UserService:\n",
        "    def __init__(self, db: Database):\n",
        "        self.db = db\n",
        "\n",
        "    def get_user(self):\n",
        "        return self.db.connect()\n",
        "\n",
        "db = Database()\n",
        "user_service = UserService(db)\n",
        "print(user_service.get_user())  # Tulemuseks: Database connected\n"
      ],
      "metadata": {
        "colab": {
          "base_uri": "https://localhost:8080/"
        },
        "id": "jALqYWRkPGCI",
        "outputId": "fb7ddcc8-e3b0-4fc0-a483-8c6dad15bac5"
      },
      "execution_count": 6,
      "outputs": [
        {
          "output_type": "stream",
          "name": "stdout",
          "text": [
            "Database connected\n"
          ]
        }
      ]
    },
    {
      "cell_type": "markdown",
      "source": [
        "# 7. Event-Driven Programming\n",
        "Klasside sündmuste ja signaalide haldamine on kasulik, kui soovite oma rakenduses kasutada sündmuste põhist lähenemist. Pythonis saab kasutada sündmuste haldamiseks raamistikke nagu pynotifier või blinker.\n",
        "\n",
        "**Näide: Lihtne Sündmuste Halduse Näide**"
      ],
      "metadata": {
        "id": "PEj444zPPJSh"
      }
    },
    {
      "cell_type": "code",
      "source": [
        "from blinker import signal\n",
        "\n",
        "# Define a signal\n",
        "data_received = signal('data_received')\n",
        "\n",
        "def on_data_received(sender, **kwargs):\n",
        "    print(f\"Data received from {sender}\")\n",
        "\n",
        "# Connect the signal to the handler\n",
        "data_received.connect(on_data_received)\n",
        "\n",
        "# Send the signal\n",
        "data_received.send('Server')\n"
      ],
      "metadata": {
        "colab": {
          "base_uri": "https://localhost:8080/"
        },
        "id": "krkEmct1POzX",
        "outputId": "9bd49fe2-0a47-460e-ebfc-ffc4b7e7b3c1"
      },
      "execution_count": 7,
      "outputs": [
        {
          "output_type": "stream",
          "name": "stdout",
          "text": [
            "Data received from Server\n"
          ]
        },
        {
          "output_type": "execute_result",
          "data": {
            "text/plain": [
              "[(<function __main__.on_data_received(sender, **kwargs)>, None)]"
            ]
          },
          "metadata": {},
          "execution_count": 7
        }
      ]
    },
    {
      "cell_type": "markdown",
      "source": [
        "# **Metaprogrammeerimine**\n",
        "\n",
        "Metaprogrammeerimine Pythonis võimaldab sul muuta või genereerida koodi dünaamiliselt. Siin on mõned lihtsad näiteid metaprogrammeerimise rakendamisest, mille abil saad näha, kuidas Pythonis saab klasside ja objektide käitumist programmikoodiga muuta.\n",
        "\n",
        "Metaprogrammeerimine võimaldab Pythonis dünaamiliselt muuta klasside ja objektide käitumist ja omadusi. Metaprogrammeerimine annab suure paindlikkuse ja võime muuta koodi käitumist jooksvalt, mis võib olla väga kasulik erinevates olukordades, sealhulgas raamistike ja kõrgema taseme abstraktsioonide loomisel.\n"
      ],
      "metadata": {
        "id": "U9RgiFIZPjYb"
      }
    },
    {
      "cell_type": "markdown",
      "source": [
        "# 1. Klasside Loomine Dünaamiliselt\n",
        "Pythonis saad luua klasse dünaamiliselt, kasutades type funktsiooni, mis on metaklasside loomise põhivahend."
      ],
      "metadata": {
        "id": "z6yXS4_KP9WP"
      }
    },
    {
      "cell_type": "code",
      "source": [
        "# Define a class dynamically\n",
        "MyClass = type('MyClass', (object,), {'x': 5, 'say_hello': lambda self: f\"Hello from MyClass\"})\n",
        "\n",
        "# Create an instance of the dynamically created class\n",
        "instance = MyClass()\n",
        "print(instance.x)  # Tulemuseks: 5\n",
        "print(instance.say_hello())  # Tulemuseks: Hello from MyClass\n"
      ],
      "metadata": {
        "colab": {
          "base_uri": "https://localhost:8080/"
        },
        "id": "ZEd4zUKEP53j",
        "outputId": "368dcb31-ecf2-4a48-e0ff-11693720b879"
      },
      "execution_count": 8,
      "outputs": [
        {
          "output_type": "stream",
          "name": "stdout",
          "text": [
            "5\n",
            "Hello from MyClass\n"
          ]
        }
      ]
    },
    {
      "cell_type": "markdown",
      "source": [
        "# 2. Metaklasside Kasutamine\n",
        "Metaklassid võimaldavad muuta klasside loomise protsessi. Näiteks võid muuta klassi atribuutide või meetodite käitumist."
      ],
      "metadata": {
        "id": "ItZ5xDgHQKhU"
      }
    },
    {
      "cell_type": "code",
      "source": [
        "import logging\n",
        "\n",
        "# Configure logging\n",
        "logging.basicConfig(level=logging.INFO, format='%(asctime)s: %(message)s')\n",
        "l = logging.getLogger(\"metaclass_example\")\n",
        "\n",
        "class Meta(type):\n",
        "    def __new__(cls, name, bases, dct):\n",
        "        # Adding a new method to the class dynamically\n",
        "        dct['greet'] = lambda self: f\"Hello, I'm {self.name}\"\n",
        "        # Create the class using the parent __new__ method\n",
        "        return super().__new__(cls, name, bases, dct)\n",
        "\n",
        "class Person(metaclass=Meta):\n",
        "    def __init__(self, name):\n",
        "        self.name = name\n",
        "\n",
        "# Create an instance of the Person class\n",
        "p = Person(\"Alice\")\n",
        "l.info(p.greet())  # Tulemuseks: Hello, I'm Alice\n"
      ],
      "metadata": {
        "id": "PUDBRHS2QOE3"
      },
      "execution_count": 10,
      "outputs": []
    },
    {
      "cell_type": "markdown",
      "source": [
        "Näide kuidas metaklassi abil saab klassi atribuutide nimed automaatselt muuta:"
      ],
      "metadata": {
        "id": "jYN2QOX-U-Lw"
      }
    },
    {
      "cell_type": "code",
      "source": [
        "import logging\n",
        "\n",
        "# Configure logging\n",
        "logging.basicConfig(level=logging.INFO, format='%(asctime)s: %(message)s')\n",
        "l = logging.getLogger(\"metaclass_example\")\n",
        "\n",
        "class UpperCaseMeta(type):\n",
        "    def __new__(cls, name, bases, dct):\n",
        "        # Convert all attribute names to upper case\n",
        "        upper_case_attrs = {k.upper(): v for k, v in dct.items()}\n",
        "        return super().__new__(cls, name, bases, upper_case_attrs)\n",
        "\n",
        "class MyClass(metaclass=UpperCaseMeta):\n",
        "    my_attribute = 'Hello'\n",
        "    def my_method(self):\n",
        "        return 'World'\n",
        "\n",
        "# Create an instance of MyClass\n",
        "obj = MyClass()\n",
        "l.info(obj.MY_METHOD())  # Tulemuseks: World\n",
        "l.info(obj.MY_ATTRIBUTE)  # Tulemuseks: Hello\n"
      ],
      "metadata": {
        "id": "haaJJNj5U-i4"
      },
      "execution_count": 11,
      "outputs": []
    },
    {
      "cell_type": "markdown",
      "source": [
        "# 3. Dekoratiivsete Klasside Kasutamine\n",
        "Dekoratiivsete klasside abil saad lisada klasside meetoditele täiendavat käitumist või muuta nende omadusi."
      ],
      "metadata": {
        "id": "bsiTgTPVPn5k"
      }
    },
    {
      "cell_type": "code",
      "source": [
        "def add_method(cls):\n",
        "    cls.new_method = lambda self: f\"New method added to {cls.__name__}\"\n",
        "    return cls\n",
        "\n",
        "@add_method\n",
        "class MyClass:\n",
        "    pass\n",
        "\n",
        "obj = MyClass()\n",
        "print(obj.new_method())  # Tulemuseks: New method added to MyClass\n"
      ],
      "metadata": {
        "colab": {
          "base_uri": "https://localhost:8080/"
        },
        "id": "CszCn-PkVOik",
        "outputId": "ab26f77f-d7e4-426c-bc34-7ddb60f6c757"
      },
      "execution_count": 12,
      "outputs": [
        {
          "output_type": "stream",
          "name": "stdout",
          "text": [
            "New method added to MyClass\n"
          ]
        }
      ]
    },
    {
      "cell_type": "markdown",
      "source": [
        "# 4. Atribuutide Automaatne Loomine\n",
        "Klasside atribuutide automaatne loomine võimaldab sul vältida korduvat koodi ja vähendada vigade tekkimise riski."
      ],
      "metadata": {
        "id": "N21LjwyBVSQv"
      }
    },
    {
      "cell_type": "code",
      "source": [
        "class AutoAttributes:\n",
        "    def __init__(self, **attributes):\n",
        "        for name, value in attributes.items():\n",
        "            setattr(self, name, value)\n",
        "\n",
        "# Create an instance with dynamic attributes\n",
        "obj = AutoAttributes(name=\"Alice\", age=30)\n",
        "print(obj.name)  # Tulemuseks: Alice\n",
        "print(obj.age)  # Tulemuseks: 30\n"
      ],
      "metadata": {
        "colab": {
          "base_uri": "https://localhost:8080/"
        },
        "id": "c3dCDVWVVV6o",
        "outputId": "0c2a731f-7c61-4359-bfbc-c99fdb4668fb"
      },
      "execution_count": 13,
      "outputs": [
        {
          "output_type": "stream",
          "name": "stdout",
          "text": [
            "Alice\n",
            "30\n"
          ]
        }
      ]
    },
    {
      "cell_type": "markdown",
      "source": [
        "# 5. Klasside Nähtavuse Kontrollimine\n",
        "Sa saad muuta klasside atribuutide nähtavust, kasutades Pythonis esipremeerimismeetodeid (nt __private)."
      ],
      "metadata": {
        "id": "Bc3XIIv7VZbt"
      }
    },
    {
      "cell_type": "code",
      "source": [
        "class MyClass:\n",
        "    def __init__(self, name):\n",
        "        self.__name = name\n",
        "\n",
        "    def get_name(self):\n",
        "        return self.__name\n",
        "\n",
        "obj = MyClass(\"Secret\")\n",
        "print(obj.get_name())  # Tulemuseks: Secret\n",
        "\n",
        "# Direct access to private attributes is restricted\n",
        "# print(obj.__name)  # Tõstaks AttributeError\n"
      ],
      "metadata": {
        "colab": {
          "base_uri": "https://localhost:8080/"
        },
        "id": "u3FF9abhVgfT",
        "outputId": "a4fd2212-0ef2-4324-a257-fea2cbce4f5f"
      },
      "execution_count": 14,
      "outputs": [
        {
          "output_type": "stream",
          "name": "stdout",
          "text": [
            "Secret\n"
          ]
        }
      ]
    },
    {
      "cell_type": "markdown",
      "source": [
        "# 6. Dünaamilise Meetodi Loomine\n",
        "Pythonis saad luua meetodeid klassidesse dünaamiliselt, kasutades setattr."
      ],
      "metadata": {
        "id": "oMsVMjRQVj6o"
      }
    },
    {
      "cell_type": "code",
      "source": [
        "class MyClass:\n",
        "    pass\n",
        "\n",
        "def dynamic_method(self):\n",
        "    return \"This is a dynamically added method\"\n",
        "\n",
        "# Add method to class\n",
        "setattr(MyClass, 'new_method', dynamic_method)\n",
        "\n",
        "obj = MyClass()\n",
        "print(obj.new_method())  # Tulemuseks: This is a dynamically added method\n"
      ],
      "metadata": {
        "colab": {
          "base_uri": "https://localhost:8080/"
        },
        "id": "YJ_ag-5fVpY7",
        "outputId": "a967128d-b539-4d5f-a97e-1c8a933d9e3b"
      },
      "execution_count": 15,
      "outputs": [
        {
          "output_type": "stream",
          "name": "stdout",
          "text": [
            "This is a dynamically added method\n"
          ]
        }
      ]
    },
    {
      "cell_type": "markdown",
      "source": [
        "# 7. Klasside Koostamine\n",
        "Pythonis saad klasside käitumist ja omadusi muuta, luues klassi, mis koostab teisi klasse."
      ],
      "metadata": {
        "id": "xzqRrr0jVu20"
      }
    },
    {
      "cell_type": "code",
      "source": [
        "def class_factory(name):\n",
        "    return type(name, (object,), {'description': f\"This is {name}\"})\n",
        "\n",
        "# Create a new class dynamically\n",
        "NewClass = class_factory(\"NewClass\")\n",
        "instance = NewClass()\n",
        "print(instance.description)  # Tulemuseks: This is NewClass\n"
      ],
      "metadata": {
        "colab": {
          "base_uri": "https://localhost:8080/"
        },
        "id": "iHHmeK6eVwoX",
        "outputId": "d59ca5ab-85a4-405e-960b-6ab24a3c3ee7"
      },
      "execution_count": 16,
      "outputs": [
        {
          "output_type": "stream",
          "name": "stdout",
          "text": [
            "This is NewClass\n"
          ]
        }
      ]
    },
    {
      "cell_type": "markdown",
      "source": [
        "# 8. Klassi Koostamine Argumentide Alusel\n",
        "Klasside loomine argumentide alusel võimaldab luua klasside hierarhiaid ja instantsi omadusi dünaamiliselt."
      ],
      "metadata": {
        "id": "EgiqE5BxV0Nj"
      }
    },
    {
      "cell_type": "code",
      "source": [
        "def create_class_with_method(method_name):\n",
        "    return type('DynamicClass', (object,), {method_name: lambda self: f\"Method {method_name} called\"})\n",
        "\n",
        "# Create a class with a method named 'special_method'\n",
        "DynamicClass = create_class_with_method('special_method')\n",
        "instance = DynamicClass()\n",
        "print(instance.special_method())  # Tulemuseks: Method special_method called\n"
      ],
      "metadata": {
        "colab": {
          "base_uri": "https://localhost:8080/"
        },
        "id": "IZmVA4VOV3bX",
        "outputId": "3f7d2792-e2fe-4bf0-dd66-2a32075643b3"
      },
      "execution_count": 17,
      "outputs": [
        {
          "output_type": "stream",
          "name": "stdout",
          "text": [
            "Method special_method called\n"
          ]
        }
      ]
    },
    {
      "cell_type": "markdown",
      "source": [
        "# Kuidas metaprogrammeerimine saab aidata Yahoo Finance'i andmete töötlemisel.\n",
        "\n",
        "Metaprogrammeerimine aitab lihtsustada ja dünaamiliselt kohandada klasside ja meetodite käitumist, muutes andmete töötlemise ja analüüsi tõhusamaks ja paindlikumaks."
      ],
      "metadata": {
        "id": "IKgOuYz-W31p"
      }
    },
    {
      "cell_type": "markdown",
      "source": [
        "# Näide 1: Klasside Düstabiilne Loomine\n",
        "Kujutame ette, et tahame luua klassi, mis esindab erinevaid finantsandmete tüüpide struktuure automaatselt. Saame kasutada metaklasse, et luua selline klass, mis lisab vajalikke meetodeid ja atribuutide nimed dünaamiliselt.\n",
        "\n",
        "**Selgitus:**\n",
        "\n",
        "**Metaklass (FinanceMeta):**\n",
        "\n",
        "FinanceMeta metaklass lisab klassidele, mis kasutavad seda, meetodi fetch_data, mis tõmbab andmeid Yahoo Finance'ist.\n",
        "\n",
        "**Klassi Loomine (Stock):**\n",
        "\n",
        "Stock klass kasutab FinanceMeta metaklassi ja saab automaatselt fetch_data meetodi, mis lubab andmeid Yahoo Finance'ist alla laadida.\n",
        "\n",
        "**Klassi Kasutamine:**\n",
        "\n",
        "Loo Stock instants ja kasuta fetch_data meetodit andmete allalaadimiseks."
      ],
      "metadata": {
        "id": "Cr3M3CQXW6UU"
      }
    },
    {
      "cell_type": "code",
      "source": [
        "import yfinance as yf\n",
        "import logging\n",
        "\n",
        "# Configure logging\n",
        "logging.basicConfig(level=logging.INFO, format='%(asctime)s: %(message)s')\n",
        "l = logging.getLogger(\"metaprogramming_example\")\n",
        "\n",
        "class FinanceMeta(type):\n",
        "    def __new__(cls, name, bases, dct):\n",
        "        # Adding a method to fetch data from Yahoo Finance\n",
        "        dct['fetch_data'] = lambda self: yf.download(self.symbol, start=self.start_date, end=self.end_date)\n",
        "        return super().__new__(cls, name, bases, dct)\n",
        "\n",
        "class Stock(metaclass=FinanceMeta):\n",
        "    def __init__(self, symbol, start_date, end_date):\n",
        "        self.symbol = symbol\n",
        "        self.start_date = start_date\n",
        "        self.end_date = end_date\n",
        "\n",
        "# Usage\n",
        "stock = Stock(\"AAPL\", \"2023-01-01\", \"2023-08-01\")\n",
        "data = stock.fetch_data()\n",
        "l.info(data.head())  # Print the first few rows of the data\n"
      ],
      "metadata": {
        "colab": {
          "base_uri": "https://localhost:8080/"
        },
        "id": "tP2kYiEzW9RW",
        "outputId": "e40e928f-ff44-4fd9-bc66-00a6227739aa"
      },
      "execution_count": 18,
      "outputs": [
        {
          "output_type": "stream",
          "name": "stderr",
          "text": [
            "\r[*********************100%***********************]  1 of 1 completed\n"
          ]
        }
      ]
    },
    {
      "cell_type": "markdown",
      "source": [
        "# Näide 2: Andmeatribuutide Dünaamiline Loomine\n",
        "Oletame, et tahame dünaamiliselt luua andmeatribuutide nimed klassis, et need vastaksid Yahoo Finance'i andmete veergudele.\n",
        "\n",
        "**Selgitus:**\n",
        "\n",
        "**Metaklass (DataMeta):**\n",
        "\n",
        "DataMeta metaklass lisab klassidele, mis kasutavad seda, atribuut data, millele andmed salvestatakse.\n",
        "\n",
        "**Klassi Loomine (FinancialData):**\n",
        "\n",
        "FinancialData klass kasutab DataMeta metaklassi ja omab meetodeid fetch_data ja print_summary, mis laadivad andmeid Yahoo Finance'ist ja prindivad andmete kokkuvõtte.\n",
        "\n",
        "**Klassi Kasutamine:**\n",
        "\n",
        "Loo FinancialData instants, lae andmed ja prindi kokkuvõtte."
      ],
      "metadata": {
        "id": "lDD6--BVXtDA"
      }
    },
    {
      "cell_type": "code",
      "source": [
        "import yfinance as yf\n",
        "import logging\n",
        "\n",
        "# Configure logging\n",
        "logging.basicConfig(level=logging.INFO, format='%(asctime)s: %(message)s')\n",
        "l = logging.getLogger(\"metaprogramming_example\")\n",
        "\n",
        "class DataMeta(type):\n",
        "    def __new__(cls, name, bases, dct):\n",
        "        # Assuming `dct` contains the fields to add as attributes\n",
        "        dct['data'] = None\n",
        "        return super().__new__(cls, name, bases, dct)\n",
        "\n",
        "class FinancialData(metaclass=DataMeta):\n",
        "    def __init__(self, symbol, start_date, end_date):\n",
        "        self.symbol = symbol\n",
        "        self.start_date = start_date\n",
        "        self.end_date = end_date\n",
        "\n",
        "    def fetch_data(self):\n",
        "        self.data = yf.download(self.symbol, start=self.start_date, end=self.end_date)\n",
        "        return self.data\n",
        "\n",
        "    def print_summary(self):\n",
        "        if self.data is not None:\n",
        "            l.info(f\"Data for {self.symbol}:\")\n",
        "            l.info(self.data.describe())\n",
        "\n",
        "# Usage\n",
        "financial_data = FinancialData(\"GOOGL\", \"2023-01-01\", \"2023-08-01\")\n",
        "financial_data.fetch_data()\n",
        "financial_data.print_summary()\n"
      ],
      "metadata": {
        "colab": {
          "base_uri": "https://localhost:8080/"
        },
        "id": "o0puIsbVXvtA",
        "outputId": "2af5d5cc-8b34-45dc-de88-6005475bb37f"
      },
      "execution_count": 19,
      "outputs": [
        {
          "output_type": "stream",
          "name": "stderr",
          "text": [
            "\r[*********************100%***********************]  1 of 1 completed\n"
          ]
        }
      ]
    },
    {
      "cell_type": "markdown",
      "source": [
        "# Näide 3: Automaatne Veergude Kontrollimine\n",
        "Eeldades, et tahame automaatselt kontrollida, kas vajalikud veerud on olemas andmetes, saame luua klassi, mis kontrollib neid veerge metaprogrammeerimise abil.\n",
        "\n",
        "**Selgitus:**\n",
        "\n",
        "**Metaklass (DataValidatorMeta):**\n",
        "\n",
        "DataValidatorMeta metaklass lisab klassidele, mis kasutavad seda, meetodi validate_columns, mis kontrollib, kas kõik vajalikud veerud on andmetes olemas.\n",
        "\n",
        "**Klassi Loomine (FinancialValidator):**\n",
        "\n",
        "FinancialValidator klass kasutab DataValidatorMeta metaklassi ja omab meetodeid fetch_data ja validate, et laadida andmeid ja kontrollida veergude olemasolu.\n",
        "\n",
        "**Klassi Kasutamine:**\n",
        "\n",
        "Loo FinancialValidator instants, lae andmed ja kontrolli veergude olemasolu."
      ],
      "metadata": {
        "id": "9qVS4SuqYKoE"
      }
    },
    {
      "cell_type": "code",
      "source": [
        "import yfinance as yf\n",
        "import logging\n",
        "\n",
        "# Configure logging\n",
        "logging.basicConfig(level=logging.INFO, format='%(asctime)s: %(message)s')\n",
        "l = logging.getLogger(\"metaprogramming_example\")\n",
        "\n",
        "class DataValidatorMeta(type):\n",
        "    def __new__(cls, name, bases, dct):\n",
        "        # Adding a method to validate columns in the data\n",
        "        dct['validate_columns'] = lambda self: all(col in self.data.columns for col in self.required_columns)\n",
        "        return super().__new__(cls, name, bases, dct)\n",
        "\n",
        "class FinancialValidator(metaclass=DataValidatorMeta):\n",
        "    required_columns = ['Open', 'High', 'Low', 'Close', 'Volume']\n",
        "\n",
        "    def __init__(self, symbol, start_date, end_date):\n",
        "        self.symbol = symbol\n",
        "        self.start_date = start_date\n",
        "        self.end_date = end_date\n",
        "        self.data = None\n",
        "\n",
        "    def fetch_data(self):\n",
        "        self.data = yf.download(self.symbol, start=self.start_date, end=self.end_date)\n",
        "        return self.data\n",
        "\n",
        "    def validate(self):\n",
        "        if self.data is not None:\n",
        "            if self.validate_columns():\n",
        "                l.info(\"All required columns are present.\")\n",
        "            else:\n",
        "                l.info(\"Some required columns are missing.\")\n",
        "\n",
        "# Usage\n",
        "validator = FinancialValidator(\"MSFT\", \"2023-01-01\", \"2023-08-01\")\n",
        "validator.fetch_data()\n",
        "validator.validate()\n"
      ],
      "metadata": {
        "colab": {
          "base_uri": "https://localhost:8080/"
        },
        "id": "ddaJvU_AYPHD",
        "outputId": "7d234e12-9e19-421f-bd8c-ab8ee2843883"
      },
      "execution_count": 20,
      "outputs": [
        {
          "output_type": "stream",
          "name": "stderr",
          "text": [
            "\r[*********************100%***********************]  1 of 1 completed\n"
          ]
        }
      ]
    },
    {
      "cell_type": "markdown",
      "source": [
        "# DataClass vs Pydantic Class\n",
        "dataclasses on lihtne ja efektiivne viis andmestruktuuride loomiseks, samas kui Pydantic pakub täiendavat andmete töötlemise ja valideerimise funktsionaalsust."
      ],
      "metadata": {
        "id": "6lUmm43KaVHh"
      }
    },
    {
      "cell_type": "code",
      "source": [
        "from dataclasses import dataclass\n",
        "\n",
        "@dataclass\n",
        "class Person:\n",
        "    name: str\n",
        "    age: int\n",
        "\n",
        "# Loo uus isik\n",
        "person = Person(name=\"Alice\", age=30)\n",
        "print(person)  # Output: Person(name='Alice', age=30)\n",
        "\n",
        "#-----------------------------------------------------\n",
        "\n",
        "from pydantic import BaseModel, constr, conint\n",
        "\n",
        "class Person(BaseModel):\n",
        "    name: constr(min_length=1)\n",
        "    age: conint(ge=0)\n",
        "\n",
        "# Loo uus isik\n",
        "person = Person(name=\"Alice\", age=30)\n",
        "print(person)  # Output: name='Alice' age=30\n",
        "\n",
        "# Näitab valideerimisviga, kui vanus on negatiivne\n",
        "try:\n",
        "    invalid_person = Person(name=\"Bob\", age=-1)\n",
        "except ValueError as e:\n",
        "    print(e)  # Output: validation error message\n"
      ],
      "metadata": {
        "colab": {
          "base_uri": "https://localhost:8080/"
        },
        "id": "jz6iniasaH74",
        "outputId": "a35e0727-3b5f-4159-d0a9-27f232a8f6eb"
      },
      "execution_count": 24,
      "outputs": [
        {
          "output_type": "stream",
          "name": "stdout",
          "text": [
            "Person(name='Alice', age=30)\n",
            "name='Alice' age=30\n",
            "1 validation error for Person\n",
            "age\n",
            "  Input should be greater than or equal to 0 [type=greater_than_equal, input_value=-1, input_type=int]\n",
            "    For further information visit https://errors.pydantic.dev/2.8/v/greater_than_equal\n"
          ]
        }
      ]
    },
    {
      "cell_type": "markdown",
      "source": [],
      "metadata": {
        "id": "ejHu7YriX5aI"
      }
    }
  ]
}
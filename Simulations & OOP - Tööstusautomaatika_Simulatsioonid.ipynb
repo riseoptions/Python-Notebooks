{
  "nbformat": 4,
  "nbformat_minor": 0,
  "metadata": {
    "colab": {
      "provenance": []
    },
    "kernelspec": {
      "name": "python3",
      "display_name": "Python 3"
    },
    "language_info": {
      "name": "python"
    }
  },
  "cells": [
    {
      "cell_type": "markdown",
      "source": [
        "# 1. Simulatsioon: Sensorite Andmete Genereerimine ja Töötlemine"
      ],
      "metadata": {
        "id": "fbg_op8MLKRt"
      }
    },
    {
      "cell_type": "code",
      "execution_count": 1,
      "metadata": {
        "colab": {
          "base_uri": "https://localhost:8080/",
          "height": 507
        },
        "id": "CSdwQjy-K8X4",
        "outputId": "15f2a517-53a2-4abf-9f15-951a77d14e1b"
      },
      "outputs": [
        {
          "output_type": "stream",
          "name": "stdout",
          "text": [
            "Keskmine temperatuur: 22.31°C\n",
            "Standardhälve: 1.46°C\n"
          ]
        },
        {
          "output_type": "display_data",
          "data": {
            "text/plain": [
              "<Figure size 640x480 with 1 Axes>"
            ],
            "image/png": "[encoded data removed]"
          },
          "metadata": {}
        }
      ],
      "source": [
        "import random\n",
        "import time\n",
        "import matplotlib.pyplot as plt\n",
        "\n",
        "def generate_sensor_data(num_samples):\n",
        "    \"\"\"\n",
        "    Simuleerib sensori andmete genereerimist.\n",
        "    \"\"\"\n",
        "    data = [random.uniform(20.0, 25.0) for _ in range(num_samples)]\n",
        "    return data\n",
        "\n",
        "def process_data(data):\n",
        "    \"\"\"\n",
        "    Andmete töötlemine: arvutab keskmise ja standardhälbe.\n",
        "    \"\"\"\n",
        "    mean = sum(data) / len(data)\n",
        "    variance = sum((x - mean) ** 2 for x in data) / len(data)\n",
        "    std_dev = variance ** 0.5\n",
        "    return mean, std_dev\n",
        "\n",
        "# Simuleerime andurite andmete kogumist\n",
        "num_samples = 100\n",
        "data = generate_sensor_data(num_samples)\n",
        "\n",
        "# Töötleme andmeid\n",
        "mean, std_dev = process_data(data)\n",
        "\n",
        "# Kuvame tulemused\n",
        "print(f\"Keskmine temperatuur: {mean:.2f}°C\")\n",
        "print(f\"Standardhälve: {std_dev:.2f}°C\")\n",
        "\n",
        "# Kuvame andmete jaotuse graafiku\n",
        "plt.hist(data, bins=20, edgecolor='black')\n",
        "plt.title('Sensorite andmete jaotus')\n",
        "plt.xlabel('Temperatuur (°C)')\n",
        "plt.ylabel('Kogus')\n",
        "plt.show()\n"
      ]
    },
    {
      "cell_type": "markdown",
      "source": [
        "# 2. Protsesside Jälgimine ja Alarmeerimine"
      ],
      "metadata": {
        "id": "JehOVV7LLeZ2"
      }
    },
    {
      "cell_type": "code",
      "source": [
        "import time\n",
        "\n",
        "def monitor_process(parameter_value):\n",
        "    \"\"\"\n",
        "    Kontrollib protsessi parameetrite väärtust ja genereerib häireid, kui see ületab läviväärtuse.\n",
        "    \"\"\"\n",
        "    threshold = 75  # Läviväärtus, mille ületamisel genereeritakse häire\n",
        "    if parameter_value > threshold:\n",
        "        print(f\"ALARM! Protsessi parameeter ({parameter_value}) ületab läviväärtuse ({threshold})\")\n",
        "    else:\n",
        "        print(f\"Protsessi parameeter ({parameter_value}) on normaalne\")\n",
        "\n",
        "# Simuleerime protsessi parameetrite jälgimist\n",
        "for _ in range(10):\n",
        "    parameter_value = random.uniform(50.0, 100.0)  # Juhuslik parameetri väärtus\n",
        "    monitor_process(parameter_value)\n",
        "    time.sleep(1)  # Ootame 1 sekundi enne järgmist mõõtmist\n"
      ],
      "metadata": {
        "colab": {
          "base_uri": "https://localhost:8080/"
        },
        "id": "bznOhqtzLg1w",
        "outputId": "b5d6573d-ab56-4f17-f592-9ef4bf34cff2"
      },
      "execution_count": 2,
      "outputs": [
        {
          "output_type": "stream",
          "name": "stdout",
          "text": [
            "Protsessi parameeter (61.47345509709716) on normaalne\n",
            "ALARM! Protsessi parameeter (99.3569955474268) ületab läviväärtuse (75)\n",
            "ALARM! Protsessi parameeter (91.5241409652563) ületab läviväärtuse (75)\n",
            "ALARM! Protsessi parameeter (86.22264698507955) ületab läviväärtuse (75)\n",
            "Protsessi parameeter (51.420485851451524) on normaalne\n",
            "ALARM! Protsessi parameeter (87.01994932372318) ületab läviväärtuse (75)\n",
            "Protsessi parameeter (53.613698630713344) on normaalne\n",
            "ALARM! Protsessi parameeter (87.49795278972141) ületab läviväärtuse (75)\n",
            "Protsessi parameeter (65.69214382323476) on normaalne\n",
            "ALARM! Protsessi parameeter (93.18592385730945) ületab läviväärtuse (75)\n"
          ]
        }
      ]
    },
    {
      "cell_type": "markdown",
      "source": [
        "# 3. Seadmete Juhtimine: Mootori Käivitamine ja Peatamine"
      ],
      "metadata": {
        "id": "gse_IDCJLt2G"
      }
    },
    {
      "cell_type": "code",
      "source": [
        "import time\n",
        "\n",
        "class Motor:\n",
        "    def __init__(self):\n",
        "        self.state = \"OFF\"\n",
        "\n",
        "    def start(self):\n",
        "        if self.state == \"OFF\":\n",
        "            print(\"Mootor käivitamine...\")\n",
        "            self.state = \"ON\"\n",
        "        else:\n",
        "            print(\"Mootor on juba käivitatud.\")\n",
        "\n",
        "    def stop(self):\n",
        "        if self.state == \"ON\":\n",
        "            print(\"Mootor peatamine...\")\n",
        "            self.state = \"OFF\"\n",
        "        else:\n",
        "            print(\"Mootor on juba peatatud.\")\n",
        "\n",
        "# Loome mootori objekti\n",
        "motor = Motor()\n",
        "\n",
        "# Käivitame mootori\n",
        "motor.start()\n",
        "time.sleep(2)  # Ootame 2 sekundit\n",
        "# Peatame mootori\n",
        "motor.stop()\n"
      ],
      "metadata": {
        "colab": {
          "base_uri": "https://localhost:8080/"
        },
        "id": "ff1PVF3TLvXu",
        "outputId": "75441302-b715-48df-c3c5-bc90c4d6e38a"
      },
      "execution_count": 3,
      "outputs": [
        {
          "output_type": "stream",
          "name": "stdout",
          "text": [
            "Mootor käivitamine...\n",
            "Mootor peatamine...\n"
          ]
        }
      ]
    },
    {
      "cell_type": "markdown",
      "source": [
        "# 4. Simulatsioon: Ülesannete Planeerimine ja Täitmine"
      ],
      "metadata": {
        "id": "CTw3ahq1L45d"
      }
    },
    {
      "cell_type": "code",
      "source": [
        "import threading\n",
        "import time\n",
        "\n",
        "def task(name, duration):\n",
        "    \"\"\"\n",
        "    Täidab määratud ülesande.\n",
        "    \"\"\"\n",
        "    print(f\"Ülesanne {name} alustamine, kestus: {duration} sek\")\n",
        "    time.sleep(duration)\n",
        "    print(f\"Ülesanne {name} lõpetatud\")\n",
        "\n",
        "# Loome ja käivitame mitmeid ülesandeid\n",
        "tasks = [\n",
        "    threading.Thread(target=task, args=(\"Ülesanne 1\", 2)),\n",
        "    threading.Thread(target=task, args=(\"Ülesanne 2\", 4)),\n",
        "    threading.Thread(target=task, args=(\"Ülesanne 3\", 1)),\n",
        "]\n",
        "\n",
        "for t in tasks:\n",
        "    t.start()\n",
        "\n",
        "for t in tasks:\n",
        "    t.join()  # Ootame, kuni kõik ülesanded on lõpetatud\n",
        "\n",
        "print(\"Kõik ülesanded on lõpetatud\")\n"
      ],
      "metadata": {
        "colab": {
          "base_uri": "https://localhost:8080/"
        },
        "id": "H7y5tlJrL6ZS",
        "outputId": "7eb9efe8-701d-4989-c5d5-cb6701a83242"
      },
      "execution_count": 4,
      "outputs": [
        {
          "output_type": "stream",
          "name": "stdout",
          "text": [
            "Ülesanne Ülesanne 1 alustamine, kestus: 2 sek\n",
            "Ülesanne Ülesanne 2 alustamine, kestus: 4 sek\n",
            "Ülesanne Ülesanne 3 alustamine, kestus: 1 sek\n",
            "Ülesanne Ülesanne 3 lõpetatud\n",
            "Ülesanne Ülesanne 1 lõpetatud\n",
            "Ülesanne Ülesanne 2 lõpetatud\n",
            "Kõik ülesanded on lõpetatud\n"
          ]
        }
      ]
    },
    {
      "cell_type": "markdown",
      "source": [
        "# 5. Andmete Logimine ja Analüüs"
      ],
      "metadata": {
        "id": "9zX46g2AMFD9"
      }
    },
    {
      "cell_type": "code",
      "source": [
        "import csv\n",
        "import random\n",
        "\n",
        "def log_data(filename, data):\n",
        "    \"\"\"\n",
        "    Logib andmed CSV faili.\n",
        "    \"\"\"\n",
        "    with open(filename, mode='a', newline='') as file:\n",
        "        writer = csv.writer(file)\n",
        "        writer.writerow(data)\n",
        "\n",
        "def generate_random_data(num_entries):\n",
        "    \"\"\"\n",
        "    Genereerib juhuslikke andmeid.\n",
        "    \"\"\"\n",
        "    return [random.uniform(20.0, 30.0) for _ in range(num_entries)]\n",
        "\n",
        "# Logime andmed faili\n",
        "filename = 'sensor_data.csv'\n",
        "for _ in range(10):\n",
        "    data = generate_random_data(5)\n",
        "    log_data(filename, data)\n",
        "    print(f\"Logitud andmed: {data}\")\n"
      ],
      "metadata": {
        "colab": {
          "base_uri": "https://localhost:8080/"
        },
        "id": "BBbA47nOMGoF",
        "outputId": "63c882b5-c415-4bfa-963b-0efc8b1b02c1"
      },
      "execution_count": 5,
      "outputs": [
        {
          "output_type": "stream",
          "name": "stdout",
          "text": [
            "Logitud andmed: [24.43702621249595, 20.856912066393015, 27.753489355192205, 25.346913313800037, 23.145167580742]\n",
            "Logitud andmed: [24.487350372186604, 26.19433523689321, 21.347608381590735, 23.457523487080074, 21.279937314395045]\n",
            "Logitud andmed: [29.41157928770248, 26.69056990604782, 25.847204659439615, 21.152033544342345, 28.689379768020792]\n",
            "Logitud andmed: [28.163911200867346, 28.71239466740471, 24.50517561545007, 21.394136497472974, 20.18095737156494]\n",
            "Logitud andmed: [28.5299596153271, 26.153461995549662, 21.78513982966424, 23.56118348091435, 27.11230378947716]\n",
            "Logitud andmed: [22.020163010916974, 24.94289846329423, 20.26637721731057, 26.01904161415032, 27.923086205357922]\n",
            "Logitud andmed: [25.587463028466114, 27.26962414407451, 22.35890923193315, 27.31256141689387, 24.502182440518496]\n",
            "Logitud andmed: [22.677976475867936, 24.887712382855693, 27.29257094543164, 22.316095920708083, 23.209992078817955]\n",
            "Logitud andmed: [28.19840474632162, 20.980322050701837, 24.244377532242243, 23.283843653774422, 26.33747829462732]\n",
            "Logitud andmed: [21.77206100931415, 26.901457018496288, 25.367896656507412, 24.328809258854964, 21.160923058971907]\n"
          ]
        }
      ]
    },
    {
      "cell_type": "markdown",
      "source": [
        "# Kokkuvõte\n",
        "Need simulatsioonid hõlmavad erinevaid aspekte tööstusautomaatika programmeerimisel:\n",
        "\n",
        "**Andmete genereerimine ja töötlemine:**\n",
        "\n",
        "Sensorite andmete simulatsioon ja töötlemine.\n",
        "\n",
        "\n",
        "**Protsesside jälgimine ja alarmeerimine:**\n",
        "\n",
        "Protsesside parameetrite jälgimine ja häirete genereerimine.\n",
        "\n",
        "**Seadmete juhtimine:**\n",
        "\n",
        "Mootori tööoleku juhtimine.\n",
        "\n",
        "**Ülesannete planeerimine:**\n",
        "\n",
        "Erinevate ülesannete täitmine paralleelselt.\n",
        "\n",
        "**Andmete logimine ja analüüs:**\n",
        "\n",
        "Andmete salvestamine ja hilisem analüüs."
      ],
      "metadata": {
        "id": "6FmOwA32MLPZ"
      }
    },
    {
      "cell_type": "markdown",
      "source": [
        "# Näide 1: Tootmisliini Protsesside Simulatsioon\n",
        "Simuleerime tootmisliini, kus erinevad protsessid töötavad koos. Kasutame OOP-d, disainimustreid ja Pydanticut, et luua paindlik süsteem, mis haldab tootmisprotsessi."
      ],
      "metadata": {
        "id": "srZnMnR6Mvq2"
      }
    },
    {
      "cell_type": "markdown",
      "source": [
        "**1.1 OOP ja Pydantic: Tootmisprotsessi Konfiguratsioon**"
      ],
      "metadata": {
        "id": "6ReeBJ1yN112"
      }
    },
    {
      "cell_type": "code",
      "source": [
        "from pydantic import BaseModel, PositiveInt, constr\n",
        "from typing import List\n",
        "\n",
        "class MachineConfig(BaseModel):\n",
        "    name: str\n",
        "    operational_time: PositiveInt  # Käitamisaja minutit\n",
        "    efficiency: float  # Tootlikkus, vahemikus 0-1\n",
        "\n",
        "class ProductionLineConfig(BaseModel):\n",
        "    machines: List[MachineConfig]\n",
        "    max_operational_time: PositiveInt  # Maksimaalne töötamise aeg päevas\n",
        "\n",
        "# Näidis konfiguratsioon\n",
        "config = ProductionLineConfig(\n",
        "    machines=[\n",
        "        MachineConfig(name=\"Press\", operational_time=120, efficiency=0.95),\n",
        "        MachineConfig(name=\"Welding\", operational_time=150, efficiency=0.90),\n",
        "    ],\n",
        "    max_operational_time=480\n",
        ")\n",
        "print(config)\n"
      ],
      "metadata": {
        "colab": {
          "base_uri": "https://localhost:8080/"
        },
        "id": "BxxA0HFBNVsv",
        "outputId": "1734cdac-d016-4338-ab6b-0a23a603cc48"
      },
      "execution_count": 6,
      "outputs": [
        {
          "output_type": "stream",
          "name": "stdout",
          "text": [
            "machines=[MachineConfig(name='Press', operational_time=120, efficiency=0.95), MachineConfig(name='Welding', operational_time=150, efficiency=0.9)] max_operational_time=480\n"
          ]
        }
      ]
    },
    {
      "cell_type": "markdown",
      "source": [
        "**1.2 Disainimuster: Tootmisliini Töötlemine**"
      ],
      "metadata": {
        "id": "PbpdkSVeOCed"
      }
    },
    {
      "cell_type": "code",
      "source": [
        "from abc import ABC, abstractmethod\n",
        "\n",
        "class Machine(ABC):\n",
        "    def __init__(self, name, operational_time, efficiency):\n",
        "        self.name = name\n",
        "        self.operational_time = operational_time\n",
        "        self.efficiency = efficiency\n",
        "\n",
        "    @abstractmethod\n",
        "    def process(self):\n",
        "        pass\n",
        "\n",
        "class Press(Machine):\n",
        "    def process(self):\n",
        "        print(f\"{self.name} töötleb materjali efektiivsusega {self.efficiency:.2f}\")\n",
        "\n",
        "class Welding(Machine):\n",
        "    def process(self):\n",
        "        print(f\"{self.name} keevitab osad efektiivsusega {self.efficiency:.2f}\")\n",
        "\n",
        "class ProductionLine:\n",
        "    def __init__(self, config):\n",
        "        self.config = config\n",
        "        self.machines = self._create_machines(config.machines)\n",
        "\n",
        "    def _create_machines(self, machine_configs):\n",
        "        machine_classes = {\n",
        "            \"Press\": Press,\n",
        "            \"Welding\": Welding\n",
        "        }\n",
        "        machines = []\n",
        "        for mc in machine_configs:\n",
        "            machine_class = machine_classes.get(mc.name)\n",
        "            if machine_class:\n",
        "                machines.append(machine_class(mc.name, mc.operational_time, mc.efficiency))\n",
        "        return machines\n",
        "\n",
        "    def run(self):\n",
        "        for machine in self.machines:\n",
        "            machine.process()\n",
        "\n",
        "# Käivitame tootmisliini\n",
        "line = ProductionLine(config)\n",
        "line.run()\n"
      ],
      "metadata": {
        "colab": {
          "base_uri": "https://localhost:8080/"
        },
        "id": "jShkvHCpOD1v",
        "outputId": "503c2cca-0a9b-4b23-9c65-3773013592c6"
      },
      "execution_count": 9,
      "outputs": [
        {
          "output_type": "stream",
          "name": "stdout",
          "text": [
            "Press töötleb materjali efektiivsusega 0.95\n",
            "Welding keevitab osad efektiivsusega 0.90\n"
          ]
        }
      ]
    },
    {
      "cell_type": "markdown",
      "source": [
        "# Näide 2: Andmete Logimine ja Jälgimine Dekoraatoreid Kasutades"
      ],
      "metadata": {
        "id": "2en5X1t9OiIq"
      }
    },
    {
      "cell_type": "code",
      "source": [
        "import time\n",
        "from functools import wraps\n",
        "from typing import Callable\n",
        "\n",
        "def log_execution(func: Callable):\n",
        "    \"\"\"\n",
        "    Dekoratiivne funktsioon, mis logib funktsiooni käivitamise ja lõpetamise aega.\n",
        "    \"\"\"\n",
        "    @wraps(func)\n",
        "    def wrapper(*args, **kwargs):\n",
        "        start_time = time.time()\n",
        "        result = func(*args, **kwargs)\n",
        "        end_time = time.time()\n",
        "        print(f\"{func.__name__} käivitati {end_time - start_time:.4f} sekundit.\")\n",
        "        return result\n",
        "    return wrapper\n",
        "\n",
        "@log_execution\n",
        "def simulate_process(name: str, duration: int):\n",
        "    \"\"\"\n",
        "    Simuleerib protsessi, mis kestab määratud aja.\n",
        "    \"\"\"\n",
        "    print(f\"Protsess {name} alustamine.\")\n",
        "    time.sleep(duration)\n",
        "    print(f\"Protsess {name} lõpetamine.\")\n",
        "\n",
        "# Simuleerime erinevaid protsesse\n",
        "simulate_process(\"A\", 2)\n",
        "simulate_process(\"B\", 3)\n"
      ],
      "metadata": {
        "colab": {
          "base_uri": "https://localhost:8080/"
        },
        "id": "NtP1B6SVOk4O",
        "outputId": "a6224e24-a676-4671-887c-c021dda863a8"
      },
      "execution_count": 10,
      "outputs": [
        {
          "output_type": "stream",
          "name": "stdout",
          "text": [
            "Protsess A alustamine.\n",
            "Protsess A lõpetamine.\n",
            "simulate_process käivitati 2.0023 sekundit.\n",
            "Protsess B alustamine.\n",
            "Protsess B lõpetamine.\n",
            "simulate_process käivitati 3.0033 sekundit.\n"
          ]
        }
      ]
    },
    {
      "cell_type": "markdown",
      "source": [
        "# Näide 3: Funktsioonide Koostamine: Tootmisprotsesside Optimeerimine"
      ],
      "metadata": {
        "id": "YTo5kLaoPTHG"
      }
    },
    {
      "cell_type": "code",
      "source": [
        "from typing import Callable\n",
        "\n",
        "def add(x: float, y: float) -> float:\n",
        "    return x + y\n",
        "\n",
        "def multiply(x: float, y: float) -> float:\n",
        "    return x * y\n",
        "\n",
        "def process_data(data: list[float], func: Callable[[float, float], float]) -> list[float]:\n",
        "    result = []\n",
        "    for i in range(len(data) - 1):\n",
        "        result.append(func(data[i], data[i + 1]))\n",
        "    return result\n",
        "\n",
        "# Näidisandmed\n",
        "data = [1.0, 2.0, 3.0, 4.0, 5.0]\n",
        "\n",
        "# Rakendame funktsioonide koostamist\n",
        "summed = process_data(data, add)\n",
        "multiplied = process_data(data, multiply)\n",
        "\n",
        "print(\"Summad:\", summed)\n",
        "print(\"Korrutised:\", multiplied)\n"
      ],
      "metadata": {
        "colab": {
          "base_uri": "https://localhost:8080/"
        },
        "id": "TnWw5P1JPVB2",
        "outputId": "24130c8d-c81a-4824-d576-670a46d13834"
      },
      "execution_count": 11,
      "outputs": [
        {
          "output_type": "stream",
          "name": "stdout",
          "text": [
            "Summad: [3.0, 5.0, 7.0, 9.0]\n",
            "Korrutised: [2.0, 6.0, 12.0, 20.0]\n"
          ]
        }
      ]
    },
    {
      "cell_type": "markdown",
      "source": [
        "# Näide 4: Kontrollitud Tootmisprotsesside Juhimine ja Analüüs"
      ],
      "metadata": {
        "id": "dZVPUPWTPfKu"
      }
    },
    {
      "cell_type": "code",
      "source": [
        "from typing import Dict\n",
        "from pydantic import BaseModel, validator\n",
        "\n",
        "class MachineStats(BaseModel):\n",
        "    name: str\n",
        "    uptime: int  # Tööaeg minutites\n",
        "    downtime: int  # Peatumise aeg minutites\n",
        "\n",
        "    @validator('uptime')\n",
        "    def validate_uptime(cls, value):\n",
        "        if value < 0:\n",
        "            raise ValueError('Uptime peab olema mitte-negatiivne.')\n",
        "        return value\n",
        "\n",
        "    @validator('downtime')\n",
        "    def validate_downtime(cls, value):\n",
        "        if value < 0:\n",
        "            raise ValueError('Downtime peab olema mitte-negatiivne.')\n",
        "        return value\n",
        "\n",
        "class ProductionAnalytics:\n",
        "    def __init__(self):\n",
        "        self.machines: Dict[str, MachineStats] = {}\n",
        "\n",
        "    def add_machine(self, machine_stats: MachineStats):\n",
        "        self.machines[machine_stats.name] = machine_stats\n",
        "\n",
        "    def generate_report(self):\n",
        "        total_uptime = sum(machine.uptime for machine in self.machines.values())\n",
        "        total_downtime = sum(machine.downtime for machine in self.machines.values())\n",
        "        print(f\"Kokku tööaega: {total_uptime} min\")\n",
        "        print(f\"Kokku peatumise aega: {total_downtime} min\")\n",
        "        for name, stats in self.machines.items():\n",
        "            print(f\"{name} - Tööaeg: {stats.uptime} min, Peatumise aeg: {stats.downtime} min\")\n",
        "\n",
        "# Näidisandmed\n",
        "analytics = ProductionAnalytics()\n",
        "analytics.add_machine(MachineStats(name=\"Press\", uptime=300, downtime=10))\n",
        "analytics.add_machine(MachineStats(name=\"Welding\", uptime=250, downtime=20))\n",
        "\n",
        "# Generoime raporti\n",
        "analytics.generate_report()\n"
      ],
      "metadata": {
        "colab": {
          "base_uri": "https://localhost:8080/"
        },
        "id": "R6oorZ0aPgUO",
        "outputId": "fc2668f9-7d22-48a4-bddf-ffcc04522e21"
      },
      "execution_count": 12,
      "outputs": [
        {
          "output_type": "stream",
          "name": "stdout",
          "text": [
            "Kokku tööaega: 550 min\n",
            "Kokku peatumise aega: 30 min\n",
            "Press - Tööaeg: 300 min, Peatumise aeg: 10 min\n",
            "Welding - Tööaeg: 250 min, Peatumise aeg: 20 min\n"
          ]
        },
        {
          "output_type": "stream",
          "name": "stderr",
          "text": [
            "<ipython-input-12-293a79c6774d>:9: PydanticDeprecatedSince20: Pydantic V1 style `@validator` validators are deprecated. You should migrate to Pydantic V2 style `@field_validator` validators, see the migration guide for more details. Deprecated in Pydantic V2.0 to be removed in V3.0. See Pydantic V2 Migration Guide at https://errors.pydantic.dev/2.8/migration/\n",
            "  @validator('uptime')\n",
            "<ipython-input-12-293a79c6774d>:15: PydanticDeprecatedSince20: Pydantic V1 style `@validator` validators are deprecated. You should migrate to Pydantic V2 style `@field_validator` validators, see the migration guide for more details. Deprecated in Pydantic V2.0 to be removed in V3.0. See Pydantic V2 Migration Guide at https://errors.pydantic.dev/2.8/migration/\n",
            "  @validator('downtime')\n"
          ]
        }
      ]
    },
    {
      "cell_type": "markdown",
      "source": [
        "# Näide 5: Masinate Koormuse Jaotamine ja Optimeerimine\n",
        "\n",
        "Simuleerime süsteemi, mis jaotab tootmiskoormuse erinevate masinate vahel ja optimeerib tootmisprotsessi vastavalt masinate efektiivsusele ja tööaegadele."
      ],
      "metadata": {
        "id": "W1RAfDtmQvfm"
      }
    },
    {
      "cell_type": "markdown",
      "source": [
        "**5.1 Masinate Konfiguratsioon ja Hooldus**\n",
        "\n",
        "Selgitus:\n",
        "\n",
        "MachineConfig: Defineerib masina omadused, sealhulgas hooldusintervall ja efektiivsus.\n",
        "ProductionOptimizer: Jaotab tootmiskoormuse masinate vahel, võttes arvesse nende efektiivsust ja hooldusvajadust."
      ],
      "metadata": {
        "id": "WirD3T-4Q1gG"
      }
    },
    {
      "cell_type": "code",
      "source": [
        "from typing import List, Dict\n",
        "from pydantic import BaseModel, PositiveInt, constr\n",
        "\n",
        "class MachineConfig(BaseModel):\n",
        "    name: str\n",
        "    max_load: PositiveInt  # Maksimaalne koormus\n",
        "    efficiency: float  # Efektiivsus vahemikus 0-1\n",
        "    maintenance_interval: PositiveInt  # Hoolduse intervall tundides\n",
        "    last_maintenance: PositiveInt  # Viimane hooldus tundides tagasi\n",
        "\n",
        "class ProductionOptimizer:\n",
        "    def __init__(self, machines: List[MachineConfig]):\n",
        "        self.machines = machines\n",
        "\n",
        "    def allocate_load(self, total_load: PositiveInt) -> Dict[str, int]:\n",
        "        \"\"\"\n",
        "        Jagab koormuse masinate vahel nende efektiivsuse ja hooldusvajaduse põhjal.\n",
        "        \"\"\"\n",
        "        allocation = {}\n",
        "        available_machines = sorted(self.machines, key=lambda m: (m.efficiency, -m.last_maintenance), reverse=True)\n",
        "\n",
        "        for machine in available_machines:\n",
        "            load = min(total_load, machine.max_load)\n",
        "            allocation[machine.name] = load\n",
        "            total_load -= load\n",
        "            if total_load <= 0:\n",
        "                break\n",
        "\n",
        "        if total_load > 0:\n",
        "            raise ValueError(\"Ei olnud piisavalt masinaid, et kogu koormus jagada.\")\n",
        "\n",
        "        return allocation\n",
        "\n",
        "# Näidis konfiguratsioon\n",
        "machines = [\n",
        "    MachineConfig(name=\"Press\", max_load=100, efficiency=0.95, maintenance_interval=100, last_maintenance=50),\n",
        "    MachineConfig(name=\"Welding\", max_load=150, efficiency=0.85, maintenance_interval=80, last_maintenance=20),\n",
        "    MachineConfig(name=\"Packing\", max_load=120, efficiency=0.90, maintenance_interval=90, last_maintenance=10),\n",
        "]\n",
        "\n",
        "optimizer = ProductionOptimizer(machines)\n",
        "allocation = optimizer.allocate_load(250)\n",
        "print(f\"Koormuse jaotus: {allocation}\")\n"
      ],
      "metadata": {
        "colab": {
          "base_uri": "https://localhost:8080/"
        },
        "id": "jPXTodKKQr3u",
        "outputId": "ca60d2f9-dae2-416d-fa13-0d0548d49e8b"
      },
      "execution_count": 13,
      "outputs": [
        {
          "output_type": "stream",
          "name": "stdout",
          "text": [
            "Koormuse jaotus: {'Press': 100, 'Packing': 120, 'Welding': 30}\n"
          ]
        }
      ]
    },
    {
      "cell_type": "markdown",
      "source": [
        "# Näide 6: Hooldus- ja Efektiivsuse Analüüs\n",
        "Simuleerime süsteemi, mis jälgib masinate hooldusajalugu ja efektiivsust ning genereerib hooldussoovitusi.\n",
        "\n",
        "Selgitus:\n",
        "\n",
        "MachineStatus: Hoidab masina töö- ja peatumisaega.\n",
        "MaintenanceRecommendation: Jõuab hooldussoovitusteni, võrreldes töö- ja peatumisaega."
      ],
      "metadata": {
        "id": "oqsMyTBmRHYV"
      }
    },
    {
      "cell_type": "code",
      "source": [
        "from typing import Dict, Tuple\n",
        "from pydantic import BaseModel, PositiveInt, condecimal\n",
        "\n",
        "class MachineStatus(BaseModel):\n",
        "    name: str\n",
        "    uptime: PositiveInt  # Tööaeg tundides\n",
        "    downtime: PositiveInt  # Peatumise aeg tundides\n",
        "\n",
        "class MaintenanceRecommendation:\n",
        "    def __init__(self, machines: List[MachineStatus]):\n",
        "        self.machines = machines\n",
        "\n",
        "    def recommend_maintenance(self) -> Dict[str, str]:\n",
        "        recommendations = {}\n",
        "        for machine in self.machines:\n",
        "            if machine.uptime - machine.downtime >= 100:\n",
        "                recommendations[machine.name] = \"Hooldus vajalik\"\n",
        "            else:\n",
        "                recommendations[machine.name] = \"Hooldus pole vajalik\"\n",
        "        return recommendations\n",
        "\n",
        "# Näidis andmed\n",
        "machines_status = [\n",
        "    MachineStatus(name=\"Press\", uptime=300, downtime=20),\n",
        "    MachineStatus(name=\"Welding\", uptime=250, downtime=10),\n",
        "    MachineStatus(name=\"Packing\", uptime=100, downtime=50),\n",
        "]\n",
        "\n",
        "maintenance_recommender = MaintenanceRecommendation(machines_status)\n",
        "recommendations = maintenance_recommender.recommend_maintenance()\n",
        "print(f\"Hooldussoovitused: {recommendations}\")\n"
      ],
      "metadata": {
        "colab": {
          "base_uri": "https://localhost:8080/"
        },
        "id": "2i4zQD1xRcTe",
        "outputId": "341f3271-496d-4998-cc09-85ebee2ecb09"
      },
      "execution_count": 14,
      "outputs": [
        {
          "output_type": "stream",
          "name": "stdout",
          "text": [
            "Hooldussoovitused: {'Press': 'Hooldus vajalik', 'Welding': 'Hooldus vajalik', 'Packing': 'Hooldus pole vajalik'}\n"
          ]
        }
      ]
    },
    {
      "cell_type": "markdown",
      "source": [
        "# Näide 7: Tootmisprotsessi Simulatsioon ja Optimeerimine\n",
        "Simuleerime tootmisprotsessi, mille käigus arvutame välja tootmiskiiruselt ja seisakutelt arvestatud tootlikkuse, kasutades funktsioonide koostamist ja dekoraatoreid.\n",
        "\n",
        "Selgitus:\n",
        "\n",
        "measure_performance: Dekoratiivne funktsioon, mis mõõdab ja logib funktsiooni täitmise aega.\n",
        "ProductionProcess: Simuleerib tootmisprotsessi, kus masinate töötlemisaeg arvutatakse ja logitakse."
      ],
      "metadata": {
        "id": "hx31AgFqRk7v"
      }
    },
    {
      "cell_type": "code",
      "source": [
        "import time\n",
        "from functools import wraps\n",
        "from typing import List, Callable\n",
        "\n",
        "def measure_performance(func: Callable):\n",
        "    \"\"\"\n",
        "    Dekoratiivne funktsioon, mis mõõdab funktsiooni täitmise aega.\n",
        "    \"\"\"\n",
        "    @wraps(func)\n",
        "    def wrapper(*args, **kwargs):\n",
        "        start_time = time.time()\n",
        "        result = func(*args, **kwargs)\n",
        "        end_time = time.time()\n",
        "        print(f\"{func.__name__} kestis {end_time - start_time:.2f} sekundit.\")\n",
        "        return result\n",
        "    return wrapper\n",
        "\n",
        "class ProductionProcess:\n",
        "    def __init__(self, machines: List[str]):\n",
        "        self.machines = machines\n",
        "\n",
        "    @measure_performance\n",
        "    def run(self, load: int) -> str:\n",
        "        processed_load = 0\n",
        "        for machine in self.machines:\n",
        "            print(f\"Masin {machine} töötleb koormust {load}...\")\n",
        "            time.sleep(1)  # Simuleerime töötlusaega\n",
        "            processed_load += load\n",
        "            load -= 10  # Väheneme koormust iga masina töötlemisega\n",
        "            if load <= 0:\n",
        "                break\n",
        "        return f\"Töödeldud koormus: {processed_load}\"\n",
        "\n",
        "# Näidis tootmisprotsess\n",
        "process = ProductionProcess(machines=[\"Press\", \"Welding\", \"Packing\"])\n",
        "result = process.run(load=50)\n",
        "print(result)\n"
      ],
      "metadata": {
        "colab": {
          "base_uri": "https://localhost:8080/"
        },
        "id": "kisEy5wmRpb1",
        "outputId": "90f0c149-141b-4a25-9086-9acde0ece52a"
      },
      "execution_count": 15,
      "outputs": [
        {
          "output_type": "stream",
          "name": "stdout",
          "text": [
            "Masin Press töötleb koormust 50...\n",
            "Masin Welding töötleb koormust 40...\n",
            "Masin Packing töötleb koormust 30...\n",
            "run kestis 3.00 sekundit.\n",
            "Töödeldud koormus: 120\n"
          ]
        }
      ]
    },
    {
      "cell_type": "markdown",
      "source": [
        "# Näide 8: Hooldusprotsesside Optimeerimine ja Jälgimine\n",
        "Simuleerime hooldusprotsessi, mille käigus jälgime hooldusprotsesside efektiivsust ja optimeerime neid.\n",
        "\n",
        "Selgitus:\n",
        "\n",
        "MaintenanceRecord: Hoidab hooldusprotsesside andmeid.\n",
        "\n",
        "MaintenanceOptimizer: Arvutab keskmise hoolduse kestuse ja genereerib raporti."
      ],
      "metadata": {
        "id": "dqLHqm2cSAp2"
      }
    },
    {
      "cell_type": "code",
      "source": [
        "from typing import List\n",
        "from pydantic import BaseModel, PositiveInt\n",
        "\n",
        "class MaintenanceRecord(BaseModel):\n",
        "    machine_name: str\n",
        "    maintenance_date: str\n",
        "    duration: PositiveInt  # Hoolduse kestus tundides\n",
        "\n",
        "class MaintenanceOptimizer:\n",
        "    def __init__(self, records: List[MaintenanceRecord]):\n",
        "        self.records = records\n",
        "\n",
        "    def average_maintenance_duration(self) -> float:\n",
        "        total_duration = sum(record.duration for record in self.records)\n",
        "        average_duration = total_duration / len(self.records) if self.records else 0\n",
        "        return average_duration\n",
        "\n",
        "    def generate_report(self) -> str:\n",
        "        avg_duration = self.average_maintenance_duration()\n",
        "        return f\"Keskmine hoolduse kestus: {avg_duration:.2f} tundi\"\n",
        "\n",
        "# Näidisandmed\n",
        "maintenance_records = [\n",
        "    MaintenanceRecord(machine_name=\"Press\", maintenance_date=\"2024-03-01\", duration=2),\n",
        "    MaintenanceRecord(machine_name=\"Welding\", maintenance_date=\"2024-03-10\", duration=5),\n",
        "    MaintenanceRecord(machine_name=\"Packing\", maintenance_date=\"2024-03-15\", duration=3),\n",
        "]\n",
        "\n",
        "optimizer = MaintenanceOptimizer(maintenance_records)\n",
        "report = optimizer.generate_report()\n",
        "print(report)\n"
      ],
      "metadata": {
        "colab": {
          "base_uri": "https://localhost:8080/"
        },
        "id": "9eboZw_OSH-H",
        "outputId": "2e56c48f-24e0-4da7-b10d-fb159f99965f"
      },
      "execution_count": 18,
      "outputs": [
        {
          "output_type": "stream",
          "name": "stdout",
          "text": [
            "Keskmine hoolduse kestus: 3.33 tundi\n"
          ]
        }
      ]
    },
    {
      "cell_type": "markdown",
      "source": [
        "# Näide 9: Tootmisliini Efektiivsuse Jälgimine ja Optimeerimine\n",
        "Simuleerime tootmisliini efektiivsuse jälgimist ja optimeerimist, kasutades juhuslikult genereeritud andmeid."
      ],
      "metadata": {
        "id": "6vR5BWZ4TjyG"
      }
    },
    {
      "cell_type": "markdown",
      "source": [
        "**9.1 Andmete Generatsioon ja Efektiivsuse Arvutamine**\n",
        "\n",
        "Selgitus:\n",
        "\n",
        "MachinePerformance: Defineerib masina tootmiskiiruse ja rikkumise määra.\n",
        "\n",
        "ProductionLine: Simuleerib ühe tööpäeva tootmist, arvestades rikkumisi ja tootmiskiiruselt."
      ],
      "metadata": {
        "id": "gTX8ObSpT7Hv"
      }
    },
    {
      "cell_type": "code",
      "source": [
        "import random\n",
        "from typing import List\n",
        "from pydantic import BaseModel, PositiveInt, confloat\n",
        "\n",
        "class MachinePerformance(BaseModel):\n",
        "    name: str\n",
        "    production_rate: confloat(ge=0)  # Tootmiskiirus, tooteid/tund\n",
        "    failure_rate: confloat(ge=0)  # Rikkumise määr, rikkumised/tund\n",
        "\n",
        "class ProductionLine:\n",
        "    def __init__(self, machines: List[MachinePerformance]):\n",
        "        self.machines = machines\n",
        "\n",
        "    def simulate_day(self, hours: PositiveInt) -> None:\n",
        "        total_production = 0\n",
        "        for machine in self.machines:\n",
        "            daily_production = machine.production_rate * hours\n",
        "            failures = random.randint(0, int(machine.failure_rate * hours))\n",
        "            effective_production = max(daily_production - failures, 0)\n",
        "            total_production += effective_production\n",
        "            print(f\"Masin {machine.name}: toodetud {effective_production} toodet (rikkumised: {failures})\")\n",
        "        print(f\"Kokku toodetud tooted: {total_production}\")\n",
        "\n",
        "# Generatsioon\n",
        "machines = [\n",
        "    MachinePerformance(name=\"Press\", production_rate=100, failure_rate=0.05),\n",
        "    MachinePerformance(name=\"Welding\", production_rate=80, failure_rate=0.02),\n",
        "    MachinePerformance(name=\"Packing\", production_rate=120, failure_rate=0.03),\n",
        "]\n",
        "\n",
        "line = ProductionLine(machines)\n",
        "line.simulate_day(hours=8)  # Simuleerime üht tööpäeva\n"
      ],
      "metadata": {
        "colab": {
          "base_uri": "https://localhost:8080/"
        },
        "id": "wYiU1bmTTlWD",
        "outputId": "fbfa9af6-820b-4843-a957-dbbeecec3ff8"
      },
      "execution_count": 20,
      "outputs": [
        {
          "output_type": "stream",
          "name": "stdout",
          "text": [
            "Masin Press: toodetud 800.0 toodet (rikkumised: 0)\n",
            "Masin Welding: toodetud 640.0 toodet (rikkumised: 0)\n",
            "Masin Packing: toodetud 960.0 toodet (rikkumised: 0)\n",
            "Kokku toodetud tooted: 2400.0\n"
          ]
        }
      ]
    },
    {
      "cell_type": "markdown",
      "source": [
        "# Näide 10: Tootmisprotsesside Planeerimine ja Optimeerimine\n",
        "Simuleerime tootmisprotsesside planeerimist, kus optimeerime tootmisplaani, võttes arvesse tootmisressursse ja -aega."
      ],
      "metadata": {
        "id": "pEwOT9jxUJGG"
      }
    },
    {
      "cell_type": "markdown",
      "source": [
        "10.1 Tootmisprotsesside Planeerimine\n",
        "\n",
        "Selgitus:\n",
        "\n",
        "ProductionTask: Defineerib tootmisülesande kestuse ja prioriteedi.\n",
        "ProductionScheduler: Planeerib tootmisülesanded vastavalt prioriteedile ja kestusele."
      ],
      "metadata": {
        "id": "N-HTT3fBUORO"
      }
    },
    {
      "cell_type": "code",
      "source": [
        "import numpy as np\n",
        "from typing import List\n",
        "from pydantic import BaseModel, PositiveInt\n",
        "\n",
        "class ProductionTask(BaseModel):\n",
        "    task_name: str\n",
        "    duration: PositiveInt  # Töö kestus tundides\n",
        "    priority: int  # Prioriteet\n",
        "\n",
        "class ProductionScheduler:\n",
        "    def __init__(self, tasks: List[ProductionTask]):\n",
        "        self.tasks = tasks\n",
        "\n",
        "    def schedule_tasks(self) -> None:\n",
        "        sorted_tasks = sorted(self.tasks, key=lambda x: x.priority, reverse=True)\n",
        "        for task in sorted_tasks:\n",
        "            print(f\"Task {task.task_name}: kestus {task.duration} tundi, prioriteet {task.priority}\")\n",
        "\n",
        "# Generatsioon\n",
        "tasks = [\n",
        "    ProductionTask(task_name=\"Assembly\", duration=4, priority=2),\n",
        "    ProductionTask(task_name=\"Quality Check\", duration=2, priority=1),\n",
        "    ProductionTask(task_name=\"Packaging\", duration=3, priority=3),\n",
        "]\n",
        "\n",
        "scheduler = ProductionScheduler(tasks)\n",
        "scheduler.schedule_tasks()\n"
      ],
      "metadata": {
        "colab": {
          "base_uri": "https://localhost:8080/"
        },
        "id": "wQ2pfweHUvjW",
        "outputId": "c6bfac86-5746-4d92-ce04-979ae806945f"
      },
      "execution_count": 21,
      "outputs": [
        {
          "output_type": "stream",
          "name": "stdout",
          "text": [
            "Task Packaging: kestus 3 tundi, prioriteet 3\n",
            "Task Assembly: kestus 4 tundi, prioriteet 2\n",
            "Task Quality Check: kestus 2 tundi, prioriteet 1\n"
          ]
        }
      ]
    },
    {
      "cell_type": "markdown",
      "source": [
        "# Näide 11: Masinate Koormuse Jaotus ja Optimeerimine\n",
        "Simuleerime süsteemi, mis jaotab töökoormuse masinate vahel, võttes arvesse nende võimet ja seisakut.\n",
        "\n",
        "Selgitus:\n",
        "\n",
        "Machine: Defineerib masina võimekuse ja seisaku.\n",
        "LoadBalancer: Jagab koormuse masinate vahel, arvestades nende võimekust ja seisaku aega."
      ],
      "metadata": {
        "id": "NzKb4axQU3zB"
      }
    },
    {
      "cell_type": "markdown",
      "source": [
        "11.1 Koormuse Jaotamine"
      ],
      "metadata": {
        "id": "2octGOgbU933"
      }
    },
    {
      "cell_type": "code",
      "source": [
        "import random\n",
        "from typing import List, Dict\n",
        "from pydantic import BaseModel, PositiveInt\n",
        "\n",
        "class Machine(BaseModel):\n",
        "    name: str\n",
        "    capacity: PositiveInt  # Maksimaalne koormus\n",
        "    downtime: PositiveInt  # Seisakud tunnis\n",
        "\n",
        "class LoadBalancer:\n",
        "    def __init__(self, machines: List[Machine]):\n",
        "        self.machines = machines\n",
        "\n",
        "    def distribute_load(self, total_load: PositiveInt) -> Dict[str, int]:\n",
        "        allocation = {}\n",
        "        available_machines = sorted(self.machines, key=lambda m: (m.capacity - m.downtime), reverse=True)\n",
        "\n",
        "        for machine in available_machines:\n",
        "            load = min(total_load, machine.capacity - machine.downtime)\n",
        "            allocation[machine.name] = load\n",
        "            total_load -= load\n",
        "            if total_load <= 0:\n",
        "                break\n",
        "\n",
        "        if total_load > 0:\n",
        "            raise ValueError(\"Ei olnud piisavalt masinaid, et kogu koormus jaotada.\")\n",
        "\n",
        "        return allocation\n",
        "\n",
        "# Generatsioon\n",
        "machines = [\n",
        "    Machine(name=\"Press\", capacity=100, downtime=10),\n",
        "    Machine(name=\"Welding\", capacity=150, downtime=20),\n",
        "    Machine(name=\"Packing\", capacity=120, downtime=5),\n",
        "]\n",
        "\n",
        "balancer = LoadBalancer(machines)\n",
        "allocation = balancer.distribute_load(250)\n",
        "print(f\"Koormuse jaotus: {allocation}\")\n"
      ],
      "metadata": {
        "colab": {
          "base_uri": "https://localhost:8080/"
        },
        "id": "rnj-nXVhVC_X",
        "outputId": "ddde8062-1613-4a76-e6aa-f6fb1b654a8b"
      },
      "execution_count": 22,
      "outputs": [
        {
          "output_type": "stream",
          "name": "stdout",
          "text": [
            "Koormuse jaotus: {'Welding': 130, 'Packing': 115, 'Press': 5}\n"
          ]
        }
      ]
    },
    {
      "cell_type": "markdown",
      "source": [
        "# Näide 12: Tootmisprotsesside Analüüs ja Tõrkeanalüüs\n",
        "Simuleerime süsteemi, mis analüüsib tootmisprotsesside efektiivsust ja tuvastab tõrked."
      ],
      "metadata": {
        "id": "Csl4vcJVVUIn"
      }
    },
    {
      "cell_type": "markdown",
      "source": [
        "**12.1 Efektiivsuse Arvutamine ja Tõrked**\n",
        "\n",
        "Selgitus:\n",
        "\n",
        "ProductionData: Hoidab tootmisandmeid, sealhulgas toodetud ühikute arvu ja peatumisaega.\n",
        "\n",
        "ProductionAnalyzer: Arvutab efektiivsuse ja tuvastab tootmisprotsesside anomaaliad."
      ],
      "metadata": {
        "id": "ECDjSwnTVWUt"
      }
    },
    {
      "cell_type": "code",
      "source": [
        "import statistics\n",
        "from typing import List\n",
        "from pydantic import BaseModel, PositiveInt, constr\n",
        "\n",
        "class ProductionData(BaseModel):\n",
        "    machine_name: str\n",
        "    produced_units: PositiveInt\n",
        "    downtime: PositiveInt  # Peatumise aeg tunnis\n",
        "\n",
        "class ProductionAnalyzer:\n",
        "    def __init__(self, data: List[ProductionData]):\n",
        "        self.data = data\n",
        "\n",
        "    def analyze_performance(self) -> None:\n",
        "        for record in self.data:\n",
        "            efficiency = (record.produced_units / (record.produced_units + record.downtime)) * 100\n",
        "            print(f\"Masin {record.machine_name}: efektiivsus {efficiency:.2f}%\")\n",
        "\n",
        "    def detect_anomalies(self) -> None:\n",
        "        downtimes = [record.downtime for record in self.data]\n",
        "        mean_downtime = statistics.mean(downtimes)\n",
        "        std_dev_downtime = statistics.stdev(downtimes)\n",
        "        print(f\"Keskmine peatumise aeg: {mean_downtime:.2f} tundi\")\n",
        "        print(f\"Standardhälve peatumise ajas: {std_dev_downtime:.2f} tundi\")\n",
        "        for record in self.data:\n",
        "            if record.downtime > mean_downtime + 2 * std_dev_downtime:\n",
        "                print(f\"Tõrge: Masin {record.machine_name} on kõrgema peatumise ajaga ({record.downtime} tundi)\")\n",
        "\n",
        "# Generatsioon\n",
        "production_data = [\n",
        "    ProductionData(machine_name=\"Press\", produced_units=500, downtime=5),\n",
        "    ProductionData(machine_name=\"Welding\", produced_units=600, downtime=10),\n",
        "    ProductionData(machine_name=\"Packing\", produced_units=450, downtime=20),\n",
        "]\n",
        "\n",
        "analyzer = ProductionAnalyzer(production_data)\n",
        "analyzer.analyze_performance()\n",
        "analyzer.detect_anomalies()\n"
      ],
      "metadata": {
        "colab": {
          "base_uri": "https://localhost:8080/"
        },
        "id": "VTCrcm04VZiw",
        "outputId": "1910dc11-a792-4634-e246-6f965f1996cd"
      },
      "execution_count": 23,
      "outputs": [
        {
          "output_type": "stream",
          "name": "stdout",
          "text": [
            "Masin Press: efektiivsus 99.01%\n",
            "Masin Welding: efektiivsus 98.36%\n",
            "Masin Packing: efektiivsus 95.74%\n",
            "Keskmine peatumise aeg: 11.67 tundi\n",
            "Standardhälve peatumise ajas: 7.64 tundi\n"
          ]
        }
      ]
    }
  ]
}

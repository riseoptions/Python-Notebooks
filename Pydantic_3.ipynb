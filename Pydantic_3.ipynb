{
  "nbformat": 4,
  "nbformat_minor": 0,
  "metadata": {
    "colab": {
      "provenance": []
    },
    "kernelspec": {
      "name": "python3",
      "display_name": "Python 3"
    },
    "language_info": {
      "name": "python"
    }
  },
  "cells": [
    {
      "cell_type": "markdown",
      "source": [
        "# **Pydantic**\n",
        "\n",
        "Pydantic ei muuda Pythonit staatiliselt tüübikontrollitud keelest, nagu Java, kuid pakub tugevat tüübiannotatsioonide süsteemi ja andmete valideerimist. See aitab parandada koodi täpsust ja vältida vigade tekkimist, rakendades mõningaid staatilise tüübikontrolli omadusi dünaamilise keele kontekstis."
      ],
      "metadata": {
        "id": "MsIfHJhGtawa"
      }
    },
    {
      "cell_type": "markdown",
      "source": [
        "# 1. Tüübikontroll ja Andmete Valideerimine\n",
        "Pydantic on andmemudelite valideerimise ja serialiseerimise tööriist, mis kasutab Python 3.6+ tüübiannotatsioone andmete valideerimiseks ja automaatseks konverteerimiseks. See aitab kindlaks teha, et andmed järgivad määratud tüüpe ja reegleid.\n",
        "\n",
        "**Näide: Andmete Valideerimine**"
      ],
      "metadata": {
        "id": "Uqqgmt-OsszD"
      }
    },
    {
      "cell_type": "code",
      "execution_count": 1,
      "metadata": {
        "colab": {
          "base_uri": "https://localhost:8080/"
        },
        "id": "aOo19LBQsnDc",
        "outputId": "118a8e16-69df-4718-fcef-f0e05d13e0a2"
      },
      "outputs": [
        {
          "output_type": "stream",
          "name": "stdout",
          "text": [
            "1 validation error for User\n",
            "age\n",
            "  Input should be greater than or equal to 0 [type=greater_than_equal, input_value=-5, input_type=int]\n",
            "    For further information visit https://errors.pydantic.dev/2.8/v/greater_than_equal\n"
          ]
        }
      ],
      "source": [
        "from pydantic import BaseModel, conint\n",
        "\n",
        "class User(BaseModel):\n",
        "    name: str\n",
        "    age: conint(ge=0)  # Age must be a non-negative integer\n",
        "\n",
        "# Valid data\n",
        "user = User(name=\"Alice\", age=30)\n",
        "\n",
        "# Invalid data (raises a validation error)\n",
        "try:\n",
        "    invalid_user = User(name=\"Bob\", age=-5)\n",
        "except ValueError as e:\n",
        "    print(e)\n"
      ]
    },
    {
      "cell_type": "markdown",
      "source": [
        "# 2. Tüübihinnangud ja Automaatsed Konversioonid\n",
        "Pydantic võib automaatselt konverteerida andmeid õigesse vormingusse vastavalt tüübiannotatsioonidele. Näiteks, kui sisendiks on tekstiline kuupäev, saab Pydantic selle automaatselt datetime objektiks konverteerida.\n",
        "\n",
        "**Näide: Automaatne Konversioon**"
      ],
      "metadata": {
        "id": "6bdPh2cks83k"
      }
    },
    {
      "cell_type": "code",
      "source": [
        "from pydantic import BaseModel\n",
        "from datetime import datetime\n",
        "\n",
        "class Event(BaseModel):\n",
        "    name: str\n",
        "    date: datetime  # Expect a datetime object\n",
        "\n",
        "event = Event(name=\"Conference\", date=\"2024-09-01T10:00:00\")\n",
        "print(event.date)  # Output will be a datetime object\n"
      ],
      "metadata": {
        "colab": {
          "base_uri": "https://localhost:8080/"
        },
        "id": "xB6xTnH5tAJ9",
        "outputId": "ab6fb5d4-e95e-475e-9b60-b60fb33f5beb"
      },
      "execution_count": 2,
      "outputs": [
        {
          "output_type": "stream",
          "name": "stdout",
          "text": [
            "2024-09-01 10:00:00\n"
          ]
        }
      ]
    },
    {
      "cell_type": "markdown",
      "source": [
        "# 3. Tüübihinnangud ja Kasutaja Defineeritud Väärtused\n",
        "Pydantic võimaldab defineerida kompleksseid andmemudeleid, kus saab määratleda keerukamaid struktuure ja reegleid. Näiteks, saab luua andmemudeleid, kus alammudelite tüübid on täpselt määratletud.\n",
        "\n",
        "**Näide: Kompleksne Andmemudel**"
      ],
      "metadata": {
        "id": "wlxbR02etE-W"
      }
    },
    {
      "cell_type": "code",
      "source": [
        "from pydantic import BaseModel\n",
        "from typing import List\n",
        "\n",
        "class Address(BaseModel):\n",
        "    street: str\n",
        "    city: str\n",
        "\n",
        "class Person(BaseModel):\n",
        "    name: str\n",
        "    addresses: List[Address]  # List of Address objects\n",
        "\n",
        "# Valid data\n",
        "person = Person(name=\"John\", addresses=[{\"street\": \"123 Elm St\", \"city\": \"Somewhere\"}])\n",
        "\n",
        "# Invalid data (raises a validation error)\n",
        "try:\n",
        "    invalid_person = Person(name=\"Jane\", addresses=[{\"street\": \"456 Oak St\", \"city\": 123}])\n",
        "except ValueError as e:\n",
        "    print(e)\n"
      ],
      "metadata": {
        "colab": {
          "base_uri": "https://localhost:8080/"
        },
        "id": "ly3pMpNStITv",
        "outputId": "f7e5f3c7-5245-4669-da33-68db6b33b612"
      },
      "execution_count": 3,
      "outputs": [
        {
          "output_type": "stream",
          "name": "stdout",
          "text": [
            "1 validation error for Person\n",
            "addresses.0.city\n",
            "  Input should be a valid string [type=string_type, input_value=123, input_type=int]\n",
            "    For further information visit https://errors.pydantic.dev/2.8/v/string_type\n"
          ]
        }
      ]
    },
    {
      "cell_type": "markdown",
      "source": [
        "# 4. Tüübi Kaitsmine ja Error Handling\n",
        "Pydantic võib aidata vältida tavalisi tüübi- ja andmete valideerimisvigu, mida võidakse täiendavalt kontrollida ja käsitleda, enne kui andmed jõuavad rakenduse äriloogikasse.\n",
        "\n",
        "**Näide: Error Handling**"
      ],
      "metadata": {
        "id": "BYPBOlZOtNJ8"
      }
    },
    {
      "cell_type": "code",
      "source": [
        "from pydantic import BaseModel, ValidationError\n",
        "\n",
        "class Product(BaseModel):\n",
        "    name: str\n",
        "    price: float\n",
        "\n",
        "try:\n",
        "    product = Product(name=\"Gadget\", price=\"free\")  # Invalid price type\n",
        "except ValidationError as e:\n",
        "    print(e.json())\n"
      ],
      "metadata": {
        "colab": {
          "base_uri": "https://localhost:8080/"
        },
        "id": "R1jWdZlXtQTb",
        "outputId": "4a3f16e5-c941-4baa-de81-2ebcb33ed6d3"
      },
      "execution_count": 4,
      "outputs": [
        {
          "output_type": "stream",
          "name": "stdout",
          "text": [
            "[{\"type\":\"float_parsing\",\"loc\":[\"price\"],\"msg\":\"Input should be a valid number, unable to parse string as a number\",\"input\":\"free\",\"url\":\"https://errors.pydantic.dev/2.8/v/float_parsing\"}]\n"
          ]
        }
      ]
    },
    {
      "cell_type": "markdown",
      "source": [
        " Luues klassis @validator dekoraatoreid, mis võimaldavad valideerida ja muuta väärtusi enne, kui need mudelisse sisestatakse."
      ],
      "metadata": {
        "id": "CugS9qZ-wPsS"
      }
    },
    {
      "cell_type": "code",
      "source": [
        "from pydantic import BaseModel, validator, ValidationError\n",
        "\n",
        "class Product(BaseModel):\n",
        "    name: str\n",
        "    price: float\n",
        "\n",
        "    @validator('price', pre=True)\n",
        "    def parse_price(cls, value):\n",
        "        # Kui väärtus on string \"free\", muuda see 0-ks\n",
        "        if value == 'free':\n",
        "            return 0.0\n",
        "        # Proovi muundada väärtus arvuks, kui see ei ole juba float\n",
        "        try:\n",
        "            return float(value)\n",
        "        except ValueError:\n",
        "            raise ValueError(f\"Invalid price value: {value}\")\n",
        "\n",
        "# Näide kehtivatest andmetest\n",
        "try:\n",
        "    product1 = Product(name=\"Gadget\", price=\"free\")  # \"free\" muudetakse 0-ks\n",
        "    print(product1)\n",
        "except ValidationError as e:\n",
        "    print(e)\n",
        "\n",
        "# Näide vigaste andmetega\n",
        "try:\n",
        "    product2 = Product(name=\"Gadget\", price=\"not_a_number\")  # Tõstatab ValueError\n",
        "except ValidationError as e:\n",
        "    print(e)\n"
      ],
      "metadata": {
        "colab": {
          "base_uri": "https://localhost:8080/"
        },
        "id": "VP0Yrz6hv2aP",
        "outputId": "689216b8-62f1-412d-fe6b-3406a90479a0"
      },
      "execution_count": 5,
      "outputs": [
        {
          "output_type": "stream",
          "name": "stdout",
          "text": [
            "name='Gadget' price=0.0\n",
            "1 validation error for Product\n",
            "price\n",
            "  Value error, Invalid price value: not_a_number [type=value_error, input_value='not_a_number', input_type=str]\n",
            "    For further information visit https://errors.pydantic.dev/2.8/v/value_error\n"
          ]
        },
        {
          "output_type": "stream",
          "name": "stderr",
          "text": [
            "<ipython-input-5-334f3f147b1f>:7: PydanticDeprecatedSince20: Pydantic V1 style `@validator` validators are deprecated. You should migrate to Pydantic V2 style `@field_validator` validators, see the migration guide for more details. Deprecated in Pydantic V2.0 to be removed in V3.0. See Pydantic V2 Migration Guide at https://errors.pydantic.dev/2.8/migration/\n",
            "  @validator('price', pre=True)\n"
          ]
        }
      ]
    },
    {
      "cell_type": "markdown",
      "source": [
        "# Näide Pydantic mudelist, mis kontrollib SQL-päringu olemasolu\n",
        "Siin on lihtne näide, kuidas luua Pydantic mudel, mis kasutab kohandatud validatsioonimeetodit, et kontrollida, kas sisend on SQL-päring või sisaldab SQL-päringu elemente:"
      ],
      "metadata": {
        "id": "-WkiYv_Ixo4v"
      }
    },
    {
      "cell_type": "code",
      "source": [
        "from pydantic import BaseModel, validator, ValidationError\n",
        "\n",
        "class SQLQuery(BaseModel):\n",
        "    query: str\n",
        "\n",
        "    @validator('query')\n",
        "    def validate_sql_query(cls, value):\n",
        "        # Näide SQL-päringu mustrist, mis kontrollib tavalisi SQL-võtmesõnu\n",
        "        sql_keywords = ['SELECT', 'INSERT', 'UPDATE', 'DELETE', 'FROM', 'WHERE', 'JOIN']\n",
        "        if any(keyword in value.upper() for keyword in sql_keywords):\n",
        "            raise ValueError(\"The input appears to be an SQL query.\")\n",
        "        return value\n",
        "\n",
        "# Näide kehtiva sisendiga\n",
        "try:\n",
        "    query = SQLQuery(query=\"SELECT * FROM users WHERE id = 1\")\n",
        "except ValidationError as e:\n",
        "    print(e)\n",
        "\n",
        "# Näide mittesobiva sisendiga\n",
        "try:\n",
        "    query = SQLQuery(query=\"This is just a regular string.\")\n",
        "    print(query)\n",
        "except ValidationError as e:\n",
        "    print(e)\n"
      ],
      "metadata": {
        "colab": {
          "base_uri": "https://localhost:8080/"
        },
        "id": "xfRT4LbywvQX",
        "outputId": "5054b6c3-9e98-4f11-af3e-a2a6f7cc75b9"
      },
      "execution_count": 8,
      "outputs": [
        {
          "output_type": "stream",
          "name": "stdout",
          "text": [
            "1 validation error for SQLQuery\n",
            "query\n",
            "  Value error, The input appears to be an SQL query. [type=value_error, input_value='SELECT * FROM users WHERE id = 1', input_type=str]\n",
            "    For further information visit https://errors.pydantic.dev/2.8/v/value_error\n",
            "query='This is just a regular string.'\n"
          ]
        },
        {
          "output_type": "stream",
          "name": "stderr",
          "text": [
            "<ipython-input-8-cfc7c29c99ac>:6: PydanticDeprecatedSince20: Pydantic V1 style `@validator` validators are deprecated. You should migrate to Pydantic V2 style `@field_validator` validators, see the migration guide for more details. Deprecated in Pydantic V2.0 to be removed in V3.0. See Pydantic V2 Migration Guide at https://errors.pydantic.dev/2.8/migration/\n",
            "  @validator('query')\n"
          ]
        }
      ]
    },
    {
      "cell_type": "markdown",
      "source": [
        "Kujuta ette, et soovid kontrollida, kas päring sisaldab SQL-klausleid nagu SELECT ja FROM, kasutades regulaaravaldisi."
      ],
      "metadata": {
        "id": "tTtGAox9yI5D"
      }
    },
    {
      "cell_type": "code",
      "source": [
        "from pydantic import BaseModel, validator, ValidationError\n",
        "import re\n",
        "\n",
        "class SQLQuery(BaseModel):\n",
        "    query: str\n",
        "\n",
        "    @validator('query')\n",
        "    def validate_sql_query(cls, value):\n",
        "        # Define regular expression patterns for SQL keywords\n",
        "        sql_pattern = re.compile(r'\\b(SELECT|INSERT|UPDATE|DELETE|FROM|WHERE|JOIN)\\b', re.IGNORECASE)\n",
        "        if sql_pattern.search(value):\n",
        "            raise ValueError(\"The input appears to be an SQL query.\")\n",
        "        return value\n",
        "\n",
        "# Näide kehtiva sisendiga\n",
        "try:\n",
        "    query = SQLQuery(query=\"SELECT * FROM users WHERE id = 1\")\n",
        "except ValidationError as e:\n",
        "    print(e)\n",
        "\n",
        "# Näide mittesobiva sisendiga\n",
        "try:\n",
        "    query = SQLQuery(query=\"This is just a regular string.\")\n",
        "    print(query)\n",
        "except ValidationError as e:\n",
        "    print(e)\n"
      ],
      "metadata": {
        "colab": {
          "base_uri": "https://localhost:8080/"
        },
        "id": "MM5TizK9yJO3",
        "outputId": "41d80c77-c3a0-4467-be7c-8c6ab35f2367"
      },
      "execution_count": 7,
      "outputs": [
        {
          "output_type": "stream",
          "name": "stdout",
          "text": [
            "1 validation error for SQLQuery\n",
            "query\n",
            "  Value error, The input appears to be an SQL query. [type=value_error, input_value='SELECT * FROM users WHERE id = 1', input_type=str]\n",
            "    For further information visit https://errors.pydantic.dev/2.8/v/value_error\n",
            "query='This is just a regular string.'\n"
          ]
        },
        {
          "output_type": "stream",
          "name": "stderr",
          "text": [
            "<ipython-input-7-8a7692f7ee3e>:7: PydanticDeprecatedSince20: Pydantic V1 style `@validator` validators are deprecated. You should migrate to Pydantic V2 style `@field_validator` validators, see the migration guide for more details. Deprecated in Pydantic V2.0 to be removed in V3.0. See Pydantic V2 Migration Guide at https://errors.pydantic.dev/2.8/migration/\n",
            "  @validator('query')\n"
          ]
        }
      ]
    },
    {
      "cell_type": "markdown",
      "source": [
        "# Näide: Algandmete Kontrollimine\n",
        "1. Pydantic Mudeli Loomine: kuidas kasutada Pydanticut algarvude kontrollimiseks:\n",
        "\n",
        "Seda lähenemist saab kasutada igasuguste keerukate valideerimisnõuete täitmiseks Pydanticus."
      ],
      "metadata": {
        "id": "cE3OsctzzOAv"
      }
    },
    {
      "cell_type": "code",
      "source": [
        "from pydantic import BaseModel, validator\n",
        "from typing import List\n",
        "\n",
        "class PrimeNumberValidator(BaseModel):\n",
        "    number: int\n",
        "\n",
        "    @validator('number')\n",
        "    def check_prime(cls, value):\n",
        "        if value <= 1:\n",
        "            raise ValueError(f\"{value} is not a prime number\")\n",
        "        for i in range(2, int(value**0.5) + 1):\n",
        "            if value % i == 0:\n",
        "                raise ValueError(f\"{value} is not a prime number\")\n",
        "        return value\n",
        "\n",
        "class NumbersModel(BaseModel):\n",
        "    numbers: List[PrimeNumberValidator]\n",
        "\n",
        "    @validator('numbers', each_item=True)\n",
        "    def check_prime_in_list(cls, value):\n",
        "        return value  # Each item is already validated by PrimeNumberValidator\n"
      ],
      "metadata": {
        "colab": {
          "base_uri": "https://localhost:8080/"
        },
        "id": "vMGN9oPN0UEv",
        "outputId": "95cca21b-65f9-4796-e5cb-720aef392068"
      },
      "execution_count": 12,
      "outputs": [
        {
          "output_type": "stream",
          "name": "stderr",
          "text": [
            "<ipython-input-12-4c8db7bdffb1>:7: PydanticDeprecatedSince20: Pydantic V1 style `@validator` validators are deprecated. You should migrate to Pydantic V2 style `@field_validator` validators, see the migration guide for more details. Deprecated in Pydantic V2.0 to be removed in V3.0. See Pydantic V2 Migration Guide at https://errors.pydantic.dev/2.8/migration/\n",
            "  @validator('number')\n",
            "<ipython-input-12-4c8db7bdffb1>:19: PydanticDeprecatedSince20: Pydantic V1 style `@validator` validators are deprecated. You should migrate to Pydantic V2 style `@field_validator` validators, see the migration guide for more details. Deprecated in Pydantic V2.0 to be removed in V3.0. See Pydantic V2 Migration Guide at https://errors.pydantic.dev/2.8/migration/\n",
            "  @validator('numbers', each_item=True)\n"
          ]
        }
      ]
    },
    {
      "cell_type": "code",
      "source": [
        "try:\n",
        "    # Proovime kehtiva andmestruktuuriga\n",
        "    valid_data = NumbersModel(numbers=[PrimeNumberValidator(number=2),\n",
        "                                       PrimeNumberValidator(number=3),\n",
        "                                       PrimeNumberValidator(number=5)])\n",
        "    print(\"Valid data:\", valid_data)\n",
        "\n",
        "    # Proovime kehtetu andmestruktuuriga\n",
        "    invalid_data = NumbersModel(numbers=[PrimeNumberValidator(number=4),\n",
        "                                         PrimeNumberValidator(number=7)])\n",
        "except ValueError as e:\n",
        "    print(\"Validation error:\", e)\n"
      ],
      "metadata": {
        "colab": {
          "base_uri": "https://localhost:8080/"
        },
        "id": "MEZMF6Ln0aAF",
        "outputId": "11a732ec-0aa7-43cc-ed15-d85950f1fb52"
      },
      "execution_count": 13,
      "outputs": [
        {
          "output_type": "stream",
          "name": "stdout",
          "text": [
            "Valid data: numbers=[PrimeNumberValidator(number=2), PrimeNumberValidator(number=3), PrimeNumberValidator(number=5)]\n",
            "Validation error: 1 validation error for PrimeNumberValidator\n",
            "number\n",
            "  Value error, 4 is not a prime number [type=value_error, input_value=4, input_type=int]\n",
            "    For further information visit https://errors.pydantic.dev/2.8/v/value_error\n"
          ]
        }
      ]
    }
  ]
}
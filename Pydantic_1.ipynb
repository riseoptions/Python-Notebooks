{
  "nbformat": 4,
  "nbformat_minor": 0,
  "metadata": {
    "colab": {
      "provenance": []
    },
    "kernelspec": {
      "name": "python3",
      "display_name": "Python 3"
    },
    "language_info": {
      "name": "python"
    }
  },
  "cells": [
    {
      "cell_type": "markdown",
      "source": [
        "# **1. Pydanticu installimine**\n",
        "See installib nii Pydanticu kui ka email-validator teegi, mis on vajalik EmailStr tüübi kasutamiseks."
      ],
      "metadata": {
        "id": "rEHFbuRe-zu-"
      }
    },
    {
      "cell_type": "code",
      "execution_count": null,
      "metadata": {
        "colab": {
          "base_uri": "https://localhost:8080/"
        },
        "id": "mx5ILH7uxv8v",
        "outputId": "99568392-5364-40a5-f6e2-64ab06f1c533"
      },
      "outputs": [
        {
          "output_type": "stream",
          "name": "stdout",
          "text": [
            "Requirement already satisfied: pydantic[email] in /usr/local/lib/python3.10/dist-packages (2.8.2)\n",
            "Requirement already satisfied: annotated-types>=0.4.0 in /usr/local/lib/python3.10/dist-packages (from pydantic[email]) (0.7.0)\n",
            "Requirement already satisfied: pydantic-core==2.20.1 in /usr/local/lib/python3.10/dist-packages (from pydantic[email]) (2.20.1)\n",
            "Requirement already satisfied: typing-extensions>=4.6.1 in /usr/local/lib/python3.10/dist-packages (from pydantic[email]) (4.12.2)\n",
            "Collecting email-validator>=2.0.0 (from pydantic[email])\n",
            "  Downloading email_validator-2.2.0-py3-none-any.whl.metadata (25 kB)\n",
            "Collecting dnspython>=2.0.0 (from email-validator>=2.0.0->pydantic[email])\n",
            "  Downloading dnspython-2.6.1-py3-none-any.whl.metadata (5.8 kB)\n",
            "Requirement already satisfied: idna>=2.0.0 in /usr/local/lib/python3.10/dist-packages (from email-validator>=2.0.0->pydantic[email]) (3.8)\n",
            "Downloading email_validator-2.2.0-py3-none-any.whl (33 kB)\n",
            "Downloading dnspython-2.6.1-py3-none-any.whl (307 kB)\n",
            "\u001b[2K   \u001b[90m━━━━━━━━━━━━━━━━━━━━━━━━━━━━━━━━━━━━━━━━\u001b[0m \u001b[32m307.7/307.7 kB\u001b[0m \u001b[31m12.1 MB/s\u001b[0m eta \u001b[36m0:00:00\u001b[0m\n",
            "\u001b[?25hInstalling collected packages: dnspython, email-validator\n",
            "Successfully installed dnspython-2.6.1 email-validator-2.2.0\n"
          ]
        }
      ],
      "source": [
        "!pip install pydantic[email]\n",
        "#!pip install pydantic"
      ]
    },
    {
      "cell_type": "markdown",
      "source": [
        "# **2. Lihtsa andmemudeli loomine**\n",
        "Lähme läbi lihtsa näite, kus loome mudeli User, mis valideerib kasutaja andmeid."
      ],
      "metadata": {
        "id": "IUi0SO07_c7W"
      }
    },
    {
      "cell_type": "code",
      "source": [
        "from pydantic import BaseModel, EmailStr\n",
        "\n",
        "# Defineerime Pydantic mudeli, mis pärineb BaseModel klassist\n",
        "class User(BaseModel):\n",
        "    id: int\n",
        "    name: str\n",
        "    email: EmailStr\n",
        "    is_active: bool = True  # Vaikeväärtus\n",
        "\n",
        "# Loo kasutaja objekt\n",
        "user = User(id=1, name=\"John Doe\", email=\"john.doe@example.com\")\n",
        "\n",
        "print(user)\n",
        "print(user.email)\n"
      ],
      "metadata": {
        "colab": {
          "base_uri": "https://localhost:8080/"
        },
        "id": "4BKrh_6Bx6Os",
        "outputId": "5e7bdfbc-cae8-4b2c-dbf5-b56d61218b78"
      },
      "execution_count": null,
      "outputs": [
        {
          "output_type": "stream",
          "name": "stdout",
          "text": [
            "id=1 name='John Doe' email='john.doe@example.com' is_active=True\n",
            "john.doe@example.com\n"
          ]
        }
      ]
    },
    {
      "cell_type": "markdown",
      "source": [
        "**Koodi selgitus:**\n",
        "\n",
        "BaseModel: Kõik Pydanticu mudelid peavad pärinema BaseModel klassist.\n",
        "\n",
        "Tüübikontroll: Mudelile antakse tüübid (int, str, EmailStr), mis Pydanticu abil valideeritakse.\n",
        "\n",
        "Vaikeväärtus: is_active atribuudil on vaikeväärtus True, mis lisatakse automaatselt, kui seda ei määrata.\n",
        "\n",
        "EmailStr: See on spetsiaalne tüüp, mis tagab, et sisestatud e-posti aadress on kehtiv."
      ],
      "metadata": {
        "id": "GWd9X5uk_rol"
      }
    },
    {
      "cell_type": "markdown",
      "source": [
        "# **3. Vale sisendi käsitlemine**\n",
        "Vaatame, mis juhtub, kui me püüame luua kasutaja objekti vale andmetüübiga.\n",
        "\n",
        "ValidationError: Kui andmed ei vasta määratud tüübile või formaadile, viskab Pydantic ValidationError erindi, mida saab käsitleda."
      ],
      "metadata": {
        "id": "yNOsdJln_5uc"
      }
    },
    {
      "cell_type": "code",
      "source": [
        "from pydantic import ValidationError\n",
        "\n",
        "try:\n",
        "    user = User(id=\"one\", name=\"John Doe\", email=\"not-an-email\")\n",
        "except ValidationError as e:\n",
        "    print(e)\n"
      ],
      "metadata": {
        "colab": {
          "base_uri": "https://localhost:8080/"
        },
        "id": "kPEV5FaOzZKf",
        "outputId": "98c707fc-4e8e-4e1b-c77b-48f943880a0c"
      },
      "execution_count": null,
      "outputs": [
        {
          "output_type": "stream",
          "name": "stdout",
          "text": [
            "2 validation errors for User\n",
            "id\n",
            "  Input should be a valid integer, unable to parse string as an integer [type=int_parsing, input_value='one', input_type=str]\n",
            "    For further information visit https://errors.pydantic.dev/2.8/v/int_parsing\n",
            "email\n",
            "  value is not a valid email address: An email address must have an @-sign. [type=value_error, input_value='not-an-email', input_type=str]\n"
          ]
        }
      ]
    },
    {
      "cell_type": "markdown",
      "source": [
        "# **4. Andmete teisendamine**\n",
        "Pydantic suudab mõningaid andmeid automaatselt teisendada, kui need on õigel kujul.\n",
        "\n",
        "Automaatne teisendamine: Pydantic teisendab id väärtuse automaatselt int-iks ja price väärtuse float-iks, kuna need on vastavas vormingus stringid."
      ],
      "metadata": {
        "id": "TODq1EjFAiJz"
      }
    },
    {
      "cell_type": "code",
      "source": [
        "class Product(BaseModel):\n",
        "    id: int\n",
        "    name: str\n",
        "    price: float\n",
        "\n",
        "# Andmed võivad algselt olla stringidena\n",
        "product = Product(id=\"10\", name=\"Laptop\", price=\"1999.99\")\n",
        "\n",
        "print(product)"
      ],
      "metadata": {
        "colab": {
          "base_uri": "https://localhost:8080/"
        },
        "id": "3P3e0SSX0Wiy",
        "outputId": "a17d30eb-52b2-4f4d-93f4-60589f9cd8fc"
      },
      "execution_count": null,
      "outputs": [
        {
          "output_type": "stream",
          "name": "stdout",
          "text": [
            "id=10 name='Laptop' price=1999.99\n"
          ]
        }
      ]
    },
    {
      "cell_type": "code",
      "source": [
        "print(product.id)\n",
        "print(product.json)"
      ],
      "metadata": {
        "colab": {
          "base_uri": "https://localhost:8080/"
        },
        "id": "8cOFUa5f0sy2",
        "outputId": "68182e00-aca0-490e-8c5e-0a861a1aa1a0"
      },
      "execution_count": null,
      "outputs": [
        {
          "output_type": "stream",
          "name": "stdout",
          "text": [
            "10\n",
            "<bound method BaseModel.json of Product(id=10, name='Laptop', price=1999.99)>\n"
          ]
        }
      ]
    },
    {
      "cell_type": "code",
      "source": [
        "for i,j in product:\n",
        "  print(i,j)"
      ],
      "metadata": {
        "colab": {
          "base_uri": "https://localhost:8080/"
        },
        "id": "O8IbMqU91Mna",
        "outputId": "e5933ef9-afc9-481e-a0d3-6a26aaede2ca"
      },
      "execution_count": null,
      "outputs": [
        {
          "output_type": "stream",
          "name": "stdout",
          "text": [
            "id 10\n",
            "name Laptop\n",
            "price 1999.99\n"
          ]
        }
      ]
    },
    {
      "cell_type": "markdown",
      "source": [
        "# **5. JSON-i serialiseerimine ja deserialiseerimine**\n",
        "Pydanticu mudelid saavad hõlpsasti töötada JSON andmetega.\n",
        "\n",
        ".json(): Meetod, mis serialiseerib mudeli objekti JSON stringiks.\n",
        "\n",
        "parse_raw(): Meetod, mis loeb JSON stringi ja loob Pydanticu mudeli objekti."
      ],
      "metadata": {
        "id": "UCMxGGt_AtKC"
      }
    },
    {
      "cell_type": "code",
      "source": [
        "import json\n",
        "\n",
        "# Kasutaja loomine mudeli abil\n",
        "user = User(id=2, name=\"Alice\", email=\"alice@example.com\")\n",
        "\n",
        "# Muudame Pydanticu objekti JSON stringiks\n",
        "user_json = user.json()\n",
        "print(user_json)\n",
        "\n",
        "# JSON stringi tagasi Pydanticu mudeliks teisendamine\n",
        "user_data = '{\"id\": 3, \"name\": \"Bob\", \"email\": \"bob@example.com\"}'\n",
        "new_user = User.parse_raw(user_data)\n",
        "print(new_user)\n",
        "print(type(new_user))"
      ],
      "metadata": {
        "colab": {
          "base_uri": "https://localhost:8080/"
        },
        "id": "Cx5o_S1M26dz",
        "outputId": "fdc55f54-7426-4b73-d455-221a1852b239"
      },
      "execution_count": null,
      "outputs": [
        {
          "output_type": "stream",
          "name": "stdout",
          "text": [
            "{\"id\":2,\"name\":\"Alice\",\"email\":\"alice@example.com\",\"is_active\":true}\n",
            "id=3 name='Bob' email='bob@example.com' is_active=True\n",
            "<class '__main__.User'>\n"
          ]
        }
      ]
    },
    {
      "cell_type": "code",
      "source": [
        "from pydantic import BaseModel, condecimal\n",
        "from datetime import date\n",
        "\n",
        "class StockPrice(BaseModel):\n",
        "    symbol: str\n",
        "    price: condecimal(max_digits=5, decimal_places=2)\n",
        "    date: date\n",
        "\n",
        "# Näide aktsiahindade loomisest\n",
        "stock_price = StockPrice(\n",
        "    symbol=\"AAPL\",\n",
        "    price=175.55,\n",
        "    date=\"2024-08-28\"\n",
        ")\n",
        "\n",
        "print(stock_price)\n",
        "print(stock_price.price)"
      ],
      "metadata": {
        "colab": {
          "base_uri": "https://localhost:8080/"
        },
        "id": "1KPma8tn6sJK",
        "outputId": "d390c952-4913-4e0f-e8e0-02a93c563047"
      },
      "execution_count": null,
      "outputs": [
        {
          "output_type": "stream",
          "name": "stdout",
          "text": [
            "symbol='AAPL' price=Decimal('175.55') date=datetime.date(2024, 8, 28)\n",
            "175.55\n"
          ]
        }
      ]
    },
    {
      "cell_type": "code",
      "source": [
        "from pydantic import BaseModel, condecimal\n",
        "from datetime import date\n",
        "\n",
        "class StockPrice(BaseModel):\n",
        "    symbol: str\n",
        "    price: condecimal(max_digits=10, decimal_places=4)\n",
        "    date: date\n",
        "\n",
        "# Näide aktsiahindade loomisest\n",
        "stock_price = StockPrice(\n",
        "    symbol=\"AAPL\",\n",
        "    price=175.5555,\n",
        "    date=\"2024-08-28\"\n",
        ")\n",
        "\n",
        "print(stock_price)\n",
        "print(stock_price.price)\n"
      ],
      "metadata": {
        "colab": {
          "base_uri": "https://localhost:8080/"
        },
        "id": "h1s5iIgv75Ba",
        "outputId": "e5c4a255-eb41-4123-f281-b5f94787e46f"
      },
      "execution_count": null,
      "outputs": [
        {
          "output_type": "stream",
          "name": "stdout",
          "text": [
            "symbol='AAPL' price=Decimal('175.5555') date=datetime.date(2024, 8, 28)\n",
            "175.5555\n"
          ]
        }
      ]
    },
    {
      "cell_type": "code",
      "source": [
        "from pydantic import BaseModel\n",
        "\n",
        "class FlexibleModel(BaseModel):\n",
        "    id: int\n",
        "    name: str\n",
        "\n",
        "    class Config:\n",
        "        extra = \"allow\"  # Lubab täiendavaid atribuute\n",
        "\n",
        "# Andmed, mis sisaldavad määratlemata arvu atribuute\n",
        "data = {\n",
        "    'id': 1,\n",
        "    'name': 'John Doe',\n",
        "    'email': 'johndoe@example.com',\n",
        "    'age': 30,\n",
        "    'gender': 'male'\n",
        "}\n",
        "\n",
        "# Pydanticu objekti loomine\n",
        "flexible_model = FlexibleModel(**data)\n",
        "print(flexible_model)\n",
        "#print(flexible_model.__dict__)  # Näitab kõiki atribuute, sealhulgas täiendavaid\n"
      ],
      "metadata": {
        "colab": {
          "base_uri": "https://localhost:8080/"
        },
        "id": "vkVQ40_FrWQ9",
        "outputId": "ccff25a3-2978-40a4-8624-7a9b436928c0"
      },
      "execution_count": null,
      "outputs": [
        {
          "output_type": "stream",
          "name": "stdout",
          "text": [
            "id=1 name='John Doe' email='johndoe@example.com' age=30 gender='male'\n"
          ]
        }
      ]
    },
    {
      "cell_type": "code",
      "source": [
        "from pydantic import BaseModel\n",
        "\n",
        "class FlexibleModel(BaseModel):\n",
        "    id: int\n",
        "    name: str\n",
        "\n",
        "    class Config:\n",
        "        extra = \"allow\"\n",
        "\n",
        "data = {\n",
        "    'id': 1,\n",
        "    'name': 'John Doe',\n",
        "    'email': 'johndoe@example.com',\n",
        "    'age': 30\n",
        "}\n",
        "\n",
        "flexible_model = FlexibleModel(**data)\n",
        "print(flexible_model.__dict__)\n"
      ],
      "metadata": {
        "colab": {
          "base_uri": "https://localhost:8080/"
        },
        "id": "FLUrhhMHr_fm",
        "outputId": "06003d0b-3a01-410d-858d-fee7b3215618"
      },
      "execution_count": null,
      "outputs": [
        {
          "output_type": "stream",
          "name": "stdout",
          "text": [
            "{'id': 1, 'name': 'John Doe'}\n"
          ]
        }
      ]
    },
    {
      "cell_type": "markdown",
      "source": [
        "# **Võrdleme tavalist Python klassi ja Pydantic klassi:**"
      ],
      "metadata": {
        "id": "y2SL4K_WCf23"
      }
    },
    {
      "cell_type": "code",
      "source": [
        "# Tavaline Python klass:\n",
        "class User:\n",
        "    def __init__(self, id: int, name: str, email: str):\n",
        "        self.id = id\n",
        "        self.name = name\n",
        "        self.email = email\n",
        "\n",
        "# Objekti loomine\n",
        "user = User(id=1, name=\"John Doe\", email=\"john.doe@example.com\")\n"
      ],
      "metadata": {
        "id": "t4ylYfVoCOMO"
      },
      "execution_count": null,
      "outputs": []
    },
    {
      "cell_type": "code",
      "source": [
        "#Pydantic klass:\n",
        "from pydantic import BaseModel, EmailStr\n",
        "\n",
        "class User(BaseModel):\n",
        "    id: int\n",
        "    name: str\n",
        "    email: EmailStr\n",
        "\n",
        "# Objekti loomine ja valideerimine\n",
        "user = User(id=1, name=\"John Doe\", email=\"john.doe@example.com\")\n"
      ],
      "metadata": {
        "id": "86omEuesCQOR"
      },
      "execution_count": null,
      "outputs": []
    },
    {
      "cell_type": "markdown",
      "source": [
        "# Peamised erinevused:\n",
        "Valideerimine: Pydantic kontrollib automaatselt, kas email on korrektne e-posti aadress, ja tagab, et id on täisarv.\n",
        "\n",
        "Tüübikonversioon: Pydantic suudab vajadusel andmeid õigesse tüüpi teisendada (nt stringist täisarvuks).\n",
        "\n",
        "Veakäsitlus: Kui andmetüüp või väärtus ei vasta nõuetele, viskab Pydanticu klass kohe erindi (ValidationError), mis aitab vältida vigade levimist koodis.\n",
        "\n",
        "**Kokkuvõte**\n",
        "\n",
        "Pydanticu objektid on tõesti Python klassid, kuid need pakuvad täiendavaid funktsioone, mis muudavad andmete valideerimise ja struktureerimise oluliselt lihtsamaks ja turvalisemaks. Nii saate defineerida oma andmemudelid Pythoni klasside kujul ja lasta Pydanticul hoolitseda tüübikontrolli ja andmete konversiooni eest.\n",
        "\n",
        "Kuigi Pydantic ei rakenda otseselt konkreetseid disainimustreid, võib selle tööpõhimõtteid ja struktuuri näha kui inspireerituna teatud disainimustrite ideedest. See keskendub tugevalt andmete valideerimisele, teisendamisele ja objektide loomise lihtsustamisele, mis on disainimustritega kooskõlas olevad põhimõtted. Seega võib öelda, et Pydantic on loodud sarnase lähenemisviisiga nagu mitmed disainimustrid, pakkudes selget, struktureeritud ja usaldusväärset viisi andmete töötlemiseks Pythoni klasside abil."
      ],
      "metadata": {
        "id": "YJrfCGiuCvC-"
      }
    },
    {
      "cell_type": "markdown",
      "source": [
        "# Pydanticu Näide Aktsiahindadega\n",
        "Kujutame ette, et soovime luua Pydanticu mudeli, mis esindab aktsiahindu ja nendega seotud andmeid. Näide hõlmab lihtsat mudelit, kus on aktsia nimetus, hind ja kuupäev."
      ],
      "metadata": {
        "id": "xhVyOVGCDvwT"
      }
    },
    {
      "cell_type": "code",
      "source": [
        "from pydantic import BaseModel, condecimal\n",
        "from datetime import date\n",
        "\n",
        "class StockPrice(BaseModel):\n",
        "    symbol: str\n",
        "    price: condecimal(max_digits=10, decimal_places=2)\n",
        "    date: date\n",
        "\n",
        "# Näide aktsiahindade loomisest\n",
        "stock_price = StockPrice(\n",
        "    symbol=\"AAPL\",\n",
        "    price=175.55,\n",
        "    date=\"2024-08-28\"\n",
        ")\n",
        "\n",
        "print(stock_price)\n",
        "print(stock_price.price)\n"
      ],
      "metadata": {
        "colab": {
          "base_uri": "https://localhost:8080/"
        },
        "id": "8kQeTTdIDzGJ",
        "outputId": "72844781-2872-4baa-8606-e2f054248d59"
      },
      "execution_count": null,
      "outputs": [
        {
          "output_type": "stream",
          "name": "stdout",
          "text": [
            "symbol='AAPL' price=Decimal('175.55') date=datetime.date(2024, 8, 28)\n",
            "175.55\n"
          ]
        }
      ]
    },
    {
      "cell_type": "code",
      "source": [
        "# Näide veast.\n",
        "from pydantic import ValidationError\n",
        "\n",
        "try:\n",
        "    # Vale täpsus, mis ületab 4 kohta pärast koma\n",
        "    stock_price = StockPrice(\n",
        "        symbol=\"AAPL\",\n",
        "        price=175.55555,  # Viga, kuna rohkem kui 4 koma kohta\n",
        "        date=\"2024-08-28\"\n",
        "    )\n",
        "except ValidationError as e:\n",
        "    print(e)\n"
      ],
      "metadata": {
        "colab": {
          "base_uri": "https://localhost:8080/"
        },
        "id": "JOSSQ6-_D8_O",
        "outputId": "5668a2c1-a44d-4a82-968f-695a9e8456f3"
      },
      "execution_count": null,
      "outputs": [
        {
          "output_type": "stream",
          "name": "stdout",
          "text": [
            "1 validation error for StockPrice\n",
            "price\n",
            "  Decimal input should have no more than 2 decimal places [type=decimal_max_places, input_value=175.55555, input_type=float]\n",
            "    For further information visit https://errors.pydantic.dev/2.8/v/decimal_max_places\n"
          ]
        }
      ]
    },
    {
      "cell_type": "markdown",
      "source": [
        "Pydantic ei tee andmete automaatset ümardamist, kuid saad selle saavutada eelneva andmete töötlemise või kohandatud valideerija kaudu. See tagab, et kõik hinnad on alati õigesti ümardatud vastavalt sinu nõuetele."
      ],
      "metadata": {
        "id": "lu2tRTyBEc2u"
      }
    },
    {
      "cell_type": "code",
      "source": [
        "from pydantic import BaseModel, condecimal\n",
        "from datetime import date\n",
        "import math\n",
        "\n",
        "class StockPrice(BaseModel):\n",
        "    symbol: str\n",
        "    price: condecimal(max_digits=10, decimal_places=1)\n",
        "    date: date\n",
        "\n",
        "# Eelnev ümardamine\n",
        "def round_price(value: float, decimal_places: int) -> float:\n",
        "    return round(value, decimal_places)\n",
        "\n",
        "# Näide aktsiahindade loomisest\n",
        "raw_price = 175.5555\n",
        "rounded_price = round_price(raw_price, 1)\n",
        "\n",
        "stock_price = StockPrice(\n",
        "    symbol=\"AAPL\",\n",
        "    price=rounded_price,\n",
        "    date=\"2024-08-28\"\n",
        ")\n",
        "\n",
        "print(stock_price)\n",
        "print(stock_price.price)\n"
      ],
      "metadata": {
        "colab": {
          "base_uri": "https://localhost:8080/"
        },
        "id": "Qhg1hSYnEG-O",
        "outputId": "47660b06-2035-4a25-c35f-3e2ca9a35a84"
      },
      "execution_count": null,
      "outputs": [
        {
          "output_type": "stream",
          "name": "stdout",
          "text": [
            "symbol='AAPL' price=Decimal('175.6') date=datetime.date(2024, 8, 28)\n",
            "175.6\n"
          ]
        }
      ]
    },
    {
      "cell_type": "code",
      "source": [
        "from pydantic import BaseModel, condecimal, validator\n",
        "from datetime import date\n",
        "\n",
        "class StockPrice(BaseModel):\n",
        "    symbol: str\n",
        "    price: condecimal(max_digits=10, decimal_places=1)\n",
        "    date: date\n",
        "\n",
        "    @validator('price', pre=True)\n",
        "    def round_price(cls, value):\n",
        "        # Ümardame hinna 1 kohani pärast koma\n",
        "        return round(value, 1)\n",
        "\n",
        "# Näide aktsiahindade loomisest\n",
        "stock_price = StockPrice(\n",
        "    symbol=\"AAPL\",\n",
        "    price=175.5555,\n",
        "    date=\"2024-08-28\"\n",
        ")\n",
        "\n",
        "print(stock_price)\n",
        "print(stock_price.price)\n"
      ],
      "metadata": {
        "colab": {
          "base_uri": "https://localhost:8080/"
        },
        "id": "C7QCVSzrEJS_",
        "outputId": "3f3c3605-b7d3-47f7-f571-83613a6f1cb4"
      },
      "execution_count": null,
      "outputs": [
        {
          "output_type": "stream",
          "name": "stdout",
          "text": [
            "symbol='AAPL' price=Decimal('175.6') date=datetime.date(2024, 8, 28)\n",
            "175.6\n"
          ]
        },
        {
          "output_type": "stream",
          "name": "stderr",
          "text": [
            "<ipython-input-23-fa3eea3e7aa7>:9: PydanticDeprecatedSince20: Pydantic V1 style `@validator` validators are deprecated. You should migrate to Pydantic V2 style `@field_validator` validators, see the migration guide for more details. Deprecated in Pydantic V2.0 to be removed in V3.0. See Pydantic V2 Migration Guide at https://errors.pydantic.dev/2.8/migration/\n",
            "  @validator('price', pre=True)\n"
          ]
        }
      ]
    },
    {
      "cell_type": "markdown",
      "source": [
        "Kui Pydanticu objekti loomisel antakse rohkem atribuute, kui Pydanticu klassis on määratletud, tõstab Pydantic automaatselt vea (ValidationError). See juhtub, sest Pydanticu mudelid on range andmete valideerimise mehhanismiga ja aktsepteerivad ainult neid atribuute, mis on mudelis määratletud."
      ],
      "metadata": {
        "id": "x9ud-FH8HheW"
      }
    },
    {
      "cell_type": "code",
      "source": [
        "from pydantic import BaseModel, ValidationError\n",
        "\n",
        "class User(BaseModel):\n",
        "    id: int\n",
        "    name: str\n",
        "    email: str\n",
        "\n",
        "# Andmed sisaldavad lisaks 'age' ja 'gender', mida mudelis pole määratletud\n",
        "data = {\n",
        "    'id': 1,\n",
        "    'name': 'John Doe',\n",
        "    'email': 'johndoe@example.com',\n",
        "    'age': 30,\n",
        "    'gender': 'male'\n",
        "}\n",
        "\n",
        "try:\n",
        "    user = User(**data)\n",
        "except ValidationError as e:\n",
        "    print(e)\n"
      ],
      "metadata": {
        "id": "Sc46kHG_HOPY"
      },
      "execution_count": null,
      "outputs": []
    },
    {
      "cell_type": "markdown",
      "source": [
        "Täiendavate Atributuutide Ignoreerimine:\n",
        "\n",
        "Kui soovid, et Pydantic lihtsalt ignoreeriks täiendavaid atribuute, saad määrata mudelile extra = \"ignore\"."
      ],
      "metadata": {
        "id": "5SzMWeBDHw4O"
      }
    },
    {
      "cell_type": "markdown",
      "source": [
        "Koodis tekib ValidationError, sest data sõnastikus on 5 atribuuti, kuid User klassis on määratletud ainult 3. Pydantic ei oska töödelda täiendavaid atribuute (age ja gender), mis ei ole mudelis määratletud."
      ],
      "metadata": {
        "id": "c6JauBHyHnMO"
      }
    },
    {
      "cell_type": "code",
      "source": [
        "class User(BaseModel):\n",
        "    id: int\n",
        "    name: str\n",
        "    email: str\n",
        "\n",
        "    class Config:\n",
        "        extra = \"ignore\"\n",
        "\n",
        "user = User(**data)\n",
        "print(user)\n"
      ],
      "metadata": {
        "colab": {
          "base_uri": "https://localhost:8080/"
        },
        "id": "19cJOCw_HRIE",
        "outputId": "e3f0637c-dd11-4ac0-c017-d37f91c1ee6b"
      },
      "execution_count": null,
      "outputs": [
        {
          "output_type": "stream",
          "name": "stdout",
          "text": [
            "id=1 name='John Doe' email='johndoe@example.com'\n"
          ]
        }
      ]
    },
    {
      "cell_type": "code",
      "source": [
        "class User(BaseModel):\n",
        "    id: int\n",
        "    name: str\n",
        "    email: str\n",
        "\n",
        "    class Config:\n",
        "        extra = \"allow\"\n",
        "\n",
        "user = User(**data)\n",
        "print(user)\n",
        "print(user.__dict__)\n"
      ],
      "metadata": {
        "colab": {
          "base_uri": "https://localhost:8080/"
        },
        "id": "xfmeKmVVH0zK",
        "outputId": "330cd817-4d8a-4989-e8dd-6fb10fd13a18"
      },
      "execution_count": null,
      "outputs": [
        {
          "output_type": "stream",
          "name": "stdout",
          "text": [
            "id=1 name='John Doe' email='johndoe@example.com' age=30 gender='male'\n",
            "{'id': 1, 'name': 'John Doe', 'email': 'johndoe@example.com'}\n"
          ]
        }
      ]
    },
    {
      "cell_type": "markdown",
      "source": [
        "Pydanticu abil saab luua klasse, mis toetavad määramata arvu atribuute, kasutades extra = \"allow\" seadistust. See võimaldab sul määrata teatud kindlad atribuudid, samal ajal lubades lisada dünaamiliselt täiendavaid atribuute, mida pole klassis eelnevalt määratletud."
      ],
      "metadata": {
        "id": "PXrROS9iILN_"
      }
    },
    {
      "cell_type": "markdown",
      "source": [
        "Kokkuvõttes annab Pydantic paindlikkuse töötada ainult rangelt määratletud andmestruktuuridega või lubada täiendavaid atribuute vastavalt vajadusele."
      ],
      "metadata": {
        "id": "eQyny_CRIDzm"
      }
    },
    {
      "cell_type": "code",
      "source": [
        "from pydantic import BaseModel\n",
        "\n",
        "class FlexibleModel(BaseModel):\n",
        "    id: int\n",
        "    name: str\n",
        "\n",
        "    class Config:\n",
        "        extra = \"allow\"  # Lubab täiendavaid atribuute\n",
        "\n",
        "# Andmed, mis sisaldavad määratlemata arvu atribuute\n",
        "data = {\n",
        "    'id': 1,\n",
        "    'name': 'John Doe',\n",
        "    'email': 'johndoe@example.com',\n",
        "    'age': 30,\n",
        "    'gender': 'male'\n",
        "}\n",
        "\n",
        "# Pydanticu objekti loomine\n",
        "flexible_model = FlexibleModel(**data)\n",
        "print(flexible_model)\n",
        "print(flexible_model.__dict__)  # Näitab kõiki atribuute, sealhulgas täiendavaid\n"
      ],
      "metadata": {
        "colab": {
          "base_uri": "https://localhost:8080/"
        },
        "id": "Hzf0y-onH8X2",
        "outputId": "5f6630d2-b1b1-463b-8c92-36c98d47dad3"
      },
      "execution_count": null,
      "outputs": [
        {
          "output_type": "stream",
          "name": "stdout",
          "text": [
            "id=1 name='John Doe' email='johndoe@example.com' age=30 gender='male'\n",
            "{'id': 1, 'name': 'John Doe'}\n"
          ]
        }
      ]
    },
    {
      "cell_type": "code",
      "source": [
        "from pydantic import BaseModel\n",
        "\n",
        "class FlexibleModel(BaseModel):\n",
        "    id: int\n",
        "    name: str\n",
        "\n",
        "    class Config:\n",
        "        extra = \"allow\"\n",
        "\n",
        "data = {\n",
        "    'id': 1,\n",
        "    'name': 'John Doe',\n",
        "    'email': 'johndoe@example.com',\n",
        "    'age': 30\n",
        "}\n",
        "\n",
        "flexible_model = FlexibleModel(**data)\n",
        "print(flexible_model.__dict__)\n"
      ],
      "metadata": {
        "colab": {
          "base_uri": "https://localhost:8080/"
        },
        "id": "o3AngLM1IZSG",
        "outputId": "997e9bbc-fc54-48fe-cdcf-3b45a501bdcc"
      },
      "execution_count": null,
      "outputs": [
        {
          "output_type": "stream",
          "name": "stdout",
          "text": [
            "{'id': 1, 'name': 'John Doe'}\n"
          ]
        }
      ]
    },
    {
      "cell_type": "code",
      "source": [
        "from pydantic import BaseModel\n",
        "\n",
        "class FlexibleModel(BaseModel):\n",
        "    id: int\n",
        "    name: str\n",
        "\n",
        "    class Config:\n",
        "        extra = \"allow\"  # Lubab täiendavaid atribuute\n",
        "\n",
        "data = {\n",
        "    'id': 1,\n",
        "    'name': 'John Doe',\n",
        "    'email': 'johndoe@example.com',\n",
        "    'age': 30,\n",
        "}\n",
        "\n",
        "flexible_model = FlexibleModel(**data)\n",
        "print(flexible_model.__dict__)  # Näitab kõiki atribuute, sealhulgas täiendavaid\n"
      ],
      "metadata": {
        "id": "SzNpTp0YIh1m",
        "outputId": "aae61191-024d-4606-ca76-4d027f2c7884",
        "colab": {
          "base_uri": "https://localhost:8080/"
        }
      },
      "execution_count": null,
      "outputs": [
        {
          "output_type": "stream",
          "name": "stdout",
          "text": [
            "{'id': 1, 'name': 'John Doe'}\n"
          ]
        }
      ]
    }
  ]
}
{
  "nbformat": 4,
  "nbformat_minor": 0,
  "metadata": {
    "colab": {
      "provenance": []
    },
    "kernelspec": {
      "name": "python3",
      "display_name": "Python 3"
    },
    "language_info": {
      "name": "python"
    }
  },
  "cells": [
    {
      "cell_type": "markdown",
      "source": [
        "# **Energiatarbimise Optimeerimine**"
      ],
      "metadata": {
        "id": "lwNrWkRoX9a_"
      }
    },
    {
      "cell_type": "markdown",
      "source": [
        "# Näide 1: Energiatarbimise Simulatsioon ja Optimeerimine\n",
        "Simuleerime tööstusseadmete energiatarbimist ja optimeerime nende tööaega vastavalt energiatariifidele.\n",
        "\n",
        "**1.1 Andmete Generatsioon ja Energiatarbimise Arvutamine**\n",
        "\n",
        "Selgitus:\n",
        "\n",
        "Device: Defineerib seadme energiatarbimise ja tööaja.\n",
        "\n",
        "EnergyOptimizer: Arvutab iga seadme energiatarbimise ja kulud, summeerib need ning prindib tulemused."
      ],
      "metadata": {
        "id": "xlKGCFqaZZvG"
      }
    },
    {
      "cell_type": "code",
      "execution_count": 1,
      "metadata": {
        "colab": {
          "base_uri": "https://localhost:8080/"
        },
        "id": "odV6guK_X4Hj",
        "outputId": "52df07f2-1bb1-4de9-b3e9-7e4a8141d9f5"
      },
      "outputs": [
        {
          "output_type": "stream",
          "name": "stdout",
          "text": [
            "Seade Kompressor: Energiatarbimine 80.00 kWh, Kulud 12.00 EUR\n",
            "Seade Pump: Energiatarbimine 60.00 kWh, Kulud 9.00 EUR\n",
            "Seade Ventilaator: Energiatarbimine 48.00 kWh, Kulud 7.20 EUR\n",
            "Kokku energiatootmis- ja -kasutuskulud: 28.20 EUR\n"
          ]
        }
      ],
      "source": [
        "import random\n",
        "from typing import List\n",
        "from pydantic import BaseModel, PositiveInt, confloat\n",
        "\n",
        "# Defineerime seadmete energiatarbimise andmed\n",
        "class Device(BaseModel):\n",
        "    name: str\n",
        "    power_usage: confloat(ge=0)  # Energiatarbimine kW\n",
        "    operating_hours: PositiveInt  # Tööaeg tunnis\n",
        "\n",
        "class EnergyOptimizer:\n",
        "    def __init__(self, devices: List[Device]):\n",
        "        self.devices = devices\n",
        "\n",
        "    def calculate_energy_cost(self, tariff_per_kwh: confloat(ge=0)) -> None:\n",
        "        total_cost = 0\n",
        "        for device in self.devices:\n",
        "            daily_usage = device.power_usage * device.operating_hours\n",
        "            cost = daily_usage * tariff_per_kwh\n",
        "            total_cost += cost\n",
        "            print(f\"Seade {device.name}: Energiatarbimine {daily_usage:.2f} kWh, Kulud {cost:.2f} EUR\")\n",
        "        print(f\"Kokku energiatootmis- ja -kasutuskulud: {total_cost:.2f} EUR\")\n",
        "\n",
        "# Generatsioon\n",
        "devices = [\n",
        "    Device(name=\"Kompressor\", power_usage=10.0, operating_hours=8),\n",
        "    Device(name=\"Pump\", power_usage=5.0, operating_hours=12),\n",
        "    Device(name=\"Ventilaator\", power_usage=2.0, operating_hours=24),\n",
        "]\n",
        "\n",
        "optimizer = EnergyOptimizer(devices)\n",
        "optimizer.calculate_energy_cost(tariff_per_kwh=0.15)  # Energiatariff 0.15 EUR/kWh\n"
      ]
    },
    {
      "cell_type": "markdown",
      "source": [
        "# Näide 2: Energiatarbimise Optimeerimise Planeerimine\n",
        "Simuleerime süsteemi, mis planeerib seadmete tööaega, et optimeerida energiatarbimist.\n",
        "\n",
        "**2.1 Energiatarbimise Planeerimine**\n",
        "\n",
        "Selgitus:\n",
        "\n",
        "DeviceSchedule: Defineerib seadme eelistatud töötunnid.\n",
        "OptimizedScheduler: Jaotab tööaja seadmete vahel, valides eelistatud töötunnid, ja arvutab energiatarbimise."
      ],
      "metadata": {
        "id": "Qlj0lFsraBEd"
      }
    },
    {
      "cell_type": "code",
      "source": [
        "import numpy as np\n",
        "from typing import List\n",
        "from pydantic import BaseModel, PositiveInt, confloat\n",
        "\n",
        "# Defineerime seadmete tööplaneerimise andmed\n",
        "class DeviceSchedule(BaseModel):\n",
        "    name: str\n",
        "    power_usage: confloat(ge=0)  # Energiatarbimine kW\n",
        "    preferred_hours: List[PositiveInt]  # Eelistatud töötunnid\n",
        "\n",
        "class OptimizedScheduler:\n",
        "    def __init__(self, devices: List[DeviceSchedule]):\n",
        "        self.devices = devices\n",
        "\n",
        "    def schedule_devices(self, total_hours: PositiveInt) -> None:\n",
        "        # Loome ajakava, mis jagab tööaja seadmete vahel\n",
        "        for device in self.devices:\n",
        "            hours_allocated = np.random.choice(device.preferred_hours)\n",
        "            print(f\"Seade {device.name}: jaotatud tööaeg {hours_allocated} tundi\")\n",
        "            daily_usage = device.power_usage * hours_allocated\n",
        "            print(f\"  Energiatarbimine: {daily_usage:.2f} kWh\")\n",
        "\n",
        "# Generatsioon\n",
        "devices = [\n",
        "    DeviceSchedule(name=\"Kompressor\", power_usage=10.0, preferred_hours=[6, 8, 10]),\n",
        "    DeviceSchedule(name=\"Pump\", power_usage=5.0, preferred_hours=[8, 10, 12]),\n",
        "    DeviceSchedule(name=\"Ventilaator\", power_usage=2.0, preferred_hours=[24]),\n",
        "]\n",
        "\n",
        "scheduler = OptimizedScheduler(devices)\n",
        "scheduler.schedule_devices(total_hours=24)  # Planeerime 24 tunni jooksul\n"
      ],
      "metadata": {
        "colab": {
          "base_uri": "https://localhost:8080/"
        },
        "id": "XaRoBRWLaEOB",
        "outputId": "10779c33-0a9a-42f9-eba9-79e29a93d8a3"
      },
      "execution_count": 2,
      "outputs": [
        {
          "output_type": "stream",
          "name": "stdout",
          "text": [
            "Seade Kompressor: jaotatud tööaeg 10 tundi\n",
            "  Energiatarbimine: 100.00 kWh\n",
            "Seade Pump: jaotatud tööaeg 12 tundi\n",
            "  Energiatarbimine: 60.00 kWh\n",
            "Seade Ventilaator: jaotatud tööaeg 24 tundi\n",
            "  Energiatarbimine: 48.00 kWh\n"
          ]
        }
      ]
    },
    {
      "cell_type": "markdown",
      "source": [
        "# Näide 3: Energiatarbimise Jälgimine ja Anomaaliate Tuvastamine\n",
        "Simuleerime süsteemi, mis jälgib energiatarbimist ja tuvastab anomaaliad.\n",
        "\n",
        "**3.1 Energiatarbimise Jälgimine**\n",
        "\n",
        "Selgitus:\n",
        "\n",
        "EnergyRecord: Defineerib seadme energiatarbimise andmed.\n",
        "EnergyMonitor: Arvutab keskmise ja standardhälbe, et tuvastada kõrge energiatarbimise anomaaliad."
      ],
      "metadata": {
        "id": "1n1d24t9Znjo"
      }
    },
    {
      "cell_type": "code",
      "source": [
        "import statistics\n",
        "from typing import List\n",
        "from pydantic import BaseModel, PositiveInt\n",
        "\n",
        "class EnergyRecord(BaseModel):\n",
        "    device_name: str\n",
        "    recorded_usage: PositiveInt  # Energiatarbimine kWh\n",
        "\n",
        "class EnergyMonitor:\n",
        "    def __init__(self, records: List[EnergyRecord]):\n",
        "        self.records = records\n",
        "\n",
        "    def monitor_usage(self) -> None:\n",
        "        usages = [record.recorded_usage for record in self.records]\n",
        "        mean_usage = statistics.mean(usages)\n",
        "        std_dev_usage = statistics.stdev(usages)\n",
        "\n",
        "        print(f\"Keskmine energiatootmine: {mean_usage:.2f} kWh\")\n",
        "        print(f\"Standardhälve energiatootmises: {std_dev_usage:.2f} kWh\")\n",
        "\n",
        "        for record in self.records:\n",
        "            if record.recorded_usage > mean_usage + 2 * std_dev_usage:\n",
        "                print(f\"Tõrge: Seade {record.device_name} kõrge energiatarbimisega ({record.recorded_usage} kWh)\")\n",
        "\n",
        "# Generatsioon\n",
        "records = [\n",
        "    EnergyRecord(device_name=\"Kompressor\", recorded_usage=50),\n",
        "    EnergyRecord(device_name=\"Pump\", recorded_usage=55),\n",
        "    EnergyRecord(device_name=\"Ventilaator\", recorded_usage=30),\n",
        "    EnergyRecord(device_name=\"Kompressor\", recorded_usage=70),  # Anomaalia\n",
        "]\n",
        "\n",
        "monitor = EnergyMonitor(records)\n",
        "monitor.monitor_usage()\n"
      ],
      "metadata": {
        "colab": {
          "base_uri": "https://localhost:8080/"
        },
        "id": "YlpHJE7saVo_",
        "outputId": "a5a0cfbf-0d53-40d2-a8b6-acf005f775ab"
      },
      "execution_count": 3,
      "outputs": [
        {
          "output_type": "stream",
          "name": "stdout",
          "text": [
            "Keskmine energiatootmine: 51.25 kWh\n",
            "Standardhälve energiatootmises: 16.52 kWh\n"
          ]
        }
      ]
    },
    {
      "cell_type": "markdown",
      "source": [
        "# Näide 4: Energiatarbimise Tõhususe Hindamine\n",
        "Simuleerime süsteemi, mis hindab seadmete energiatõhusust ja soovitab parendusi.\n",
        "\n",
        "**4.1 Energiatarbimise Tõhususe Hindamine**\n",
        "\n",
        "Selgitus:\n",
        "\n",
        "DeviceEfficiency: Defineerib seadme energiatarbimise ja väljundi.\n",
        "EfficiencyEvaluator: Hindab seadme efektiivsust ja soovitab parendusi madala efektiivsuse korral."
      ],
      "metadata": {
        "id": "OixHUOqmayT6"
      }
    },
    {
      "cell_type": "code",
      "source": [
        "from typing import List\n",
        "from pydantic import BaseModel, PositiveInt, confloat\n",
        "\n",
        "class DeviceEfficiency(BaseModel):\n",
        "    name: str\n",
        "    power_usage: confloat(ge=0)  # Energiatarbimine kW\n",
        "    output: PositiveInt  # Väljundühikute arv\n",
        "\n",
        "class EfficiencyEvaluator:\n",
        "    def __init__(self, devices: List[DeviceEfficiency]):\n",
        "        self.devices = devices\n",
        "\n",
        "    def evaluate_efficiency(self) -> None:\n",
        "        for device in self.devices:\n",
        "            efficiency = device.output / device.power_usage\n",
        "            print(f\"Seade {device.name}: efektiivsus {efficiency:.2f} väljundühikut kW kohta\")\n",
        "            if efficiency < 0.5:\n",
        "                print(f\"Parandamine soovitatav: Seade {device.name} on madala efektiivsusega\")\n",
        "\n",
        "# Generatsioon\n",
        "devices = [\n",
        "    DeviceEfficiency(name=\"Kompressor\", power_usage=10.0, output=300),\n",
        "    DeviceEfficiency(name=\"Pump\", power_usage=5.0, output=150),\n",
        "    DeviceEfficiency(name=\"Ventilaator\", power_usage=2.0, output=50),\n",
        "]\n",
        "\n",
        "evaluator = EfficiencyEvaluator(devices)\n",
        "evaluator.evaluate_efficiency()\n"
      ],
      "metadata": {
        "colab": {
          "base_uri": "https://localhost:8080/"
        },
        "id": "Uu5MN_dva2hr",
        "outputId": "4c745c24-36a4-4d1f-aab6-a9fa719d85d4"
      },
      "execution_count": 4,
      "outputs": [
        {
          "output_type": "stream",
          "name": "stdout",
          "text": [
            "Seade Kompressor: efektiivsus 30.00 väljundühikut kW kohta\n",
            "Seade Pump: efektiivsus 30.00 väljundühikut kW kohta\n",
            "Seade Ventilaator: efektiivsus 25.00 väljundühikut kW kohta\n"
          ]
        }
      ]
    },
    {
      "cell_type": "markdown",
      "source": [
        "# Näide 5: Energiatarbimise Ennustamine\n",
        "Simuleerime süsteemi, mis ennustab tulevase perioodi energiatarbimist, kasutades ajaloolisi andmeid.\n",
        "\n",
        "**5.1 Energiatarbimise Ennustamine**\n",
        "\n",
        "Selgitus:\n",
        "\n",
        "HistoricalEnergyData:\n",
        "\n",
        "See mudel esindab iga kuu energiatarbimist, mille põhjal ennustus tehakse.\n",
        "\n",
        "EnergyForecaster:\n",
        "\n",
        "Selle klassi eesmärk on ennustada tuleviku energiatarbimist, tuginedes mineviku andmetele.\n",
        "forecast_usage: See meetod arvutab mineviku energiatarbimise põhjal keskmise ja kasutab juhuslikku variatsiooni tulevaste energiatarbimiste ennustamiseks.\n",
        "\n",
        "display_forecast:\n",
        "\n",
        "See meetod prindib välja ennustatud energiatarbimise kuu täpsusega.\n",
        "\n",
        "Kuidas see toimib:\n",
        "\n",
        "Andmed võetakse ajalooliste tarbimiste kohta ja arvutatakse nende põhjal keskmine energiatarbimine.\n",
        "Ennustus tehakse, lisades sellele keskmisele väikese juhusliku variatsiooni, et simuleerida tegelikke muutusi tarbimises tulevikus.\n",
        "\n",
        "Prognoositud väärtused prinditakse välja koos vastava kuu nimega, alates määratud stardikuust.\n",
        "\n",
        "See näide demonstreerib lihtsat mudelit, mille abil saab ennustada energiatarbimist. Mudelit saab edasi arendada ja keerulisemaks muuta, lisades näiteks hooajalisuse, täpsemad trendid või muud välistegurid."
      ],
      "metadata": {
        "id": "Tvl6nIYZa-Gv"
      }
    },
    {
      "cell_type": "code",
      "source": [
        "from typing import List\n",
        "from pydantic import BaseModel, PositiveInt\n",
        "import numpy as np\n",
        "\n",
        "# Defineerime mudeli, mis esindab ajaloolisi energiatarbimise andmeid\n",
        "class HistoricalEnergyData(BaseModel):\n",
        "    month: str\n",
        "    energy_usage: PositiveInt  # Energiatarbimine kWh\n",
        "\n",
        "# Ennustaja klass, mis kasutab ajaloolisi andmeid tulevase tarbimise ennustamiseks\n",
        "class EnergyForecaster:\n",
        "    def __init__(self, historical_data: List[HistoricalEnergyData]):\n",
        "        self.historical_data = historical_data\n",
        "\n",
        "    def forecast_usage(self, future_months: int) -> List[float]:\n",
        "        # Võtame varasemad energiakasutused ja arvutame nende põhjal keskmise\n",
        "        past_usages = [data.energy_usage for data in self.historical_data]\n",
        "        mean_usage = np.mean(past_usages)\n",
        "\n",
        "        # Ennustame tulevasi energiakasutusi, lisades juhusliku variatsiooni\n",
        "        forecasted_usages = [\n",
        "            mean_usage + np.random.uniform(-0.05 * mean_usage, 0.05 * mean_usage)\n",
        "            for _ in range(future_months)\n",
        "        ]\n",
        "\n",
        "        return forecasted_usages\n",
        "\n",
        "    def display_forecast(self, forecasted_usages: List[float], start_month: str) -> None:\n",
        "        months = ['Jaanuar', 'Veebruar', 'Märts', 'Aprill', 'Mai', 'Juuni', 'Juuli', 'August', 'September', 'Oktoober', 'November', 'Detsember']\n",
        "        start_index = months.index(start_month)\n",
        "        for i, usage in enumerate(forecasted_usages):\n",
        "            month = months[(start_index + i) % len(months)]\n",
        "            print(f\"{month}: Prognoositud energiatarbimine {usage:.2f} kWh\")\n",
        "\n",
        "# Generatsioon: Ajaloolised energiatarbimise andmed\n",
        "historical_data = [\n",
        "    HistoricalEnergyData(month=\"Jaanuar\", energy_usage=900),\n",
        "    HistoricalEnergyData(month=\"Veebruar\", energy_usage=880),\n",
        "    HistoricalEnergyData(month=\"Märts\", energy_usage=590),\n",
        "    HistoricalEnergyData(month=\"Aprill\", energy_usage=410),\n",
        "    HistoricalEnergyData(month=\"Mai\", energy_usage=420),\n",
        "]\n",
        "\n",
        "# Luuakse forecaster ja ennustatakse järgmise 6 kuu tarbimist\n",
        "forecaster = EnergyForecaster(historical_data)\n",
        "forecasted_usages = forecaster.forecast_usage(future_months=6)\n",
        "forecaster.display_forecast(forecasted_usages, start_month=\"Juuni\")\n"
      ],
      "metadata": {
        "colab": {
          "base_uri": "https://localhost:8080/"
        },
        "id": "QAxx_dpbbFgA",
        "outputId": "23f6cfb1-56c9-49c8-8da8-ad5c173db41b"
      },
      "execution_count": 7,
      "outputs": [
        {
          "output_type": "stream",
          "name": "stdout",
          "text": [
            "Juuni: Prognoositud energiatarbimine 652.85 kWh\n",
            "Juuli: Prognoositud energiatarbimine 624.04 kWh\n",
            "August: Prognoositud energiatarbimine 667.41 kWh\n",
            "September: Prognoositud energiatarbimine 621.67 kWh\n",
            "Oktoober: Prognoositud energiatarbimine 615.10 kWh\n",
            "November: Prognoositud energiatarbimine 640.07 kWh\n"
          ]
        }
      ]
    },
    {
      "cell_type": "markdown",
      "source": [
        "Forecasteri töömeetod on väga lihtne ja põhineb lineaarsete trendide eeldusel, ilma keeruliste matemaatiliste mudelite kasutamiseta.\n"
      ],
      "metadata": {
        "id": "phcfwXN4dU1F"
      }
    },
    {
      "cell_type": "code",
      "source": [
        "'''\n",
        "# 1. Ajalooliste Andmete Keskmine\n",
        "past_usages = [data.energy_usage for data in self.historical_data]\n",
        "mean_usage = np.mean(past_usages)\n",
        "\n",
        "# 2. Juhuslik Variatsioon\n",
        "forecasted_usages = [\n",
        "    mean_usage + np.random.uniform(-0.05 * mean_usage, 0.05 * mean_usage)\n",
        "    for _ in range(future_months)\n",
        "]\n",
        "\n",
        "# 3. Prognooside Kuvamine\n",
        "forecaster.display_forecast(forecasted_usages, start_month=\"Juuni\")\n",
        "'''"
      ],
      "metadata": {
        "colab": {
          "base_uri": "https://localhost:8080/",
          "height": 70
        },
        "id": "178hgAjVdx1h",
        "outputId": "ee85fd54-5164-4ea5-932d-bd2b1e380951"
      },
      "execution_count": 9,
      "outputs": [
        {
          "output_type": "execute_result",
          "data": {
            "text/plain": [
              "'\\n# 1. Ajalooliste Andmete Keskmine\\npast_usages = [data.energy_usage for data in self.historical_data]\\nmean_usage = np.mean(past_usages)\\n\\n# 2. Juhuslik Variatsioon\\nforecasted_usages = [\\n    mean_usage + np.random.uniform(-0.05 * mean_usage, 0.05 * mean_usage)\\n    for _ in range(future_months)\\n]\\n\\n# 3. Prognooside Kuvamine\\nforecaster.display_forecast(forecasted_usages, start_month=\"Juuni\")\\n'"
            ],
            "application/vnd.google.colaboratory.intrinsic+json": {
              "type": "string"
            }
          },
          "metadata": {},
          "execution_count": 9
        }
      ]
    },
    {
      "cell_type": "markdown",
      "source": [
        "# **Tööstusautomaatika ja energiatarbimise optimeerimine masinõppe abil**"
      ],
      "metadata": {
        "id": "wv1O-xLngCfm"
      }
    },
    {
      "cell_type": "markdown",
      "source": [
        "# Näide 1: Tööstuslike Andurite Andmete Ennustamine ja Anomaaliate Tuvastamine\n",
        "Selles näites loome masinõppemudeli, mis ennustab tulevasi andurite näite ja tuvastab anomaaliaid.\n",
        "\n",
        "**1.1 Andmete Simuleerimine ja Mudeli Koolitus**\n",
        "\n",
        "Selgitused:\n",
        "\n",
        "SensorData: Esindab tööstusanduri andmeid nagu temperatuur, rõhk ja vibratsioon.\n",
        "generate_sensor_data: Genereerib andmete komplekti, mis simuleerib tööstuslikke andurite lugemisi.\n",
        "AnomalyDetector: Kasutab masinõppemudelit (Isolation Forest), et tuvastada anomaaliaid andurite andmetes.\n",
        "Klassifitseerimise aruanne: Prindib välja aruande, mis näitab, kui hästi mudel tuvastas anomaaliad."
      ],
      "metadata": {
        "id": "HA0iP0DCgMId"
      }
    },
    {
      "cell_type": "code",
      "source": [
        "import numpy as np\n",
        "import pandas as pd\n",
        "from sklearn.ensemble import IsolationForest\n",
        "from sklearn.model_selection import train_test_split\n",
        "from sklearn.metrics import classification_report\n",
        "from pydantic import BaseModel, Field, PositiveFloat\n",
        "\n",
        "# 1. Klass, mis esindab anduri andmeid\n",
        "class SensorData(BaseModel):\n",
        "    temperature: PositiveFloat\n",
        "    pressure: PositiveFloat\n",
        "    vibration: PositiveFloat\n",
        "\n",
        "# 2. Funktsioon andmete genereerimiseks\n",
        "def generate_sensor_data(n_samples: int = 1000) -> pd.DataFrame:\n",
        "    np.random.seed(42)\n",
        "    temperature = np.random.normal(loc=50, scale=5, size=n_samples)\n",
        "    pressure = np.random.normal(loc=30, scale=3, size=n_samples)\n",
        "    vibration = np.random.normal(loc=5, scale=0.5, size=n_samples)\n",
        "    data = pd.DataFrame({\n",
        "        'temperature': temperature,\n",
        "        'pressure': pressure,\n",
        "        'vibration': vibration\n",
        "    })\n",
        "    return data\n",
        "\n",
        "# 3. Masinõppemudeli koolitus ja anomaaliate tuvastamine\n",
        "class AnomalyDetector:\n",
        "    def __init__(self):\n",
        "        self.model = IsolationForest(contamination=0.05, random_state=42)\n",
        "\n",
        "    def fit(self, X):\n",
        "        self.model.fit(X)\n",
        "\n",
        "    def detect(self, X) -> np.ndarray:\n",
        "        return self.model.predict(X)  # -1: anomaalia, 1: normaalne\n",
        "\n",
        "# 4. Sisendandmete genereerimine\n",
        "sensor_data = generate_sensor_data()\n",
        "\n",
        "# 5. Mudeli koolitus ja anomaaliate tuvastamine\n",
        "detector = AnomalyDetector()\n",
        "X_train, X_test = train_test_split(sensor_data, test_size=0.2, random_state=42)\n",
        "detector.fit(X_train)\n",
        "anomalies = detector.detect(X_test)\n",
        "\n",
        "# 6. Tulemusest ülevaate saamine\n",
        "X_test['anomaly'] = anomalies\n",
        "print(X_test.head())\n",
        "print(classification_report(anomalies, np.ones_like(anomalies), target_names=['Anomaly', 'Normal']))\n"
      ],
      "metadata": {
        "colab": {
          "base_uri": "https://localhost:8080/"
        },
        "id": "sqAgw6XCgTLs",
        "outputId": "001d1f23-1a1b-413e-d9cc-5ee6db97adfc"
      },
      "execution_count": 10,
      "outputs": [
        {
          "output_type": "stream",
          "name": "stdout",
          "text": [
            "     temperature   pressure  vibration  anomaly\n",
            "521    52.716801  31.746293   6.492630       -1\n",
            "737    54.913455  26.796591   5.171169        1\n",
            "740    40.795629  29.686652   5.207433        1\n",
            "660    47.131690  33.951345   4.412203        1\n",
            "411    44.376790  31.668690   5.768966        1\n",
            "              precision    recall  f1-score   support\n",
            "\n",
            "     Anomaly       0.00      0.00      0.00        12\n",
            "      Normal       0.94      1.00      0.97       188\n",
            "\n",
            "    accuracy                           0.94       200\n",
            "   macro avg       0.47      0.50      0.48       200\n",
            "weighted avg       0.88      0.94      0.91       200\n",
            "\n"
          ]
        },
        {
          "output_type": "stream",
          "name": "stderr",
          "text": [
            "/usr/local/lib/python3.10/dist-packages/sklearn/metrics/_classification.py:1471: UndefinedMetricWarning: Precision and F-score are ill-defined and being set to 0.0 in labels with no predicted samples. Use `zero_division` parameter to control this behavior.\n",
            "  _warn_prf(average, modifier, msg_start, len(result))\n",
            "/usr/local/lib/python3.10/dist-packages/sklearn/metrics/_classification.py:1471: UndefinedMetricWarning: Precision and F-score are ill-defined and being set to 0.0 in labels with no predicted samples. Use `zero_division` parameter to control this behavior.\n",
            "  _warn_prf(average, modifier, msg_start, len(result))\n",
            "/usr/local/lib/python3.10/dist-packages/sklearn/metrics/_classification.py:1471: UndefinedMetricWarning: Precision and F-score are ill-defined and being set to 0.0 in labels with no predicted samples. Use `zero_division` parameter to control this behavior.\n",
            "  _warn_prf(average, modifier, msg_start, len(result))\n"
          ]
        }
      ]
    },
    {
      "cell_type": "markdown",
      "source": [
        "# Näide 2: Energiatarbimise Optimeerimine, Kasutades Regressioonimudelit\n",
        "Selles näites loome regressioonimudeli, mis ennustab seadme energiatarbimist ja optimeerib selle tööparameetreid.\n",
        "\n",
        "**2.1 Andmete Simuleerimine ja Mudeli Koolitus**\n",
        "\n",
        "Selgitused:\n",
        "\n",
        "DeviceOperation: Esindab seadme tööparameetreid ja selle energiatarbimist.\n",
        "\n",
        "generate_device_data: Simuleerib seadme tööparameetrite ja energiatarbimise vahelise seose.\n",
        "\n",
        "EnergyOptimizer: Kasutab lineaarset regressioonimudelit, et ennustada ja optimeerida energiatarbimist antud tööparameetrite puhul."
      ],
      "metadata": {
        "id": "1V54bszugkVt"
      }
    },
    {
      "cell_type": "code",
      "source": [
        "from sklearn.linear_model import LinearRegression\n",
        "from sklearn.metrics import mean_squared_error\n",
        "from pydantic import conlist\n",
        "\n",
        "# 1. Klass, mis esindab seadme tööparameetreid ja energiatarbimist\n",
        "class DeviceOperation(BaseModel):\n",
        "    speed: PositiveFloat = Field(..., example=1000.0)  # RPM\n",
        "    load: PositiveFloat = Field(..., example=150.0)  # kW\n",
        "    energy_usage: PositiveFloat = Field(..., example=500.0)  # kWh\n",
        "\n",
        "# 2. Funktsioon andmete genereerimiseks\n",
        "def generate_device_data(n_samples: int = 500) -> pd.DataFrame:\n",
        "    np.random.seed(42)\n",
        "    speed = np.random.uniform(800, 1200, n_samples)\n",
        "    load = np.random.uniform(100, 200, n_samples)\n",
        "    energy_usage = 0.5 * speed + 0.8 * load + np.random.normal(0, 10, n_samples)\n",
        "    data = pd.DataFrame({\n",
        "        'speed': speed,\n",
        "        'load': load,\n",
        "        'energy_usage': energy_usage\n",
        "    })\n",
        "    return data\n",
        "\n",
        "# 3. Energiatarbimise mudeli loomine\n",
        "class EnergyOptimizer:\n",
        "    def __init__(self):\n",
        "        self.model = LinearRegression()\n",
        "\n",
        "    def fit(self, X, y):\n",
        "        self.model.fit(X, y)\n",
        "\n",
        "    def predict(self, X) -> np.ndarray:\n",
        "        return self.model.predict(X)\n",
        "\n",
        "    def optimize(self, speed: float, load: float) -> float:\n",
        "        prediction = self.model.predict([[speed, load]])\n",
        "        return prediction[0]\n",
        "\n",
        "# 4. Andmete genereerimine ja mudeli koolitus\n",
        "device_data = generate_device_data()\n",
        "X = device_data[['speed', 'load']]\n",
        "y = device_data['energy_usage']\n",
        "\n",
        "optimizer = EnergyOptimizer()\n",
        "optimizer.fit(X, y)\n",
        "\n",
        "# 5. Prognoos ja optimeerimine\n",
        "predicted_usage = optimizer.optimize(1000, 150)  # Näide optimeeritud seadistusega\n",
        "print(f\"Prognoositud energiatarbimine: {predicted_usage:.2f} kWh\")\n",
        "\n",
        "# 6. Mudeli täpsuse hindamine\n",
        "y_pred = optimizer.predict(X)\n",
        "mse = mean_squared_error(y, y_pred)\n",
        "print(f\"Mudeli keskmine ruutviga (MSE): {mse:.2f}\")\n"
      ],
      "metadata": {
        "colab": {
          "base_uri": "https://localhost:8080/"
        },
        "id": "bjuspuYigo52",
        "outputId": "f8ec1c50-be13-4b79-c0f2-b92940be2659"
      },
      "execution_count": 11,
      "outputs": [
        {
          "output_type": "stream",
          "name": "stdout",
          "text": [
            "Prognoositud energiatarbimine: 621.17 kWh\n",
            "Mudeli keskmine ruutviga (MSE): 95.77\n"
          ]
        },
        {
          "output_type": "stream",
          "name": "stderr",
          "text": [
            "/usr/local/lib/python3.10/dist-packages/sklearn/base.py:465: UserWarning: X does not have valid feature names, but LinearRegression was fitted with feature names\n",
            "  warnings.warn(\n"
          ]
        }
      ]
    },
    {
      "cell_type": "markdown",
      "source": [
        "# Näide 3: Tootmisliini Simulatsioon ja Tõrkepunktide Ennustamine\n",
        "Selles näites loome masinõppemudeli, mis prognoosib tootmisliini võimalikke tõrkepunkte, kasutades simulatsiooniga loodud andmeid.\n",
        "\n",
        "**3.1 Andmete Simuleerimine ja Mudeli Koolitus**\n",
        "\n",
        "Selgitused:\n",
        "\n",
        "ProductionLineData: Esindab tootmisliini parameetreid ja võimalikku tõrke olekut.\n",
        "\n",
        "generate_production_data: Genereerib tootmisliini simulatsiooniga andmeid, kus määratud tingimustel võib esineda tõrkeid.\n",
        "\n",
        "FailurePredictor: Kasutab juhusliku metsa klassifikaatorit, et prognoosida tootmisliini tõrkepunkte."
      ],
      "metadata": {
        "id": "NpkT-pZxg1U5"
      }
    },
    {
      "cell_type": "code",
      "source": [
        "from sklearn.ensemble import RandomForestClassifier\n",
        "from sklearn.metrics import accuracy_score, confusion_matrix\n",
        "\n",
        "# 1. Tootmisliini parameetrid ja tõrke olek\n",
        "class ProductionLineData(BaseModel):\n",
        "    temperature: PositiveFloat\n",
        "    pressure: PositiveFloat\n",
        "    speed: PositiveFloat\n",
        "    failure: bool  # Tõrke olek\n",
        "\n",
        "# 2. Funktsioon tootmisliini andmete genereerimiseks\n",
        "def generate_production_data(n_samples: int = 1000) -> pd.DataFrame:\n",
        "    np.random.seed(42)\n",
        "    temperature = np.random.normal(70, 10, n_samples)\n",
        "    pressure = np.random.normal(50, 5, n_samples)\n",
        "    speed = np.random.uniform(1000, 3000, n_samples)\n",
        "    failure = (temperature > 80) | (pressure > 60) | (speed > 2500)\n",
        "    data = pd.DataFrame({\n",
        "        'temperature': temperature,\n",
        "        'pressure': pressure,\n",
        "        'speed': speed,\n",
        "        'failure': failure\n",
        "    })\n",
        "    return data\n",
        "\n",
        "# 3. Tootmisliini tõrke ennustamine\n",
        "class FailurePredictor:\n",
        "    def __init__(self):\n",
        "        self.model = RandomForestClassifier(random_state=42)\n",
        "\n",
        "    def fit(self, X, y):\n",
        "        self.model.fit(X, y)\n",
        "\n",
        "    def predict(self, X) -> np.ndarray:\n",
        "        return self.model.predict(X)\n",
        "\n",
        "# 4. Andmete genereerimine ja mudeli koolitus\n",
        "production_data = generate_production_data()\n",
        "X = production_data[['temperature', 'pressure', 'speed']]\n",
        "y = production_data['failure']\n",
        "\n",
        "predictor = FailurePredictor()\n",
        "predictor.fit(X, y)\n",
        "\n",
        "# 5. Prognoosi tegemine ja tulemuste hindamine\n",
        "y_pred = predictor.predict(X)\n",
        "accuracy = accuracy_score(y, y_pred)\n",
        "conf_matrix = confusion_matrix(y, y_pred)\n",
        "\n",
        "print(f\"Prognoosi täpsus: {accuracy:.2f}\")\n",
        "print(f\"Tõrkepunktide segadusmaatriks:\\n{conf_matrix}\")\n"
      ],
      "metadata": {
        "colab": {
          "base_uri": "https://localhost:8080/"
        },
        "id": "wZY8-jeTg5fG",
        "outputId": "95345fbd-9ffe-47f7-8e70-fa37ab600694"
      },
      "execution_count": 12,
      "outputs": [
        {
          "output_type": "stream",
          "name": "stdout",
          "text": [
            "Prognoosi täpsus: 1.00\n",
            "Tõrkepunktide segadusmaatriks:\n",
            "[[621   0]\n",
            " [  0 379]]\n"
          ]
        }
      ]
    }
  ]
}
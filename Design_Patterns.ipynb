{
  "nbformat": 4,
  "nbformat_minor": 0,
  "metadata": {
    "colab": {
      "provenance": []
    },
    "kernelspec": {
      "name": "python3",
      "display_name": "Python 3"
    },
    "language_info": {
      "name": "python"
    }
  },
  "cells": [
    {
      "cell_type": "markdown",
      "source": [
        "# **Design Patterns (disainimustrid)**\n",
        "\n",
        "Design patterns ehk disainimustrid on lahendused korduvatele probleemidele tarkvara arenduses. Need on nagu valmis juhised, kuidas erinevaid probleeme lahendada, et vältida tavalisi vigu ja teha kood loetavamaks ja hooldatavamaks.\n"
      ],
      "metadata": {
        "id": "tSQLtoxXLZXH"
      }
    },
    {
      "cell_type": "markdown",
      "source": [
        "# Single Responsibility Principle (SRP)\n",
        "\n",
        "**Idee: Igal klassil või moodulil peaks olema ainult üks vastutusala või ülesanne.**\n",
        "\n",
        "*Selgitus:* Kui klass või moodul täidab ainult ühte ülesannet, on selle hooldamine ja mõistmine lihtsam. Näiteks, kui klass vastutab ainult andmete salvestamise eest, siis ei peaks see ka andmete töötlemisega tegelema.\n",
        "\n",
        "# Open-Closed Principle (OCP)\n",
        "\n",
        "**Idee: Klassid ja moodulid peaksid olema avatud laiendamiseks, kuid suletud muutmiseks.**\n",
        "\n",
        "*Selgitus: *Kui vajad uusi funktsioone või käitumisi, peaksid sa saama olemasolevat koodi laiendada ilma seda muutmata. Näiteks, kui on olemas klass, mida sa tahad laiendada uue funktsionaalsusega, peaksid sa saama luua uue klassi, mis selle olemasolevat klassi edasi arendab.\n",
        "\n",
        "# Liskov Substitution Principle (LSP)\n",
        "\n",
        "**Idee: Alamaklassid peaksid olema asendatavad oma põhiklassideks ilma, et see mõjutaks programmi korrektsust.**\n",
        "\n",
        "*Selgitus:* Kui sul on klassi hierarhia, siis peaks iga alamaklass käituma nii, et see ei rikuks põhiklassi lubadusi. Näiteks, kui põhiklass lubab, et meetod tagastab teatud tüüpi andmed, siis peaks ka alamaklass järgima seda reeglit.\n",
        "\n",
        "# Interface Segregation Principle (ISP)\n",
        "\n",
        "**Idee: Klientidele ei tohiks olla sunnitud sõltuma liidestest, mida nad ei kasuta.**\n",
        "\n",
        "*Selgitus:*Kui liides on liiga suur ja sisaldab palju meetodeid, mida mõned klassid ei kasuta, on parem jagada see väiksemateks, spetsiifilisemateks liidesteks. Näiteks, kui sul on liides, mis sisaldab meetodeid printimiseks ja salvestamiseks, siis peaksid need olema eraldi liidetes, et klassid, mis vajavad ainult printimist, ei peaks tegema midagi, mida nad ei vaja.\n",
        "\n",
        "# Dependency Inversion Principle (DIP)\n",
        "\n",
        "**Idee: Kõrge taseme moodulid ei tohiks sõltuda madalama taseme moodulitest; mõlemad peaksid sõltuma abstraktsioonidest. Abstraktsioonid ei tohiks sõltuda detailidest; detailid peaksid sõltuma abstraktsioonidest.**\n",
        "\n",
        "*Selgitus:* Kõrge taseme moodulid (nt äriloogika) ei tohiks olla otseselt seotud madalama taseme moodulitega (nt andmebaasi või failisüsteemiga). Selle asemel peaksid nad sõltuma abstraktsioonidest, nagu liidesed või abstraktsete klasside kaudu. See tagab, et muutused madalama taseme rakendustes ei mõjuta kõrgema taseme koodi. Näiteks, kui sul on äriloogika, mis sõltub andmebaasi operatsioonidest, siis peaks see sõltuma andmebaasi liidesest, mitte konkreetsest andmebaasi teostusest."
      ],
      "metadata": {
        "id": "aGtRIbHuN-rF"
      }
    },
    {
      "cell_type": "markdown",
      "source": [
        "# **Creational Methods**"
      ],
      "metadata": {
        "id": "EKXWJzf5W2aO"
      }
    },
    {
      "cell_type": "markdown",
      "source": [
        "# 1. Singleton Pattern\n",
        "Ülesanne: Loo klass, mis tagab, et ainult üks instants klassist luuakse ja seda saab kasutada kogu rakenduse ulatuses.\n",
        "\n",
        "Selgitus: Singleton klass tagab, et __new__ meetod loob ainult ühe instantsi. Kui instants on juba loodud, tagastab see sama instantsi, mitte uut."
      ],
      "metadata": {
        "id": "StMYfmh8SofH"
      }
    },
    {
      "cell_type": "code",
      "execution_count": 3,
      "metadata": {
        "colab": {
          "base_uri": "https://localhost:8080/"
        },
        "id": "68q8KcTvLRfL",
        "outputId": "fd16164e-cd49-4910-af54-efff91bed5dd"
      },
      "outputs": [
        {
          "output_type": "stream",
          "name": "stdout",
          "text": [
            "First Instance\n",
            "First Instance\n",
            "True\n"
          ]
        }
      ],
      "source": [
        "class Singleton:\n",
        "    _instance = None  # Klassimuutuja, et hoida ainukest instantsi\n",
        "\n",
        "    def __new__(cls, *args, **kwargs):\n",
        "        if cls._instance is None:\n",
        "            cls._instance = super(Singleton, cls).__new__(cls)\n",
        "        return cls._instance\n",
        "\n",
        "    def __init__(self, value):\n",
        "        # Veendume, et init'i kutsutakse ainult ühe korra\n",
        "        if not hasattr(self, '_initialized'):\n",
        "            self.value = value\n",
        "            self._initialized = True\n",
        "\n",
        "# Kasutamine:\n",
        "s1 = Singleton(\"First Instance\")\n",
        "s2 = Singleton(\"Second Instance\")\n",
        "\n",
        "print(s1.value)  # \"First Instance\"\n",
        "print(s2.value)  # \"First Instance\"\n",
        "print(s1 is s2)  # True, sest s1 ja s2 on sama instants"
      ]
    },
    {
      "cell_type": "markdown",
      "source": [
        "# 2. Builder Pattern\n",
        "Ülesanne: Loo klass, mis ehitab keerulisi objekte samm-sammult.\n",
        "\n",
        "Selgitus: CarBuilder klassi kasutatakse, et ehitada Car objekt samm-sammult. Iga set_ meetod tagastab self, et võimaldada meetodite ahelat."
      ],
      "metadata": {
        "id": "JQoLwuX2T4hg"
      }
    },
    {
      "cell_type": "code",
      "source": [
        "# Builder Pattern: Ehitab keerulisi objekte samm-sammult.\n",
        "class Car:\n",
        "    def __init__(self):\n",
        "        self.make = None\n",
        "        self.model = None\n",
        "        self.year = None\n",
        "\n",
        "    def __str__(self):\n",
        "        return f\"{self.year} {self.make} {self.model}\"\n",
        "\n",
        "class CarBuilder:\n",
        "    def __init__(self):\n",
        "        self.car = Car()\n",
        "\n",
        "    def set_make(self, make):\n",
        "        self.car.make = make\n",
        "        return self\n",
        "\n",
        "    def set_model(self, model):\n",
        "        self.car.model = model\n",
        "        return self\n",
        "\n",
        "    def set_year(self, year):\n",
        "        self.car.year = year\n",
        "        return self\n",
        "\n",
        "    def build(self):\n",
        "        return self.car\n",
        "\n",
        "# Kasutamine:\n",
        "builder = CarBuilder()\n",
        "car = (builder\n",
        "       .set_make(\"Toyota\")\n",
        "       .set_model(\"Corolla\")\n",
        "       .set_year(2023)\n",
        "       .build())\n",
        "\n",
        "print(car)  # \"2023 Toyota Corolla\"\n"
      ],
      "metadata": {
        "colab": {
          "base_uri": "https://localhost:8080/"
        },
        "id": "Ze3yKrkuUFMh",
        "outputId": "39528451-ff03-4910-ffb4-9715383a5ab3"
      },
      "execution_count": 4,
      "outputs": [
        {
          "output_type": "stream",
          "name": "stdout",
          "text": [
            "2023 Toyota Corolla\n"
          ]
        }
      ]
    },
    {
      "cell_type": "markdown",
      "source": [
        "# 3. Factory Pattern\n",
        "Ülesanne: Loo klass, mis loob objekte vastavalt antud tüübile.\n",
        "\n",
        "Selgitus: AnimalFactory klassi meetod get_animal loob objekte vastavalt animal_type väärtusele. See eraldab loomade loomise üksikasjad kliendi koodist."
      ],
      "metadata": {
        "id": "Nl92gW-OUTZq"
      }
    },
    {
      "cell_type": "code",
      "source": [
        "# Factory Pattern: Loo objekte vastavalt tüübile.\n",
        "class Dog:\n",
        "    def speak(self):\n",
        "        return \"Woof!\"\n",
        "\n",
        "class Cat:\n",
        "    def speak(self):\n",
        "        return \"Meow!\"\n",
        "\n",
        "class AnimalFactory:\n",
        "    @staticmethod\n",
        "    def get_animal(animal_type):\n",
        "        if animal_type == \"dog\":\n",
        "            return Dog()\n",
        "        elif animal_type == \"cat\":\n",
        "            return Cat()\n",
        "        else:\n",
        "            raise ValueError(\"Unknown animal type\")\n",
        "\n",
        "# Kasutamine:\n",
        "animal = AnimalFactory.get_animal(\"dog\")\n",
        "print(animal.speak())  # \"Woof!\"\n",
        "\n",
        "animal = AnimalFactory.get_animal(\"cat\")\n",
        "print(animal.speak())  # \"Meow!\"\n"
      ],
      "metadata": {
        "colab": {
          "base_uri": "https://localhost:8080/"
        },
        "id": "uWaofN0aUflb",
        "outputId": "5c314ce7-fd4a-457b-d02b-3fe429e2a472"
      },
      "execution_count": 5,
      "outputs": [
        {
          "output_type": "stream",
          "name": "stdout",
          "text": [
            "Woof!\n",
            "Meow!\n"
          ]
        }
      ]
    },
    {
      "cell_type": "markdown",
      "source": [
        "# 4. Abstract Factory Pattern\n",
        "Ülesanne: Loo klassid, mis loovad omavahel seotud objekte, ilma et nad peaksid nende täpset tüüpi teadma.\n",
        "\n",
        "Selgitus: AnimalFactoryProducer klassi get_factory meetod tagastab tehase, mis loob konkreetseid loomi. Eraldi tehased (DogFactory, CatFactory) loovad loomi ilma, et nad peaksid tundma teiste loomade tegemise üksikasju."
      ],
      "metadata": {
        "id": "OHKoz6L2UvSG"
      }
    },
    {
      "cell_type": "code",
      "source": [
        "# Abstract Factory Pattern: Loob omavahel seotud objekte.\n",
        "class Dog:\n",
        "    def speak(self):\n",
        "        return \"Woof!\"\n",
        "\n",
        "class Cat:\n",
        "    def speak(self):\n",
        "        return \"Meow!\"\n",
        "\n",
        "class DogFactory:\n",
        "    def create_animal(self):\n",
        "        return Dog()\n",
        "\n",
        "class CatFactory:\n",
        "    def create_animal(self):\n",
        "        return Cat()\n",
        "\n",
        "class AnimalFactoryProducer:\n",
        "    @staticmethod\n",
        "    def get_factory(factory_type):\n",
        "        if factory_type == \"dog\":\n",
        "            return DogFactory()\n",
        "        elif factory_type == \"cat\":\n",
        "            return CatFactory()\n",
        "        else:\n",
        "            raise ValueError(\"Unknown factory type\")\n",
        "\n",
        "# Kasutamine:\n",
        "factory = AnimalFactoryProducer.get_factory(\"dog\")\n",
        "animal = factory.create_animal()\n",
        "print(animal.speak())  # \"Woof!\"\n",
        "\n",
        "factory = AnimalFactoryProducer.get_factory(\"cat\")\n",
        "animal = factory.create_animal()\n",
        "print(animal.speak())  # \"Meow!\"\n"
      ],
      "metadata": {
        "colab": {
          "base_uri": "https://localhost:8080/"
        },
        "id": "bPvHnNy3Vk4c",
        "outputId": "5338a3c0-4645-4e92-be79-0c74cc303627"
      },
      "execution_count": 6,
      "outputs": [
        {
          "output_type": "stream",
          "name": "stdout",
          "text": [
            "Woof!\n",
            "Meow!\n"
          ]
        }
      ]
    },
    {
      "cell_type": "markdown",
      "source": [
        "# 5. Dependency Injection\n",
        "Ülesanne: Loo süsteem, kus sõltuvused süstitakse objektidesse, mitte ei loo neid otse.\n",
        "\n",
        "Selgitus: Car klass sõltub Engine klassist. Selle asemel, et luua Engine objekt Car sees, antakse see konstruktorisse, mis võimaldab lihtsamat testimist ja paindlikkust."
      ],
      "metadata": {
        "id": "vAObS9NZWFHV"
      }
    },
    {
      "cell_type": "code",
      "source": [
        "# Dependency Injection: Sõltuvused süstitakse objekti konstruktorisse.\n",
        "class Engine:\n",
        "    def start(self):\n",
        "        return \"Engine starts\"\n",
        "\n",
        "class Car:\n",
        "    def __init__(self, engine):\n",
        "        self.engine = engine\n",
        "\n",
        "    def start(self):\n",
        "        return self.engine.start()\n",
        "\n",
        "# Kasutamine:\n",
        "engine = Engine()\n",
        "car = Car(engine)\n",
        "print(car.start())  # \"Engine starts\"\n"
      ],
      "metadata": {
        "colab": {
          "base_uri": "https://localhost:8080/"
        },
        "id": "Bm0lbWFhWRxD",
        "outputId": "0275eda8-0ed9-4ffb-8361-b132441cacce"
      },
      "execution_count": 7,
      "outputs": [
        {
          "output_type": "stream",
          "name": "stdout",
          "text": [
            "Engine starts\n"
          ]
        }
      ]
    },
    {
      "cell_type": "markdown",
      "source": [
        "# **Structural Methods**"
      ],
      "metadata": {
        "id": "PiKko41bXERm"
      }
    },
    {
      "cell_type": "markdown",
      "source": [
        "# 1. Adapter Pattern\n",
        "Ülesanne: Loo klass, mis võimaldab ühendada omavahel kaks erinevat liidest.\n",
        "\n",
        "Selgitus: PlugAdapter kohandab USPlug liidest nii, et seda saaks kasutada samamoodi nagu EuropeanPlug. Adapter ühendab erinevad liidesed ja võimaldab nende omavahelist kasutamist."
      ],
      "metadata": {
        "id": "D653MWn0XN8P"
      }
    },
    {
      "cell_type": "code",
      "source": [
        "# Adapter Pattern: Kohandab liidese, mida klient ootab.\n",
        "class EuropeanPlug:\n",
        "    def plug_in(self):\n",
        "        return \"European plug connected.\"\n",
        "\n",
        "class USPlug:\n",
        "    def insert(self):\n",
        "        return \"US plug connected.\"\n",
        "\n",
        "# Adapter klass ühendab kaks erinevat liidest.\n",
        "class PlugAdapter:\n",
        "    def __init__(self, plug):\n",
        "        self.plug = plug\n",
        "\n",
        "    def plug_in(self):\n",
        "        return self.plug.insert()\n",
        "\n",
        "# Kasutamine:\n",
        "us_plug = USPlug()\n",
        "adapter = PlugAdapter(us_plug)\n",
        "print(adapter.plug_in())  # \"US plug connected.\"\n"
      ],
      "metadata": {
        "colab": {
          "base_uri": "https://localhost:8080/"
        },
        "id": "Dmg-5ytEX8Cy",
        "outputId": "3668253d-5afa-4023-bd54-234058c099f4"
      },
      "execution_count": 8,
      "outputs": [
        {
          "output_type": "stream",
          "name": "stdout",
          "text": [
            "US plug connected.\n"
          ]
        }
      ]
    },
    {
      "cell_type": "markdown",
      "source": [
        "# 2. Bridge Pattern\n",
        "Ülesanne: Eralda abstraktsioon ja teostus nii, et neid saaks sõltumatult muuta.\n",
        "\n",
        "Selgitus: Shape klassi ja DrawingAPI klassi eraldamine võimaldab neil sõltumatult areneda. CircleShape võib kasutada erinevaid DrawingAPI teostusi."
      ],
      "metadata": {
        "id": "wKUZHVrqX_5O"
      }
    },
    {
      "cell_type": "code",
      "source": [
        "# Bridge Pattern: Eristab abstraktsiooni ja selle teostuse.\n",
        "class DrawingAPI:\n",
        "    def draw_circle(self, x, y, radius):\n",
        "        raise NotImplementedError\n",
        "\n",
        "class DrawingAPI1(DrawingAPI):\n",
        "    def draw_circle(self, x, y, radius):\n",
        "        return f\"API1.circle at ({x}, {y}) with radius {radius}\"\n",
        "\n",
        "class DrawingAPI2(DrawingAPI):\n",
        "    def draw_circle(self, x, y, radius):\n",
        "        return f\"API2.circle at ({x}, {y}) with radius {radius}\"\n",
        "\n",
        "class Shape:\n",
        "    def __init__(self, drawing_api):\n",
        "        self.drawing_api = drawing_api\n",
        "\n",
        "    def draw(self):\n",
        "        raise NotImplementedError\n",
        "\n",
        "class CircleShape(Shape):\n",
        "    def __init__(self, x, y, radius, drawing_api):\n",
        "        super().__init__(drawing_api)\n",
        "        self.x = x\n",
        "        self.y = y\n",
        "        self.radius = radius\n",
        "\n",
        "    def draw(self):\n",
        "        return self.drawing_api.draw_circle(self.x, self.y, self.radius)\n",
        "\n",
        "# Kasutamine:\n",
        "circle1 = CircleShape(1, 2, 3, DrawingAPI1())\n",
        "circle2 = CircleShape(5, 7, 11, DrawingAPI2())\n",
        "\n",
        "print(circle1.draw())  # \"API1.circle at (1, 2) with radius 3\"\n",
        "print(circle2.draw())  # \"API2.circle at (5, 7) with radius 11\"\n"
      ],
      "metadata": {
        "colab": {
          "base_uri": "https://localhost:8080/"
        },
        "id": "WAbJlXcXYIDz",
        "outputId": "50c141a1-e1e6-467f-c6ec-1af40b09cbd1"
      },
      "execution_count": 9,
      "outputs": [
        {
          "output_type": "stream",
          "name": "stdout",
          "text": [
            "API1.circle at (1, 2) with radius 3\n",
            "API2.circle at (5, 7) with radius 11\n"
          ]
        }
      ]
    },
    {
      "cell_type": "markdown",
      "source": [
        "# 3. Facade Pattern\n",
        "Ülesanne: Loo lihtne liides, mis peidab keeruka süsteemi.\n",
        "\n",
        "Selgitus: ComputerFacade peidab CPU, mälu ja kõvaketta toimingud, pakkudes lihtsat liidest arvuti käivitamiseks."
      ],
      "metadata": {
        "id": "tW0v29INYRRm"
      }
    },
    {
      "cell_type": "code",
      "source": [
        "# Facade Pattern: Peidab keeruka süsteemi lihtsa liidese taha.\n",
        "class CPU:\n",
        "    def freeze(self):\n",
        "        return \"CPU freeze\"\n",
        "\n",
        "    def jump(self, position):\n",
        "        return f\"Jump to {position}\"\n",
        "\n",
        "    def execute(self):\n",
        "        return \"CPU execute\"\n",
        "\n",
        "class Memory:\n",
        "    def load(self, position, data):\n",
        "        return f\"Loading {data} to {position}\"\n",
        "\n",
        "class HardDrive:\n",
        "    def read(self, lba, size):\n",
        "        return f\"Reading {size} bytes from LBA {lba}\"\n",
        "\n",
        "# Facade klass, mis lihtsustab keerulist arvuti käivitamise protsessi.\n",
        "class ComputerFacade:\n",
        "    def __init__(self):\n",
        "        self.cpu = CPU()\n",
        "        self.memory = Memory()\n",
        "        self.hard_drive = HardDrive()\n",
        "\n",
        "    def start(self):\n",
        "        results = []\n",
        "        results.append(self.cpu.freeze())\n",
        "        results.append(self.memory.load(0, \"bootloader\"))\n",
        "        results.append(self.cpu.jump(0))\n",
        "        results.append(self.cpu.execute())\n",
        "        return \"\\n\".join(results)\n",
        "\n",
        "# Kasutamine:\n",
        "computer = ComputerFacade()\n",
        "print(computer.start())\n"
      ],
      "metadata": {
        "colab": {
          "base_uri": "https://localhost:8080/"
        },
        "id": "WUv2Yqs3YdyH",
        "outputId": "f4acf227-7a07-496f-8e28-e2f257678d3c"
      },
      "execution_count": 10,
      "outputs": [
        {
          "output_type": "stream",
          "name": "stdout",
          "text": [
            "CPU freeze\n",
            "Loading bootloader to 0\n",
            "Jump to 0\n",
            "CPU execute\n"
          ]
        }
      ]
    },
    {
      "cell_type": "markdown",
      "source": [
        "# 4. Decorator Pattern\n",
        "Ülesanne: Loo klassid, mis lisavad objektidele dünaamiliselt käitumist ilma nende struktuuri muutmata.\n",
        "\n",
        "Selgitus: Dekoraatorid (MilkDecorator, SugarDecorator) lisavad käitumist (cost meetod) originaalobjektile (kohv), muutmata selle aluskoodi."
      ],
      "metadata": {
        "id": "ShMn6HPJYmTF"
      }
    },
    {
      "cell_type": "code",
      "source": [
        "# Decorator Pattern: Lisab objektile käitumist ilma struktuuri muutmata.\n",
        "class Coffee:\n",
        "    def cost(self):\n",
        "        return 5\n",
        "\n",
        "class MilkDecorator(Coffee):\n",
        "    def __init__(self, coffee):\n",
        "        self.coffee = coffee\n",
        "\n",
        "    def cost(self):\n",
        "        return self.coffee.cost() + 2\n",
        "\n",
        "class SugarDecorator(Coffee):\n",
        "    def __init__(self, coffee):\n",
        "        self.coffee = coffee\n",
        "\n",
        "    def cost(self):\n",
        "        return self.coffee.cost() + 1\n",
        "\n",
        "# Kasutamine:\n",
        "coffee = Coffee()\n",
        "print(coffee.cost())  # 5\n",
        "\n",
        "milk_coffee = MilkDecorator(coffee)\n",
        "print(milk_coffee.cost())  # 7\n",
        "\n",
        "milk_sugar_coffee = SugarDecorator(milk_coffee)\n",
        "print(milk_sugar_coffee.cost())  # 8\n"
      ],
      "metadata": {
        "colab": {
          "base_uri": "https://localhost:8080/"
        },
        "id": "J53RXl5FYwq0",
        "outputId": "cf727183-08ae-492f-a88b-abc4f0187ec7"
      },
      "execution_count": 11,
      "outputs": [
        {
          "output_type": "stream",
          "name": "stdout",
          "text": [
            "5\n",
            "7\n",
            "8\n"
          ]
        }
      ]
    },
    {
      "cell_type": "markdown",
      "source": [
        "# 5. Proxy Pattern\n",
        "Ülesanne: Loo klass, mis kontrollib ligipääsu teisele objektile, lisades funktsionaalsust enne või pärast põhitegevuse sooritamist.\n",
        "\n",
        "Selgitus: Proxy klass kontrollib ligipääsu RealSubject klassile, võimaldades lisada kontrolli või täiendavat funktsionaalsust enne request meetodi täitmist."
      ],
      "metadata": {
        "id": "1eIBesf5Y0O6"
      }
    },
    {
      "cell_type": "code",
      "source": [
        "# Proxy Pattern: Kontrollib ligipääsu teisele objektile.\n",
        "class RealSubject:\n",
        "    def request(self):\n",
        "        return \"RealSubject: Handling request.\"\n",
        "\n",
        "class Proxy:\n",
        "    def __init__(self, real_subject):\n",
        "        self.real_subject = real_subject\n",
        "\n",
        "    def request(self):\n",
        "        # Siin saab lisada täiendavaid kontrolli- või logikafunktsioone\n",
        "        if self.check_access():\n",
        "            result = self.real_subject.request()\n",
        "            return f\"Proxy: {result}\"\n",
        "        return \"Proxy: Access denied.\"\n",
        "\n",
        "    def check_access(self):\n",
        "        # Kontrollime ligipääsu (näiteks autentimine)\n",
        "        return True  # Siin võib olla keerulisem kontroll\n",
        "\n",
        "# Kasutamine:\n",
        "real_subject = RealSubject()\n",
        "proxy = Proxy(real_subject)\n",
        "print(proxy.request())  # \"Proxy: RealSubject: Handling request.\"\n"
      ],
      "metadata": {
        "colab": {
          "base_uri": "https://localhost:8080/"
        },
        "id": "kikSJGh_Y66F",
        "outputId": "df0570b3-3b7f-4cb8-eca6-e98887b094ed"
      },
      "execution_count": 12,
      "outputs": [
        {
          "output_type": "stream",
          "name": "stdout",
          "text": [
            "Proxy: RealSubject: Handling request.\n"
          ]
        }
      ]
    },
    {
      "cell_type": "markdown",
      "source": [
        "# 6. Flyweight Pattern\n",
        "Ülesanne: Loo süsteem, mis jagab objektide riigi, et vähendada mälu kasutust, kui objektid on sarnased.\n",
        "\n",
        "Selgitus: FlyweightFactory loob ja haldab Flyweight objekte, mis jagavad sarnast olekut (shared_state). See vähendab mälu kasutust, kuna sarnast olekut kasutavad objektid jagavad sama instantsi."
      ],
      "metadata": {
        "id": "10Yazy3aY9tG"
      }
    },
    {
      "cell_type": "code",
      "source": [
        "# Flyweight Pattern: Jagab objektide sarnast riiki, et säästa mälu.\n",
        "class Flyweight:\n",
        "    def __init__(self, shared_state):\n",
        "        self.shared_state = shared_state\n",
        "\n",
        "    def operation(self, unique_state):\n",
        "        return f\"Flyweight: Displaying shared ({self.shared_state}) and unique ({unique_state}) state.\"\n",
        "\n",
        "class FlyweightFactory:\n",
        "    _flyweights = {}\n",
        "\n",
        "    def get_flyweight(self, shared_state):\n",
        "        if shared_state not in self._flyweights:\n",
        "            self._flyweights[shared_state] = Flyweight(shared_state)\n",
        "        return self._flyweights[shared_state]\n",
        "\n",
        "# Kasutamine:\n",
        "factory = FlyweightFactory()\n",
        "\n",
        "flyweight1 = factory.get_flyweight(\"shared1\")\n",
        "print(flyweight1.operation(\"unique1\"))\n",
        "\n",
        "flyweight2 = factory.get_flyweight(\"shared1\")\n",
        "print(flyweight2.operation(\"unique2\"))\n",
        "\n",
        "print(flyweight1 is flyweight2)  # True, kuna flyweightid jagavad sama riiki\n"
      ],
      "metadata": {
        "colab": {
          "base_uri": "https://localhost:8080/"
        },
        "id": "4Zb2VtB0ZFAj",
        "outputId": "896dbe05-99d1-435e-ad40-61aeb4c14190"
      },
      "execution_count": 13,
      "outputs": [
        {
          "output_type": "stream",
          "name": "stdout",
          "text": [
            "Flyweight: Displaying shared (shared1) and unique (unique1) state.\n",
            "Flyweight: Displaying shared (shared1) and unique (unique2) state.\n",
            "True\n"
          ]
        }
      ]
    },
    {
      "cell_type": "markdown",
      "source": [
        "# **Behavioral Methods**"
      ],
      "metadata": {
        "id": "6-2xiqyEZTrn"
      }
    },
    {
      "cell_type": "markdown",
      "source": [
        "# 1. Chain of Responsibility Pattern\n",
        "Ülesanne: Loo ahel käsitlejatest, kus igaüks võib käsitleda taotlust või anda selle edasi järgmisele käsitlejale.\n",
        "\n",
        "Selgitus: Handler klass võimaldab luua ahela käsitlejatest. Kui üks käsitleja ei suuda taotlust käsitleda, antakse see edasi järgmisele ahelas."
      ],
      "metadata": {
        "id": "QEr2Yq3TZYVS"
      }
    },
    {
      "cell_type": "code",
      "source": [
        "# Chain of Responsibility Pattern: Ahel käsitlejatest, kus igaüks võib käsitleda taotlust või anda selle edasi.\n",
        "\n",
        "class Handler:\n",
        "    def __init__(self, successor=None):\n",
        "        self.successor = successor\n",
        "\n",
        "    def handle(self, request):\n",
        "        if self.successor:\n",
        "            return self.successor.handle(request)\n",
        "        return None\n",
        "\n",
        "class ConcreteHandler1(Handler):\n",
        "    def handle(self, request):\n",
        "        if request == \"Task1\":\n",
        "            return \"Handled by ConcreteHandler1\"\n",
        "        else:\n",
        "            return super().handle(request)\n",
        "\n",
        "class ConcreteHandler2(Handler):\n",
        "    def handle(self, request):\n",
        "        if request == \"Task2\":\n",
        "            return \"Handled by ConcreteHandler2\"\n",
        "        else:\n",
        "            return super().handle(request)\n",
        "\n",
        "# Kasutamine:\n",
        "handler_chain = ConcreteHandler1(ConcreteHandler2())\n",
        "\n",
        "print(handler_chain.handle(\"Task1\"))  # \"Handled by ConcreteHandler1\"\n",
        "print(handler_chain.handle(\"Task2\"))  # \"Handled by ConcreteHandler2\"\n",
        "print(handler_chain.handle(\"Task3\"))  # None, kuna keegi ei suutnud käsitleda\n"
      ],
      "metadata": {
        "colab": {
          "base_uri": "https://localhost:8080/"
        },
        "id": "km-9plHWZ7dZ",
        "outputId": "12b6a61a-b60b-4416-9aad-bfa2e216adbb"
      },
      "execution_count": 14,
      "outputs": [
        {
          "output_type": "stream",
          "name": "stdout",
          "text": [
            "Handled by ConcreteHandler1\n",
            "Handled by ConcreteHandler2\n",
            "None\n"
          ]
        }
      ]
    },
    {
      "cell_type": "markdown",
      "source": [
        "# 2. Command Pattern\n",
        "Ülesanne: Loo klassid, mis pakivad toimingud objektideks, et võimaldada nende käsitlemist ja täitmist erinevatel aegadel.\n",
        "\n",
        "Selgitus: Command mustri abil saab käske (nt LightOnCommand, LightOffCommand) kapseldada objektideks ja täita neid hiljem. RemoteControl toimib käske täitva käivitajana (invoker)."
      ],
      "metadata": {
        "id": "mo5cZHyJaGWB"
      }
    },
    {
      "cell_type": "code",
      "source": [
        "# Command Pattern: Pakib toimingud objektideks, et neid saaks täita erinevatel aegadel.\n",
        "\n",
        "class Command:\n",
        "    def execute(self):\n",
        "        raise NotImplementedError\n",
        "\n",
        "class Light:\n",
        "    def on(self):\n",
        "        return \"Light is ON\"\n",
        "\n",
        "    def off(self):\n",
        "        return \"Light is OFF\"\n",
        "\n",
        "class LightOnCommand(Command):\n",
        "    def __init__(self, light):\n",
        "        self.light = light\n",
        "\n",
        "    def execute(self):\n",
        "        return self.light.on()\n",
        "\n",
        "class LightOffCommand(Command):\n",
        "    def __init__(self, light):\n",
        "        self.light = light\n",
        "\n",
        "    def execute(self):\n",
        "        return self.light.off()\n",
        "\n",
        "# Invoker, mis salvestab ja täidab käske.\n",
        "class RemoteControl:\n",
        "    def __init__(self):\n",
        "        self.command = None\n",
        "\n",
        "    def set_command(self, command):\n",
        "        self.command = command\n",
        "\n",
        "    def press_button(self):\n",
        "        return self.command.execute()\n",
        "\n",
        "# Kasutamine:\n",
        "light = Light()\n",
        "remote = RemoteControl()\n",
        "\n",
        "remote.set_command(LightOnCommand(light))\n",
        "print(remote.press_button())  # \"Light is ON\"\n",
        "\n",
        "remote.set_command(LightOffCommand(light))\n",
        "print(remote.press_button())  # \"Light is OFF\"\n"
      ],
      "metadata": {
        "colab": {
          "base_uri": "https://localhost:8080/"
        },
        "id": "Z4P4wLpLaN1C",
        "outputId": "55b90143-a551-4c1e-9bc9-263d0b3be6ef"
      },
      "execution_count": 15,
      "outputs": [
        {
          "output_type": "stream",
          "name": "stdout",
          "text": [
            "Light is ON\n",
            "Light is OFF\n"
          ]
        }
      ]
    },
    {
      "cell_type": "markdown",
      "source": [
        "# 3. Interpreter Pattern\n",
        "Ülesanne: Loo lihtne keele interpreteerija, mis suudab tõlgendada ja täita lihtsaid lauseid.\n",
        "\n",
        "Selgitus: Interpreter muster võimaldab luua lihtsa keele interpreteerija, mis suudab tõlgendada ja täita lauseid. Siin on näidatud matemaatiline väljend, mis tõlgendatakse ja täidetakse."
      ],
      "metadata": {
        "id": "bY7IqATNaUL2"
      }
    },
    {
      "cell_type": "code",
      "source": [
        "# Interpreter Pattern: Tõlgendab ja täidab lihtsaid keele lauseid.\n",
        "\n",
        "class Expression:\n",
        "    def interpret(self, context):\n",
        "        raise NotImplementedError\n",
        "\n",
        "class NumberExpression(Expression):\n",
        "    def __init__(self, number):\n",
        "        self.number = number\n",
        "\n",
        "    def interpret(self, context):\n",
        "        return self.number\n",
        "\n",
        "class AddExpression(Expression):\n",
        "    def __init__(self, left, right):\n",
        "        self.left = left\n",
        "        self.right = right\n",
        "\n",
        "    def interpret(self, context):\n",
        "        return self.left.interpret(context) + self.right.interpret(context)\n",
        "\n",
        "class SubtractExpression(Expression):\n",
        "    def __init__(self, left, right):\n",
        "        self.left = left\n",
        "        self.right = right\n",
        "\n",
        "    def interpret(self, context):\n",
        "        return self.left.interpret(context) - self.right.interpret(context)\n",
        "\n",
        "# Kasutamine:\n",
        "# Tõlgendab lause: 5 + (10 - 2)\n",
        "expression = AddExpression(\n",
        "    NumberExpression(5),\n",
        "    SubtractExpression(NumberExpression(10), NumberExpression(2))\n",
        ")\n",
        "\n",
        "print(expression.interpret({}))  # 13\n"
      ],
      "metadata": {
        "colab": {
          "base_uri": "https://localhost:8080/"
        },
        "id": "nm7qnGKpacig",
        "outputId": "5053e4bc-310d-4091-fadf-e3b9f3a803e0"
      },
      "execution_count": 16,
      "outputs": [
        {
          "output_type": "stream",
          "name": "stdout",
          "text": [
            "13\n"
          ]
        }
      ]
    },
    {
      "cell_type": "markdown",
      "source": [
        "# 4. Iterator Pattern\n",
        "Ülesanne: Loo klass, mis võimaldab järjestikku läbida kogum objekte ilma nende sisemist struktuuri avaldamata.\n",
        "\n",
        "Selgitus: Iterator muster võimaldab kogumi elemente läbida ükshaaval, ilma et avaldataks kogumi sisemine struktuur. Collection klassi iterator() meetod tagastab iteratori, mis suudab elemente järjestikku läbida."
      ],
      "metadata": {
        "id": "xALRgg4IafsY"
      }
    },
    {
      "cell_type": "code",
      "source": [
        "# Iterator Pattern: Läbib järjestikku kogumi objekte ilma nende sisemist struktuuri avaldamata.\n",
        "\n",
        "class Iterator:\n",
        "    def __init__(self, collection):\n",
        "        self._collection = collection\n",
        "        self._index = 0\n",
        "\n",
        "    def has_next(self):\n",
        "        return self._index < len(self._collection)\n",
        "\n",
        "    def next(self):\n",
        "        if self.has_next():\n",
        "            result = self._collection[self._index]\n",
        "            self._index += 1\n",
        "            return result\n",
        "        else:\n",
        "            raise StopIteration\n",
        "\n",
        "class Collection:\n",
        "    def __init__(self):\n",
        "        self._items = []\n",
        "\n",
        "    def add(self, item):\n",
        "        self._items.append(item)\n",
        "\n",
        "    def iterator(self):\n",
        "        return Iterator(self._items)\n",
        "\n",
        "# Kasutamine:\n",
        "collection = Collection()\n",
        "collection.add(\"Item1\")\n",
        "collection.add(\"Item2\")\n",
        "collection.add(\"Item3\")\n",
        "\n",
        "iterator = collection.iterator()\n",
        "while iterator.has_next():\n",
        "    print(iterator.next())\n",
        "# Output:\n",
        "# \"Item1\"\n",
        "# \"Item2\"\n",
        "# \"Item3\"\n"
      ],
      "metadata": {
        "colab": {
          "base_uri": "https://localhost:8080/"
        },
        "id": "PKyIzUwpaubU",
        "outputId": "1cfbbd43-864a-4a9c-f64e-562f5e5074f1"
      },
      "execution_count": 17,
      "outputs": [
        {
          "output_type": "stream",
          "name": "stdout",
          "text": [
            "Item1\n",
            "Item2\n",
            "Item3\n"
          ]
        }
      ]
    },
    {
      "cell_type": "markdown",
      "source": [
        "# 5. Strategy Pattern\n",
        "Ülesanne: Loo klassid, mis võimaldavad muuta algoritmi käitumist dünaamiliselt, sõltuvalt olukorrast.\n",
        "\n",
        "Selgitus: Strategy muster võimaldab valida ja rakendada erinevaid algoritme (nt AddStrategy, SubtractStrategy) jooksvalt, ilma et peaks muutma kliendikoodi."
      ],
      "metadata": {
        "id": "KW79lodbayOz"
      }
    },
    {
      "cell_type": "code",
      "source": [
        "# Strategy Pattern: Muudab algoritmi käitumist sõltuvalt olukorrast.\n",
        "\n",
        "class Strategy:\n",
        "    def execute(self, a, b):\n",
        "        raise NotImplementedError\n",
        "\n",
        "class AddStrategy(Strategy):\n",
        "    def execute(self, a, b):\n",
        "        return a + b\n",
        "\n",
        "class SubtractStrategy(Strategy):\n",
        "    def execute(self, a, b):\n",
        "        return a - b\n",
        "\n",
        "class Context:\n",
        "    def __init__(self, strategy):\n",
        "        self.strategy = strategy\n",
        "\n",
        "    def set_strategy(self, strategy):\n",
        "        self.strategy = strategy\n",
        "\n",
        "    def execute_strategy(self, a, b):\n",
        "        return self.strategy.execute(a, b)\n",
        "\n",
        "# Kasutamine:\n",
        "context = Context(AddStrategy())\n",
        "print(context.execute_strategy(5, 3))  # 8\n",
        "\n",
        "context.set_strategy(SubtractStrategy())\n",
        "print(context.execute_strategy(5, 3))  # 2\n"
      ],
      "metadata": {
        "colab": {
          "base_uri": "https://localhost:8080/"
        },
        "id": "sMv2fEiXa96o",
        "outputId": "c362179c-54ca-4234-8ce4-b77303721283"
      },
      "execution_count": 18,
      "outputs": [
        {
          "output_type": "stream",
          "name": "stdout",
          "text": [
            "8\n",
            "2\n"
          ]
        }
      ]
    },
    {
      "cell_type": "markdown",
      "source": [
        "# 6. Observer Pattern\n",
        "Ülesanne: Loo klassid, kus objektid jälgivad teisi objekte ja neid teavitatakse muudatustest.\n",
        "\n",
        "Selgitus: Observer muster võimaldab objektidel (Observer) jälgida teise objekti (Subject) oleku muutusi. Kui Subject olek muutub, teavitatakse kõiki jälgijaid, kes seejärel täidavad vastava toimingu."
      ],
      "metadata": {
        "id": "_fUBOgFSbBxa"
      }
    },
    {
      "cell_type": "code",
      "source": [
        "# Observer Pattern: Objektid jälgivad teisi objekte ja neid teavitatakse muudatustest.\n",
        "\n",
        "class Subject:\n",
        "    def __init__(self):\n",
        "        self._observers = []\n",
        "\n",
        "    def add_observer(self, observer):\n",
        "        self._observers.append(observer)\n",
        "\n",
        "    def remove_observer(self, observer):\n",
        "        self._observers.remove(observer)\n",
        "\n",
        "    def notify_observers(self, message):\n",
        "        for observer in self._observers:\n",
        "            observer.update(message)\n",
        "\n",
        "class Observer:\n",
        "    def update(self, message):\n",
        "        raise NotImplementedError\n",
        "\n",
        "class ConcreteObserver(Observer):\n",
        "    def __init__(self, name):\n",
        "        self.name = name\n",
        "\n",
        "    def update(self, message):\n",
        "        print(f\"{self.name} received: {message}\")\n",
        "\n",
        "# Kasutamine:\n",
        "subject = Subject()\n",
        "\n",
        "observer1 = ConcreteObserver(\"Observer1\")\n",
        "observer2 = ConcreteObserver(\"Observer2\")\n",
        "\n",
        "subject.add_observer(observer1)\n",
        "subject.add_observer(observer2)\n",
        "\n",
        "subject.notify_observers(\"State has changed.\")\n",
        "# Output:\n",
        "# \"Observer1 received: State has changed.\"\n",
        "# \"Observer2 received: State has changed.\"\n"
      ],
      "metadata": {
        "colab": {
          "base_uri": "https://localhost:8080/"
        },
        "id": "fzz_-NhobIVk",
        "outputId": "34c60a46-4d6b-41cb-95d5-3b9ad2a28ebf"
      },
      "execution_count": 19,
      "outputs": [
        {
          "output_type": "stream",
          "name": "stdout",
          "text": [
            "Observer1 received: State has changed.\n",
            "Observer2 received: State has changed.\n"
          ]
        }
      ]
    }
  ]
}
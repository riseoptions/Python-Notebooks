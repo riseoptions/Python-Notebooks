{
  "nbformat": 4,
  "nbformat_minor": 0,
  "metadata": {
    "colab": {
      "provenance": []
    },
    "kernelspec": {
      "name": "python3",
      "display_name": "Python 3"
    },
    "language_info": {
      "name": "python"
    }
  },
  "cells": [
    {
      "cell_type": "code",
      "source": [
        "from pydantic import BaseModel, EmailStr, PositiveInt, condecimal, ValidationError\n",
        "from typing import Optional, List, Dict, Any\n",
        "import pandas as pd\n",
        "import json"
      ],
      "metadata": {
        "id": "2KOVklF-wnPc"
      },
      "execution_count": null,
      "outputs": []
    },
    {
      "cell_type": "code",
      "source": [
        "#!pip install pydantic[email]"
      ],
      "metadata": {
        "id": "tscIiLWxwygz"
      },
      "execution_count": null,
      "outputs": []
    },
    {
      "cell_type": "markdown",
      "source": [
        "**Ülesanne 1: Andmete valideerimine**\n",
        "Kirjuta Pydanticu mudel, mis valideerib kasutaja profiili andmed, sealhulgas kasutajatunnuse (integer), nime (string) ja e-posti aadressi (string). Veendu, et kasutajatunnus on positiivne number, nimi on vähemalt 3 tähemärki pikk ja e-posti aadress vastab õigele vormingule."
      ],
      "metadata": {
        "id": "T0JauLxcvqT6"
      }
    },
    {
      "cell_type": "code",
      "source": [
        "# Ülesanne 1: Andmete valideerimine\n",
        "class UserProfile(BaseModel):\n",
        "    id: PositiveInt\n",
        "    name: str\n",
        "    email: EmailStr\n",
        "\n",
        "def validate_user_profile(data: Dict[str, Any]):\n",
        "    try:\n",
        "        user = UserProfile(**data)\n",
        "        print(user)\n",
        "    except ValidationError as e:\n",
        "        print(e)"
      ],
      "metadata": {
        "id": "4t2HW1KswdMM"
      },
      "execution_count": null,
      "outputs": []
    },
    {
      "cell_type": "markdown",
      "source": [
        "**Ülesanne 2: Dünaamiliste Atribuutide Sallimine**\n",
        "Loo Pydanticu mudel, mis nõuab kasutajalt ainult nime ja vanust, kuid võib vastu võtta ka täiendavaid atribuute, näiteks aadressi ja telefoninumbrit. Lubatud on dünaamiline arv lisavälju, millele ei ole eelnevalt mingeid nõudeid seatud."
      ],
      "metadata": {
        "id": "PCd2R8Yrvwss"
      }
    },
    {
      "cell_type": "code",
      "source": [
        "# Ülesanne 2: Dünaamiliste Atribuutide Sallimine\n",
        "class DynamicUser(BaseModel):\n",
        "    name: str\n",
        "    age: int\n",
        "\n",
        "    class Config:\n",
        "        extra = 'allow'\n",
        "\n",
        "def validate_dynamic_user(data: Dict[str, Any]):\n",
        "    user = DynamicUser(**data)\n",
        "    print(user)"
      ],
      "metadata": {
        "id": "v8J-IyOMxBY5"
      },
      "execution_count": null,
      "outputs": []
    },
    {
      "cell_type": "markdown",
      "source": [
        "**Ülesanne 3: Andmete Eelprotsessimine**\n",
        "Kirjuta Pydanticu mudel, mis võtab sisendiks tooteloendi. Iga toode sisaldab toote ID-d, nime ja hinda. Veendu, et hind on alati kahe komakohaga kümnendmurd ja positiivne."
      ],
      "metadata": {
        "id": "_I9yegd1v1_X"
      }
    },
    {
      "cell_type": "code",
      "source": [
        "# Ülesanne 3: Andmete Eelprotsessimine\n",
        "class Product(BaseModel):\n",
        "    id: int\n",
        "    name: str\n",
        "    price: condecimal(max_digits=10, decimal_places=2)\n",
        "\n",
        "def validate_product(data: Dict[str, Any]):\n",
        "    try:\n",
        "        product = Product(**data)\n",
        "        print(product)\n",
        "    except ValidationError as e:\n",
        "        print(e)"
      ],
      "metadata": {
        "id": "kyrht9uJxG_Q"
      },
      "execution_count": null,
      "outputs": []
    },
    {
      "cell_type": "markdown",
      "source": [
        "**Ülesanne 4: Komplekssete Andmestruktuuride Valideerimine**\n",
        "Loo Pydanticu mudel, mis valideerib ettevõtte töötajate andmed. Iga töötaja on esindatud objektina, mis sisaldab töötaja ID-d, nime, ametinimetust ja e-posti aadressi. Lisaks võib töötajal olla juhendatavaid, kes on samuti töötajad. Veendu, et andmestruktuur võimaldab töötaja hierarhiat."
      ],
      "metadata": {
        "id": "NhhXPEqGv7L8"
      }
    },
    {
      "cell_type": "code",
      "source": [
        "# Ülesanne 4: Komplekssete Andmestruktuuride Valideerimine\n",
        "class Employee(BaseModel):\n",
        "    id: int\n",
        "    name: str\n",
        "    position: str\n",
        "    email: EmailStr\n",
        "    subordinates: Optional[List['Employee']] = None\n",
        "\n",
        "def validate_employee(data: Dict[str, Any]):\n",
        "    try:\n",
        "        employee = Employee(**data)\n",
        "        print(employee)\n",
        "    except ValidationError as e:\n",
        "        print(e)"
      ],
      "metadata": {
        "id": "4M6uWEBBxLbn"
      },
      "execution_count": null,
      "outputs": []
    },
    {
      "cell_type": "markdown",
      "source": [
        "**Ülesanne 5: CSV Faili Lugemine ja Valideerimine**\n",
        "Loo Pydanticu mudel, mis suudab valideerida CSV failist loetud tooteandmed. Fail sisaldab toodete ID-sid, nimesid ja koguseid laos. Veendu, et iga rida failis vastab etteantud struktuurile ja et kõik kogused on positiivsed."
      ],
      "metadata": {
        "id": "nahoclaLwAov"
      }
    },
    {
      "cell_type": "code",
      "source": [
        "# Ülesanne 5: CSV Faili Lugemine ja Valideerimine\n",
        "class ProductCSV(BaseModel):\n",
        "    id: int\n",
        "    name: str\n",
        "    stock: PositiveInt\n",
        "\n",
        "def validate_csv(file_path: str):\n",
        "    df = pd.read_csv(file_path)\n",
        "    for record in df.to_dict(orient='records'):\n",
        "        try:\n",
        "            product = ProductCSV(**record)\n",
        "            print(product)\n",
        "        except ValidationError as e:\n",
        "            print(e)"
      ],
      "metadata": {
        "id": "OAy1Sh9txQJU"
      },
      "execution_count": null,
      "outputs": []
    },
    {
      "cell_type": "markdown",
      "source": [
        "**Ülesanne 6: JSON API Andmete Valideerimine**\n",
        "Kirjuta Pydanticu mudel, mis valideerib veebist saadud aktsiahindade andmed. Iga kirje sisaldab aktsia nime, sümbolit ja praegust hinda. Veendu, et hind on õigesti vormindatud ja positiivne arv."
      ],
      "metadata": {
        "id": "3qNJRuUpwHJj"
      }
    },
    {
      "cell_type": "code",
      "source": [
        "# Ülesanne 6: JSON API Andmete Valideerimine\n",
        "class StockData(BaseModel):\n",
        "    name: str\n",
        "    symbol: str\n",
        "    price: condecimal(max_digits=10, decimal_places=2)\n",
        "\n",
        "def validate_stock_data(json_data: str):\n",
        "    data = json.loads(json_data)\n",
        "    try:\n",
        "        stock = StockData(**data)\n",
        "        print(stock)\n",
        "    except ValidationError as e:\n",
        "        print(e)"
      ],
      "metadata": {
        "id": "dHqH90ghxVYb"
      },
      "execution_count": null,
      "outputs": []
    },
    {
      "cell_type": "code",
      "source": [
        "# Näidiskutsed\n",
        "if __name__ == \"__main__\":\n",
        "    # Ülesanne 1\n",
        "    validate_user_profile({'id': 1, 'name': 'Alice', 'email': 'alice@example.com'})\n",
        "\n",
        "    # Ülesanne 2\n",
        "    validate_dynamic_user({'name': 'Bob', 'age': 25, 'address': '123 Street', 'phone': '123-456-7890'})\n",
        "\n",
        "    # Ülesanne 3\n",
        "    validate_product({'id': 1, 'name': 'Laptop', 'price': 999.99})\n",
        "\n",
        "    # Ülesanne 4\n",
        "    validate_employee({\n",
        "        'id': 1,\n",
        "        'name': 'John Doe',\n",
        "        'position': 'Manager',\n",
        "        'email': 'johndoe@example.com',\n",
        "        'subordinates': [\n",
        "            {'id': 2, 'name': 'Jane Smith', 'position': 'Developer', 'email': 'janesmith@example.com'}\n",
        "        ]\n",
        "    })\n",
        "\n",
        "    # Ülesanne 5\n",
        "    # Näide CSV andmete valideerimiseks, salvestage fail 'products.csv' samas kataloogis, kus on see skript.\n",
        "    # products.csv näidis:\n",
        "    # id,name,stock\n",
        "    # 1,Product1,100\n",
        "    # 2,Product2,50\n",
        "    #validate_csv('products.csv')\n",
        "\n",
        "    # Ülesanne 6\n",
        "    json_data = '{\"name\": \"Apple Inc.\", \"symbol\": \"AAPL\", \"price\": 150.25}'\n",
        "    validate_stock_data(json_data)"
      ],
      "metadata": {
        "colab": {
          "base_uri": "https://localhost:8080/"
        },
        "id": "6PgCux6exdUv",
        "outputId": "73b80dd9-c3b9-4b5b-e4d4-6df379a11a66"
      },
      "execution_count": null,
      "outputs": [
        {
          "output_type": "stream",
          "name": "stdout",
          "text": [
            "id=1 name='Alice' email='alice@example.com'\n",
            "name='Bob' age=25 address='123 Street' phone='123-456-7890'\n",
            "id=1 name='Laptop' price=Decimal('999.99')\n",
            "id=1 name='John Doe' position='Manager' email='johndoe@example.com' subordinates=[Employee(id=2, name='Jane Smith', position='Developer', email='janesmith@example.com', subordinates=None)]\n",
            "name='Apple Inc.' symbol='AAPL' price=Decimal('150.25')\n"
          ]
        }
      ]
    },
    {
      "cell_type": "markdown",
      "source": [
        "# **Lühiselgitus**\n",
        "UserProfile: Valideerib kasutaja profiili andmed.\n",
        "\n",
        "DynamicUser: Võtab vastu dünaamilise arvu lisaatribuutide andmeid.\n",
        "\n",
        "Product: Veendub, et toote hind on õige vorminguga ja kahe komakohaga.\n",
        "\n",
        "Employee: Võimaldab töötajaid hierarhiliselt struktureerida, kaasaarvatud alluvad.\n",
        "\n",
        "ProductCSV: Loeb ja valideerib CSV failist toote andmeid.\n",
        "\n",
        "StockData: Valideerib aktsiate andmeid JSON API vastusest.\n",
        "\n",
        "Koodis on näidatud, kuidas iga ülesannet lahendada, ja need on kutsutavad põhimeetodi kaudu (__main__)."
      ],
      "metadata": {
        "id": "0OXhXK_S8DlY"
      }
    },
    {
      "cell_type": "code",
      "source": [
        "from pydantic import BaseModel, EmailStr, PositiveInt, condecimal, Field, ValidationError, root_validator\n",
        "from typing import Optional, List, Dict, Any, Union\n",
        "from datetime import date\n",
        "import pandas as pd\n",
        "import json"
      ],
      "metadata": {
        "id": "0HnMPYu313So"
      },
      "execution_count": null,
      "outputs": []
    },
    {
      "cell_type": "markdown",
      "source": [
        "# **Ülesanne 7: Korduvate Andmete Valideerimine**\n",
        "Kirjuta Pydanticu mudel, mis valideerib tellimuste nimekirja. Iga tellimus sisaldab tellimuse ID-d, toote nime, kogust ja hinda. Veendu, et kõik hinnad ja kogused on positiivsed. Kontrolli, et sama tellimuse ID-d ei esineks rohkem kui üks kord."
      ],
      "metadata": {
        "id": "1bhWFQFw11zU"
      }
    },
    {
      "cell_type": "code",
      "source": [
        "# Ülesanne 7: Korduvate Andmete Valideerimine\n",
        "class Order(BaseModel):\n",
        "    order_id: int\n",
        "    product_name: str\n",
        "    quantity: PositiveInt\n",
        "    price: condecimal(max_digits=10, decimal_places=2)\n",
        "\n",
        "def validate_orders(orders: List[Dict[str, Any]]):\n",
        "    seen_order_ids = set()\n",
        "    for order_data in orders:\n",
        "        try:\n",
        "            order = Order(**order_data)\n",
        "            if order.order_id in seen_order_ids:\n",
        "                print(f\"Duplicate order_id found: {order.order_id}\")\n",
        "            else:\n",
        "                seen_order_ids.add(order.order_id)\n",
        "                print(order)\n",
        "        except ValidationError as e:\n",
        "            print(e)"
      ],
      "metadata": {
        "id": "_RbbPXJ32FrU"
      },
      "execution_count": null,
      "outputs": []
    },
    {
      "cell_type": "markdown",
      "source": [
        "# **Ülesanne 8: Sõltuvate Väljade Valideerimine**\n",
        "Loo Pydanticu mudel, mis valideerib isiku andmed, sealhulgas nime, vanuse ja sõiduki registreerimisnumbri. Registreerimisnumber on nõutav ainult siis, kui isik on vanem kui 18 aastat. Veendu, et alla 18-aastaste puhul registreerimisnumbrit ei nõuta."
      ],
      "metadata": {
        "id": "5_9tp34Z2O7Q"
      }
    },
    {
      "cell_type": "code",
      "source": [
        "from pydantic import BaseModel, ValidationError, field_validator, model_validator\n",
        "from typing import Optional\n",
        "\n",
        "\n",
        "class Person(BaseModel):\n",
        "    name: str\n",
        "    age: int\n",
        "    registration_number: Optional[str] = None\n",
        "\n",
        "    @model_validator(mode=\"after\")\n",
        "    def check_registration_number(cls, values):\n",
        "        age = values.age\n",
        "        registration_number = values.registration_number\n",
        "        if age >= 18 and not registration_number:\n",
        "            raise ValueError('Registration number required for people 18 or older')\n",
        "        if age < 18 and registration_number:\n",
        "            raise ValueError('Registration number should not be provided for people under 18')\n",
        "        return values\n",
        "\n",
        "\n",
        "def validate_person(data):\n",
        "    try:\n",
        "        person = Person(**data)\n",
        "        print(person)\n",
        "    except ValidationError as e:\n",
        "        print(e)\n",
        "\n",
        "\n",
        "# Näidiskutsed\n",
        "if __name__ == \"__main__\":\n",
        "    validate_person({'name': 'John Doe', 'age': 20, 'registration_number': 'ABC123'})\n",
        "    validate_person({'name': 'Jane Doe', 'age': 16})"
      ],
      "metadata": {
        "colab": {
          "base_uri": "https://localhost:8080/"
        },
        "id": "EjX831js2VDr",
        "outputId": "bae182d2-159d-4b5d-b22b-1a0ad74c7db0"
      },
      "execution_count": null,
      "outputs": [
        {
          "output_type": "stream",
          "name": "stdout",
          "text": [
            "name='John Doe' age=20 registration_number='ABC123'\n",
            "name='Jane Doe' age=16 registration_number=None\n"
          ]
        }
      ]
    },
    {
      "cell_type": "markdown",
      "source": [
        "# **Ülesanne 9: API Päringute Valideerimine**\n",
        "Kirjuta Pydanticu mudel, mis valideerib REST API kaudu saadetud päringu parameetrid. Päring peab sisaldama kuupäeva vahemikku (algus- ja lõppkuupäev) ning mõningaid valikulisi filtreid, nagu tootekategooria ja hind. Veendu, et kuupäeva vahemik on loogiline (alguskuupäev on enne lõppkuupäeva)."
      ],
      "metadata": {
        "id": "BYCAXE3G3ZY_"
      }
    },
    {
      "cell_type": "code",
      "source": [
        "from pydantic import BaseModel, condecimal, ValidationError, model_validator\n",
        "from typing import Optional\n",
        "from datetime import date\n",
        "\n",
        "\n",
        "class DateRangeQuery(BaseModel):\n",
        "    start_date: date\n",
        "    end_date: date\n",
        "    category: Optional[str] = None\n",
        "    min_price: Optional[condecimal(max_digits=10, decimal_places=2)] = None\n",
        "    max_price: Optional[condecimal(max_digits=10, decimal_places=2)] = None\n",
        "\n",
        "    @model_validator(mode=\"after\")\n",
        "    def check_date_range(cls, values):\n",
        "        start_date = values.start_date\n",
        "        end_date = values.end_date\n",
        "        if start_date > end_date:\n",
        "            raise ValueError('start_date must be before end_date')\n",
        "        return values\n",
        "\n",
        "\n",
        "def validate_query(query_data):\n",
        "    try:\n",
        "        query = DateRangeQuery(**query_data)\n",
        "        print(query)\n",
        "    except ValidationError as e:\n",
        "        print(e)\n",
        "\n",
        "\n",
        "# Näidiskutsed\n",
        "if __name__ == \"__main__\":\n",
        "    validate_query({\n",
        "        'start_date': '2023-01-01',\n",
        "        'end_date': '2023-01-31',\n",
        "        'category': 'Electronics',\n",
        "        'min_price': 100.00,\n",
        "        'max_price': 500.00\n",
        "    })\n",
        "\n",
        "    # Kontroll, kui kuupäeva vahemik on vale\n",
        "    validate_query({\n",
        "        'start_date': '2023-02-01',\n",
        "        'end_date': '2023-01-31'\n",
        "    })"
      ],
      "metadata": {
        "colab": {
          "base_uri": "https://localhost:8080/"
        },
        "id": "0CHl0g053fkI",
        "outputId": "cc5787ed-a42f-43cb-d683-8a84f033436e"
      },
      "execution_count": null,
      "outputs": [
        {
          "output_type": "stream",
          "name": "stdout",
          "text": [
            "start_date=datetime.date(2023, 1, 1) end_date=datetime.date(2023, 1, 31) category='Electronics' min_price=Decimal('100.0') max_price=Decimal('500.0')\n",
            "1 validation error for DateRangeQuery\n",
            "  Value error, start_date must be before end_date [type=value_error, input_value={'start_date': '2023-02-0...end_date': '2023-01-31'}, input_type=dict]\n",
            "    For further information visit https://errors.pydantic.dev/2.8/v/value_error\n"
          ]
        }
      ]
    },
    {
      "cell_type": "markdown",
      "source": [
        "# **Ülesanne 10: Failide Tüüpide Kontrollimine**\n",
        "Loo Pydanticu mudel, mis valideerib kasutajate üles laetud failide andmed. Mudel peaks kontrollima, et failinimi on lubatud laiendiga (näiteks .jpg, .png, .pdf) ja et faili suurus jääb lubatud piiridesse."
      ],
      "metadata": {
        "id": "wQ3omtwE5Esr"
      }
    },
    {
      "cell_type": "code",
      "source": [
        "from pydantic import BaseModel, ValidationError, condecimal, model_validator\n",
        "from typing import Optional\n",
        "\n",
        "\n",
        "class UploadedFile(BaseModel):\n",
        "    filename: str\n",
        "    size: int\n",
        "\n",
        "    @model_validator(mode=\"after\")\n",
        "    def check_file_extension_and_size(cls, values):\n",
        "        filename = values.filename\n",
        "        size = values.size\n",
        "        allowed_extensions = ['jpg', 'png', 'pdf']\n",
        "        if not any(filename.lower().endswith(ext) for ext in allowed_extensions):\n",
        "            raise ValueError('File type not allowed')\n",
        "        if size > 5 * 1024 * 1024:  # 5 MB size limit\n",
        "            raise ValueError('File size exceeds the limit of 5 MB')\n",
        "        return values\n",
        "\n",
        "\n",
        "def validate_file(file_data):\n",
        "    try:\n",
        "        file = UploadedFile(**file_data)\n",
        "        print(file)\n",
        "    except ValidationError as e:\n",
        "        print(e)\n",
        "\n",
        "\n",
        "# Näidiskutsed\n",
        "if __name__ == \"__main__\":\n",
        "    validate_file({'filename': 'document.pdf', 'size': 1024 * 1024})  # 1 MB, valid\n",
        "    validate_file({'filename': 'document.exe', 'size': 1024 * 1024})  # Invalid type\n",
        "    validate_file({'filename': 'picture.png', 'size': 6 * 1024 * 1024})  # Exceeds size limit\n"
      ],
      "metadata": {
        "colab": {
          "base_uri": "https://localhost:8080/"
        },
        "id": "0r87jf6k5zKb",
        "outputId": "0d490fb7-5386-46ba-a156-9b8d0da872c7"
      },
      "execution_count": null,
      "outputs": [
        {
          "output_type": "stream",
          "name": "stdout",
          "text": [
            "filename='document.pdf' size=1048576\n",
            "1 validation error for UploadedFile\n",
            "  Value error, File type not allowed [type=value_error, input_value={'filename': 'document.exe', 'size': 1048576}, input_type=dict]\n",
            "    For further information visit https://errors.pydantic.dev/2.8/v/value_error\n",
            "1 validation error for UploadedFile\n",
            "  Value error, File size exceeds the limit of 5 MB [type=value_error, input_value={'filename': 'picture.png', 'size': 6291456}, input_type=dict]\n",
            "    For further information visit https://errors.pydantic.dev/2.8/v/value_error\n"
          ]
        }
      ]
    },
    {
      "cell_type": "markdown",
      "source": [
        "# **Ülesanne 11: JSON Schema Generatsioon**\n",
        "Loo Pydanticu mudel, mis esindab keerulist andmestruktuuri (näiteks e-kaubanduse tootekataloogi, kus iga toode võib sisaldada kategooriaid, variante ja seotud tooteid). Genereeri Pydanticu abil selle mudeli JSON Schema, mida saab kasutada API dokumendi või valideerimise aluseks."
      ],
      "metadata": {
        "id": "mpUtQxrp5LDj"
      }
    },
    {
      "cell_type": "code",
      "source": [
        "# Ülesanne 11: JSON Schema Generatsioon\n",
        "class ProductVariant(BaseModel):\n",
        "    color: str\n",
        "    size: str\n",
        "\n",
        "class ProductCatalog(BaseModel):\n",
        "    product_id: int\n",
        "    name: str\n",
        "    category: str\n",
        "    variants: List[ProductVariant] = []\n",
        "    related_products: List[int] = []\n",
        "\n",
        "def generate_json_schema():\n",
        "    schema = ProductCatalog.schema_json(indent=2)\n",
        "    print(schema)"
      ],
      "metadata": {
        "id": "AY6oy9Cf6YiM"
      },
      "execution_count": null,
      "outputs": []
    },
    {
      "cell_type": "markdown",
      "source": [
        "# **Ülesanne 12: Andmebaasi Salvestamine ja Tagastamine**\n",
        "Kirjuta Pydanticu mudel, mis esindab andmebaasitabelit. Loo funktsioon, mis võtab vastu toore andmestiku, valideerib selle Pydanticu abil ja teisendab seejärel sõnastikuks, mida saab kasutada andmebaasi päringus (nt SQLAlchemy või muude ORM-idega)."
      ],
      "metadata": {
        "id": "0hiH3gsN5QET"
      }
    },
    {
      "cell_type": "code",
      "source": [
        "# Ülesanne 12: Andmebaasi Salvestamine ja Tagastamine\n",
        "class DatabaseProduct(BaseModel):\n",
        "    id: int\n",
        "    name: str\n",
        "    stock: int\n",
        "    price: condecimal(max_digits=10, decimal_places=2)\n",
        "\n",
        "def process_and_prepare_data(data: Dict[str, Any]) -> Dict[str, Any]:\n",
        "    try:\n",
        "        product = DatabaseProduct(**data)\n",
        "        return product.dict()  # Convert to dict for database insertion\n",
        "    except ValidationError as e:\n",
        "        print(e)\n",
        "        return {}"
      ],
      "metadata": {
        "id": "25-BwAye6kLo"
      },
      "execution_count": null,
      "outputs": []
    },
    {
      "cell_type": "markdown",
      "source": [
        "# **Ülesanne 13: Reaalajas Andmete Monitoorimine**\n",
        "Loo Pydanticu mudel, mis valideerib andmed, mida saadakse reaalajas API-de või sensorite kaudu (näiteks temperatuur, õhuniiskus, liikumisandurid). Veendu, et kõik andmed on mõistlikes vahemikes ja loo teated, kui väärtused ületavad ettemääratud piire."
      ],
      "metadata": {
        "id": "_ttU1z6Z5Utc"
      }
    },
    {
      "cell_type": "code",
      "source": [
        "# Ülesanne 13: Reaalajas Andmete Monitoorimine\n",
        "class SensorData(BaseModel):\n",
        "    temperature: condecimal(max_digits=5, decimal_places=2)\n",
        "    humidity: condecimal(max_digits=5, decimal_places=2)\n",
        "    motion_detected: bool\n",
        "\n",
        "def validate_sensor_data(sensor_data: Dict[str, Any]):\n",
        "    try:\n",
        "        data = SensorData(**sensor_data)\n",
        "        print(data)\n",
        "        # You can add logic here to trigger alerts if necessary\n",
        "    except ValidationError as e:\n",
        "        print(e)"
      ],
      "metadata": {
        "id": "x-Y6frSa6qCZ"
      },
      "execution_count": null,
      "outputs": []
    },
    {
      "cell_type": "markdown",
      "source": [
        "# **Ülesanne 14: Suure Mahuga Andmete Töötlus**\n",
        "Kirjuta Pydanticu mudel, mis valideerib suuremahulisi andmevooge (näiteks logifailid, analüütilised andmed). Mudel peaks olema optimeeritud kiiruse ja mälu kasutuse jaoks, ning andmete valideerimise ajal peaks toimuma nende automaatne puhastamine või teisendamine vajalikku formaati."
      ],
      "metadata": {
        "id": "tTJJJoBY5YlU"
      }
    },
    {
      "cell_type": "code",
      "source": [
        "# Ülesanne 14: Suure Mahuga Andmete Töötlus\n",
        "class LogEntry(BaseModel):\n",
        "    timestamp: str\n",
        "    level: str\n",
        "    message: str\n",
        "\n",
        "def validate_log_data(log_entries: List[Dict[str, Any]]):\n",
        "    for entry in log_entries:\n",
        "        try:\n",
        "            log = LogEntry(**entry)\n",
        "            print(log)\n",
        "        except ValidationError as e:\n",
        "            print(e)"
      ],
      "metadata": {
        "id": "IEDgmmMp6x7Y"
      },
      "execution_count": null,
      "outputs": []
    },
    {
      "cell_type": "markdown",
      "source": [
        "# **Ülesanne 15: Kasutaja Sisselogimise ja Registreerimise Valideerimine**\n",
        "Loo Pydanticu mudel, mis valideerib kasutaja sisselogimise ja registreerimise andmeid. Veendu, et parool vastab tugevuse nõuetele (vähemalt 8 tähemärki, sisaldab suurtähti, numbreid ja erimärke) ning e-posti aadress on kehtiv."
      ],
      "metadata": {
        "id": "uO8NrHXL5cSk"
      }
    },
    {
      "cell_type": "code",
      "source": [
        "# Ülesanne 15: Kasutaja Sisselogimise ja Registreerimise Valideerimine\n",
        "class UserLogin(BaseModel):\n",
        "    email: EmailStr\n",
        "    password: str = Field(..., min_length=8)\n",
        "\n",
        "def validate_user_login(login_data: Dict[str, Any]):\n",
        "    try:\n",
        "        login = UserLogin(**login_data)\n",
        "        print(login)\n",
        "    except ValidationError as e:\n",
        "        print(e)"
      ],
      "metadata": {
        "id": "fItKEl4O62c1"
      },
      "execution_count": null,
      "outputs": []
    },
    {
      "cell_type": "markdown",
      "source": [
        "# **Ülesanne 16: Versioonihalduse Andmete Valideerimine**\n",
        "Kirjuta Pydanticu mudel, mis valideerib tarkvara versioonihalduse andmeid. Mudel peaks toetama erinevaid versiooniformaate (näiteks 1.0.0, 1.0.0-beta, 2.1.3), ning tagama, et versiooninumber suureneb õigesti."
      ],
      "metadata": {
        "id": "2X_iGAwU5i-B"
      }
    },
    {
      "cell_type": "code",
      "source": [
        "from pydantic import BaseModel, ValidationError, model_validator\n",
        "import re\n",
        "\n",
        "\n",
        "class VersionInfo(BaseModel):\n",
        "    version: str\n",
        "\n",
        "    @model_validator(mode=\"after\")\n",
        "    def check_version_format(cls, values):\n",
        "        version = values.version\n",
        "        # Kontrollime, et versioonis on vähemalt üks number\n",
        "        if not re.match(r'^\\d+(\\.\\d+)*$', version):\n",
        "            raise ValueError('Invalid version format')\n",
        "        return values\n",
        "\n",
        "\n",
        "def validate_version(version_data):\n",
        "    try:\n",
        "        version = VersionInfo(**version_data)\n",
        "        print(version)\n",
        "    except ValidationError as e:\n",
        "        print(e)\n",
        "\n",
        "\n",
        "# Näidiskutsed\n",
        "if __name__ == \"__main__\":\n",
        "    validate_version({'version': '1.0.0'})  # Kehtiv versioon\n",
        "    validate_version({'version': '1.0.0-beta'})  # Kehtiv versioon\n",
        "    validate_version({'version': 'v1.0.0'})  # Vigane versioon\n"
      ],
      "metadata": {
        "colab": {
          "base_uri": "https://localhost:8080/"
        },
        "id": "X1PFBrqX5uKg",
        "outputId": "1c4ccf63-fa9e-4087-87c5-5f04be890b3c"
      },
      "execution_count": null,
      "outputs": [
        {
          "output_type": "stream",
          "name": "stdout",
          "text": [
            "version='1.0.0'\n",
            "1 validation error for VersionInfo\n",
            "  Value error, Invalid version format [type=value_error, input_value={'version': '1.0.0-beta'}, input_type=dict]\n",
            "    For further information visit https://errors.pydantic.dev/2.8/v/value_error\n",
            "1 validation error for VersionInfo\n",
            "  Value error, Invalid version format [type=value_error, input_value={'version': 'v1.0.0'}, input_type=dict]\n",
            "    For further information visit https://errors.pydantic.dev/2.8/v/value_error\n"
          ]
        }
      ]
    },
    {
      "cell_type": "code",
      "source": [
        "# Näidiskutsed\n",
        "if __name__ == \"__main__\":\n",
        "    # Ülesanne 7\n",
        "    validate_orders([\n",
        "        {'order_id': 1, 'product_name': 'Laptop', 'quantity': 1, 'price': 999.99},\n",
        "        {'order_id': 1, 'product_name': 'Mouse', 'quantity': 2, 'price': 49.99}\n",
        "    ])\n",
        "\n",
        "    # Ülesanne 8\n",
        "    validate_person({'name': 'John Doe', 'age': 20, 'registration_number': 'ABC123'})\n",
        "    validate_person({'name': 'Jane Doe', 'age': 16})\n",
        "\n",
        "    # Ülesanne 9\n",
        "    validate_query({\n",
        "        'start_date': '2023-01-01',\n",
        "        'end_date': '2023-01-31',\n",
        "        'category': 'Electronics',\n",
        "        'min_price': 100.00,\n",
        "        'max_price': 500.00\n",
        "    })\n",
        "\n",
        "    # Ülesanne 10\n",
        "    validate_file({'filename': 'document.pdf', 'size': 1024 * 1024})\n",
        "\n",
        "    # Ülesanne 11\n",
        "    generate_json_schema()\n",
        "\n",
        "    # Ülesanne 12\n",
        "    product_data = {'id': 1, 'name': 'Laptop', 'stock': 10, 'price': 999.99}\n",
        "    print(process_and_prepare_data(product_data))\n",
        "\n",
        "    # Ülesanne 13\n",
        "    validate_sensor_data({'temperature': 23.5, 'humidity': 55.0, 'motion_detected': True})\n",
        "\n",
        "    # Ülesanne 14\n",
        "    validate_log_data([\n",
        "        {'timestamp': '2023-01-01T00:00:00Z', 'level': 'INFO', 'message': 'System started'},\n",
        "        {'timestamp': '2023-01-01T01:00:00Z', 'level': 'ERROR', 'message': 'An error occurred'}\n",
        "    ])\n",
        "\n",
        "    # Ülesanne 15\n",
        "    validate_user_login({'email': 'user@example.com', 'password': 'StrongPass123!'})\n",
        "\n",
        "    # Ülesanne 16\n",
        "    validate_version({'version': '1.0.0'})"
      ],
      "metadata": {
        "colab": {
          "base_uri": "https://localhost:8080/"
        },
        "id": "gJFL6KOT7RyG",
        "outputId": "6a0f41c2-8872-4c8b-c49f-31432b254d48"
      },
      "execution_count": null,
      "outputs": [
        {
          "output_type": "stream",
          "name": "stdout",
          "text": [
            "order_id=1 product_name='Laptop' quantity=1 price=Decimal('999.99')\n",
            "Duplicate order_id found: 1\n",
            "name='John Doe' age=20 registration_number='ABC123'\n",
            "name='Jane Doe' age=16 registration_number=None\n",
            "start_date=datetime.date(2023, 1, 1) end_date=datetime.date(2023, 1, 31) category='Electronics' min_price=Decimal('100.0') max_price=Decimal('500.0')\n",
            "filename='document.pdf' size=1048576\n",
            "{\n",
            "  \"$defs\": {\n",
            "    \"ProductVariant\": {\n",
            "      \"properties\": {\n",
            "        \"color\": {\n",
            "          \"title\": \"Color\",\n",
            "          \"type\": \"string\"\n",
            "        },\n",
            "        \"size\": {\n",
            "          \"title\": \"Size\",\n",
            "          \"type\": \"string\"\n",
            "        }\n",
            "      },\n",
            "      \"required\": [\n",
            "        \"color\",\n",
            "        \"size\"\n",
            "      ],\n",
            "      \"title\": \"ProductVariant\",\n",
            "      \"type\": \"object\"\n",
            "    }\n",
            "  },\n",
            "  \"properties\": {\n",
            "    \"product_id\": {\n",
            "      \"title\": \"Product Id\",\n",
            "      \"type\": \"integer\"\n",
            "    },\n",
            "    \"name\": {\n",
            "      \"title\": \"Name\",\n",
            "      \"type\": \"string\"\n",
            "    },\n",
            "    \"category\": {\n",
            "      \"title\": \"Category\",\n",
            "      \"type\": \"string\"\n",
            "    },\n",
            "    \"variants\": {\n",
            "      \"default\": [],\n",
            "      \"items\": {\n",
            "        \"$ref\": \"#/$defs/ProductVariant\"\n",
            "      },\n",
            "      \"title\": \"Variants\",\n",
            "      \"type\": \"array\"\n",
            "    },\n",
            "    \"related_products\": {\n",
            "      \"default\": [],\n",
            "      \"items\": {\n",
            "        \"type\": \"integer\"\n",
            "      },\n",
            "      \"title\": \"Related Products\",\n",
            "      \"type\": \"array\"\n",
            "    }\n",
            "  },\n",
            "  \"required\": [\n",
            "    \"product_id\",\n",
            "    \"name\",\n",
            "    \"category\"\n",
            "  ],\n",
            "  \"title\": \"ProductCatalog\",\n",
            "  \"type\": \"object\"\n",
            "}\n",
            "{'id': 1, 'name': 'Laptop', 'stock': 10, 'price': Decimal('999.99')}\n",
            "temperature=Decimal('23.5') humidity=Decimal('55.0') motion_detected=True\n",
            "timestamp='2023-01-01T00:00:00Z' level='INFO' message='System started'\n",
            "timestamp='2023-01-01T01:00:00Z' level='ERROR' message='An error occurred'\n",
            "email='user@example.com' password='StrongPass123!'\n",
            "version='1.0.0'\n"
          ]
        }
      ]
    },
    {
      "cell_type": "markdown",
      "source": [
        "# **Lühiselgitus**\n",
        "\n",
        "Ülesanne 7: Valideerib tellimuste loendi, tuvastades korduvad\n",
        "tellimuse ID-d.\n",
        "\n",
        "Ülesanne 8: Kontrollib, kas isik, kes on vanem kui 18 aastat, on esitanud registreerimisnumbri.\n",
        "\n",
        "Ülesanne 9: Veendub, et API päringu kuupäeva vahemik on loogiline ja lisab valikulisi filtreid.\n",
        "\n",
        "Ülesanne 10: Kontrollib failinime laiendust ja faili suurust.\n",
        "\n",
        "Ülesanne 11: Genereerib JSON Schema keerulise andmestruktuuri jaoks.\n",
        "\n",
        "Ülesanne 12: Valideerib ja teisendab andmed, mis on mõeldud andmebaasi salvestamiseks.\n",
        "\n",
        "Ülesanne 13: Monitoorib ja valideerib sensorite andmeid.\n",
        "\n",
        "Ülesanne 14\n",
        "Lühiselgitus: Valideerib logikirjeid, et tagada nende õige formaat ja andmete korrektsus suurtes andmekogumites.\n",
        "\n",
        "Ülesanne 15\n",
        "Lühiselgitus: Kontrollib kasutaja sisselogimise ja registreerimise andmeid, et e-posti aadress ja parool vastavad nõutud kriteeriumidele.\n",
        "\n",
        "Ülesanne 16\n",
        "Lühiselgitus: Veendub, et tarkvara versiooninumber järgib õiget formaati, nagu 1.0.0."
      ],
      "metadata": {
        "id": "N16diwbh7XTo"
      }
    },
    {
      "cell_type": "markdown",
      "source": [],
      "metadata": {
        "id": "0b9NQDwC7euE"
      }
    }
  ]
}